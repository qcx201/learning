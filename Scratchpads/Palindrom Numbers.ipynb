{
 "cells": [
  {
   "cell_type": "markdown",
   "metadata": {},
   "source": [
    "Inspired from\n",
    "\n",
    "https://www.youtube.com/watch?v=bN8PE3eljdA"
   ]
  },
  {
   "cell_type": "code",
   "execution_count": 49,
   "metadata": {},
   "outputs": [],
   "source": [
    "def palindrom(n, i=0):\n",
    "    \n",
    "    # reverse n\n",
    "    n_rev = ''.join(reversed(str(n)))\n",
    "    \n",
    "    # sum\n",
    "    s = str(n + int(n_rev))\n",
    "    \n",
    "    # print sum with reverse\n",
    "    print(f'[{i}]\\t', n, '+', n_rev, '=', s)\n",
    "    \n",
    "    # check if palindrom\n",
    "    is_pld = True\n",
    "    for i, s_n in enumerate(s):\n",
    "        if s_n != s[-(i+1)]:\n",
    "            is_pld=False\n",
    "\n",
    "    if is_pld:\n",
    "        # base case: return palindrom\n",
    "        return int(s)\n",
    "    \n",
    "    else:\n",
    "        # recurse\n",
    "        return palindrom(int(s), i=i+1)"
   ]
  },
  {
   "cell_type": "code",
   "execution_count": 48,
   "metadata": {},
   "outputs": [
    {
     "name": "stdout",
     "output_type": "stream",
     "text": [
      "[0]\t 89 + 98 = 187\n",
      "[3]\t 187 + 781 = 968\n",
      "[3]\t 968 + 869 = 1837\n",
      "[4]\t 1837 + 7381 = 9218\n",
      "[4]\t 9218 + 8129 = 17347\n",
      "[5]\t 17347 + 74371 = 91718\n",
      "[5]\t 91718 + 81719 = 173437\n",
      "[6]\t 173437 + 734371 = 907808\n",
      "[6]\t 907808 + 808709 = 1716517\n",
      "[7]\t 1716517 + 7156171 = 8872688\n",
      "[7]\t 8872688 + 8862788 = 17735476\n",
      "[8]\t 17735476 + 67453771 = 85189247\n",
      "[8]\t 85189247 + 74298158 = 159487405\n",
      "[9]\t 159487405 + 504784951 = 664272356\n",
      "[9]\t 664272356 + 653272466 = 1317544822\n",
      "[10]\t 1317544822 + 2284457131 = 3602001953\n",
      "[10]\t 3602001953 + 3591002063 = 7193004016\n",
      "[10]\t 7193004016 + 6104003917 = 13297007933\n",
      "[11]\t 13297007933 + 33970079231 = 47267087164\n",
      "[11]\t 47267087164 + 46178076274 = 93445163438\n",
      "[11]\t 93445163438 + 83436154439 = 176881317877\n",
      "[12]\t 176881317877 + 778713188671 = 955594506548\n",
      "[12]\t 955594506548 + 845605495559 = 1801200002107\n",
      "[13]\t 1801200002107 + 7012000021081 = 8813200023188\n"
     ]
    }
   ],
   "source": [
    "palindrom(89)"
   ]
  }
 ],
 "metadata": {
  "kernelspec": {
   "display_name": "Python 3",
   "language": "python",
   "name": "python3"
  },
  "language_info": {
   "codemirror_mode": {
    "name": "ipython",
    "version": 3
   },
   "file_extension": ".py",
   "mimetype": "text/x-python",
   "name": "python",
   "nbconvert_exporter": "python",
   "pygments_lexer": "ipython3",
   "version": "3.7.6"
  }
 },
 "nbformat": 4,
 "nbformat_minor": 4
}

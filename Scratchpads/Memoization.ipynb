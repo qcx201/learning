{
 "cells": [
  {
   "cell_type": "code",
   "execution_count": 1,
   "metadata": {},
   "outputs": [],
   "source": [
    "import time\n",
    "import matplotlib.pyplot as plt\n",
    "%matplotlib inline"
   ]
  },
  {
   "cell_type": "markdown",
   "metadata": {},
   "source": [
    "### Compare Time Complexity (Big O Notation)"
   ]
  },
  {
   "cell_type": "code",
   "execution_count": 2,
   "metadata": {},
   "outputs": [],
   "source": [
    "def O(func, n=range(10_000), t_lim=60):\n",
    "\n",
    "    xtime = {'n':[], 't':[]}\n",
    "    \n",
    "    t0 = time.time()\n",
    "    \n",
    "    n = range(n) if type(n) == int else n\n",
    "    \n",
    "    for i, x in enumerate(n):\n",
    "\n",
    "        tic = time.time()\n",
    "        func(x)\n",
    "        toc = time.time()\n",
    "\n",
    "        xtime['n'].append(i)\n",
    "        xtime['t'].append(toc-tic)\n",
    "        \n",
    "        if (toc - t0) > t_lim: # stop if over time limit\n",
    "            break\n",
    "    \n",
    "    return xtime"
   ]
  },
  {
   "cell_type": "code",
   "execution_count": 3,
   "metadata": {},
   "outputs": [],
   "source": [
    "def compare_O(*functions, **O_kwargs):\n",
    "    \n",
    "    results = []\n",
    "    for func in functions:\n",
    "        results.append(O(func, **O_kwargs))\n",
    "\n",
    "    # make results same length\n",
    "    n = min(len(res['n']) for res in results)\n",
    "    for res in results:\n",
    "        for x in ('n','t'):\n",
    "            res[x] = res[x][:n]\n",
    "        \n",
    "    fig, axes = plt.subplots(len(functions), 1, sharey=True, sharex=True, figsize=(8,5))\n",
    "    \n",
    "    for ax, res, func in zip(axes, results, functions):\n",
    "        ax.scatter(res['n'], res['t'], alpha=0.1, s=0.5)\n",
    "        ax.set_title(func.__name__)"
   ]
  },
  {
   "cell_type": "markdown",
   "metadata": {},
   "source": [
    "## Factorials"
   ]
  },
  {
   "cell_type": "code",
   "execution_count": 4,
   "metadata": {},
   "outputs": [],
   "source": [
    "def brute_factorial(n):\n",
    "    \n",
    "    res = 1\n",
    "    for i in range(1, n+1):\n",
    "        res *= i\n",
    "    return res"
   ]
  },
  {
   "cell_type": "code",
   "execution_count": 5,
   "metadata": {},
   "outputs": [],
   "source": [
    "_fac = [1]\n",
    "\n",
    "def memo_factorial(n):\n",
    "    '''\n",
    "    Returns factorial\n",
    "    '''\n",
    "    \n",
    "    while n >= len(_fac):\n",
    "        _fac.append(_fac[-1]*len(_fac))\n",
    "    \n",
    "    return  _fac[n]"
   ]
  },
  {
   "cell_type": "code",
   "execution_count": null,
   "metadata": {},
   "outputs": [],
   "source": [
    "%%time\n",
    "compare_O(brute_factorial, memo_factorial, n=10_000_000, t_lim=10*60)"
   ]
  },
  {
   "cell_type": "markdown",
   "metadata": {},
   "source": [
    "## Fibonacci Sequence"
   ]
  },
  {
   "cell_type": "code",
   "execution_count": null,
   "metadata": {},
   "outputs": [],
   "source": [
    "def brute_fibonacci(n):\n",
    "    \n",
    "    fib = (0, 1)\n",
    "    for n in range(n):\n",
    "        fib = (fib[-1], sum(fib))\n",
    "        \n",
    "    return fib[-1]"
   ]
  },
  {
   "cell_type": "code",
   "execution_count": null,
   "metadata": {},
   "outputs": [],
   "source": [
    "_fib = [1, 1]\n",
    "\n",
    "def memo_fibonacci(n):\n",
    "    \n",
    "    while n >= len(_fib):\n",
    "        _fib.append(_fib[-1] + _fib[-2])\n",
    "    \n",
    "    return _fib[n]\n",
    "    "
   ]
  },
  {
   "cell_type": "code",
   "execution_count": null,
   "metadata": {},
   "outputs": [],
   "source": [
    "%%time\n",
    "compare_O(brute_fibonacci, memo_fibonacci, n=10_000_000, t_lim=10*60)"
   ]
  }
 ],
 "metadata": {
  "kernelspec": {
   "display_name": "Python 3",
   "language": "python",
   "name": "python3"
  },
  "language_info": {
   "codemirror_mode": {
    "name": "ipython",
    "version": 3
   },
   "file_extension": ".py",
   "mimetype": "text/x-python",
   "name": "python",
   "nbconvert_exporter": "python",
   "pygments_lexer": "ipython3",
   "version": "3.7.6"
  }
 },
 "nbformat": 4,
 "nbformat_minor": 4
}

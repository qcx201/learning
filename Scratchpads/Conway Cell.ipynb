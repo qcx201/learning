{
 "cells": [
  {
   "cell_type": "code",
   "execution_count": 33,
   "metadata": {},
   "outputs": [],
   "source": [
    "class Cell(object):\n",
    "    \"\"\"Cell unit in game of life\"\"\"\n",
    "    def __init__(self, value=0, location=(0,)):\n",
    "        self.value = value\n",
    "        self.location = location\n",
    "    \n",
    "    def __repr__(self):\n",
    "        return f\"[v:{self.value} loc:{self.location}] at <{id(self)}>\"\n",
    "    \n",
    "    def neighbors(self):\n",
    "        for dim in len(self.location):"
   ]
  }
 ],
 "metadata": {
  "kernelspec": {
   "display_name": "Python 3",
   "language": "python",
   "name": "python3"
  },
  "language_info": {
   "codemirror_mode": {
    "name": "ipython",
    "version": 3
   },
   "file_extension": ".py",
   "mimetype": "text/x-python",
   "name": "python",
   "nbconvert_exporter": "python",
   "pygments_lexer": "ipython3",
   "version": "3.7.6"
  }
 },
 "nbformat": 4,
 "nbformat_minor": 4
}

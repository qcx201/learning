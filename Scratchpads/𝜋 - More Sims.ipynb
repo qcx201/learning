{
 "cells": [
  {
   "cell_type": "code",
   "execution_count": 1,
   "metadata": {},
   "outputs": [],
   "source": [
    "import numpy as np"
   ]
  },
  {
   "cell_type": "markdown",
   "metadata": {},
   "source": [
    "### Area Simulation"
   ]
  },
  {
   "cell_type": "code",
   "execution_count": 2,
   "metadata": {
    "scrolled": true
   },
   "outputs": [
    {
     "name": "stdout",
     "output_type": "stream",
     "text": [
      "Wall time: 1.75 s\n"
     ]
    },
    {
     "data": {
      "text/plain": [
       "3.135056"
      ]
     },
     "execution_count": 2,
     "metadata": {},
     "output_type": "execute_result"
    }
   ],
   "source": [
    "%%time\n",
    "\n",
    "n, m = 1000, 0\n",
    "\n",
    "l = np.linspace(-1, 1, n)**2\n",
    "\n",
    "for x_sq in l:\n",
    "    for y_sq in l:\n",
    "        if np.sqrt(x_sq + y_sq) > 1:\n",
    "            m += 1\n",
    "        \n",
    "π = 4*(1-(m / n**2))\n",
    "π"
   ]
  },
  {
   "cell_type": "markdown",
   "metadata": {},
   "source": [
    "## Leibnez Formula\n",
    "https://en.wikipedia.org/wiki/Leibniz_formula_for_%CF%80\n"
   ]
  },
  {
   "cell_type": "code",
   "execution_count": 23,
   "metadata": {},
   "outputs": [
    {
     "name": "stdout",
     "output_type": "stream",
     "text": [
      "3.1415916535897743\n",
      "Wall time: 457 ms\n"
     ]
    }
   ],
   "source": [
    "%%time\n",
    "\n",
    "n = 1_000_000\n",
    "\n",
    "res = 0\n",
    "\n",
    "for x in range(n):\n",
    "    res += ((-1)**x)*(1/((1+2*x)))\n",
    "    \n",
    "π = 4*res\n",
    "print(π)"
   ]
  },
  {
   "cell_type": "markdown",
   "metadata": {},
   "source": [
    "## Ramanujan's $\\pi$ Formula\n",
    "https://crypto.stanford.edu/pbc/notes/pi/ramanujan.html"
   ]
  },
  {
   "cell_type": "code",
   "execution_count": 20,
   "metadata": {},
   "outputs": [],
   "source": [
    "fac_cache = [1, 1]\n",
    "\n",
    "def factorial(x):\n",
    "    '''\n",
    "    factorial with memoization\n",
    "    '''\n",
    "    while (n:=len(fac_cache)) <= x:\n",
    "        fac_cache.append(fac_cache[-1]*n)\n",
    "        \n",
    "    return fac_cache[x]"
   ]
  },
  {
   "cell_type": "code",
   "execution_count": 28,
   "metadata": {},
   "outputs": [
    {
     "name": "stdout",
     "output_type": "stream",
     "text": [
      "integer division result too large for a float | x = 130\n",
      "3.141592653589793\n",
      "Wall time: 1.93 ms\n"
     ]
    }
   ],
   "source": [
    "%%time\n",
    "\n",
    "res = 0\n",
    "\n",
    "for x in range(n):\n",
    "    \n",
    "    try:\n",
    "        res+= (\n",
    "            factorial(4*x)/(factorial(x)**4)) * \\\n",
    "            ((26390*x+1103)/396**(4*x)\n",
    "            )\n",
    "        \n",
    "    except Exception as e:\n",
    "        print(e, '| x =', x)\n",
    "        break\n",
    "        \n",
    "π = 1 / (np.sqrt(8)/9801 * res)\n",
    "\n",
    "print(π)"
   ]
  }
 ],
 "metadata": {
  "kernelspec": {
   "display_name": "Python 3",
   "language": "python",
   "name": "python3"
  },
  "language_info": {
   "codemirror_mode": {
    "name": "ipython",
    "version": 3
   },
   "file_extension": ".py",
   "mimetype": "text/x-python",
   "name": "python",
   "nbconvert_exporter": "python",
   "pygments_lexer": "ipython3",
   "version": "3.8.5"
  }
 },
 "nbformat": 4,
 "nbformat_minor": 4
}

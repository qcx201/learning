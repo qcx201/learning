{
 "cells": [
  {
   "cell_type": "markdown",
   "metadata": {},
   "source": [
    "# Approximating $\\pi$"
   ]
  },
  {
   "cell_type": "markdown",
   "metadata": {},
   "source": [
    "### Using Rectangles to Approximate the Area of a Circle\n",
    "\n",
    "The area of a rectangle with width and height $w, h$:\n",
    "\n",
    "$$\n",
    "A = w \\times h\n",
    "$$\n",
    "\n",
    "Let's approximate the area of a 1/4 slice of a circle with two rectangles: \n",
    "\n",
    "The height of each two rectangle ($h_1$ and $h_2$) in the quarter circle by pythagoras' theorem.\n",
    "\n",
    "$$\n",
    "\\begin{align}\n",
    "h_1 &= \\sqrt{r^2 - w^2} \\\\\n",
    "\\\\\n",
    "h_2 &= \\sqrt{r^2 - (2w)^2} \\\\\n",
    "\\end{align}\n",
    "$$\n",
    "\n",
    "Note that since we use two rectangles for approximation, $w$ is $\\frac{r}{2}$.\n",
    "\n",
    "\n",
    "Areas of rectanges 1 and 2:\n",
    "\n",
    "$$\n",
    "\\begin{align}\n",
    "A_1 &= wh \\\\\n",
    "&= w\\sqrt{r^2 - w^2} \\\\\n",
    "\\\\\n",
    "A_2 &= wh \\\\\n",
    "&= w\\sqrt{r^2 - (2w)^2} \\\\\n",
    "\\end{align}\n",
    "$$\n",
    "\n",
    "Now we have the approximation of the quarter circle:\n",
    "\n",
    "$$\n",
    "\\begin{align}\n",
    "A_{\\frac{1}{4} \\text(circle)} &\\approx A_1 + A_2\\\\\n",
    "&=> wh_1 + wh_2 \\\\\n",
    "&=> w\\sqrt{r^2 - w^2} + w\\sqrt{r^2 - (2w)^2} \\\\\n",
    "&=> w \\bigg(\\sqrt{r^2 - w^2} + \\sqrt{r^2 - (2w)^2} \\bigg)\\\\\n",
    "\\end{align}\n",
    "$$\n",
    "Since we're use two rectangles to approximate the quarter circle's area, $w$ is $\\frac{r}{2}$. Let $n$ be the  number of rectanges we use in the approximation, such that $w = \\frac{r}{n}$. So, the approximation of the quarter circle's area for $n=2$ is:\n",
    "\n",
    "$$\n",
    "\\begin{align}\n",
    "n &= 2 \\\\\n",
    "A_{\\frac{1}{4} \\text(circle)} &\\approx w\\bigg(\\sqrt{r^2 - w^2} + \\sqrt{r^2 - (2w)^2} \\bigg)\\\\\n",
    "&=> \\frac{r}{n} \\bigg(\\sqrt{r^2 - \\bigg(\\frac{r}{n}\\bigg)^2} + \\sqrt{r^2 - \\bigg(2\\frac{r}{n}\\bigg)^2} \\bigg)\\\\\n",
    "\\end{align}\n",
    "$$\n"
   ]
  },
  {
   "cell_type": "markdown",
   "metadata": {},
   "source": [
    "### Generalizing for any $n$ number of Rectangles\n",
    "\n",
    "For an arbritrarily large number of rectangles $n$, we have:\n",
    "$$\n",
    "\\begin{align}\n",
    "A_{\\frac{1}{4} \\text(circle)}\n",
    "&\\approx \\frac{r}{n} \\bigg(\\sqrt{r^2 - \\bigg(\\frac{r}{n}\\bigg)^2}\n",
    "+ \\sqrt{r^2 - \\bigg(\\frac{2r}{n}\\bigg)^2} \\bigg)\n",
    "+ \\sqrt{r^2 - \\bigg(\\frac{3r}{n}\\bigg)^2} \\bigg)\n",
    "+ ...\n",
    "+ \\sqrt{r^2 - \\bigg(\\frac{nr}{n}\\bigg)^2} \\bigg)\\\\\n",
    "&=> \\frac{r}{n} \\sum_{q=1}^{n}\\sqrt{r^2 - \\bigg(\\frac{qr}{n}\\bigg)^2} \\\\\n",
    "&=> r^{2} \\frac{1}{n}\\sum_{q=1}^{n}\\sqrt{\\bigg(1 - \\bigg(\\frac{q}{n}\\bigg)^2}\\bigg) \\\\\n",
    "\\end{align}\n",
    "$$\n",
    "\n",
    "Approximation of the area of the entire circle is just four times the area of the quarter circle:\n",
    "$$\n",
    "\\begin{align}\n",
    "A_{c} &= 4A_{\\frac{1}{4} \\text(circle)} \\\\\n",
    "&\\approx r^{2} \\frac{4}{n}\\sum_{q=1}^{n}\\sqrt{\\bigg(1 - \\bigg(\\frac{q}{n}\\bigg)^2}\\bigg) \\\\\n",
    "\\end{align}\n",
    "$$\n",
    "\n",
    "### Converging to True Area:\n",
    "\n",
    "As $n \\to \\infty$, the approximation converges to the actual area of the circle:\n",
    "\n",
    "$$\n",
    "\\begin{align}\n",
    "A_{c} &= r^{2} \\lim_{n \\to \\infty} \\frac{4}{n}\\sum_{q=1}^{n}\\sqrt{\\bigg(1 - \\bigg(\\frac{q}{n}\\bigg)^2}\\bigg) \\\\\n",
    "&= r^{2}\\pi \\\\\n",
    "\\end{align}\n",
    "$$"
   ]
  },
  {
   "cell_type": "markdown",
   "metadata": {},
   "source": [
    "Therefore:\n",
    "\n",
    "$\\pi = \\lim_{n \\to \\infty} \\frac{4}{n}\\sum_{q=1}^{n}\\sqrt{\\bigg(1 - \\bigg(\\frac{q}{n}\\bigg)^2}\\bigg)$"
   ]
  },
  {
   "cell_type": "code",
   "execution_count": 1,
   "metadata": {},
   "outputs": [],
   "source": [
    "def pi(n=int(1e6), precision=1e-10):\n",
    "    '''\n",
    "    Approximate value of pi.\n",
    "    \n",
    "    Parameters\n",
    "    ---\n",
    "        n: integer\n",
    "            Number of terms used in sum series approximation.\n",
    "        \n",
    "        precision: float\n",
    "            Precision limit that stops calculation\n",
    "    '''\n",
    "    # estimation starting at zero\n",
    "    pi, prev = 0, 0\n",
    "\n",
    "    # finite series approximation\n",
    "    for q in range(1, n + 1):\n",
    "        \n",
    "        pi += (1 - (q / n)**2)**(1/2)\n",
    "        \n",
    "        if ((pi - prev)**2) < (precision**2):\n",
    "            print(f'{precision} precision Reached at {q} iterations')\n",
    "            break\n",
    "        \n",
    "        prev = pi\n",
    "\n",
    "    # multiply by 4/n constant term at the end\n",
    "    pi *= (4/n)\n",
    "    \n",
    "    return pi"
   ]
  },
  {
   "cell_type": "code",
   "execution_count": 2,
   "metadata": {},
   "outputs": [
    {
     "name": "stdout",
     "output_type": "stream",
     "text": [
      "1e-10 precision Reached at 1000000 iterations\n",
      "𝜋 ≈ 3.141590652413976\n",
      "Wall time: 1.46 s\n"
     ]
    }
   ],
   "source": [
    "%%time\n",
    "# estimating Pi\n",
    "\n",
    "𝜋 = pi()\n",
    "print(f'𝜋 ≈ {𝜋}')"
   ]
  },
  {
   "cell_type": "markdown",
   "metadata": {},
   "source": [
    "## Approximating Euler's Number:"
   ]
  },
  {
   "cell_type": "markdown",
   "metadata": {},
   "source": [
    "### Primer on derivatives:\n",
    "\n",
    "Let's start with the equation for the slope $m$ in the linear function $y(x) = mx + b$, where y is dependent on x. The slope is just the change in y over the change in x (remember \"rise over run\"?), denoted:\n",
    "\n",
    "$$m = \\frac{\\Delta y}{\\Delta x}$$\n",
    "\n",
    "Since y(x) is a function of x, we define $\\delta y$ as the change of $y$ resulting from the change in x:\n",
    "\n",
    "$$\\Delta y = y(x + \\Delta x) - y(x)$$\n",
    "\n",
    "So:\n",
    "\n",
    "$$\\frac{\\Delta y}{\\Delta x} = \\frac{y(x + \\Delta x) - y(x)}{\\Delta x}$$\n",
    "\n",
    "For the function $y(x) = ax^{n}$:\n",
    "\n",
    "$$\n",
    "\\begin{align}\n",
    "\\frac{\\Delta y}{\\Delta x} &= \\frac{y(x + \\Delta x) - y(x)}{\\Delta x} \\\\\n",
    "&= \\frac{a(x + \\Delta x)^n - ax^n}{\\Delta x} \\\\\n",
    "&= \\frac{ax^n + nax^n(\\Delta x)^n + a(\\Delta x)^n - ax^n}{\\Delta x} \\\\\n",
    "&= \\frac{2ax^n(\\Delta x)^n}{\\Delta x} + \\frac{a(\\Delta x)^n}{\\Delta x}\\\\\n",
    "\\end{align}\n",
    "$$\n",
    "\n",
    "### Binomial Theorem\n",
    "https://www.purplemath.com/modules/binomial.htm\n",
    "\n",
    "### TL;DR\n",
    "\n",
    "$$\n",
    "\\begin{align}\n",
    "y(x) = x^n,& \\quad \\frac{dx^n}{dx} = anx^{n-1} \\\\\n",
    "y(x) = ax^n,& \\quad \\frac{d(ax^n)}{dx} = a\\frac{dx^n}{dx} = anx^{n-1} \\\\\n",
    "\\end{align}\n",
    "$$"
   ]
  },
  {
   "cell_type": "markdown",
   "metadata": {},
   "source": [
    "\n",
    "\n",
    "The Euler's number $e$ has the property that the derivative of $e^x$ is itself:\n",
    "\n",
    "$$\n",
    "\\frac{de^{x}}{dx} = e^{x}\n",
    "$$\n",
    "\n",
    "The expression $e^x$ can be thought of as a function $\\exp(x)$:\n",
    "\n",
    "$$\n",
    "\\begin{align}\n",
    "\\exp(x) := e^x &=  1 + \\frac{x}{1!} + \\frac{x^2}{2!} + + \\frac{x^3}{3!} + ... + \\frac{x^n}{n!} + ... \\quad \\text{as } n \\to \\infty\\\\\n",
    "&= \\sum_{n=0}^{\\infty} \\frac{x^{n}}{n!} \\\\\n",
    "\\end{align}\n",
    "$$\n",
    "\n",
    "Euler's number $e$ then, is:\n",
    "$$\n",
    "\\begin{align}\n",
    "e &= e^{(1)} = \\sum_{n=0}^{\\infty} \\frac{(1)^{n}}{n!} \\\\\n",
    "&= \\sum_{n=0}^{\\infty} \\frac{1}{n!} \\\\\n",
    "\\end{align}\n",
    "$$"
   ]
  },
  {
   "cell_type": "code",
   "execution_count": 3,
   "metadata": {},
   "outputs": [],
   "source": [
    "_fac = [1]\n",
    "\n",
    "def factorial(n):\n",
    "    '''\n",
    "    Returns factorization with using memoization\n",
    "    '''\n",
    "    while n >= len(_fac):\n",
    "        _fac.append(_fac[-1]*len(_fac))\n",
    "        \n",
    "    return _fac[n]"
   ]
  },
  {
   "cell_type": "code",
   "execution_count": 4,
   "metadata": {},
   "outputs": [],
   "source": [
    "# n number of terms for approximation\n",
    "def exp(x=1, precision=1e-10):\n",
    "    '''\n",
    "    Approximate value of exponentiation based on infinite series of Euler's Number.\n",
    "    \n",
    "    Parameters\n",
    "    --- \n",
    "        precision: float\n",
    "            Precision limit that stops calculation\n",
    "    '''\n",
    "    # estimation starting at zero\n",
    "    n, e, prev = 0, 0, -precision*1.1\n",
    "    \n",
    "    while (e - prev)**2 > precision**2:\n",
    "        \n",
    "        prev = e\n",
    "\n",
    "        e += ((x**n) / factorial(n))\n",
    "        \n",
    "        n+=1\n",
    "    \n",
    "    print(f'{precision} precision reached at {n} iterations')\n",
    "    \n",
    "    return e"
   ]
  },
  {
   "cell_type": "code",
   "execution_count": 5,
   "metadata": {},
   "outputs": [
    {
     "name": "stdout",
     "output_type": "stream",
     "text": [
      "1e-10 precision reached at 15 iterations\n",
      "e ≈ 2.71828182845823\n",
      "Wall time: 1.49 ms\n"
     ]
    }
   ],
   "source": [
    "%%time\n",
    "\n",
    "e = exp()\n",
    "print(f'e ≈ {e}')"
   ]
  }
 ],
 "metadata": {
  "kernelspec": {
   "display_name": "Python 3",
   "language": "python",
   "name": "python3"
  },
  "language_info": {
   "codemirror_mode": {
    "name": "ipython",
    "version": 3
   },
   "file_extension": ".py",
   "mimetype": "text/x-python",
   "name": "python",
   "nbconvert_exporter": "python",
   "pygments_lexer": "ipython3",
   "version": "3.7.6"
  }
 },
 "nbformat": 4,
 "nbformat_minor": 4
}

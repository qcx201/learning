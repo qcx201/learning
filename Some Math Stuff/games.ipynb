{
 "cells": [
  {
   "cell_type": "code",
   "execution_count": 1,
   "metadata": {},
   "outputs": [],
   "source": [
    "from copy import deepcopy"
   ]
  },
  {
   "cell_type": "code",
   "execution_count": 2,
   "metadata": {},
   "outputs": [],
   "source": [
    "class TicTacToe(object):\n",
    "    \n",
    "    '''Tic-Tac-Toe board'''\n",
    "    \n",
    "    def __init__(self):\n",
    "        \n",
    "        self.board = [[None]*3 for _ in range(3)]\n",
    "    \n",
    "    def __repr__(self):\n",
    "        \n",
    "        rows = ['|'.join([str(x) for x in row]) for row in self.board]\n",
    "        rep = f'\\n{\"─\"*5}\\n'.join(rows)\n",
    "        rep = rep.replace('None', ' ')\n",
    "        \n",
    "        return rep\n",
    "    \n",
    "    def __getitem__(self, key):\n",
    "        x, y = key\n",
    "        return self.board[y][x]\n",
    "    \n",
    "    def __setitem__(self, key, value):\n",
    "        x, y = key\n",
    "        self.board[y][x] = value\n",
    "    \n",
    "    def play_x(self, *coord):\n",
    "        boardcopy = deepcopy(self)\n",
    "        boardcopy[coord] = 'x'\n",
    "        return boardcopy\n",
    "    \n",
    "    def play_o(self, *coord):\n",
    "        boardcopy = deepcopy(self)\n",
    "        boardcopy[coord] = 'o'\n",
    "        return boardcopy"
   ]
  }
 ],
 "metadata": {
  "kernelspec": {
   "display_name": "Python 3",
   "language": "python",
   "name": "python3"
  },
  "language_info": {
   "codemirror_mode": {
    "name": "ipython",
    "version": 3
   },
   "file_extension": ".py",
   "mimetype": "text/x-python",
   "name": "python",
   "nbconvert_exporter": "python",
   "pygments_lexer": "ipython3",
   "version": "3.7.6"
  }
 },
 "nbformat": 4,
 "nbformat_minor": 4
}

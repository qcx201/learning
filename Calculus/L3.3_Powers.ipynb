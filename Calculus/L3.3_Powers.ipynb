{
 "cells": [
  {
   "cell_type": "markdown",
   "metadata": {},
   "source": [
    "---\n",
    "<a name=\"intro\"></a>\n",
    "####  <a href=\"#contents-table\">To Contents</a>\n",
    "\n",
    "# Chapter 3: The Power Rule for Derivatives 🍰🔢"
   ]
  },
  {
   "cell_type": "markdown",
   "metadata": {},
   "source": [
    "The [word](https://www.mathsisfun.com/algebra/polynomials.html) **`polynomial`** comes from ***poly-*** (meaning \"many\") and ***-nomial***  (meaning \"term\"). The formal definition sounds pretty confusing, but you'll easily recognize a polynomial when you see it:\n",
    "\n",
    "Example of a **single-variable** polynomial function:\n",
    "\n",
    "$$\n",
    "y = x^5 + \\frac{1}{7}x^2 - 3x - 4\n",
    "$$\n",
    "\n",
    "The formal definition of a polynomial is an algebraic expression of **variables** and **constants** that involve only `addition`, `subtraction`, `multiplication`, and (positive) `exponents`."
   ]
  },
  {
   "cell_type": "markdown",
   "metadata": {},
   "source": [
    "### Non-Polynomials\n",
    "\n",
    "To tease out a couple of details, polynomials **`do not`** include things like:\n",
    "\n",
    "$$\n",
    "\\begin{align}\n",
    "\\text{Exponent of an variable:}\\qquad & y = 2^{x} \\\\\n",
    "\\text{More complicated operations or functions:}\\qquad & y = \\sin{(x)}\n",
    "\\end{align}\n",
    "$$"
   ]
  },
  {
   "cell_type": "markdown",
   "metadata": {},
   "source": [
    "### Motivation\n",
    "\n",
    "In this chapter, we'll examine the handy rule for taking the **`derivative`** ***any polynomial***. Though this [**derivative rule**](https://www.math.ucdavis.edu/~kouba/Math17BHWDIRECTORY/Derivatives.pdf) is  quite powerful, it's actually a piece of cake.\n",
    "\n",
    "![alt text](https://media.giphy.com/media/l3vRmLrL8MfD9CIkU/giphy.gif)\n",
    "\n",
    "<br>\n",
    "After looking at, we'll also look at some cool results that we can already get to with this simple rule."
   ]
  },
  {
   "cell_type": "markdown",
   "metadata": {},
   "source": [
    "---\n",
    "<a name=\"contents-table\"></a>\n",
    "\n",
    "# Table of Contents\n",
    "\n",
    "### <a href=\"#ch3.1\">Chapter 3.1:</a> Power Rule for Derivatives\n",
    "\n",
    "* <a href=\"#q3.1\">**Challenges**</a>\n",
    "\n",
    "### <a href=\"#ch3.2\">Chapter 3.2:</a> A Closer Look\n",
    "\n",
    "* <a href=\"#q3.2\">**Challenges**</a>\n",
    "\n",
    "### <a href=\"#ch3.3\">Chapter 3.3:</a> Pascal's Triangle\n",
    "\n",
    "* <a href=\"#q3.3\">**Challenges**</a>"
   ]
  },
  {
   "cell_type": "code",
   "execution_count": 1,
   "metadata": {},
   "outputs": [],
   "source": [
    "import matplotlib.pyplot as plt\n",
    "\n",
    "%matplotlib inline"
   ]
  },
  {
   "cell_type": "markdown",
   "metadata": {},
   "source": [
    "---\n",
    "<a name=\"ch3.1\"></a>\n",
    "#### <a href=\"#contents-table\">Back to Contents</a>\n",
    "\n",
    "# Ch 3.1 Power Rule for Derivatives ✊⚡⚖\n",
    "\n",
    "\n",
    "Lets just get right on to it 🏃‍♀️🏃‍♂️💨..."
   ]
  },
  {
   "cell_type": "markdown",
   "metadata": {},
   "source": [
    "\n",
    "## In words:\n",
    "\n",
    "To get the **`derivative`** of a **`*polynomial`**:\n",
    "\n",
    "Take **`each term`** of the polynomial with and:\n",
    "  \n",
    "  1. **`multiply`** the term by the **`expnonent`**\n",
    "  \n",
    "  \n",
    "  2. **`reduce`** the **`exponent`** by `1`.\n",
    "  \n",
    "  \n",
    "  3. If the term is a **`constant`**, that term becomes **`0`**.\n",
    "  \n",
    "---\n",
    "\\*Or any function with terms of variables to the power (not just non-negative integer powers)."
   ]
  },
  {
   "cell_type": "markdown",
   "metadata": {},
   "source": [
    "\n",
    "---\n",
    "## In Math Notation\n",
    "\n",
    "Let's convert the rules above into some fancy-schmancy math gibberish.\n",
    "\n",
    "### Derivative function of constant:\n",
    "\n",
    "$$\n",
    "\\require{cancel}\n",
    "\\begin{align}\n",
    "\\\\\n",
    "\\text{The derivative of} & \\text{ a constant is zero:} \\\\\n",
    "\\\\\n",
    "f(x) &= c \\\\\n",
    "f'(x) &= 0 \\\\\n",
    "\\\\\n",
    "\\\\\n",
    "\\text{For any function} & \\text{ with a power of the variable:} \\\\\n",
    "\\\\\n",
    "f(x) &= m \\cdot x^{n} \\\\\n",
    "\\\\\n",
    "\\text{The derivative of} & \\text{ the function is:}  \\\\\n",
    "\\\\\n",
    "f'(x) &= n \\cdot m \\cdot x^{n-1} \\\\\n",
    "\\end{align}\n",
    "$$\n",
    "\n",
    "### Derivative function of any polynomial:\n",
    "\n",
    "$$\n",
    "\\require{cancel}\n",
    "\\begin{align}\n",
    "\\\\\n",
    "\\text{For any function of the form:} & \\\\\n",
    "\\\\\n",
    "f(x) &= \\sum_{m, n}{m \\cdot x^{n} + c} \\\\\n",
    "&= m_{1} \\cdot x^{n_{1}} + m_{2} \\cdot x^{n_{2}} + m_{3} \\cdot x^{n_{3}} + \\, ... + \\, c \\\\\n",
    "\\\\\n",
    "\\text{where $c_{i}, m_{i},$ and $n$ are from the set} & \\text{ of any constants,} \\\\\n",
    "\\\\\n",
    "\\text{The derivative of the function is:} & \\\\\n",
    "\\\\\n",
    "f'(x) &= \\sum_{m, n}{n\\cdot m \\cdot x^{n-1}} \\\\\n",
    "&= n_{1} \\cdot m_{1} \\cdot x^{n_{1}-1} + n_{2} \\cdot m_{2} \\cdot x^{n_{2}-1} + n_{2} \\cdot m_{3} \\cdot x^{n_{3}-1} + \\, ... + \\, 0 \\\\\n",
    "\\end{align}\n",
    "$$"
   ]
  },
  {
   "cell_type": "markdown",
   "metadata": {},
   "source": [
    "\n",
    "### Some examples:\n",
    "$$\n",
    "\\begin{align}\n",
    "\\text{Example 1:}\\quad f(x) &= x^{2} + 2x + 1 \\\\\n",
    "\\\\\n",
    "\\text{Derivative:}\\quad f'(x) &= (2)x^{(2-1)} + (1)2x^{(1-1)} + (0) \\\\\n",
    "&= 2x + 2x^{0} \\\\\n",
    "&=> 2x + 2 \\\\\n",
    "\\\\\n",
    "\\\\\n",
    "\\\\\n",
    "\\text{Example 2:}\\quad f(x) &= x^{5} + \\frac{1}{7}x^{2} - 3x - 4 \\\\\n",
    "\\\\\n",
    "\\text{Derivative:}\\quad f'(x) &= (5)x^{(5-1)} + \\frac{1\\cdot{(2)}}{7}x^{(2-1)} - 3x^{(1-1)} - (0) \\\\\n",
    "&=> 5x^4 + \\frac{2}{7}x - 3 \\\\\n",
    "\\end{align}\n",
    "$$\n"
   ]
  },
  {
   "cell_type": "markdown",
   "metadata": {},
   "source": [
    "---\n",
    "<a name=\"q3.1\"></a>\n",
    "#### <a href=\"#contents-table\">Back to Contents</a>\n",
    "\n",
    "# Ch 3.1: Challenges\n",
    "\n",
    "1. **`Solve`** the derivatives of the following functions:\n",
    "\n",
    "\n",
    "$$\n",
    "\\begin{align}\n",
    "\\text{1.}\\quad f(x) &= x^2 + 2x - 1 \\\\\n",
    "\\\\\n",
    "\\text{2.}\\quad f(x) &= x^5 + \\frac{1}{7}x^2 + 3x + 4 \\\\\n",
    "\\\\\n",
    "\\text{3.}\\quad f(x) &= x + 1 \\\\\n",
    "\\\\\n",
    "\\text{4.}\\quad f(x) &= \\frac{1}{2}x^{-2} - x^{-1} + x^{\\frac{1}{2}} \\\\\n",
    "\\\\\n",
    "\\text{5.}\\quad f(x) &= 1 + x + \\frac{1}{2}x^2 + \\frac{1}{6}x^3 + \\frac{1}{24}x^4 \\\\\n",
    "\\\\\n",
    "\\text{6.}\\quad f(x) &= x^{100} \\\\\n",
    "\\\\\n",
    "\\end{align}\n",
    "$$"
   ]
  },
  {
   "cell_type": "markdown",
   "metadata": {},
   "source": [
    "---\n",
    "#### Your `solutions` here:\n",
    "\n",
    "$$\n",
    "\\begin{align}\n",
    "\\\\\n",
    "\\text{your solutions...} &\n",
    "\\\\\n",
    "\\end{align}\n",
    "$$"
   ]
  },
  {
   "cell_type": "markdown",
   "metadata": {},
   "source": [
    "\n",
    "---\n",
    "2. For each function above, **`plot`** for range **`(-10, 10)`**:\n",
    "    \n",
    "   a. The **`numerical approximation`** of the derivative using the slope formula: \n",
    "   \n",
    "   $$f'(x) \\approx f_{approx}'(x) = \\frac{f(x+\\Delta{x})-f(x)}{\\Delta{x}}, \\quad\\text{for some small value of $\\Delta{x}$}$$\n",
    "   \n",
    "   b. The **`analytical solution`** of the derivative function from `part 1`."
   ]
  },
  {
   "cell_type": "code",
   "execution_count": 2,
   "metadata": {},
   "outputs": [],
   "source": [
    "# original functions\n",
    "\n",
    "org_functions = [\n",
    "(r'x^{2} + 2x - 1' ,\n",
    "    lambda x: x**2 + 2*x - 1),\n",
    "\n",
    "(r'x^{5} + \\frac{1}{7}x^{2} + 3x +4' ,\n",
    "    lambda x: x**5 + (1/7)*(x**2) + 3*x + 4),\n",
    "\n",
    "(r'x + 1' ,\n",
    "    lambda x: x+1),\n",
    "\n",
    "(r'\\frac{1}{2}x^{-2} - x^{-1} + x^{\\frac{1}{2}}' ,\n",
    "    lambda x: (1/2)*(x**(-2)) - x**(-1) + x**(1/2)), \n",
    "\n",
    "(r'1 + x + \\frac{1}{2}x + \\frac{1}{6}x^{3} + \\frac{1}{24}x^{4}' ,\n",
    "    lambda x: 1 + x + (1/2)*x + (1/6)*(x**3) + (1/24)*(x**4)),\n",
    "\n",
    "(r'x^{100}' ,\n",
    "    lambda x: x**100),\n",
    "]\n"
   ]
  },
  {
   "cell_type": "code",
   "execution_count": 3,
   "metadata": {},
   "outputs": [],
   "source": [
    "# your code here"
   ]
  },
  {
   "cell_type": "code",
   "execution_count": null,
   "metadata": {},
   "outputs": [],
   "source": []
  },
  {
   "cell_type": "markdown",
   "metadata": {},
   "source": [
    "---\n",
    "3. Find the **`squared-error`** of the `approximation` for each derivative.\n",
    "\n",
    "$$\n",
    "\\text{Squared error (SE)} = \\sum_{x}{\\bigg(f'(x) - f_{approx}'(x)\\bigg)^{2}}\n",
    "$$"
   ]
  },
  {
   "cell_type": "code",
   "execution_count": 4,
   "metadata": {},
   "outputs": [],
   "source": [
    "# your code here"
   ]
  },
  {
   "cell_type": "code",
   "execution_count": null,
   "metadata": {},
   "outputs": [],
   "source": []
  },
  {
   "cell_type": "markdown",
   "metadata": {},
   "source": [
    "---\n",
    "## <span style=\"color:red;\">Solutions</span>\n",
    "\n"
   ]
  },
  {
   "cell_type": "markdown",
   "metadata": {},
   "source": [
    "\n",
    "```python\n",
    "# Ch 3.1: Challenge 1.\n",
    "```\n",
    "\n",
    "$$\n",
    "\\begin{align}\n",
    "\\text{Solutions:} & \\\\\n",
    "\\\\\n",
    "\\text{1.}\\quad f(x) &= x^2 + 2x - 1 \\\\\n",
    "\\\\\n",
    "f'(x) &= 2x + 2 \\\\\n",
    "\\\\\n",
    "\\\\\n",
    "\\text{2.}\\quad f(x) &= x^5 + \\frac{1}{7}x^2 + 3x + 4 \\\\\n",
    "\\\\\n",
    "f'(x) &= x^5 + \\frac{2}{7}x + 3 \\\\\n",
    "\\\\\n",
    "\\\\\n",
    "\\text{3.}\\quad f(x) &= x + 1 \\\\\n",
    "\\\\\n",
    "f'(x) &= 1 \\\\\n",
    "\\\\\n",
    "\\\\\n",
    "\\text{4.}\\quad f(x) &= \\frac{1}{2}x^{-2} - x^{-1} + x^{\\frac{1}{2}} \\\\\n",
    "\\\\\n",
    "f'(x) &= -x^{-3} + x^{-2} + \\frac{1}{2}x^{-\\frac{1}{2}}\\\\\n",
    "\\\\\n",
    "\\\\\n",
    "\\text{5.}\\quad f(x) &= 1 + x + \\frac{1}{2}x^2 + \\frac{1}{6}x^3 + \\frac{1}{24}x^4 \\\\\n",
    "\\\\\n",
    "f'(x) &= 1 + x + \\frac{1}{2}x^2 + \\frac{1}{6}x^3 \\\\\n",
    "\\\\\n",
    "\\\\\n",
    "\\text{6.}\\quad f(x) &= x^{100}  \\\\\n",
    "\\\\\n",
    "f'(x) &= 100x^{99}\n",
    "\\end{align}\n",
    "$$"
   ]
  },
  {
   "cell_type": "code",
   "execution_count": 5,
   "metadata": {
    "scrolled": false
   },
   "outputs": [
    {
     "name": "stdout",
     "output_type": "stream",
     "text": [
      "\n",
      "\n"
     ]
    },
    {
     "data": {
      "image/png": "[encoded data removed]",
      "text/plain": [
       "<Figure size 432x288 with 1 Axes>"
      ]
     },
     "metadata": {
      "needs_background": "light"
     },
     "output_type": "display_data"
    },
    {
     "name": "stdout",
     "output_type": "stream",
     "text": [
      "\n",
      "\n"
     ]
    },
    {
     "data": {
      "image/png": "[encoded data removed]",
      "text/plain": [
       "<Figure size 432x288 with 1 Axes>"
      ]
     },
     "metadata": {
      "needs_background": "light"
     },
     "output_type": "display_data"
    },
    {
     "name": "stdout",
     "output_type": "stream",
     "text": [
      "\n",
      "\n"
     ]
    },
    {
     "data": {
      "image/png": "[encoded data removed]",
      "text/plain": [
       "<Figure size 432x288 with 1 Axes>"
      ]
     },
     "metadata": {
      "needs_background": "light"
     },
     "output_type": "display_data"
    },
    {
     "name": "stdout",
     "output_type": "stream",
     "text": [
      "\n",
      "\n",
      "\\frac{1}{2}x^{-2} - x^{-1} + x^{\\frac{1}{2}}\n",
      "0.0 cannot be raised to a negative power\n",
      "\n",
      "\n"
     ]
    },
    {
     "data": {
      "image/png": "[encoded data removed]",
      "text/plain": [
       "<Figure size 432x288 with 1 Axes>"
      ]
     },
     "metadata": {
      "needs_background": "light"
     },
     "output_type": "display_data"
    },
    {
     "name": "stdout",
     "output_type": "stream",
     "text": [
      "\n",
      "\n"
     ]
    },
    {
     "data": {
      "image/png": "[encoded data removed]",
      "text/plain": [
       "<Figure size 432x288 with 1 Axes>"
      ]
     },
     "metadata": {
      "needs_background": "light"
     },
     "output_type": "display_data"
    }
   ],
   "source": [
    "# Ch 3.1 Challenge 2.\n",
    "\n",
    "# matching derivatives\n",
    "derivatives = [\n",
    "    (r'2x + 2' ,\n",
    "     lambda x: 2*x + 2),\n",
    "    \n",
    "    (r'5x^{4} + \\frac{2}{7}x + 3' ,\n",
    "     lambda x: 5*x**4 + (2/7)*x + 3),\n",
    "    \n",
    "    (r'1' , lambda x: 1),\n",
    "    \n",
    "    (r'-x^{-3} + x^{-2} + \\frac{1}{2}x^{-\\frac{1}{2}}' ,\n",
    "        lambda x: -x**-3 + x**-2 + (1/2)*x**(-1/2)),\n",
    "    \n",
    "    (r'1 + x + \\frac{1}{2}x + \\frac{1}{6}x^{3}' ,\n",
    "        lambda x: 1 + x + (1/2)*x + (1/6)*x**3),\n",
    "    \n",
    "    (r'100x^{99}',lambda x: 100*x**99),\n",
    "]\n",
    "\n",
    "# function for approximating derivative\n",
    "def approx_derivative(f, x, precision=3):\n",
    "    '''\n",
    "    Returns approximate derivative value of f at x\n",
    "    \n",
    "    Parameters\n",
    "    ---\n",
    "    f : function\n",
    "        function to approximate differention\n",
    "        \n",
    "    x : int, float\n",
    "        input for x\n",
    "        \n",
    "    precision : int\n",
    "        decimal limit for difference between approximations\n",
    "        this controls accuracy of approximation\n",
    "    '''\n",
    "    dx = 1\n",
    "    res = (f(x+dx) - f(x)) / dx\n",
    "    prev_res = res\n",
    "    \n",
    "    while True:\n",
    "        dx *= 0.1 # reduce dx by half\n",
    "        \n",
    "        res = (f(x+dx) - f(x)) / dx\n",
    "        \n",
    "        # if difference less than precision limit\n",
    "        if abs(res - prev_res) < (10**precision):\n",
    "            return res\n",
    "        \n",
    "        prev_res = res\n",
    "\n",
    "# plot        \n",
    "x_range = list(range(-10, 11))\n",
    "\n",
    "kwargs = dict(alpha=0.5, linewidth=5)\n",
    "\n",
    "data = []\n",
    "\n",
    "for (fn, f), (dn, d) in zip(org_functions, derivatives):\n",
    "\n",
    "    print('\\n')\n",
    "    try:\n",
    "        F = [approx_derivative(f, x) for x in x_range]\n",
    "        D = [d(x) for x in x_range]\n",
    "\n",
    "        # store for Ch 1.3 challenge 3\n",
    "        data.append({\n",
    "            'func_eq' : fn, # equation of function\n",
    "            'approx_data': F, # approximation data\n",
    "            'deriv_eq' : dn, # equation of derivative\n",
    "            'analy_data': D # anayltical solution data\n",
    "        })\n",
    "        \n",
    "        plt.plot(x_range, F, label='Approximation', ls=':', **kwargs)\n",
    "        plt.plot(x_range, D, label='Analytical Sol.', **kwargs)\n",
    "\n",
    "        plt.title(f'$f(x) = {fn}$ \\n$f\\'(x) = {dn}$', fontsize=16, fontweight='bold')\n",
    "        plt.legend()\n",
    "        plt.show()\n",
    "        \n",
    "    except Exception as e:\n",
    "        print(fn)\n",
    "        print(e)\n",
    "        "
   ]
  },
  {
   "cell_type": "code",
   "execution_count": 6,
   "metadata": {},
   "outputs": [
    {
     "name": "stdout",
     "output_type": "stream",
     "text": [
      "--------------- \n",
      "\n",
      "Function: x^{2} + 2x - 1\n",
      "Derivative: 2x + 2\n",
      "\n",
      "squared error: 2.100e-01\n",
      "standard error: 1.000e-01\n",
      "\n",
      "r-squared: 1.00\n",
      "--------------- \n",
      "\n",
      "Function: x^{5} + \\frac{1}{7}x^{2} + 3x +4\n",
      "Derivative: 5x^{4} + \\frac{2}{7}x + 3\n",
      "\n",
      "squared error: 6.412e+04\n",
      "standard error: 5.526e+01\n",
      "\n",
      "r-squared: 1.00\n",
      "--------------- \n",
      "\n",
      "Function: x + 1\n",
      "Derivative: 1\n",
      "\n",
      "squared error: 1.815e-28\n",
      "standard error: 2.940e-15\n",
      "\n",
      "# float division by zero\n",
      "--------------- \n",
      "\n",
      "Function: 1 + x + \\frac{1}{2}x + \\frac{1}{6}x^{3} + \\frac{1}{24}x^{4}\n",
      "Derivative: 1 + x + \\frac{1}{2}x + \\frac{1}{6}x^{3}\n",
      "\n",
      "squared error: 1.599e+04\n",
      "standard error: 2.759e+01\n",
      "\n",
      "r-squared: 0.95\n",
      "--------------- \n",
      "\n",
      "Function: x^{100}\n",
      "Derivative: 100x^{99}\n",
      "\n",
      "squared error: 2.000e+202\n",
      "standard error: 3.086e+100\n",
      "\n",
      "r-squared: 0.00\n"
     ]
    }
   ],
   "source": [
    "# Ch 3.1 Challenge 3.\n",
    "\n",
    "for d in data:\n",
    "    \n",
    "    # squared error (also called variance) \n",
    "    sq_error = 0\n",
    "    \n",
    "    # r-squared parametmers, just for fun\n",
    "    s_xy, x_sq, y_sq = 0, 0, 0\n",
    "    \n",
    "    \n",
    "    for apx, ana, in zip(d['approx_data'], d['analy_data']):\n",
    "        \n",
    "        # squared error (variance)\n",
    "        sq_error += (apx - ana)**2\n",
    "        \n",
    "        # r-squred\n",
    "        s_xy += apx*ana\n",
    "        x_sq += apx**2\n",
    "        y_sq += ana**2\n",
    "    \n",
    "    print('-'*15, '\\n')\n",
    "    print(f'Function: {d[\"func_eq\"]}')\n",
    "    print(f'Derivative: {d[\"deriv_eq\"]}')\n",
    "    \n",
    "    # standard error\n",
    "    n = len(d['approx_data'])\n",
    "    std_error = (sq_error / n)**(1/2)\n",
    "    \n",
    "    print(f'\\nsquared error: {sq_error:.3e}')\n",
    "    print(f'standard error: {std_error:.3e}')\n",
    "    \n",
    "    \n",
    "    try: # r-squared\n",
    "        \n",
    "        # https://www.statisticshowto.com/probability-and-statistics/coefficient-of-determination-r-squared/\n",
    "        \n",
    "        s_x = sum(d['approx_data'])\n",
    "        s_y = sum(d['analy_data']) \n",
    "        \n",
    "        r = (n*s_xy - (s_x*s_y)) / ((n*x_sq - s_x**2)*(n*y_sq - s_y**2))**(1/2)\n",
    "        r_sq = r**2\n",
    "\n",
    "        print(f'\\nr-squared: {r_sq:.2f}')\n",
    "    \n",
    "    except Exception as e:\n",
    "        print('\\n#', e)\n",
    "        "
   ]
  },
  {
   "cell_type": "markdown",
   "metadata": {},
   "source": [
    "---\n",
    "<a name=\"ch3.2\"></a>\n",
    "#### <a href=\"#contents-table\">Back to Contents</a>\n",
    "\n",
    "# Ch 3.2: A Closer Look 🔎👋"
   ]
  },
  {
   "cell_type": "markdown",
   "metadata": {},
   "source": [
    "We (hopefully 🤞) saw that, using the `power rule`, the analytical solutions of the derivatives above seem quite good.\n",
    "\n",
    "Let's take a closer look at this to see why this rule works, using our analysis of `limits` and the `slope formula`."
   ]
  },
  {
   "cell_type": "markdown",
   "metadata": {},
   "source": [
    "\n",
    "### A quick review of derivatives from Chapter 2: \n",
    "\n",
    "$$\n",
    "\\begin{align}\n",
    "\\\\\n",
    "\\text{Slope formula of two points} & \\text{ on function $y = f(x)$:} \\\\\n",
    "\\\\\n",
    "\\text{slope} = \\frac{\\Delta{y}}{\\Delta{x}} &= \\frac{f(x + \\Delta{x}) - f(x)}{\\Delta{x}} \\\\\n",
    "\\\\\n",
    "\\text{Definition of derivative} & \\text{ of function $f(x)$:} \\\\\n",
    "\\\\\n",
    "\\lim_{\\Delta{x} \\to 0} \\frac{\\Delta{y}}{\\Delta{x}} &= \\lim_{\\Delta{x} \\to 0} \\frac{f(x + \\Delta{x}) - f(x)}{\\Delta{x}} \\\\\n",
    "\\\\\n",
    "=> f'(x) = \\frac{dy}{dx} &= \\frac{f(x + dx) - f(x)}{dx} \\\\\n",
    "\\\\\n",
    "\\end{align}\n",
    "$$"
   ]
  },
  {
   "cell_type": "markdown",
   "metadata": {},
   "source": [
    "### Derivative of Any Constant\n",
    "\n",
    "Let's examine a function that always returns a `constant`:\n",
    "\n",
    "$$\n",
    "\\begin{align}\n",
    "\\\\\n",
    "\\text{Constant function:} & \\\\\n",
    "\\\\\n",
    "f(x) &= c, \\quad \\text{where $c$ is a constant} \\\\\n",
    "\\\\\n",
    "\\text{Derivative:} & \\\\\n",
    "\\\\\n",
    "f'(x) &= \\frac{f(x + dx) - f(x)}{dx} \\\\\n",
    "\\\\\n",
    "\\text{Since the function $f(x) = c$ for any $x$, } & \\text{$f(x+dx) = c$ for any change in $x$ also:}\\\\\n",
    "\\\\ \n",
    "&= \\frac{c - c}{dx} \\\\\n",
    "\\\\\n",
    "&= \\frac{0}{dx} \\\\\n",
    "\\\\\n",
    "&=> 0\n",
    "\\end{align}\n",
    "$$"
   ]
  },
  {
   "cell_type": "markdown",
   "metadata": {},
   "source": [
    "### Derivative of Squared Variable\n",
    "\n",
    "Let's examine a function of a variable, multiplied by **any** coefficient and raise to the power of 2. :\n",
    "\n",
    "$$\n",
    "\\begin{align}\n",
    "\\\\\n",
    "\\text{General function with squared variable:} & \\\\\n",
    "\\\\\n",
    "f(x) &= m x^{2}, \\, \\text{for any $m$ independent of x} \\\\\n",
    "\\\\\n",
    "\\text{Derivative:} & \\\\\n",
    "\\\\\n",
    "f'(x) &= \\frac{f(x + dx) - f(x)}{dx} \\\\\n",
    "\\\\ \n",
    "&= \\frac{m(x+dx)^{2} - mx^2}{dx} \\\\\n",
    "\\\\\n",
    "&= m\\frac{(x+dx)^{2} - x^2}{dx} \\quad \\text{Let's first factor out $m$}\\\\\n",
    "\\\\\n",
    "&= m\\frac{(x^{2}+2xdx+dx^{2}) - x^2}{dx} \\quad \\text{Expand the squared term}\\\\\n",
    "\\\\\n",
    "&= m\\frac{\\cancel{x^{2}}+2xdx+dx^{2} - \\cancel{x^2}}{dx} \\quad \\text{Cancel the two $x^2$ 's}\\\\\n",
    "\\\\\n",
    "&= m\\frac{2xdx+dx^{2}}{dx} \\\\\n",
    "\\\\\n",
    "&= m\\frac{2xdx}{dx}+m\\frac{dx^{2}}{dx} \\quad \\text{For clarity, separate the terms}\\\\\n",
    "&= m\\frac{2xdx}{dx}+\\cancel{m\\frac{dx^{2}}{dx}} \\quad \\text{Right term goes to zero as $dx \\to 0$}\\\\\n",
    "&= m\\frac{2xdx}{dx} \\quad\\text{From here we're home free...} \\\\\n",
    "&= m2x \\cancel{\\frac{dx}{dx}} \\quad\\text{The $dx$ fraction is just $1$}  \\\\\n",
    "&=> 2mx \\\\\n",
    "\\\\\n",
    "\\text{Therefore, for any squared function:} \\\\\n",
    "f(x) &= m x^{2} \\\\\n",
    "\\\\\n",
    "\\text{The derivative is:} \\\\\n",
    "f'(x) &= 2mx \\\\\n",
    "\\\\\n",
    "\\text{Confirming the power rule for $n=2$:} \\\\\n",
    "f(x) &= m \\cdot x^{n} \\\\\n",
    "f'(x) &= n \\cdot m \\cdot x^{(n-1)}  \\\\\n",
    "\\end{align}\n",
    "$$"
   ]
  },
  {
   "cell_type": "markdown",
   "metadata": {},
   "source": [
    "---\n",
    "<a name=\"q3.2\"></a>\n",
    "#### <a href=\"#contents-table\">Back to Contents</a>\n",
    "\n",
    "# Ch 3.2: Challenges\n",
    "\n",
    "1. With a similar method to the above, show that any general **`linear`** *`(n=1)`* and **`cubic`** *`(n=3)`* variable function follows the **`power rule`** for derivatives.\n",
    "\n",
    "$$\n",
    "\\begin{align}\n",
    "\\\\\n",
    "\\text{Linear function:} \\quad f(x) &= m x \\\\\n",
    "\\\\\n",
    "\\text{Cubic function:} \\quad f(x) &= m x^{3} \\\\\n",
    "\\\\\n",
    "\\end{align}\n",
    "$$"
   ]
  },
  {
   "cell_type": "markdown",
   "metadata": {},
   "source": [
    "---\n",
    "#### Your `solutions` here:\n",
    "\n",
    "$$\n",
    "\\begin{align}\n",
    "\\\\\n",
    "\\text{your solutions...} &\n",
    "\\\\\n",
    "\\end{align}\n",
    "$$\n",
    "\n",
    "<br>"
   ]
  },
  {
   "cell_type": "markdown",
   "metadata": {},
   "source": [
    "---\n",
    "2. Show that functions involving the `addition` or `subtraction` of the same variable with different powers follow the **`power rule`** for derivatives:\n",
    "\n",
    "$$\n",
    "\\begin{align}\n",
    "\\\\\n",
    "f(x) &= m_{1} x + m_{2} x^{2} + c\n",
    "\\\\\n",
    "\\end{align}\n",
    "$$"
   ]
  },
  {
   "cell_type": "markdown",
   "metadata": {},
   "source": [
    "---\n",
    "#### Your `solutions` here:\n",
    "\n",
    "$$\n",
    "\\begin{align}\n",
    "\\\\\n",
    "\\text{your solutions...} &\n",
    "\\\\\n",
    "\\end{align}\n",
    "$$\n",
    "\n",
    "<br>"
   ]
  },
  {
   "cell_type": "markdown",
   "metadata": {},
   "source": [
    "---\n",
    "3. Can you think of a way to show that the **`power`** rule works for functions of any `n` power?\n",
    "\n",
    "    If not, don't worry. We'll look into this in the next section."
   ]
  },
  {
   "cell_type": "markdown",
   "metadata": {},
   "source": [
    "---\n",
    "#### Your `solutions` here:\n",
    "\n",
    "$$\n",
    "\\begin{align}\n",
    "\\\\\n",
    "\\text{your solutions...} &\n",
    "\\\\\n",
    "\\end{align}\n",
    "$$\n",
    "\n",
    "<br>"
   ]
  },
  {
   "cell_type": "markdown",
   "metadata": {},
   "source": [
    "---\n",
    "## <span style=\"color:red;\">Solutions</span>\n",
    "\n"
   ]
  },
  {
   "cell_type": "markdown",
   "metadata": {},
   "source": [
    "\n",
    "```python\n",
    "# Ch 3.2 Challenge 1.\n",
    "```\n",
    "\n",
    "$$\n",
    "\\begin{align}\n",
    "\\\\\n",
    "\\text{Linear function:} & \\\\\n",
    "\\\\\n",
    "f(x) &= m x, \\, \\text{for any $m$ independent of x} \\\\\n",
    "\\\\\n",
    "f'(x) &= \\frac{f(x + dx) - f(x)}{dx} \\\\\n",
    "\\\\\n",
    "&= \\frac{m(x+dx) - mx}{dx}\n",
    "\\\\\n",
    "&= m\\frac{(x+dx) - x}{dx} \\quad\\text{Factor out $m$}\\\\\n",
    "\\\\\n",
    "&= m\\frac{\\cancel{x} + dx - \\cancel{x}}{dx} \\quad\\text{Cancel the $x$ terms}\\\\\n",
    "\\\\\n",
    "&= m \\frac{dx}{dx} \\\\\n",
    "\\\\\n",
    "&= m \\cancel{\\frac{dx}{dx}} \\quad\\text{The $dx$ fraction is just $1$} \\\\\n",
    "\\\\\n",
    "&=> m\n",
    "\\\\\n",
    "\\\\\n",
    "\\text{Therefore, for any linear function:} \\\\\n",
    "f(x) &= m x \\\\\n",
    "\\\\\n",
    "\\text{The derivative is:} \\\\\n",
    "f'(x) &= m \\\\\n",
    "\\\\\\\\\n",
    "\\\\\\\\\n",
    "\\text{Cubic Function:} & \\\\\n",
    "\\\\\n",
    "f(x) &= m x^{3}, \\, \\text{for any $m$ independent of x} \\\\\n",
    "\\\\\n",
    "\\text{Derivative:} & \\\\\n",
    "\\\\\n",
    "f'(x) &= \\frac{f(x + dx) - f(x)}{dx} \\\\\n",
    "\\\\ \n",
    "&= \\frac{m(x+dx)^{3} - mx^2}{dx} \\\\\n",
    "\\\\\n",
    "&= m\\frac{(x+dx)^{3} - x^2}{dx} \\quad\\text{Factor out $m$}\\\\\n",
    "\\\\\n",
    "&= m\\frac{(x^{3}+3x^{2}dx+3xdx^{2}+dx^{3}) - x^{3}}{dx} \\quad \\text{Expand the cubed term}\\\\\n",
    "\\\\\n",
    "&= m\\frac{\\cancel{x^{3}}+3x^{2}dx+3xdx^{2}+dx^{3} - \\cancel{x^3}}{dx} \\quad \\text{Cancel the two $x^3$ 's}\\\\\n",
    "\\\\\n",
    "&= m\\frac{3x^{2}dx+3xdx^{2}+dx^{3}}{dx} \\\\\n",
    "\\\\\n",
    "&= m\\frac{3x^{2}dx}{dx}+m\\frac{3xdx^{2}+dx^{3}}{dx} \\quad \\text{For clarity, separate the terms}\\\\\n",
    "&= m\\frac{3x^{2}dx}{dx}+\\cancel{m\\frac{3xdx^{2}+dx^{3}}{dx}} \\quad \\text{Right term goes to zero as $dx \\to 0$}\\\\\n",
    "&= m\\frac{3x^{2}dx}{dx} \\quad\\text{From here we're home free...} \\\\\n",
    "&= m3x^{2} \\cancel{\\frac{dx}{dx}} \\quad\\text{The $dx$ fraction is just $1$}  \\\\\n",
    "&=> 3mx^{2} \\\\\n",
    "\\\\\n",
    "\\text{Therefore, for any cubed function:} \\\\\n",
    "f(x) &= m x^{3} \\\\\n",
    "\\\\\n",
    "\\text{The derivative is:} \\\\\n",
    "f'(x) &= 3mx \\\\\n",
    "\\\\\n",
    "\\end{align}\n",
    "$$"
   ]
  },
  {
   "cell_type": "markdown",
   "metadata": {},
   "source": [
    "---\n",
    "<a name=\"ch3.3\"></a>\n",
    "#### <a href=\"#contents-table\">Back to Contents</a>\n",
    "\n",
    "# Ch 3.3: Pascal's Triangle 🔼🗼\n",
    "\n",
    "In `chapter 3.2` above, we saw how the `power rule` for derivatives works"
   ]
  },
  {
   "cell_type": "code",
   "execution_count": null,
   "metadata": {},
   "outputs": [],
   "source": []
  },
  {
   "cell_type": "markdown",
   "metadata": {},
   "source": [
    "---\n",
    "<a name=\"ch3.x\"></a>\n",
    "#### <a href=\"#contents-table\">Back to Contents</a>\n",
    "\n",
    "# Ch 3.x: Infinite Sums 👋♾"
   ]
  },
  {
   "cell_type": "markdown",
   "metadata": {},
   "source": [
    "\n",
    "\n",
    "Which series are convergent and divergent?\n",
    "$$\n",
    "\\begin{align}\n",
    "& 1 + \\frac{1}{2} + \\frac{1}{3} + \\frac{1}{4} + ... + \\frac{1}{x} \\\\\n",
    "\\\\\n",
    "& 1 + \\frac{1}{2} + \\frac{1}{4} + \\frac{1}{8} + ... + \\bigg(\\frac{1}{2}\\bigg)^{x} \\\\\n",
    "\\\\\n",
    "& 1 + \\bigg(\\frac{1}{2}\\bigg)^{2} + \\bigg(\\frac{1}{3}\\bigg)^{3} + \\bigg(\\frac{1}{4}\\bigg)^{4} + ... + \\bigg(\\frac{1}{x}\\bigg)^{x} \\\\\n",
    "\\end{align}\n",
    "$$"
   ]
  }
 ],
 "metadata": {
  "kernelspec": {
   "display_name": "Python 3",
   "language": "python",
   "name": "python3"
  },
  "language_info": {
   "codemirror_mode": {
    "name": "ipython",
    "version": 3
   },
   "file_extension": ".py",
   "mimetype": "text/x-python",
   "name": "python",
   "nbconvert_exporter": "python",
   "pygments_lexer": "ipython3",
   "version": "3.8.5"
  }
 },
 "nbformat": 4,
 "nbformat_minor": 4
}

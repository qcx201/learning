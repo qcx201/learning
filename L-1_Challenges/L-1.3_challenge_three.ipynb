{
 "cells": [
  {
   "cell_type": "markdown",
   "metadata": {},
   "source": [
    "---\n",
    "# Challenge  3.1🎣\n",
    "Create a **`list`** of the numbers from <b>`0 to 99`</b> except for multiples of <b>`3`</b> and <b>`5`</b>.\n",
    "\n",
    "***`i.e.:`*** `[1, 2, 4, 6, 7, 8, 11, ...]`\n",
    "\n",
    "**`Hint:` %**"
   ]
  },
  {
   "cell_type": "code",
   "execution_count": 13,
   "metadata": {},
   "outputs": [],
   "source": [
    "# your code here"
   ]
  },
  {
   "cell_type": "code",
   "execution_count": null,
   "metadata": {},
   "outputs": [],
   "source": []
  },
  {
   "cell_type": "markdown",
   "metadata": {},
   "source": [
    "# Challenge 3.2 📐\n",
    "\n",
    "Consider a pyramid constructed of the numbers from **`0 to 9`**:\n",
    "```\n",
    "0\n",
    "01\n",
    "012\n",
    "0123\n",
    "01234\n",
    " ⋮\n",
    "01234567890\n",
    "012345678901\n",
    "```\n",
    "\n",
    "**`Print`** a pyramid with **`20`** layers."
   ]
  },
  {
   "cell_type": "code",
   "execution_count": null,
   "metadata": {},
   "outputs": [],
   "source": [
    "# your code here"
   ]
  },
  {
   "cell_type": "code",
   "execution_count": null,
   "metadata": {},
   "outputs": [],
   "source": []
  }
 ],
 "metadata": {
  "kernelspec": {
   "display_name": "Python 3",
   "language": "python",
   "name": "python3"
  },
  "language_info": {
   "codemirror_mode": {
    "name": "ipython",
    "version": 3
   },
   "file_extension": ".py",
   "mimetype": "text/x-python",
   "name": "python",
   "nbconvert_exporter": "python",
   "pygments_lexer": "ipython3",
   "version": "3.7.6"
  }
 },
 "nbformat": 4,
 "nbformat_minor": 4
}

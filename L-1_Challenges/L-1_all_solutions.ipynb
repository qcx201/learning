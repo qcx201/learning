{
 "cells": [
  {
   "cell_type": "markdown",
   "metadata": {},
   "source": [
    "---\n",
    "\n",
    "# Challenge 1.1 🍰\n",
    "\n",
    "Create a **`list`** that contains the numbers from <b>`0 and 99`</b>, all inclusive."
   ]
  },
  {
   "cell_type": "code",
   "execution_count": 1,
   "metadata": {},
   "outputs": [],
   "source": [
    "# your code here"
   ]
  },
  {
   "cell_type": "code",
   "execution_count": null,
   "metadata": {},
   "outputs": [],
   "source": []
  },
  {
   "cell_type": "markdown",
   "metadata": {},
   "source": [
    "### Solutions"
   ]
  },
  {
   "cell_type": "code",
   "execution_count": 16,
   "metadata": {},
   "outputs": [
    {
     "name": "stdout",
     "output_type": "stream",
     "text": [
      "[0, 1, 2, 3, 4, 5, 6, 7, 8, 9, 10, 11, 12, 13, 14, 15, 16, 17, 18, 19, 20, 21, 22, 23, 24, 25, 26, 27, 28, 29, 30, 31, 32, 33, 34, 35, 36, 37, 38, 39, 40, 41, 42, 43, 44, 45, 46, 47, 48, 49, 50, 51, 52, 53, 54, 55, 56, 57, 58, 59, 60, 61, 62, 63, 64, 65, 66, 67, 68, 69, 70, 71, 72, 73, 74, 75, 76, 77, 78, 79, 80, 81, 82, 83, 84, 85, 86, 87, 88, 89, 90, 91, 92, 93, 94, 95, 96, 97, 98, 99]\n"
     ]
    }
   ],
   "source": [
    "# with for loop\n",
    "res = []\n",
    "\n",
    "for i in range(100):\n",
    "    \n",
    "    res.append(i)\n",
    "        \n",
    "print(res)"
   ]
  },
  {
   "cell_type": "code",
   "execution_count": 19,
   "metadata": {},
   "outputs": [
    {
     "name": "stdout",
     "output_type": "stream",
     "text": [
      "[0, 1, 2, 3, 4, 5, 6, 7, 8, 9, 10, 11, 12, 13, 14, 15, 16, 17, 18, 19, 20, 21, 22, 23, 24, 25, 26, 27, 28, 29, 30, 31, 32, 33, 34, 35, 36, 37, 38, 39, 40, 41, 42, 43, 44, 45, 46, 47, 48, 49, 50, 51, 52, 53, 54, 55, 56, 57, 58, 59, 60, 61, 62, 63, 64, 65, 66, 67, 68, 69, 70, 71, 72, 73, 74, 75, 76, 77, 78, 79, 80, 81, 82, 83, 84, 85, 86, 87, 88, 89, 90, 91, 92, 93, 94, 95, 96, 97, 98, 99]\n"
     ]
    }
   ],
   "source": [
    "# list comprehension\n",
    "res = [i for i in range(100)]\n",
    "\n",
    "print(res)"
   ]
  },
  {
   "cell_type": "code",
   "execution_count": 20,
   "metadata": {},
   "outputs": [
    {
     "name": "stdout",
     "output_type": "stream",
     "text": [
      "[0, 1, 2, 3, 4, 5, 6, 7, 8, 9, 10, 11, 12, 13, 14, 15, 16, 17, 18, 19, 20, 21, 22, 23, 24, 25, 26, 27, 28, 29, 30, 31, 32, 33, 34, 35, 36, 37, 38, 39, 40, 41, 42, 43, 44, 45, 46, 47, 48, 49, 50, 51, 52, 53, 54, 55, 56, 57, 58, 59, 60, 61, 62, 63, 64, 65, 66, 67, 68, 69, 70, 71, 72, 73, 74, 75, 76, 77, 78, 79, 80, 81, 82, 83, 84, 85, 86, 87, 88, 89, 90, 91, 92, 93, 94, 95, 96, 97, 98, 99]\n"
     ]
    }
   ],
   "source": [
    "# with range\n",
    "res = list(range(100))\n",
    "\n",
    "print(res)"
   ]
  },
  {
   "cell_type": "markdown",
   "metadata": {},
   "source": [
    "# Challenge 1.2 🦔\n",
    "Create a **`list`** that contains the numbers **`0 to 99`**, where the sequence repeats **`100`** times.\n",
    "\n",
    "***`i.e.:`*** `[0, 1, 2, ..., 98, 99, 0, 1, 2, ..., 98, 99 ]`,\n",
    "\n",
    "where the pattern repeats **100** times."
   ]
  },
  {
   "cell_type": "code",
   "execution_count": null,
   "metadata": {},
   "outputs": [],
   "source": [
    "# your code here"
   ]
  },
  {
   "cell_type": "code",
   "execution_count": null,
   "metadata": {},
   "outputs": [],
   "source": []
  },
  {
   "cell_type": "markdown",
   "metadata": {},
   "source": [
    "### Solutions"
   ]
  },
  {
   "cell_type": "code",
   "execution_count": 28,
   "metadata": {},
   "outputs": [
    {
     "name": "stdout",
     "output_type": "stream",
     "text": [
      "[0, 1, 2, 3, 4, 5, 6, 7, 8, 9, 10, 11, 12, 13, 14, 15, 16, 17, 18, 19, 20, 21, 22, 23, 24, 25, 26, 27, 28, 29, 30, 31, 32, 33, 34, 35, 36, 37, 38, 39, 40, 41, 42, 43, 44, 45, 46, 47, 48, 49, 50, 51, 52, 53, 54, 55, 56, 57, 58, 59, 60, 61, 62, 63, 64, 65, 66, 67, 68, 69, 70, 71, 72, 73, 74, 75, 76, 77, 78, 79, 80, 81, 82, 83, 84, 85, 86, 87, 88, 89, 90, 91, 92, 93, 94, 95, 96, 97, 98, 99, 0, 1, 2, 3, 4, 5, 6, 7, 8, 9] ...\n",
      "\n",
      "10000\n"
     ]
    }
   ],
   "source": [
    "# two loops\n",
    "\n",
    "res = []\n",
    "\n",
    "for _ in range(100):\n",
    "    \n",
    "    for i in range(100): \n",
    "        \n",
    "        res.append(i)\n",
    "\n",
    "print(res[:110], '...\\n')\n",
    "\n",
    "print(len(res))"
   ]
  },
  {
   "cell_type": "code",
   "execution_count": 27,
   "metadata": {},
   "outputs": [
    {
     "name": "stdout",
     "output_type": "stream",
     "text": [
      "[0, 1, 2, 3, 4, 5, 6, 7, 8, 9, 10, 11, 12, 13, 14, 15, 16, 17, 18, 19, 20, 21, 22, 23, 24, 25, 26, 27, 28, 29, 30, 31, 32, 33, 34, 35, 36, 37, 38, 39, 40, 41, 42, 43, 44, 45, 46, 47, 48, 49, 50, 51, 52, 53, 54, 55, 56, 57, 58, 59, 60, 61, 62, 63, 64, 65, 66, 67, 68, 69, 70, 71, 72, 73, 74, 75, 76, 77, 78, 79, 80, 81, 82, 83, 84, 85, 86, 87, 88, 89, 90, 91, 92, 93, 94, 95, 96, 97, 98, 99, 0, 1, 2, 3, 4, 5, 6, 7, 8, 9] ...\n",
      "\n",
      "10000\n"
     ]
    }
   ],
   "source": [
    "# multiply list\n",
    "\n",
    "res = list(range(100)) * 100\n",
    "\n",
    "print(res[:110], '...\\n')\n",
    "\n",
    "print(len(res))"
   ]
  },
  {
   "cell_type": "markdown",
   "metadata": {},
   "source": [
    "---\n",
    "# Challenge  2.1 🧭\n",
    "Create a **`list`** of all numbers from **`99 to 0`** in descending order.\n",
    "\n",
    "***`Bonus`*** for using a list comprehension."
   ]
  },
  {
   "cell_type": "code",
   "execution_count": null,
   "metadata": {},
   "outputs": [],
   "source": [
    "# your code here"
   ]
  },
  {
   "cell_type": "code",
   "execution_count": null,
   "metadata": {},
   "outputs": [],
   "source": []
  },
  {
   "cell_type": "markdown",
   "metadata": {},
   "source": [
    "### Solutions"
   ]
  },
  {
   "cell_type": "code",
   "execution_count": 29,
   "metadata": {},
   "outputs": [
    {
     "name": "stdout",
     "output_type": "stream",
     "text": [
      "[99, 98, 97, 96, 95, 94, 93, 92, 91, 90, 89, 88, 87, 86, 85, 84, 83, 82, 81, 80, 79, 78, 77, 76, 75, 74, 73, 72, 71, 70, 69, 68, 67, 66, 65, 64, 63, 62, 61, 60, 59, 58, 57, 56, 55, 54, 53, 52, 51, 50, 49, 48, 47, 46, 45, 44, 43, 42, 41, 40, 39, 38, 37, 36, 35, 34, 33, 32, 31, 30, 29, 28, 27, 26, 25, 24, 23, 22, 21, 20, 19, 18, 17, 16, 15, 14, 13, 12, 11, 10, 9, 8, 7, 6, 5, 4, 3, 2, 1, 0]\n"
     ]
    }
   ],
   "source": [
    "# DIY\n",
    "\n",
    "res = []\n",
    "\n",
    "for i in range(100):\n",
    "\n",
    "    res.append(99-i) # subtract index\n",
    "    \n",
    "print(res)"
   ]
  },
  {
   "cell_type": "code",
   "execution_count": 30,
   "metadata": {},
   "outputs": [
    {
     "name": "stdout",
     "output_type": "stream",
     "text": [
      "[99, 98, 97, 96, 95, 94, 93, 92, 91, 90, 89, 88, 87, 86, 85, 84, 83, 82, 81, 80, 79, 78, 77, 76, 75, 74, 73, 72, 71, 70, 69, 68, 67, 66, 65, 64, 63, 62, 61, 60, 59, 58, 57, 56, 55, 54, 53, 52, 51, 50, 49, 48, 47, 46, 45, 44, 43, 42, 41, 40, 39, 38, 37, 36, 35, 34, 33, 32, 31, 30, 29, 28, 27, 26, 25, 24, 23, 22, 21, 20, 19, 18, 17, 16, 15, 14, 13, 12, 11, 10, 9, 8, 7, 6, 5, 4, 3, 2, 1, 0]\n"
     ]
    }
   ],
   "source": [
    "# with reversed()\n",
    "\n",
    "res = []\n",
    "\n",
    "for i in reversed(range(100)): # use built-in reversed() function\n",
    "\n",
    "    res.append(i)\n",
    "    \n",
    "print(res)"
   ]
  },
  {
   "cell_type": "code",
   "execution_count": 33,
   "metadata": {},
   "outputs": [
    {
     "name": "stdout",
     "output_type": "stream",
     "text": [
      "[99, 98, 97, 96, 95, 94, 93, 92, 91, 90, 89, 88, 87, 86, 85, 84, 83, 82, 81, 80, 79, 78, 77, 76, 75, 74, 73, 72, 71, 70, 69, 68, 67, 66, 65, 64, 63, 62, 61, 60, 59, 58, 57, 56, 55, 54, 53, 52, 51, 50, 49, 48, 47, 46, 45, 44, 43, 42, 41, 40, 39, 38, 37, 36, 35, 34, 33, 32, 31, 30, 29, 28, 27, 26, 25, 24, 23, 22, 21, 20, 19, 18, 17, 16, 15, 14, 13, 12, 11, 10, 9, 8, 7, 6, 5, 4, 3, 2, 1, 0]\n"
     ]
    }
   ],
   "source": [
    "# one-liner\n",
    "\n",
    "res = list(reversed(range(100)))\n",
    "\n",
    "print(res)"
   ]
  },
  {
   "cell_type": "markdown",
   "metadata": {},
   "source": [
    "# Challenge 2.2 📐\n",
    "\n",
    "Consider a pyramid where each layer is constructed with numbers from **`0 to 9`**:\n",
    "\n",
    "```\n",
    "0\n",
    "11\n",
    "222\n",
    "3333\n",
    " ⋮\n",
    "9999999999\n",
    "00000000000\n",
    "111111111111\n",
    "```\n",
    "\n",
    "**`Print`** two pyramids, one with **`10`** layers and one with **`20`** layers.\n",
    "\n",
    "**`Hint:` %**"
   ]
  },
  {
   "cell_type": "code",
   "execution_count": null,
   "metadata": {},
   "outputs": [],
   "source": [
    "# your code here"
   ]
  },
  {
   "cell_type": "code",
   "execution_count": null,
   "metadata": {},
   "outputs": [],
   "source": []
  },
  {
   "cell_type": "markdown",
   "metadata": {},
   "source": [
    "### Solutions"
   ]
  },
  {
   "cell_type": "code",
   "execution_count": 40,
   "metadata": {},
   "outputs": [
    {
     "name": "stdout",
     "output_type": "stream",
     "text": [
      "0\n",
      "11\n",
      "222\n",
      "3333\n",
      "44444\n",
      "555555\n",
      "6666666\n",
      "77777777\n",
      "888888888\n",
      "9999999999\n"
     ]
    }
   ],
   "source": [
    "# for only 10 levels slightly easier\n",
    "\n",
    "for i in range(10):\n",
    "    \n",
    "    n = str(i) # number to print for line (as string)\n",
    "    rep = (i + 1) # how many times the repeats\n",
    "    \n",
    "    print(n * rep)"
   ]
  },
  {
   "cell_type": "code",
   "execution_count": 41,
   "metadata": {},
   "outputs": [
    {
     "name": "stdout",
     "output_type": "stream",
     "text": [
      "0\n",
      "11\n",
      "222\n",
      "3333\n",
      "44444\n",
      "555555\n",
      "6666666\n",
      "77777777\n",
      "888888888\n",
      "9999999999\n",
      "00000000000\n",
      "111111111111\n",
      "2222222222222\n",
      "33333333333333\n",
      "444444444444444\n",
      "5555555555555555\n",
      "66666666666666666\n",
      "777777777777777777\n",
      "8888888888888888888\n",
      "99999999999999999999\n"
     ]
    }
   ],
   "source": [
    "# beyond 10 levels requires modulus\n",
    "\n",
    "for i in range(20):\n",
    "    \n",
    "    n = str(i % 10) # number to print for line (as string)\n",
    "    rep = (i + 1) # how many times the repeats\n",
    "    \n",
    "    print(n * rep)"
   ]
  },
  {
   "cell_type": "markdown",
   "metadata": {},
   "source": [
    "---\n",
    "# Challenge  3.1🎣\n",
    "Create a **`list`** of the numbers from <b>`0 to 99`</b> except for multiples of <b>`3`</b> and <b>`5`</b>.\n",
    "\n",
    "***`i.e.:`*** `[1, 2, 4, 6, 7, 8, 11, ...]`\n",
    "\n",
    "**`Hint:` %**"
   ]
  },
  {
   "cell_type": "code",
   "execution_count": null,
   "metadata": {},
   "outputs": [],
   "source": [
    "# your code here"
   ]
  },
  {
   "cell_type": "code",
   "execution_count": null,
   "metadata": {},
   "outputs": [],
   "source": []
  },
  {
   "cell_type": "markdown",
   "metadata": {},
   "source": [
    "### Solutions"
   ]
  },
  {
   "cell_type": "code",
   "execution_count": 50,
   "metadata": {},
   "outputs": [
    {
     "name": "stdout",
     "output_type": "stream",
     "text": [
      "[1, 2, 4, 7, 8, 11, 13, 14, 16, 17, 19, 22, 23, 26, 28, 29, 31, 32, 34, 37, 38, 41, 43, 44, 46, 47, 49, 52, 53, 56, 58, 59, 61, 62, 64, 67, 68, 71, 73, 74, 76, 77, 79, 82, 83, 86, 88, 89, 91, 92, 94, 97, 98]\n"
     ]
    }
   ],
   "source": [
    "# for loop\n",
    "\n",
    "res = []\n",
    "\n",
    "for i in range(100):\n",
    "    \n",
    "    if (i % 3 != 0) and (i % 5 != 0): # modulus condition\n",
    "    \n",
    "        res.append(i)\n",
    "        \n",
    "print(res)"
   ]
  },
  {
   "cell_type": "code",
   "execution_count": 67,
   "metadata": {},
   "outputs": [
    {
     "name": "stdout",
     "output_type": "stream",
     "text": [
      "[1, 2, 4, 7, 8, 11, 13, 14, 16, 17, 19, 22, 23, 26, 28, 29, 31, 32, 34, 37, 38, 41, 43, 44, 46, 47, 49, 52, 53, 56, 58, 59, 61, 62, 64, 67, 68, 71, 73, 74, 76, 77, 79, 82, 83, 86, 88, 89, 91, 92, 94, 97, 98]\n"
     ]
    }
   ],
   "source": [
    "# list comprehensions\n",
    "\n",
    "res = [i for i in range(100) if all(i % x != 0 for x in [3, 5])]\n",
    "\n",
    "print(res)"
   ]
  },
  {
   "cell_type": "markdown",
   "metadata": {},
   "source": [
    "# Challenge 3.2 📐\n",
    "\n",
    "Consider a pyramid constructed of the numbers from **`0 to 9`**:\n",
    "```\n",
    "0\n",
    "01\n",
    "012\n",
    "0123\n",
    "01234\n",
    " ⋮\n",
    "01234567890\n",
    "012345678901\n",
    "```\n",
    "\n",
    "**`Print`** a pyramid with **`20`** layers."
   ]
  },
  {
   "cell_type": "code",
   "execution_count": null,
   "metadata": {},
   "outputs": [],
   "source": [
    "# your code here"
   ]
  },
  {
   "cell_type": "code",
   "execution_count": null,
   "metadata": {},
   "outputs": [],
   "source": []
  },
  {
   "cell_type": "markdown",
   "metadata": {},
   "source": [
    "### Solutions"
   ]
  },
  {
   "cell_type": "code",
   "execution_count": 66,
   "metadata": {},
   "outputs": [
    {
     "name": "stdout",
     "output_type": "stream",
     "text": [
      "0\n",
      "01\n",
      "012\n",
      "0123\n",
      "01234\n",
      "012345\n",
      "0123456\n",
      "01234567\n",
      "012345678\n",
      "0123456789\n",
      "01234567890\n",
      "012345678901\n",
      "0123456789012\n",
      "01234567890123\n",
      "012345678901234\n",
      "0123456789012345\n",
      "01234567890123456\n",
      "012345678901234567\n",
      "0123456789012345678\n",
      "01234567890123456789\n"
     ]
    }
   ],
   "source": [
    "# generate numbers for every line\n",
    "\n",
    "for i in range(20):\n",
    "    \n",
    "    line = [str(j % 10) for j in range(i + 1)]\n",
    "    \n",
    "    print(''.join(line))"
   ]
  },
  {
   "cell_type": "code",
   "execution_count": 68,
   "metadata": {},
   "outputs": [
    {
     "name": "stdout",
     "output_type": "stream",
     "text": [
      "0\n",
      "01\n",
      "012\n",
      "0123\n",
      "01234\n",
      "012345\n",
      "0123456\n",
      "01234567\n",
      "012345678\n",
      "0123456789\n",
      "01234567890\n",
      "012345678901\n",
      "0123456789012\n",
      "01234567890123\n",
      "012345678901234\n",
      "0123456789012345\n",
      "01234567890123456\n",
      "012345678901234567\n",
      "0123456789012345678\n",
      "01234567890123456789\n"
     ]
    }
   ],
   "source": [
    "# add to line through iteration\n",
    "\n",
    "line = ''\n",
    "\n",
    "for i in range(20):\n",
    "    \n",
    "    line += str(i % 10)\n",
    "    \n",
    "    print(line)"
   ]
  },
  {
   "cell_type": "markdown",
   "metadata": {},
   "source": [
    "---\n",
    "# Challenge 4.1 👆👇\n",
    "\n",
    "Create a **`list`** that contains the numbers from **`0 to 100`** that increase in order and then comes back down again.\n",
    "\n",
    "***`i.e.:`*** `[0, 1, 2, ..., 98, 99, 100, 99, ..., 3, 2, 1, 0]`."
   ]
  },
  {
   "cell_type": "code",
   "execution_count": null,
   "metadata": {},
   "outputs": [],
   "source": [
    "# your code here"
   ]
  },
  {
   "cell_type": "code",
   "execution_count": null,
   "metadata": {},
   "outputs": [],
   "source": []
  },
  {
   "cell_type": "markdown",
   "metadata": {},
   "source": [
    "### Solutions"
   ]
  },
  {
   "cell_type": "code",
   "execution_count": 85,
   "metadata": {},
   "outputs": [
    {
     "name": "stdout",
     "output_type": "stream",
     "text": [
      "[0, 1, 2, 3, 4, 5, 6, 7, 8, 9, 10, 11, 12, 13, 14, 15, 16, 17, 18, 19, 20, 21, 22, 23, 24, 25, 26, 27, 28, 29, 30, 31, 32, 33, 34, 35, 36, 37, 38, 39, 40, 41, 42, 43, 44, 45, 46, 47, 48, 49, 50, 51, 52, 53, 54, 55, 56, 57, 58, 59, 60, 61, 62, 63, 64, 65, 66, 67, 68, 69, 70, 71, 72, 73, 74, 75, 76, 77, 78, 79, 80, 81, 82, 83, 84, 85, 86, 87, 88, 89, 90, 91, 92, 93, 94, 95, 96, 97, 98, 99, 100, 99, 98, 97, 96, 95, 94, 93, 92, 91, 90, 89, 88, 87, 86, 85, 84, 83, 82, 81, 80, 79, 78, 77, 76, 75, 74, 73, 72, 71, 70, 69, 68, 67, 66, 65, 64, 63, 62, 61, 60, 59, 58, 57, 56, 55, 54, 53, 52, 51, 50, 49, 48, 47, 46, 45, 44, 43, 42, 41, 40, 39, 38, 37, 36, 35, 34, 33, 32, 31, 30, 29, 28, 27, 26, 25, 24, 23, 22, 21, 20, 19, 18, 17, 16, 15, 14, 13, 12, 11, 10, 9, 8, 7, 6, 5, 4, 3, 2, 1, 0]\n"
     ]
    }
   ],
   "source": [
    "# more complicated than needed\n",
    "\n",
    "res = []\n",
    "\n",
    "b, m = 0, 1\n",
    "\n",
    "for i in range(201):\n",
    "    \n",
    "    if i > 100:\n",
    "        b, m = 200, -1\n",
    "\n",
    "    res.append(i*m + b)\n",
    "    \n",
    "print(res)"
   ]
  },
  {
   "cell_type": "code",
   "execution_count": 86,
   "metadata": {},
   "outputs": [
    {
     "name": "stdout",
     "output_type": "stream",
     "text": [
      "[0, 1, 2, 3, 4, 5, 6, 7, 8, 9, 10, 11, 12, 13, 14, 15, 16, 17, 18, 19, 20, 21, 22, 23, 24, 25, 26, 27, 28, 29, 30, 31, 32, 33, 34, 35, 36, 37, 38, 39, 40, 41, 42, 43, 44, 45, 46, 47, 48, 49, 50, 51, 52, 53, 54, 55, 56, 57, 58, 59, 60, 61, 62, 63, 64, 65, 66, 67, 68, 69, 70, 71, 72, 73, 74, 75, 76, 77, 78, 79, 80, 81, 82, 83, 84, 85, 86, 87, 88, 89, 90, 91, 92, 93, 94, 95, 96, 97, 98, 99, 100, 99, 98, 97, 96, 95, 94, 93, 92, 91, 90, 89, 88, 87, 86, 85, 84, 83, 82, 81, 80, 79, 78, 77, 76, 75, 74, 73, 72, 71, 70, 69, 68, 67, 66, 65, 64, 63, 62, 61, 60, 59, 58, 57, 56, 55, 54, 53, 52, 51, 50, 49, 48, 47, 46, 45, 44, 43, 42, 41, 40, 39, 38, 37, 36, 35, 34, 33, 32, 31, 30, 29, 28, 27, 26, 25, 24, 23, 22, 21, 20, 19, 18, 17, 16, 15, 14, 13, 12, 11, 10, 9, 8, 7, 6, 5, 4, 3, 2, 1, 0]\n"
     ]
    }
   ],
   "source": [
    "# two loops\n",
    "\n",
    "res = []\n",
    "\n",
    "for i in range(101): # range(101) to include 100\n",
    "    res.append(i)\n",
    "\n",
    "for i in reversed(range(100)):\n",
    "    res.append(i)\n",
    "    \n",
    "print(res)"
   ]
  },
  {
   "cell_type": "code",
   "execution_count": 87,
   "metadata": {},
   "outputs": [
    {
     "name": "stdout",
     "output_type": "stream",
     "text": [
      "[0, 1, 2, 3, 4, 5, 6, 7, 8, 9, 10, 11, 12, 13, 14, 15, 16, 17, 18, 19, 20, 21, 22, 23, 24, 25, 26, 27, 28, 29, 30, 31, 32, 33, 34, 35, 36, 37, 38, 39, 40, 41, 42, 43, 44, 45, 46, 47, 48, 49, 50, 51, 52, 53, 54, 55, 56, 57, 58, 59, 60, 61, 62, 63, 64, 65, 66, 67, 68, 69, 70, 71, 72, 73, 74, 75, 76, 77, 78, 79, 80, 81, 82, 83, 84, 85, 86, 87, 88, 89, 90, 91, 92, 93, 94, 95, 96, 97, 98, 99, 100, 99, 98, 97, 96, 95, 94, 93, 92, 91, 90, 89, 88, 87, 86, 85, 84, 83, 82, 81, 80, 79, 78, 77, 76, 75, 74, 73, 72, 71, 70, 69, 68, 67, 66, 65, 64, 63, 62, 61, 60, 59, 58, 57, 56, 55, 54, 53, 52, 51, 50, 49, 48, 47, 46, 45, 44, 43, 42, 41, 40, 39, 38, 37, 36, 35, 34, 33, 32, 31, 30, 29, 28, 27, 26, 25, 24, 23, 22, 21, 20, 19, 18, 17, 16, 15, 14, 13, 12, 11, 10, 9, 8, 7, 6, 5, 4, 3, 2, 1, 0]\n"
     ]
    }
   ],
   "source": [
    "# straight from the range\n",
    "\n",
    "res = list(range(101)) # range(101) to include 100\n",
    "\n",
    "res += list(reversed(range(100)))\n",
    "\n",
    "print(res)"
   ]
  },
  {
   "cell_type": "markdown",
   "metadata": {},
   "source": [
    "# Challenge 4.2 🐱‍👤\n",
    "\n",
    "Create a **`list`** that contains the numbers **`0 to 99`** where the numbers alternate between positives and negatives.\n",
    "\n",
    "***`e.g.:`*** `[0, 1, -2, 3, -4, ..., 99]`"
   ]
  },
  {
   "cell_type": "code",
   "execution_count": null,
   "metadata": {},
   "outputs": [],
   "source": [
    "# your code here"
   ]
  },
  {
   "cell_type": "code",
   "execution_count": null,
   "metadata": {},
   "outputs": [],
   "source": []
  },
  {
   "cell_type": "markdown",
   "metadata": {},
   "source": [
    "### Solutions"
   ]
  },
  {
   "cell_type": "code",
   "execution_count": 91,
   "metadata": {},
   "outputs": [
    {
     "name": "stdout",
     "output_type": "stream",
     "text": [
      "[0, 1, -2, 3, -4, 5, -6, 7, -8, 9, -10, 11, -12, 13, -14, 15, -16, 17, -18, 19, -20, 21, -22, 23, -24, 25, -26, 27, -28, 29, -30, 31, -32, 33, -34, 35, -36, 37, -38, 39, -40, 41, -42, 43, -44, 45, -46, 47, -48, 49, -50, 51, -52, 53, -54, 55, -56, 57, -58, 59, -60, 61, -62, 63, -64, 65, -66, 67, -68, 69, -70, 71, -72, 73, -74, 75, -76, 77, -78, 79, -80, 81, -82, 83, -84, 85, -86, 87, -88, 89, -90, 91, -92, 93, -94, 95, -96, 97, -98, 99]\n"
     ]
    }
   ],
   "source": [
    "# with loop\n",
    "\n",
    "res = []\n",
    "m = 1\n",
    "\n",
    "for i in range(100):\n",
    "    \n",
    "    m = -m # use a \"switch\"\n",
    "    \n",
    "    res.append(m*i)\n",
    "    \n",
    "print(res)"
   ]
  },
  {
   "cell_type": "code",
   "execution_count": 94,
   "metadata": {},
   "outputs": [
    {
     "name": "stdout",
     "output_type": "stream",
     "text": [
      "[0, 1, -2, 3, -4, 5, -6, 7, -8, 9, -10, 11, -12, 13, -14, 15, -16, 17, -18, 19, -20, 21, -22, 23, -24, 25, -26, 27, -28, 29, -30, 31, -32, 33, -34, 35, -36, 37, -38, 39, -40, 41, -42, 43, -44, 45, -46, 47, -48, 49, -50, 51, -52, 53, -54, 55, -56, 57, -58, 59, -60, 61, -62, 63, -64, 65, -66, 67, -68, 69, -70, 71, -72, 73, -74, 75, -76, 77, -78, 79, -80, 81, -82, 83, -84, 85, -86, 87, -88, 89, -90, 91, -92, 93, -94, 95, -96, 97, -98, 99]\n"
     ]
    }
   ],
   "source": [
    "# with list comprehension and conditional expression\n",
    "\n",
    "res = [i if i%2 else -i for i in range(100)]\n",
    "\n",
    "print(res)"
   ]
  },
  {
   "cell_type": "markdown",
   "metadata": {},
   "source": [
    "---"
   ]
  },
  {
   "cell_type": "markdown",
   "metadata": {},
   "source": [
    "# Challenge 5.1 👯‍♀️\n",
    "Create a **`dict`** whose keys are all the integers between **`1 to 100`** and whose values are the same as the keys.\n",
    "\n",
    "***`i.e.:`*** \n",
    "```python\n",
    "{1:1, 2:2, ..., 99:99, 100:100}\n",
    "```\n",
    "\n",
    "***`Bonus`*** for using a dictionary comprehension."
   ]
  },
  {
   "cell_type": "code",
   "execution_count": null,
   "metadata": {},
   "outputs": [],
   "source": [
    "# your code here"
   ]
  },
  {
   "cell_type": "code",
   "execution_count": null,
   "metadata": {},
   "outputs": [],
   "source": []
  },
  {
   "cell_type": "markdown",
   "metadata": {},
   "source": [
    "### Solutions"
   ]
  },
  {
   "cell_type": "code",
   "execution_count": 96,
   "metadata": {},
   "outputs": [
    {
     "name": "stdout",
     "output_type": "stream",
     "text": [
      "{0: 0, 1: 1, 2: 2, 3: 3, 4: 4, 5: 5, 6: 6, 7: 7, 8: 8, 9: 9, 10: 10, 11: 11, 12: 12, 13: 13, 14: 14, 15: 15, 16: 16, 17: 17, 18: 18, 19: 19, 20: 20, 21: 21, 22: 22, 23: 23, 24: 24, 25: 25, 26: 26, 27: 27, 28: 28, 29: 29, 30: 30, 31: 31, 32: 32, 33: 33, 34: 34, 35: 35, 36: 36, 37: 37, 38: 38, 39: 39, 40: 40, 41: 41, 42: 42, 43: 43, 44: 44, 45: 45, 46: 46, 47: 47, 48: 48, 49: 49, 50: 50, 51: 51, 52: 52, 53: 53, 54: 54, 55: 55, 56: 56, 57: 57, 58: 58, 59: 59, 60: 60, 61: 61, 62: 62, 63: 63, 64: 64, 65: 65, 66: 66, 67: 67, 68: 68, 69: 69, 70: 70, 71: 71, 72: 72, 73: 73, 74: 74, 75: 75, 76: 76, 77: 77, 78: 78, 79: 79, 80: 80, 81: 81, 82: 82, 83: 83, 84: 84, 85: 85, 86: 86, 87: 87, 88: 88, 89: 89, 90: 90, 91: 91, 92: 92, 93: 93, 94: 94, 95: 95, 96: 96, 97: 97, 98: 98, 99: 99, 100: 100}\n"
     ]
    }
   ],
   "source": [
    "# with for loop\n",
    "\n",
    "res = {}\n",
    "\n",
    "for i in range(101):\n",
    "    \n",
    "    res[i] = i\n",
    "\n",
    "print(res)"
   ]
  },
  {
   "cell_type": "code",
   "execution_count": 102,
   "metadata": {},
   "outputs": [
    {
     "name": "stdout",
     "output_type": "stream",
     "text": [
      "{0: 0, 1: 1, 2: 2, 3: 3, 4: 4, 5: 5, 6: 6, 7: 7, 8: 8, 9: 9, 10: 10, 11: 11, 12: 12, 13: 13, 14: 14, 15: 15, 16: 16, 17: 17, 18: 18, 19: 19, 20: 20, 21: 21, 22: 22, 23: 23, 24: 24, 25: 25, 26: 26, 27: 27, 28: 28, 29: 29, 30: 30, 31: 31, 32: 32, 33: 33, 34: 34, 35: 35, 36: 36, 37: 37, 38: 38, 39: 39, 40: 40, 41: 41, 42: 42, 43: 43, 44: 44, 45: 45, 46: 46, 47: 47, 48: 48, 49: 49, 50: 50, 51: 51, 52: 52, 53: 53, 54: 54, 55: 55, 56: 56, 57: 57, 58: 58, 59: 59, 60: 60, 61: 61, 62: 62, 63: 63, 64: 64, 65: 65, 66: 66, 67: 67, 68: 68, 69: 69, 70: 70, 71: 71, 72: 72, 73: 73, 74: 74, 75: 75, 76: 76, 77: 77, 78: 78, 79: 79, 80: 80, 81: 81, 82: 82, 83: 83, 84: 84, 85: 85, 86: 86, 87: 87, 88: 88, 89: 89, 90: 90, 91: 91, 92: 92, 93: 93, 94: 94, 95: 95, 96: 96, 97: 97, 98: 98, 99: 99, 100: 100}\n"
     ]
    }
   ],
   "source": [
    "# with dictionary comprehension\n",
    "\n",
    "res = {i : i for i in range(101)}\n",
    "\n",
    "print(res)"
   ]
  },
  {
   "cell_type": "markdown",
   "metadata": {},
   "source": [
    "# Challenge 5.2 🔥\n",
    "Create a **`dict`** whose keys are all integers from **`0 to 99`**, and whose values are the mirroring numbers opposite the key in the range.\n",
    "\n",
    "***`i.e.:`***\n",
    "```python\n",
    "{0:99, 1:98, 2:97, 3:96 ..., 98:1, 99:0}\n",
    "```"
   ]
  },
  {
   "cell_type": "code",
   "execution_count": null,
   "metadata": {},
   "outputs": [],
   "source": [
    "# your code here"
   ]
  },
  {
   "cell_type": "code",
   "execution_count": null,
   "metadata": {},
   "outputs": [],
   "source": []
  },
  {
   "cell_type": "markdown",
   "metadata": {},
   "source": [
    "### Solutions"
   ]
  },
  {
   "cell_type": "code",
   "execution_count": 99,
   "metadata": {},
   "outputs": [
    {
     "name": "stdout",
     "output_type": "stream",
     "text": [
      "{0: 99, 1: 98, 2: 97, 3: 96, 4: 95, 5: 94, 6: 93, 7: 92, 8: 91, 9: 90, 10: 89, 11: 88, 12: 87, 13: 86, 14: 85, 15: 84, 16: 83, 17: 82, 18: 81, 19: 80, 20: 79, 21: 78, 22: 77, 23: 76, 24: 75, 25: 74, 26: 73, 27: 72, 28: 71, 29: 70, 30: 69, 31: 68, 32: 67, 33: 66, 34: 65, 35: 64, 36: 63, 37: 62, 38: 61, 39: 60, 40: 59, 41: 58, 42: 57, 43: 56, 44: 55, 45: 54, 46: 53, 47: 52, 48: 51, 49: 50, 50: 49, 51: 48, 52: 47, 53: 46, 54: 45, 55: 44, 56: 43, 57: 42, 58: 41, 59: 40, 60: 39, 61: 38, 62: 37, 63: 36, 64: 35, 65: 34, 66: 33, 67: 32, 68: 31, 69: 30, 70: 29, 71: 28, 72: 27, 73: 26, 74: 25, 75: 24, 76: 23, 77: 22, 78: 21, 79: 20, 80: 19, 81: 18, 82: 17, 83: 16, 84: 15, 85: 14, 86: 13, 87: 12, 88: 11, 89: 10, 90: 9, 91: 8, 92: 7, 93: 6, 94: 5, 95: 4, 96: 3, 97: 2, 98: 1, 99: 0}\n"
     ]
    }
   ],
   "source": [
    "# with for loop\n",
    "\n",
    "res = {}\n",
    "\n",
    "for i in range(100):\n",
    "    \n",
    "    res[i] = 99-i\n",
    "\n",
    "print(res)"
   ]
  },
  {
   "cell_type": "code",
   "execution_count": 103,
   "metadata": {},
   "outputs": [
    {
     "name": "stdout",
     "output_type": "stream",
     "text": [
      "{0: 99, 1: 98, 2: 97, 3: 96, 4: 95, 5: 94, 6: 93, 7: 92, 8: 91, 9: 90, 10: 89, 11: 88, 12: 87, 13: 86, 14: 85, 15: 84, 16: 83, 17: 82, 18: 81, 19: 80, 20: 79, 21: 78, 22: 77, 23: 76, 24: 75, 25: 74, 26: 73, 27: 72, 28: 71, 29: 70, 30: 69, 31: 68, 32: 67, 33: 66, 34: 65, 35: 64, 36: 63, 37: 62, 38: 61, 39: 60, 40: 59, 41: 58, 42: 57, 43: 56, 44: 55, 45: 54, 46: 53, 47: 52, 48: 51, 49: 50, 50: 49, 51: 48, 52: 47, 53: 46, 54: 45, 55: 44, 56: 43, 57: 42, 58: 41, 59: 40, 60: 39, 61: 38, 62: 37, 63: 36, 64: 35, 65: 34, 66: 33, 67: 32, 68: 31, 69: 30, 70: 29, 71: 28, 72: 27, 73: 26, 74: 25, 75: 24, 76: 23, 77: 22, 78: 21, 79: 20, 80: 19, 81: 18, 82: 17, 83: 16, 84: 15, 85: 14, 86: 13, 87: 12, 88: 11, 89: 10, 90: 9, 91: 8, 92: 7, 93: 6, 94: 5, 95: 4, 96: 3, 97: 2, 98: 1, 99: 0}\n"
     ]
    }
   ],
   "source": [
    "# with dictionary comprehension\n",
    "\n",
    "res = {i : 99-i for i in range(100)}\n",
    "\n",
    "print(res)"
   ]
  },
  {
   "cell_type": "markdown",
   "metadata": {},
   "source": [
    "# Challenge 5.3 🐇\n",
    "Create a **`list`** of numbers between <b>`0 to 99`</b> that alternate between opposite ends of the range.\n",
    "\n",
    "***`i.e.:`*** `[0, 99, 1, 98, ..., 1, 99, 0]`"
   ]
  },
  {
   "cell_type": "code",
   "execution_count": null,
   "metadata": {},
   "outputs": [],
   "source": [
    "# your code here"
   ]
  },
  {
   "cell_type": "code",
   "execution_count": null,
   "metadata": {
    "scrolled": true
   },
   "outputs": [],
   "source": []
  },
  {
   "cell_type": "markdown",
   "metadata": {},
   "source": [
    "### Solutions"
   ]
  },
  {
   "cell_type": "code",
   "execution_count": 117,
   "metadata": {},
   "outputs": [
    {
     "name": "stdout",
     "output_type": "stream",
     "text": [
      "[0, 99, 1, 98, 2, 97, 3, 96, 4, 95, 5, 94, 6, 93, 7, 92, 8, 91, 9, 90, 10, 89, 11, 88, 12, 87, 13, 86, 14, 85, 15, 84, 16, 83, 17, 82, 18, 81, 19, 80, 20, 79, 21, 78, 22, 77, 23, 76, 24, 75, 25, 74, 26, 73, 27, 72, 28, 71, 29, 70, 30, 69, 31, 68, 32, 67, 33, 66, 34, 65, 35, 64, 36, 63, 37, 62, 38, 61, 39, 60, 40, 59, 41, 58, 42, 57, 43, 56, 44, 55, 45, 54, 46, 53, 47, 52, 48, 51, 49, 50, 50, 49, 51, 48, 52, 47, 53, 46, 54, 45, 55, 44, 56, 43, 57, 42, 58, 41, 59, 40, 60, 39, 61, 38, 62, 37, 63, 36, 64, 35, 65, 34, 66, 33, 67, 32, 68, 31, 69, 30, 70, 29, 71, 28, 72, 27, 73, 26, 74, 25, 75, 24, 76, 23, 77, 22, 78, 21, 79, 20, 80, 19, 81, 18, 82, 17, 83, 16, 84, 15, 85, 14, 86, 13, 87, 12, 88, 11, 89, 10, 90, 9, 91, 8, 92, 7, 93, 6, 94, 5, 95, 4, 96, 3, 97, 2, 98, 1, 99, 0]\n"
     ]
    }
   ],
   "source": [
    "# more complicated than needed\n",
    "\n",
    "res = []\n",
    "\n",
    "for i in range(200):\n",
    "    \n",
    "    if i % 2 == 0:  # even numbers divided by 2\n",
    "        n = int(i/2)\n",
    "    \n",
    "    else: # odd numbers - 1, divided by 2, and subtracted from 99\n",
    "         n = 99 - int((i-1)/2) \n",
    "    \n",
    "    res.append(n)\n",
    "    \n",
    "print(res)"
   ]
  },
  {
   "cell_type": "code",
   "execution_count": 119,
   "metadata": {},
   "outputs": [
    {
     "name": "stdout",
     "output_type": "stream",
     "text": [
      "[0, 99, 1, 98, 2, 97, 3, 96, 4, 95, 5, 94, 6, 93, 7, 92, 8, 91, 9, 90, 10, 89, 11, 88, 12, 87, 13, 86, 14, 85, 15, 84, 16, 83, 17, 82, 18, 81, 19, 80, 20, 79, 21, 78, 22, 77, 23, 76, 24, 75, 25, 74, 26, 73, 27, 72, 28, 71, 29, 70, 30, 69, 31, 68, 32, 67, 33, 66, 34, 65, 35, 64, 36, 63, 37, 62, 38, 61, 39, 60, 40, 59, 41, 58, 42, 57, 43, 56, 44, 55, 45, 54, 46, 53, 47, 52, 48, 51, 49, 50, 50, 49, 51, 48, 52, 47, 53, 46, 54, 45, 55, 44, 56, 43, 57, 42, 58, 41, 59, 40, 60, 39, 61, 38, 62, 37, 63, 36, 64, 35, 65, 34, 66, 33, 67, 32, 68, 31, 69, 30, 70, 29, 71, 28, 72, 27, 73, 26, 74, 25, 75, 24, 76, 23, 77, 22, 78, 21, 79, 20, 80, 19, 81, 18, 82, 17, 83, 16, 84, 15, 85, 14, 86, 13, 87, 12, 88, 11, 89, 10, 90, 9, 91, 8, 92, 7, 93, 6, 94, 5, 95, 4, 96, 3, 97, 2, 98, 1, 99, 0]\n"
     ]
    }
   ],
   "source": [
    "# append twice in each loop\n",
    "\n",
    "res = []\n",
    "\n",
    "for i in range(100):\n",
    "\n",
    "    # append twice\n",
    "    res.append(i)\n",
    "    res.append(99-i)\n",
    "\n",
    "print(res)"
   ]
  },
  {
   "cell_type": "markdown",
   "metadata": {},
   "source": [
    "---\n",
    "# Challenge 6.1 ❌\n",
    "\n",
    "Create a **`function`** named `get_multiples()` that takes two integer arguments, **`n`** and **`limit`**. Both arguments should be non-zero, positive integers.\n",
    "\n",
    "The function returns a list of all multiples of `n` that are less than or equal to `limit`.\n",
    "\n",
    "***`e.g.:`***\n",
    "\n",
    "`get_multiples(n=2, limit=10)` returns `[2, 4, 6, 8, 10]`\n",
    "\n",
    "`get_multiples(n=3, limit=10)` returns `[3, 6, 9]`\n",
    "\n",
    "What happens if you allow the function to take **`n = 0`** as an argument?"
   ]
  },
  {
   "cell_type": "code",
   "execution_count": null,
   "metadata": {},
   "outputs": [],
   "source": [
    "# your code here"
   ]
  },
  {
   "cell_type": "code",
   "execution_count": null,
   "metadata": {},
   "outputs": [],
   "source": []
  },
  {
   "cell_type": "markdown",
   "metadata": {},
   "source": [
    "### Solutions"
   ]
  },
  {
   "cell_type": "code",
   "execution_count": 125,
   "metadata": {},
   "outputs": [
    {
     "name": "stdout",
     "output_type": "stream",
     "text": [
      "get_multiples(n=2,limit=10): [0, 2, 4, 6, 8, 10] \n",
      "\n",
      "get_multiples(n=3,limit=10): [0, 3, 6, 9] \n",
      "\n"
     ]
    }
   ],
   "source": [
    "# with condition\n",
    "\n",
    "def get_multiples(n, limit):\n",
    "    \n",
    "    res = []\n",
    "    \n",
    "    for i in range(limit+1):\n",
    "        \n",
    "        if i % n == 0: # if divisible\n",
    "            res.append(i)\n",
    "            \n",
    "    return res\n",
    "\n",
    "# show result\n",
    "for n in range(2, 4):\n",
    "    \n",
    "    print(f'get_multiples(n={n},limit=10):', get_multiples(n, 10),'\\n')\n"
   ]
  },
  {
   "cell_type": "code",
   "execution_count": 128,
   "metadata": {},
   "outputs": [
    {
     "name": "stdout",
     "output_type": "stream",
     "text": [
      "get_multiples(n=2,limit=10): [2, 4, 6, 8, 10] \n",
      "\n",
      "get_multiples(n=3,limit=10): [3, 6, 9] \n",
      "\n"
     ]
    }
   ],
   "source": [
    "# using just range\n",
    "\n",
    "def get_multiples(n, limit):\n",
    "    \n",
    "    res = list(range(n, limit+1, n))\n",
    "    \n",
    "    return res\n",
    "\n",
    "# show result\n",
    "for n in range(2, 4):\n",
    "    \n",
    "    print(f'get_multiples(n={n},limit=10):', get_multiples(n, 10), '\\n')\n"
   ]
  },
  {
   "cell_type": "code",
   "execution_count": 129,
   "metadata": {},
   "outputs": [
    {
     "name": "stdout",
     "output_type": "stream",
     "text": [
      "get_multiples(n=2,limit=10): [2, 4, 6, 8, 10] \n",
      "\n",
      "get_multiples(n=3,limit=10): [3, 6, 9] \n",
      "\n"
     ]
    }
   ],
   "source": [
    "# one liner with lambda function\n",
    "\n",
    "get_multiples = lambda n, limit: list(range(n, limit+1, n))\n",
    "\n",
    "# show result\n",
    "for n in range(2, 4):\n",
    "    \n",
    "    print(f'get_multiples(n={n},limit=10):', get_multiples(n, 10), '\\n')\n"
   ]
  },
  {
   "cell_type": "markdown",
   "metadata": {},
   "source": [
    "# Challenge 6.2 🌽\n",
    "Create a **`dict`** whose keys are all the number from **`1 to 100`**. The value for each key is the list of numbers between **`1 to 100`** that are multiples of the key.\n",
    "\n",
    "***`i.e.:`***\n",
    "\n",
    "```python\n",
    "result == {\n",
    "        1 : [1, 2, 3, ..., 100],\n",
    "        2 : [2, 4, 6, ..., 100],\n",
    "        3 : [3, 6, 9, ..., 99],\n",
    "    \n",
    "                ⋮\n",
    "    \n",
    "        100 : [100]\n",
    "        }\n",
    "```\n",
    "\n",
    "***`Bonus:`*** use a dictionary comprehension."
   ]
  },
  {
   "cell_type": "code",
   "execution_count": null,
   "metadata": {},
   "outputs": [],
   "source": [
    "# your code here"
   ]
  },
  {
   "cell_type": "code",
   "execution_count": null,
   "metadata": {},
   "outputs": [],
   "source": []
  },
  {
   "cell_type": "markdown",
   "metadata": {},
   "source": [
    "### Solutions"
   ]
  },
  {
   "cell_type": "code",
   "execution_count": 155,
   "metadata": {},
   "outputs": [
    {
     "name": "stdout",
     "output_type": "stream",
     "text": [
      "1: [1, 2, 3, 4, 5, 6, 7, 8, 9, 10, 11, 12, 13, 14, 15, 16, 17, 18, 19, 20, 21, 22, 23, 24, 25, 26, 27, 28, 29, 30, 31, 32, 33, 34, 35, 36, 37, 38, 39, 40, 41, 42, 43, 44, 45, 46, 47, 48, 49, 50, 51, 52, 53, 54, 55, 56, 57, 58, 59, 60, 61, 62, 63, 64, 65, 66, 67, 68, 69, 70, 71, 72, 73, 74, 75, 76, 77, 78, 79, 80, 81, 82, 83, 84, 85, 86, 87, 88, 89, 90, 91, 92, 93, 94, 95, 96, 97, 98, 99, 100]\n",
      "\n",
      "2: [2, 4, 6, 8, 10, 12, 14, 16, 18, 20, 22, 24, 26, 28, 30, 32, 34, 36, 38, 40, 42, 44, 46, 48, 50, 52, 54, 56, 58, 60, 62, 64, 66, 68, 70, 72, 74, 76, 78, 80, 82, 84, 86, 88, 90, 92, 94, 96, 98, 100]\n",
      "\n",
      "3: [3, 6, 9, 12, 15, 18, 21, 24, 27, 30, 33, 36, 39, 42, 45, 48, 51, 54, 57, 60, 63, 66, 69, 72, 75, 78, 81, 84, 87, 90, 93, 96, 99]\n",
      "\n",
      "4: [4, 8, 12, 16, 20, 24, 28, 32, 36, 40, 44, 48, 52, 56, 60, 64, 68, 72, 76, 80, 84, 88, 92, 96, 100]\n",
      "\n",
      "5: [5, 10, 15, 20, 25, 30, 35, 40, 45, 50, 55, 60, 65, 70, 75, 80, 85, 90, 95, 100]\n",
      "\n",
      "⋮\n"
     ]
    }
   ],
   "source": [
    "# with for loop\n",
    "\n",
    "res = {}\n",
    "\n",
    "for i in range(1, 101):\n",
    "    \n",
    "    value = [] # create list\n",
    "    \n",
    "    for j in range(1, 101):\n",
    "        \n",
    "        if j % i == 0: # if divisible\n",
    "            \n",
    "            value.append(j)\n",
    "            \n",
    "    res[i] = value\n",
    "    \n",
    "# show result\n",
    "for k, v in list(res.items())[:5]:\n",
    "    print(f'{k}: {v}\\n')\n",
    "    \n",
    "print('⋮')"
   ]
  },
  {
   "cell_type": "code",
   "execution_count": 156,
   "metadata": {},
   "outputs": [
    {
     "name": "stdout",
     "output_type": "stream",
     "text": [
      "1: [1, 2, 3, 4, 5, 6, 7, 8, 9, 10, 11, 12, 13, 14, 15, 16, 17, 18, 19, 20, 21, 22, 23, 24, 25, 26, 27, 28, 29, 30, 31, 32, 33, 34, 35, 36, 37, 38, 39, 40, 41, 42, 43, 44, 45, 46, 47, 48, 49, 50, 51, 52, 53, 54, 55, 56, 57, 58, 59, 60, 61, 62, 63, 64, 65, 66, 67, 68, 69, 70, 71, 72, 73, 74, 75, 76, 77, 78, 79, 80, 81, 82, 83, 84, 85, 86, 87, 88, 89, 90, 91, 92, 93, 94, 95, 96, 97, 98, 99, 100]\n",
      "\n",
      "2: [2, 4, 6, 8, 10, 12, 14, 16, 18, 20, 22, 24, 26, 28, 30, 32, 34, 36, 38, 40, 42, 44, 46, 48, 50, 52, 54, 56, 58, 60, 62, 64, 66, 68, 70, 72, 74, 76, 78, 80, 82, 84, 86, 88, 90, 92, 94, 96, 98, 100]\n",
      "\n",
      "3: [3, 6, 9, 12, 15, 18, 21, 24, 27, 30, 33, 36, 39, 42, 45, 48, 51, 54, 57, 60, 63, 66, 69, 72, 75, 78, 81, 84, 87, 90, 93, 96, 99]\n",
      "\n",
      "4: [4, 8, 12, 16, 20, 24, 28, 32, 36, 40, 44, 48, 52, 56, 60, 64, 68, 72, 76, 80, 84, 88, 92, 96, 100]\n",
      "\n",
      "5: [5, 10, 15, 20, 25, 30, 35, 40, 45, 50, 55, 60, 65, 70, 75, 80, 85, 90, 95, 100]\n",
      "\n",
      "⋮\n"
     ]
    }
   ],
   "source": [
    "# dictionary comprehension using previously defined function\n",
    "\n",
    "res = {i : get_multiples(i, 100) for i in range(1, 101)}\n",
    "\n",
    "# show result\n",
    "for k, v in list(res.items())[:5]:\n",
    "    print(f'{k}: {v}\\n')\n",
    "    \n",
    "print('⋮')"
   ]
  },
  {
   "cell_type": "code",
   "execution_count": 157,
   "metadata": {},
   "outputs": [
    {
     "name": "stdout",
     "output_type": "stream",
     "text": [
      "1: [1, 2, 3, 4, 5, 6, 7, 8, 9, 10, 11, 12, 13, 14, 15, 16, 17, 18, 19, 20, 21, 22, 23, 24, 25, 26, 27, 28, 29, 30, 31, 32, 33, 34, 35, 36, 37, 38, 39, 40, 41, 42, 43, 44, 45, 46, 47, 48, 49, 50, 51, 52, 53, 54, 55, 56, 57, 58, 59, 60, 61, 62, 63, 64, 65, 66, 67, 68, 69, 70, 71, 72, 73, 74, 75, 76, 77, 78, 79, 80, 81, 82, 83, 84, 85, 86, 87, 88, 89, 90, 91, 92, 93, 94, 95, 96, 97, 98, 99, 100]\n",
      "\n",
      "2: [2, 4, 6, 8, 10, 12, 14, 16, 18, 20, 22, 24, 26, 28, 30, 32, 34, 36, 38, 40, 42, 44, 46, 48, 50, 52, 54, 56, 58, 60, 62, 64, 66, 68, 70, 72, 74, 76, 78, 80, 82, 84, 86, 88, 90, 92, 94, 96, 98, 100]\n",
      "\n",
      "3: [3, 6, 9, 12, 15, 18, 21, 24, 27, 30, 33, 36, 39, 42, 45, 48, 51, 54, 57, 60, 63, 66, 69, 72, 75, 78, 81, 84, 87, 90, 93, 96, 99]\n",
      "\n",
      "4: [4, 8, 12, 16, 20, 24, 28, 32, 36, 40, 44, 48, 52, 56, 60, 64, 68, 72, 76, 80, 84, 88, 92, 96, 100]\n",
      "\n",
      "5: [5, 10, 15, 20, 25, 30, 35, 40, 45, 50, 55, 60, 65, 70, 75, 80, 85, 90, 95, 100]\n",
      "\n",
      "⋮\n"
     ]
    }
   ],
   "source": [
    "# dict comprehension without previously defined function\n",
    "\n",
    "res = {i : list(range(i, 101, i)) for i in range(1, 101)}\n",
    "\n",
    "\n",
    "# show result\n",
    "for k, v in list(res.items())[:5]:\n",
    "    print(f'{k}: {v}\\n')\n",
    "    \n",
    "print('⋮')"
   ]
  },
  {
   "cell_type": "markdown",
   "metadata": {},
   "source": [
    "---\n",
    "# Challenge 7.1 📐\n",
    "\n",
    "Consider a pyramid constructed of the numbers from **`0 to 9`**:\n",
    "```\n",
    "0\n",
    "12\n",
    "345\n",
    "6789\n",
    "01234\n",
    "567890\n",
    " ⋮\n",
    "```\n",
    "\n",
    "**`Print`** a pyramid with **`20`** layers."
   ]
  },
  {
   "cell_type": "code",
   "execution_count": null,
   "metadata": {},
   "outputs": [],
   "source": [
    "# your code here"
   ]
  },
  {
   "cell_type": "code",
   "execution_count": null,
   "metadata": {},
   "outputs": [],
   "source": []
  },
  {
   "cell_type": "markdown",
   "metadata": {},
   "source": [
    "### Solutions"
   ]
  },
  {
   "cell_type": "code",
   "execution_count": 160,
   "metadata": {},
   "outputs": [
    {
     "name": "stdout",
     "output_type": "stream",
     "text": [
      "0\n",
      "12\n",
      "345\n",
      "6789\n",
      "01234\n",
      "567890\n",
      "1234567\n",
      "89012345\n",
      "678901234\n",
      "5678901234\n"
     ]
    }
   ],
   "source": [
    "\n",
    "n = 0 # use counter independent of for loops\n",
    "\n",
    "for i in range(10):\n",
    "    \n",
    "    line = '' # new string for every level\n",
    "    \n",
    "    for j in range(i+1):\n",
    "        \n",
    "        line += str(n % 10) # add to line\n",
    "        \n",
    "        n+=1 # increase counter\n",
    "        \n",
    "    print(line)"
   ]
  },
  {
   "cell_type": "markdown",
   "metadata": {},
   "source": [
    "# Challenge 7.2 🕰\n",
    "\n",
    "Part 1: Create a **`function`** named `tell_time()` that takes an integer argument, **`t`**, representing time in seconds.\n",
    "\n",
    "The function should return a message that tells how long `t` seconds are in **`years`, `days`, `hours`, `minutes`,** and **`seconds`**.\n",
    "\n",
    "***`e.g.:`***\n",
    "\n",
    "`tell_time(100)` returns `\"...0 hr 1 m 40 s\"`\n",
    "\n",
    "`tell_time(5400)` returns `\"...0 dy 1 hr 30 m 0 s\"`\n",
    "\n",
    "<br>\n",
    "\n",
    "Part 2: **`Print`** the converted time for **`one billion`** seconds.\n",
    "\n",
    "---\n",
    "\n",
    "***`Bonus:`*** print output with only units that have non-zero values.\n",
    "\n",
    "***`e.g.:`***\n",
    "\n",
    "`tell_time(5400)` returns `\"1 hr 30 m\"`\n",
    "\n",
    "`tell_time(86400)` returns `\"1 dy\"`"
   ]
  },
  {
   "cell_type": "code",
   "execution_count": null,
   "metadata": {},
   "outputs": [],
   "source": [
    "# your code here"
   ]
  },
  {
   "cell_type": "code",
   "execution_count": null,
   "metadata": {},
   "outputs": [],
   "source": []
  },
  {
   "cell_type": "markdown",
   "metadata": {},
   "source": [
    "### Solutions"
   ]
  },
  {
   "cell_type": "code",
   "execution_count": 186,
   "metadata": {},
   "outputs": [
    {
     "name": "stdout",
     "output_type": "stream",
     "text": [
      "tell_time(100): \t 0 yr 0 dy 0 hr 1 m 40 s\n",
      "tell_time(5400): \t 0 yr 0 dy 1 hr 30 m 0 s\n",
      "tell_time(1000000000): \t 31 yr 6 dy 37 hr 46 m 40 s\n"
     ]
    }
   ],
   "source": [
    "# rough method\n",
    "\n",
    "# define modulos\n",
    "s_m = 60\n",
    "m_m = 60\n",
    "h_m = 60\n",
    "d_m = 24\n",
    "y_m = 365\n",
    "\n",
    "# define bases\n",
    "s_b = 1\n",
    "m_b = m_m * s_b\n",
    "h_b = h_m * m_b\n",
    "d_b = d_m * h_b\n",
    "y_b = y_m * d_b\n",
    "\n",
    "def tell_time(t):\n",
    "    \n",
    "    y = (t//y_b) % y_m\n",
    "    d = (t//d_b) % d_m\n",
    "    h = (t//h_b) % h_m\n",
    "    m = (t//m_b) % m_m\n",
    "    s = (t//s_b) % s_m\n",
    "    \n",
    "    return f'{y} yr {d} dy {h} hr {m} m {s} s'\n",
    "    \n",
    "    \n",
    "for t in [100, 5400, 1_000_000_000]:\n",
    "    print(f'tell_time({t}): \\t', tell_time(t))"
   ]
  },
  {
   "cell_type": "code",
   "execution_count": 187,
   "metadata": {},
   "outputs": [
    {
     "name": "stdout",
     "output_type": "stream",
     "text": [
      "tell_time(100): \t 1 m 40 s\n",
      "tell_time(5400): \t 1 hr 30 m\n",
      "tell_time(86400): \t 1 dy 24 hr\n",
      "tell_time(1000000.0): \t 11 dy 37 hr 46 m 40 s\n"
     ]
    }
   ],
   "source": [
    "# returning only non-zero values\n",
    "\n",
    "units = [(y_b, y_m, 'yr'), (d_b, d_m, 'dy'), (h_b, h_m, 'hr'), (m_b, m_m, 'm'), (s_b, s_m, 's')]\n",
    "\n",
    "def tell_time(t):\n",
    "    \n",
    "    res = []\n",
    "    \n",
    "    for base, mod, unit in units:\n",
    "        v = int(t//base) % mod\n",
    "        if v:\n",
    "            res.append(str(v)+' '+unit)\n",
    "            \n",
    "    return ' '.join(res)\n",
    "\n",
    "for t in [100, 5400, 86400, 1e6]:\n",
    "    print(f'tell_time({t}): \\t', tell_time(t))"
   ]
  }
 ],
 "metadata": {
  "kernelspec": {
   "display_name": "Python 3",
   "language": "python",
   "name": "python3"
  },
  "language_info": {
   "codemirror_mode": {
    "name": "ipython",
    "version": 3
   },
   "file_extension": ".py",
   "mimetype": "text/x-python",
   "name": "python",
   "nbconvert_exporter": "python",
   "pygments_lexer": "ipython3",
   "version": "3.7.6"
  }
 },
 "nbformat": 4,
 "nbformat_minor": 4
}

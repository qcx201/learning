{
 "cells": [
  {
   "cell_type": "markdown",
   "metadata": {},
   "source": [
    "---\n",
    "<a name=\"intro\"></a>\n",
    "####  <a href=\"#contents-table\">To Contents</a>\n",
    "\n",
    "# Chapter 3: Derivatives of Polynomials 🍰🔢"
   ]
  },
  {
   "cell_type": "markdown",
   "metadata": {},
   "source": [
    "The word **`polynomial`** is [comprised of](https://www.mathsisfun.com/algebra/polynomials.html) ***poly-*** (meaning \"many\") and ***-nomial***  (meaning \"term\"). The formal definition sounds pretty confusing, but you'll easily recognize a polynomial when you see it:\n",
    "\n",
    "Example of a **single-variable** polynomial function:\n",
    "\n",
    "$$\n",
    "y = x^5 + \\frac{1}{7}x^2 - 3x - 4\n",
    "$$\n",
    "\n",
    "The formal definition of a polynomial is an algebraic expression of **variables** and **constants** that involve only `addition`, `subtraction`, `multiplication`, and (positive) `exponents`.\n",
    "\n",
    "\n",
    "\n",
    "To tease out a couple of details, polynomials **`do not`** include things like:\n",
    "\n",
    "$$\n",
    "\\begin{align}\n",
    "\\text{Exponent of an variable:}\\qquad & y = 2^{x} \\\\\n",
    "\\text{More complicated operations or functions:}\\qquad & y = \\sin{(x)}\n",
    "\\end{align}\n",
    "$$\n",
    "\n",
    "In this chapter, we'll examine the handy rule for **`differentiating`** any **`single-variable`** **`polynomial`**. For multivariable polynomials, we'll have to wait until we look at `multivariable calculus`."
   ]
  },
  {
   "cell_type": "markdown",
   "metadata": {},
   "source": [
    "---\n",
    "<a name=\"contents-table\"></a>\n",
    "\n",
    "# Table of Contents\n",
    "\n",
    "### <a href=\"#ch3.1\">Chapter 3.1:</a> The General Solution\n",
    "\n",
    "* <a href=\"#q3.1\">**Challenges**</a>\n",
    "\n",
    "### <a href=\"#ch3.2\">Chapter 3.2:</a> A Closer Look\n",
    "\n",
    "* <a href=\"#q3.2\">**Challenges**</a>\n",
    "\n",
    "### <a href=\"#ch3.3\">Chapter 3.3:</a> Pascal's Triangle\n",
    "\n",
    "* <a href=\"#q3.3\">**Challenges**</a>"
   ]
  },
  {
   "cell_type": "code",
   "execution_count": 80,
   "metadata": {},
   "outputs": [],
   "source": [
    "import matplotlib.pyplot as plt\n",
    "\n",
    "%matplotlib inline"
   ]
  },
  {
   "cell_type": "markdown",
   "metadata": {},
   "source": [
    "---\n",
    "<a name=\"ch3.1\"></a>\n",
    "#### <a href=\"#contents-table\">Back to Contents</a>\n",
    "\n",
    "# Ch 3.1 The General Solution 👩‍🔬🧪\n",
    "\n",
    "\n",
    "Lets just get right on to it 🏃‍♀️🏃‍♂️💨\n",
    "\n",
    "### The function of any polynomial derivative:\n",
    "\n",
    "$$\n",
    "\\require{cancel}\n",
    "\\begin{align}\n",
    "\\\\\n",
    "\\text{For any function of the form:} & \\\\\n",
    "\\\\\n",
    "f(x) &= \\sum_{m, n}{m \\cdot x^{n} + c} \\\\\n",
    "&= m_{1} \\cdot x^{n_{1}} + m_{2} \\cdot x^{n_{2}} + m_{3} \\cdot x^{n_{3}} + \\, ... + \\, c \\\\\n",
    "\\\\\n",
    "\\text{where $c_{i}, m_{i},$ and $n$ are from the set} & \\text{ of any constants,} \\\\\n",
    "\\\\\n",
    "\\text{The derivative of the function is:} & \\\\\n",
    "\\\\\n",
    "f'(x) &= \\sum_{m, n}{n\\cdot m \\cdot x^{n-1}} \\\\\n",
    "&= n_{1} \\cdot m_{1} \\cdot x^{n_{1}-1} + n_{2} \\cdot m_{2} \\cdot x^{n_{2}-1} + n_{2} \\cdot m_{3} \\cdot x^{n_{3}-1} + \\, ... + \\, 0 \\\\\n",
    "\\end{align}\n",
    "$$"
   ]
  },
  {
   "cell_type": "markdown",
   "metadata": {},
   "source": [
    "\n",
    "### Some examples:\n",
    "$$\n",
    "\\begin{align}\n",
    "\\text{Example function 1:}\\quad f(x) &= x^{2} + 2x + 1 \\\\\n",
    "\\\\\n",
    "\\text{Derivative:}\\quad f'(x) &= (2)x^{(2-1)} + 2x^{(1-1)} + (0) \\\\\n",
    "&= 2x + 2x^{0} \\\\\n",
    "&=> 2x + 2 \\\\\n",
    "\\\\\n",
    "\\\\\n",
    "\\\\\n",
    "\\text{Example function 2:}\\quad f(x) &= x^{5} + \\frac{1}{7}x^{2} - 3x - 4 \\\\\n",
    "\\\\\n",
    "\\text{Derivative:}\\quad f'(x) &= (5)x^{(5-1)} + \\frac{1\\cdot{(2)}}{7}x^{(2-1)} - 3x^{(1-1)} - (0) \\\\\n",
    "&=> 5x^4 + \\frac{2}{7}x - 3 \\\\\n",
    "\\end{align}\n",
    "$$\n"
   ]
  },
  {
   "cell_type": "markdown",
   "metadata": {},
   "source": [
    "\n",
    "In words, for **`every term`** of a polynomial:\n",
    "* **`multiply`** the term by the **`expnonent`**\n",
    "\n",
    "* **`reduce`** the **`exponent`** by `1`."
   ]
  },
  {
   "cell_type": "markdown",
   "metadata": {},
   "source": [
    "<a name=\"q3.1\"></a>\n",
    "#### <a href=\"#contents-table\">Back to Contents</a>\n",
    "\n",
    "# Ch 3.1: Challenges\n",
    "\n",
    "1. **`Solve`** the derivatives of the following functions:\n",
    "\n",
    "\n",
    "$$\n",
    "\\begin{align}\n",
    "\\text{1.}\\quad f(x) &= x^2 + 2x + 1 \\\\\n",
    "\\\\\n",
    "\\text{2.}\\quad f(x) &= x^5 + \\frac{1}{7}x^2 + 3x + 4 \\\\\n",
    "\\\\\n",
    "\\text{3.}\\quad f(x) &= x + 1 \\\\\n",
    "\\\\\n",
    "\\text{4.}\\quad f(x) &= \\frac{1}{2}x^{-2} - x^{-1} + x^{\\frac{1}{2}} \\\\\n",
    "\\\\\n",
    "\\text{5.}\\quad f(x) &= 1 + x + \\frac{1}{2}x^2 + \\frac{1}{6}x^3 + \\frac{1}{24}x^4 \\\\\n",
    "\\\\\n",
    "\\text{6.}\\quad f(x) &= x^{100} \\\\\n",
    "\\\\\n",
    "\\end{align}\n",
    "$$"
   ]
  },
  {
   "cell_type": "markdown",
   "metadata": {},
   "source": [
    "---\n",
    "#### Your `solutions` here:\n",
    "\n",
    "<br>\n",
    "\n",
    "$$\n",
    "\\begin{align}\n",
    "\\text{your solutions...} &\n",
    "\\\\\n",
    "\\end{align}\n",
    "$$"
   ]
  },
  {
   "cell_type": "markdown",
   "metadata": {},
   "source": [
    "\n",
    "---\n",
    "2. For each function above, **`plot`** for range **`(-10, 10)`**:\n",
    "    \n",
    "   a. The **`numerical approximation`** of the derivative using the slope formula: \n",
    "   \n",
    "   $$f'(x) \\approx f_{approx}'(x) = \\frac{f(x+\\Delta{x})-f(x)}{\\Delta{x}}, \\quad\\text{for some small value of $\\Delta{x}$}$$\n",
    "   \n",
    "   b. The **`analytical solution`** of the derivative function from `part 1`."
   ]
  },
  {
   "cell_type": "code",
   "execution_count": 72,
   "metadata": {},
   "outputs": [],
   "source": [
    "# list of functions\n",
    "\n",
    "functions = [\n",
    "(r'x^{2} + 2x + 1' ,\n",
    "    lambda x: x**2 + 2*x + 1),\n",
    "\n",
    "(r'x^{5} + \\frac{1}{7}x^{2} + 3x +4' ,\n",
    "    lambda x: x**5 + (1/7)*(x**2) + 3*x + 4),\n",
    "\n",
    "(r'x + 1' ,\n",
    "    lambda x: x+1),\n",
    "\n",
    "(r'\\frac{1}{2}x^{-2} - x^{-1} + x^{\\frac{1}{2}}' ,\n",
    "    lambda x: (1/2)*(x**(-2)) - x**(-1) + x**(1/2)), \n",
    "\n",
    "(r'1 + x + \\frac{1}{2}x + \\frac{1}{6}x^{3} + \\frac{1}{24}x^{4}' ,\n",
    "    lambda x: 1 + x + (1/2)*x + (1/6)*(x**3) + (1/24)*(x**4)),\n",
    "\n",
    "(r'x^{100}' ,\n",
    "    lambda x: x**100),\n",
    "]\n"
   ]
  },
  {
   "cell_type": "code",
   "execution_count": null,
   "metadata": {},
   "outputs": [],
   "source": [
    "# your code here"
   ]
  },
  {
   "cell_type": "code",
   "execution_count": null,
   "metadata": {},
   "outputs": [],
   "source": []
  },
  {
   "cell_type": "markdown",
   "metadata": {},
   "source": [
    "---\n",
    "3. Find the **`squared-error`** of the `approximation` for each derivative.\n",
    "\n",
    "$$\n",
    "\\text{Squared error (SE)} = \\sum_{x}{\\bigg(f'(x) - f_{approx}'(x)\\bigg)^{2}}\n",
    "$$"
   ]
  },
  {
   "cell_type": "code",
   "execution_count": null,
   "metadata": {},
   "outputs": [],
   "source": [
    "# your code here"
   ]
  },
  {
   "cell_type": "code",
   "execution_count": null,
   "metadata": {},
   "outputs": [],
   "source": []
  },
  {
   "cell_type": "markdown",
   "metadata": {},
   "source": [
    "---\n",
    "## <span style=\"color:red;\">Solutions</span>\n",
    "\n",
    "\n",
    "```python\n",
    "# Ch 3.1: Challenge 1.\n",
    "```\n",
    "\n",
    "$$\n",
    "\\begin{align}\n",
    "\\text{Solutions:} & \\\\\n",
    "\\\\\n",
    "\\text{1.}\\quad f(x) &= x^2 + 2x + 1 \\\\\n",
    "\\\\\n",
    "f'(x) &= 2x + 2 \\\\\n",
    "\\\\\n",
    "\\\\\n",
    "\\text{2.}\\quad f(x) &= x^5 + \\frac{1}{7}x^2 + 3x + 4 \\\\\n",
    "\\\\\n",
    "f'(x) &= x^5 + \\frac{2}{7}x + 3 \\\\\n",
    "\\\\\n",
    "\\\\\n",
    "\\text{3.}\\quad f(x) &= x + 1 \\\\\n",
    "\\\\\n",
    "f'(x) &= 1 \\\\\n",
    "\\\\\n",
    "\\\\\n",
    "\\text{4.}\\quad f(x) &= \\frac{1}{2}x^{-2} - x^{-1} + x^{\\frac{1}{2}} \\\\\n",
    "\\\\\n",
    "f'(x) &= -x^{-3} + x^{-2} + \\frac{1}{2}x^{-\\frac{1}{2}}\\\\\n",
    "\\\\\n",
    "\\\\\n",
    "\\text{5.}\\quad f(x) &= 1 + x + \\frac{1}{2}x^2 + \\frac{1}{6}x^3 + \\frac{1}{24}x^4 \\\\\n",
    "\\\\\n",
    "f'(x) &= 1 + x + \\frac{1}{2}x^2 + \\frac{1}{6}x^3 \\\\\n",
    "\\\\\n",
    "\\\\\n",
    "\\text{6.}\\quad f(x) &= x^{100}  \\\\\n",
    "\\\\\n",
    "f'(x) &= 100x^{99}\n",
    "\\end{align}\n",
    "$$"
   ]
  },
  {
   "cell_type": "code",
   "execution_count": 67,
   "metadata": {},
   "outputs": [],
   "source": [
    "# list of functions\n",
    "\n",
    "functions = [\n",
    "(r'x^{2} + 2x + 1' ,\n",
    "    lambda x: x**2 + 2*x + 1),\n",
    "\n",
    "(r'x^{5} + \\frac{1}{7}x^{2} + 3x +4' ,\n",
    "    lambda x: x**5 + (1/7)*(x**2) + 3*x + 4),\n",
    "\n",
    "(r'x + 1' ,\n",
    "    lambda x: x+1),\n",
    "\n",
    "(r'\\frac{1}{2}x^{-2} - x^{-1} + x^{\\frac{1}{2}}' ,\n",
    "    lambda x: (1/2)*(x**(-2)) - x**(-1) + x**(1/2)), \n",
    "\n",
    "(r'1 + x + \\frac{1}{2}x + \\frac{1}{6}x^{3} + \\frac{1}{24}x^{4}' ,\n",
    "    lambda x: 1 + x + (1/2)*x + (1/6)*(x**3) + (1/24)*(x**4)),\n",
    "\n",
    "(r'x^{100}' ,\n",
    "    lambda x: x**100),\n",
    "]\n",
    "\n",
    "\n",
    "derivatives = [\n",
    "    (r'2x + 2' ,\n",
    "     lambda x: 2*x + 2),\n",
    "    \n",
    "    (r'5x^{4} + \\frac{2}{7}x + 3' ,\n",
    "     lambda x: 5*x**4 + (2/7)*x + 3),\n",
    "    \n",
    "    (r'1' , lambda x: 1),\n",
    "    \n",
    "    (r'-x^{-3} + x^{-2} + \\frac{1}{2}x^{-\\frac{1}{2}}' ,\n",
    "        lambda x: -x**-3 + x**-2 + (1/2)*x**(-1/2)),\n",
    "    \n",
    "    (r'1 + x + \\frac{1}{2}x + \\frac{1}{6}x^{3}' ,\n",
    "        lambda x: 1 + x + (1/2)*x + (1/6)*x**3),\n",
    "    \n",
    "    (r'100x^{99}',lambda x: 100*x**99),\n",
    "]"
   ]
  },
  {
   "cell_type": "code",
   "execution_count": 69,
   "metadata": {},
   "outputs": [],
   "source": [
    "def approx_derivative(f, x, limit=1e-3):\n",
    "    dx = 1\n",
    "    res = (f(x+dx) - f(x)) / dx\n",
    "    prev_res = res\n",
    "    \n",
    "    while True:\n",
    "        dx *= 0.1 # reduce dx by half\n",
    "        \n",
    "        res = (f(x+dx) - f(x)) / dx\n",
    "        \n",
    "        # if difference less than limit\n",
    "        if abs(res - prev_res) < limit:\n",
    "            return res\n",
    "        \n",
    "        prev_res = res"
   ]
  },
  {
   "cell_type": "code",
   "execution_count": 78,
   "metadata": {},
   "outputs": [
    {
     "name": "stdout",
     "output_type": "stream",
     "text": [
      "\n",
      "\n"
     ]
    },
    {
     "data": {
      "image/png": "[encoded data removed]",
      "text/plain": [
       "<Figure size 432x288 with 1 Axes>"
      ]
     },
     "metadata": {
      "needs_background": "light"
     },
     "output_type": "display_data"
    },
    {
     "name": "stdout",
     "output_type": "stream",
     "text": [
      "\n",
      "\n"
     ]
    },
    {
     "data": {
      "image/png": "[encoded data removed]",
      "text/plain": [
       "<Figure size 432x288 with 1 Axes>"
      ]
     },
     "metadata": {
      "needs_background": "light"
     },
     "output_type": "display_data"
    },
    {
     "name": "stdout",
     "output_type": "stream",
     "text": [
      "\n",
      "\n"
     ]
    },
    {
     "data": {
      "image/png": "[encoded data removed]",
      "text/plain": [
       "<Figure size 432x288 with 1 Axes>"
      ]
     },
     "metadata": {
      "needs_background": "light"
     },
     "output_type": "display_data"
    },
    {
     "name": "stdout",
     "output_type": "stream",
     "text": [
      "\n",
      "\n",
      "\\frac{1}{2}x^{-2} - x^{-1} + x^{\\frac{1}{2}}\n",
      "0.0 cannot be raised to a negative power\n",
      "\n",
      "\n"
     ]
    },
    {
     "data": {
      "image/png": "[encoded data removed]",
      "text/plain": [
       "<Figure size 432x288 with 1 Axes>"
      ]
     },
     "metadata": {
      "needs_background": "light"
     },
     "output_type": "display_data"
    },
    {
     "name": "stdout",
     "output_type": "stream",
     "text": [
      "\n",
      "\n"
     ]
    },
    {
     "data": {
      "image/png": "[encoded data removed]",
      "text/plain": [
       "<Figure size 432x288 with 1 Axes>"
      ]
     },
     "metadata": {
      "needs_background": "light"
     },
     "output_type": "display_data"
    }
   ],
   "source": [
    "x_range = list(range(-10, 11))\n",
    "\n",
    "kwargs = dict(alpha=0.5, linewidth=5)\n",
    "\n",
    "for (fn, f), (dn, d) in zip(functions, derivatives):\n",
    "\n",
    "    print('\\n')\n",
    "    try:\n",
    "        F = [approx_derivative(f, x) for x in x_range]\n",
    "        D = [d(x) for x in x_range]\n",
    "\n",
    "        plt.plot(x_range, F, label='Approximation', ls=':', **kwargs)\n",
    "        plt.plot(x_range, D, label='Analytical Sol.', **kwargs)\n",
    "\n",
    "        plt.title(f'$f(x) = {fn}$ \\n$f\\'(x) = {dn}$', fontsize=16, fontweight='bold')\n",
    "        plt.legend()\n",
    "        plt.show()\n",
    "        \n",
    "    except Exception as e:\n",
    "        print(fn)\n",
    "        print(e)\n",
    "        "
   ]
  },
  {
   "cell_type": "markdown",
   "metadata": {},
   "source": [
    "---\n",
    "<a name=\"ch3.2\"></a>\n",
    "#### <a href=\"#contents-table\">Back to Contents</a>\n",
    "\n",
    "# Ch 3.2: A Closer Look 🔎👋"
   ]
  },
  {
   "cell_type": "code",
   "execution_count": null,
   "metadata": {},
   "outputs": [],
   "source": []
  },
  {
   "cell_type": "markdown",
   "metadata": {},
   "source": [
    "---\n",
    "<a name=\"ch3.3\"></a>\n",
    "#### <a href=\"#contents-table\">Back to Contents</a>\n",
    "\n",
    "# Ch 3.3: Pascal's Triangle 🔼🗼"
   ]
  },
  {
   "cell_type": "code",
   "execution_count": null,
   "metadata": {},
   "outputs": [],
   "source": []
  },
  {
   "cell_type": "markdown",
   "metadata": {},
   "source": [
    "---\n",
    "<a name=\"ch3.x\"></a>\n",
    "#### <a href=\"#contents-table\">Back to Contents</a>\n",
    "\n",
    "# Ch 3.x: Infinite Sums 👋♾"
   ]
  },
  {
   "cell_type": "markdown",
   "metadata": {},
   "source": [
    "\n",
    "\n",
    "Which series are convergent and divergent?\n",
    "$$\n",
    "\\begin{align}\n",
    "& 1 + \\frac{1}{2} + \\frac{1}{3} + \\frac{1}{4} + ... + \\frac{1}{x} \\\\\n",
    "\\\\\n",
    "& 1 + \\frac{1}{2} + \\frac{1}{4} + \\frac{1}{8} + ... + \\bigg(\\frac{1}{2}\\bigg)^{x} \\\\\n",
    "\\\\\n",
    "& 1 + \\bigg(\\frac{1}{2}\\bigg)^{2} + \\bigg(\\frac{1}{3}\\bigg)^{3} + \\bigg(\\frac{1}{4}\\bigg)^{4} + ... + \\bigg(\\frac{1}{x}\\bigg)^{x} \\\\\n",
    "\\end{align}\n",
    "$$"
   ]
  }
 ],
 "metadata": {
  "kernelspec": {
   "display_name": "Python 3",
   "language": "python",
   "name": "python3"
  },
  "language_info": {
   "codemirror_mode": {
    "name": "ipython",
    "version": 3
   },
   "file_extension": ".py",
   "mimetype": "text/x-python",
   "name": "python",
   "nbconvert_exporter": "python",
   "pygments_lexer": "ipython3",
   "version": "3.7.6"
  }
 },
 "nbformat": 4,
 "nbformat_minor": 4
}

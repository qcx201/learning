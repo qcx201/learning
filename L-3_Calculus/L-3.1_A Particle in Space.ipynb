{
 "cells": [
  {
   "cell_type": "markdown",
   "metadata": {},
   "source": [
    "---\n",
    "<a name=\"ch1\"></a>\n",
    "<a href=\"#contents-table\">To Contents</a>\n",
    "\n",
    "# Chapter 1: A Particle in Space 👋⚛\n"
   ]
  },
  {
   "cell_type": "markdown",
   "metadata": {},
   "source": [
    "Consider a particle that lives in one-dimensional space -- i.e., a line.\n",
    "\n",
    "\n",
    "<br>\n",
    "\n",
    "Imagine that this is a line:\n",
    "\n",
    "——————————————————————————————————\n",
    "\n",
    "<br>\n",
    "\n",
    "Our particle lives here:\n",
    "\n",
    "—————————————— ⚛ ———————————————————\n",
    "\n",
    "<br>\n",
    "\n",
    "Our particle says \"hi\":\n",
    "\n",
    "—————————————— 👋 ——————————————————\n",
    "\n",
    "<br>\n",
    "\n",
    "\n",
    "We know nothing about this particle, other than how to figure out where it is along the line at a given time.\n",
    "\n",
    "The location, or `position`, of the particle is determined by some function.\n",
    "\n",
    "However, if we have this function of position, we can also derive its `velocity` and `acceleration`."
   ]
  },
  {
   "cell_type": "markdown",
   "metadata": {},
   "source": [
    "---\n",
    "<a name=\"contents-table\"></a>\n",
    "# Contents\n",
    "\n",
    "#### <a href=\"#ch1\">Introduction:</a> A Particle In Space\n",
    "\n",
    "#### <a href=\"#ch1.1\">Chapter 1.1</a> Position\n",
    "\n",
    "#### <a href=\"#ch1.2\">Chapter 1.2</a> Velocity\n",
    "\n",
    "* <a href=\"#ch1.2.1\">1.2.1</a> Approaching Zero\n",
    "* <a href=\"#ch1.2.2\">1.2.2</a> Instantaneous Velocity\n",
    "\n",
    "#### <a href=\"#ch1.3\">Chapter 1.3</a> Acceleration\n",
    "\n",
    "#### <a href=\"#ch1.4\">Chapter 1.4</a> Visualizations\n",
    "\n",
    "#### <a href=\"#ch1.5\">Chapter 1.5</a> Compare and Contrast\n",
    "\n",
    "---"
   ]
  },
  {
   "cell_type": "code",
   "execution_count": 2,
   "metadata": {},
   "outputs": [],
   "source": [
    "# imports\n",
    "from matplotlib import pyplot as plt\n",
    "\n",
    "%matplotlib inline"
   ]
  },
  {
   "cell_type": "markdown",
   "metadata": {},
   "source": [
    "---\n",
    "<a name=\"ch1.1\"></a>\n",
    "#### <a href=\"#contents-table\">Back to Contents</a>\n",
    "\n",
    "# Ch 1.1: Position 📏✏\n",
    "\n",
    "Create a **`function`** called **`x()`** that takes one floating-point argument, **`t`** time.\n",
    "\n",
    "\n",
    "The function returns the **`position`** of the particle in the one-dimensional space at time `t`, according to the equation:\n",
    "\n",
    "$$\n",
    "x(t) = -\\frac{49}{10}t^{2} + 500\n",
    "$$\n",
    "\n",
    "This tells us where our particle is--you can also think of the value of $x(t)$ as a one-dimensional coordinate."
   ]
  },
  {
   "cell_type": "markdown",
   "metadata": {},
   "source": [
    "---\n",
    "<a name=\"q1.1\"></a>\n",
    "## Challenges\n",
    "\n",
    "1. Create the function ***`x(t)`***.\n",
    "\n",
    "\n",
    "2. What is the `position` of this article at **`t=0`**?\n",
    "\n",
    "\n",
    "3. How **far** does this particle travel between **`t=0`** and **`t=10`**?\n",
    "\n",
    "\n",
    "4. How ***fast*** does this particle travel from its position at **`t=0`** to its position at **`t=10`**?\n",
    "\n",
    "***`Bonus`*** At what time **`t`** does *`x(t)`* equal **`0`**? Can you solve this with an algorithm?\n",
    "\n",
    "### Units\n",
    "We'll assume the unit for distance is `meters` or `m`, and unit for time is `seconds` or `s`."
   ]
  },
  {
   "cell_type": "code",
   "execution_count": 1,
   "metadata": {},
   "outputs": [],
   "source": [
    "# your code here"
   ]
  },
  {
   "cell_type": "code",
   "execution_count": null,
   "metadata": {},
   "outputs": [],
   "source": []
  },
  {
   "cell_type": "markdown",
   "metadata": {},
   "source": [
    "---\n",
    "<a name=\"ch1.2\"></a>\n",
    "#### <a href=\"#contents-table\">Back to Contents</a>\n",
    "# Ch 1.2: Velocity ⏲🐌\n",
    "\n",
    "Create a **`function`** called **`v()`** that takes two floating-point arguments:\n",
    "\n",
    "* **`t`** : time in seconds\n",
    "\n",
    "* **`delta_t`** : a time interval, or `\"change in time\"`. Set its default value to **`1e-6`** (1 / 1 million).\n",
    "\n",
    "The function returns of the particle's rate of change in `position` over a time interval, equal to:\n",
    " \n",
    "$$\n",
    "v(t, \\Delta{t}) = \\frac{x(t+\\Delta{t}) - x(t)}{\\Delta{t}} \\\\\n",
    "$$\n",
    "\n",
    "We'll call the value if this function the **`average velocity`** over the time interval $(t, \\, t+\\Delta{t})$―for simplicity, we'll sometimes also call this the *`velocity`* ***between*** two points in time, **`t`** and **`t + delta_t`**."
   ]
  },
  {
   "cell_type": "markdown",
   "metadata": {},
   "source": [
    "---\n",
    "<a name=\"q1.1.1\"></a>\n",
    "\n",
    "### Challenges\n",
    "\n",
    "1. Create the function ***`v(t, delta_t=1e-6)`***.\n",
    "\n",
    "\n",
    "2. What is the `velocity` of the particle between time **`t=0`** and **`t=10`**?\n",
    "\n",
    "\n",
    "3. What is the `velocity` of the particle between time **`t=0`** and **`t=1`**?\n",
    "\n",
    "### Units\n",
    "The unit for velocity is `meters per second`, or `m/s`."
   ]
  },
  {
   "cell_type": "code",
   "execution_count": 3,
   "metadata": {},
   "outputs": [],
   "source": [
    "# your code here"
   ]
  },
  {
   "cell_type": "code",
   "execution_count": null,
   "metadata": {},
   "outputs": [],
   "source": []
  },
  {
   "cell_type": "markdown",
   "metadata": {},
   "source": [
    "---\n",
    "<a name=\"ch1.2.1\"></a>\n",
    "<a name=\"q1.2.1\"></a>\n",
    "#### <a href=\"#contents-table\">Back to Contents</a>\n",
    "\n",
    "## 1.2.1: Approaching Zero 🚀➡0️⃣\n",
    "\n",
    "### Challenges (pt. 2)\n",
    "\n",
    "1. Create a **`list`** of numbers of length **`15`** called `to_zero` that:\n",
    "\n",
    "    * Starts from **`1`**\n",
    "    \n",
    "    * Decreases to a `small number` close to but above zero (but not zero)\n",
    "    \n",
    "    * Decreases `exponentially` (gets smaller increasingly quickly)\n",
    "    \n",
    "\n",
    "2. At **`t=0`**, print varying values of **`delta_t`** and the resulting **`average velocity`** of the particle: where `delta_t` is each number in the exponentially decreasing list.\n",
    "\n",
    "    What happens to the velocity as `delta_t` decreases?\n",
    "    \n",
    "\n",
    "3. Repeat **`question 4`**, but with **`t=1`**. What happens to the values of the velocity as `delta_time` decreases?"
   ]
  },
  {
   "cell_type": "code",
   "execution_count": 1,
   "metadata": {},
   "outputs": [],
   "source": [
    "# your code here"
   ]
  },
  {
   "cell_type": "code",
   "execution_count": null,
   "metadata": {},
   "outputs": [],
   "source": []
  },
  {
   "cell_type": "markdown",
   "metadata": {},
   "source": [
    "---\n",
    "<a name=\"ch1.2.2\"></a>\n",
    "#### <a href=\"#contents-table\">Back to Contents</a>\n",
    "\n",
    "## 1.2.2: Instantaneous Velocity ⚡\n",
    "\n",
    "As you should observe from `questions 4 and 5`, as **`delta_t`** gets closer to `0`, the `average velocity` gets closer to some number.\n",
    "\n",
    "Another way to express this:\n",
    "\n",
    "$$\\Delta{t} \\to 0, \\,\\, v(t) = \\frac{x(t+\\Delta{t})-x(t)}{\\Delta{t}} \\to \\text{(some value)}$$ \n",
    "\n",
    "(Read: `delta_t` approaches `0`, `average velocity` approaches some value.)\n",
    "\n",
    "\n",
    "<br>\n",
    "\n",
    "As `delta_t` approaches `0`, the value that the `average velocity` approaches is called the **`instantaneous velocity`⚡🙌**.\n",
    "\n",
    "<br>\n",
    "\n",
    "We have set the default value of `delta_t` to `1e-6`, a very small number (but still above zero), so `v(t)` approximates the instantenous velocity. We can also call this the **`velocity`** at **a point in time**, **`t`**."
   ]
  },
  {
   "cell_type": "markdown",
   "metadata": {},
   "source": [
    "---\n",
    "<a name=\"q1.2.2\"></a>\n",
    "## Challenges (pt. 3)\n",
    "1. What is the `velocity` **at** `t=5`?\n",
    "\n",
    "\n",
    "2. How **much** does **`instantaneous velocity`⚡** change from **`t=0`** to **`t=10`**?\n",
    "\n",
    "\n",
    "3. ***How quickly*** does **`instantaneous velocity`⚡** change from **`t=0`** to **`t=10`**?"
   ]
  },
  {
   "cell_type": "code",
   "execution_count": 1,
   "metadata": {},
   "outputs": [],
   "source": [
    "# your code here"
   ]
  },
  {
   "cell_type": "code",
   "execution_count": null,
   "metadata": {},
   "outputs": [],
   "source": []
  },
  {
   "cell_type": "markdown",
   "metadata": {},
   "source": [
    "---\n",
    "<a name=\"ch1.3\"></a>\n",
    "#### <a href=\"#contents-table\">Back to Contents</a>\n",
    "# Ch 1.3: Acceleration 🚗💨\n",
    "\n",
    "Create a **`function`** called **`a()`** that takes two floating-point arguments:\n",
    "\n",
    "* **`t`** : time in seconds\n",
    "\n",
    "* **`delta_t`** : a time interval, or `\"change in time\"`. Set its default value to **`1e-6`**.\n",
    "\n",
    "The function returns of the particle's rate of change in *`velocity`* over a time interval, equal to:\n",
    "\n",
    "$$\n",
    "\\begin{align}\n",
    "a(t, \\Delta{t}) &= \\frac{v(t+\\Delta{t}) - v(t)}{\\Delta{t}}\\\\\n",
    "\\\\\n",
    "\\text{where}: & \\,  v(t) \\text{ is the instantaneous velocity at time } t.\n",
    "\\end{align}\n",
    "$$\n",
    "\n",
    "\n",
    "This value is the **`average acceleration`**, over the time interval $(t, \\, t+\\Delta{t})$, or the `acceleration` between `t` and `t+delta_t`.\n",
    "\n",
    "As `delta_t` approaches zero, this value approaches (can you guess?) the **`instantaneous acceleration`⚡🤩**."
   ]
  },
  {
   "cell_type": "markdown",
   "metadata": {},
   "source": [
    "---\n",
    "<a name=\"q1.3\"></a>\n",
    "#### <a href=\"#contents-table\">Back to Contents</a>\n",
    "## Challenges\n",
    "1. Create the function ***`a(t, delta_t=1e-6)`***.\n",
    "\n",
    "\n",
    "2. What is the `acceleration` of the particle *between* **`t=0`** and **`t=10`**?\n",
    "\n",
    "\n",
    "3. What is the `acceleration` of the particle *at* **`t=5`**?\n",
    "\n",
    "\n",
    "4. At time **`t=0`**, what happens to `acceleration` and `velocity` as **`delta_t`** *approaches* **`0`** from **`1`**?\n",
    "    \n",
    "    * Print a table of the values of `x(t)`, `v(t, delta_t)`, and `a(t, delta_t)`...\n",
    "    \n",
    "    * ... As **`delta_t`** decreases from **`1`** to **`a small value`** above zero exponentially.\n",
    "\n",
    "\n",
    "\n",
    "5. How *much* does **`instantaneous acceleration`⚡** change from **`t=0`** to **`t=10`**?\n",
    "\n",
    "\n",
    "6. How *quickly* does **`instantaneous acceleration`⚡** change from **`t=0`** to **`t=10`**?"
   ]
  },
  {
   "cell_type": "code",
   "execution_count": 1,
   "metadata": {},
   "outputs": [],
   "source": [
    "# your code here"
   ]
  },
  {
   "cell_type": "code",
   "execution_count": null,
   "metadata": {},
   "outputs": [],
   "source": []
  },
  {
   "cell_type": "markdown",
   "metadata": {},
   "source": [
    "## <span style=\"color:red;\">Solution</span>"
   ]
  },
  {
   "cell_type": "code",
   "execution_count": 2,
   "metadata": {},
   "outputs": [],
   "source": [
    "# 1. position\n",
    "def x(t):\n",
    "    return -4.9*(t**2) + 500\n",
    "\n",
    "# 2. velocity\n",
    "def v(t, delta_t=1e-6):\n",
    "    return (x(t+delta_t) - x(t)) / delta_t\n",
    "\n",
    "# 3. acceleration\n",
    "def a(t, delta_t=1e-6):\n",
    "    return (v(t+delta_t) - v(t)) / delta_t"
   ]
  },
  {
   "cell_type": "markdown",
   "metadata": {},
   "source": [
    "#### Question 1\n",
    "What are the values **`v`** and **`a`** at time `t=0` as **`delta_t`** *approaches* **`0`** from **`1`**?\n",
    "\n",
    "\n",
    "* **`v(t=0, delta_t)`** approaches `0` as $\\Delta{t} \\to 0$.\n",
    "\n",
    "\n",
    "* **`a(t=0, delta_t)`** remains constant at `-9.8`."
   ]
  },
  {
   "cell_type": "code",
   "execution_count": 3,
   "metadata": {},
   "outputs": [
    {
     "name": "stdout",
     "output_type": "stream",
     "text": [
      "Table of v(0.000, dt) and a(0.000, dt) as dt-> 0\n",
      "-----\n",
      "dt\t v\t a\n",
      "1.000\t -4.900\t -9.800\n",
      "0.759\t -3.718\t -9.800\n",
      "0.564\t -2.764\t -9.800\n",
      "0.410\t -2.007\t -9.800\n",
      "0.289\t -1.417\t -9.800\n",
      "0.198\t -0.968\t -9.800\n",
      "0.130\t -0.635\t -9.800\n",
      "0.081\t -0.396\t -9.800\n",
      "0.047\t -0.232\t -9.800\n",
      "0.026\t -0.125\t -9.800\n",
      "0.012\t -0.060\t -9.800\n",
      "0.005\t -0.025\t -9.800\n",
      "0.002\t -0.008\t -9.800\n",
      "0.000\t -0.002\t -9.800\n",
      "0.000\t -0.000\t -9.799\n"
     ]
    }
   ],
   "source": [
    "t = 0\n",
    "\n",
    "intervals=15\n",
    "\n",
    "# range with dt decreasing exponentially\n",
    "dt_range = [(i/intervals)**4 for i in range(1, intervals+1)]\n",
    "\n",
    "\n",
    "print(f'Table of v({t:.3f}, dt) and a({t:.3f}, dt) as dt-> 0')\n",
    "print('-'*5)\n",
    "\n",
    "print('dt\\t v\\t a') # table header\n",
    "for dt in reversed(dt_range):\n",
    "    print(f'{dt:.3f}\\t {v(t, dt):.3f}\\t {a(t, dt):.3f}')\n"
   ]
  },
  {
   "cell_type": "markdown",
   "metadata": {},
   "source": [
    "#### Question 2.1\n",
    "\n",
    "At what **`t`** is `x(t) = 0`?\n",
    "\n",
    "#### Analytical Solution\n",
    "\n",
    "We can solve $x(t) = 0$ for **`t`** analytically:\n",
    "$$\n",
    "\\begin{align}\n",
    "\\\\\n",
    "x(t) = 0  &= -4.9t^{2} + 500 \\\\\n",
    "\\\\\n",
    "t^{2} &= \\frac{-500}{-4.9}  \\\\\n",
    "\\\\\n",
    "t &= \\sqrt{\\frac{500}{4.9}} \\\\\n",
    "\\end{align}\n",
    "$$"
   ]
  },
  {
   "cell_type": "code",
   "execution_count": 4,
   "metadata": {},
   "outputs": [
    {
     "name": "stdout",
     "output_type": "stream",
     "text": [
      "x(t) is 0.0 at t=10.102\n"
     ]
    }
   ],
   "source": [
    "# analytical solution\n",
    "\n",
    "t = (500/4.9)**0.5\n",
    "\n",
    "print(f'x(t) is {x(t)} at t={t:.3f}')"
   ]
  },
  {
   "cell_type": "markdown",
   "metadata": {},
   "source": [
    "#### Algorithm Solution\n",
    "Or we can search with an algorithm:"
   ]
  },
  {
   "cell_type": "code",
   "execution_count": 5,
   "metadata": {},
   "outputs": [
    {
     "name": "stdout",
     "output_type": "stream",
     "text": [
      "t \tx\n",
      "--------------------\n",
      "0 \t500.000\n",
      "1 \t495.100\n",
      "2 \t480.400\n",
      "3 \t455.900\n",
      "4 \t421.600\n",
      "5 \t377.500\n",
      "6 \t323.600\n",
      "7 \t259.900\n",
      "8 \t186.400\n",
      "9 \t103.100\n",
      "10 \t10.000\n",
      "11 \t-92.900\n",
      "12 \t-205.600\n",
      "13 \t-328.100\n",
      "14 \t-460.400\n"
     ]
    }
   ],
   "source": [
    "\n",
    "# observe as t increases, x(t) decreases from 500\n",
    "# this means we'll eventually reach x(t) = 0 by increasing t incrementally while x(t) > 0\n",
    "\n",
    "print('t \\tx')\n",
    "print('-'*20)\n",
    "for t in range(15):\n",
    "    print(f'{t} \\t{x(t):.3f}')"
   ]
  },
  {
   "cell_type": "code",
   "execution_count": 6,
   "metadata": {},
   "outputs": [
    {
     "name": "stdout",
     "output_type": "stream",
     "text": [
      "t \tx\n",
      "--------------------\n",
      "10.005 \t9.510\n",
      "10.010 \t9.020\n",
      "10.015 \t8.529\n",
      "10.020 \t8.038\n",
      "10.025 \t7.547\n",
      "10.030 \t7.056\n",
      "10.035 \t6.564\n",
      "10.040 \t6.072\n",
      "10.045 \t5.580\n",
      "10.050 \t5.088\n",
      "10.055 \t4.595\n",
      "10.060 \t4.102\n",
      "10.065 \t3.609\n",
      "10.070 \t3.116\n",
      "10.075 \t2.622\n",
      "10.080 \t2.129\n",
      "10.085 \t1.635\n",
      "10.090 \t1.140\n",
      "10.095 \t0.646\n",
      "10.100 \t0.151\n"
     ]
    }
   ],
   "source": [
    "\n",
    "step = 1e-6 # search step\n",
    "t = 10 # starting value\n",
    "\n",
    "target = 0\n",
    "\n",
    "# current squared error\n",
    "error = (target - x(t))**2 \n",
    "\n",
    "print('t \\tx')\n",
    "print('-'*20)\n",
    "i = 0\n",
    "\n",
    "# while error greater than 0.0001\n",
    "while error > 0.0001:\n",
    "\n",
    "    t+=step # increase time by step \n",
    "    \n",
    "    error = (target - x(t))**2 # update error\n",
    "    \n",
    "    i += 1 # increase index\n",
    "    # print progress every five thousand iterations\n",
    "    if i % 5_000==0:\n",
    "        print(f'{t:.3f} \\t{x(t):.3f}')\n",
    "    \n"
   ]
  },
  {
   "cell_type": "markdown",
   "metadata": {},
   "source": [
    "#### Question 2.2\n",
    "What are the values **`v`** and **`a`** at time `t=10.102...` as **`delta_t`** *approaches* **`0`** from **`1`**?\n",
    "\n",
    "#### Response\n",
    "\n",
    "* **`v(..., dt)`** approaches -98.99... as `dt` approaches zero.\n",
    "\n",
    "\n",
    "* **`a(..., dt)`** remains constant at -9.800.\n",
    "\n",
    "See results below:"
   ]
  },
  {
   "cell_type": "code",
   "execution_count": 7,
   "metadata": {},
   "outputs": [
    {
     "name": "stdout",
     "output_type": "stream",
     "text": [
      "Table of v(10.102, dt) and a(10.102, dt) as dt-> 0\n",
      "-----\n",
      "dt\t v\t\t a\n",
      "1.000\t -103.895\t -9.800\n",
      "0.759\t -102.713\t -9.800\n",
      "0.564\t -101.759\t -9.800\n",
      "0.410\t -101.002\t -9.800\n",
      "0.289\t -100.412\t -9.800\n",
      "0.198\t -99.963\t -9.800\n",
      "0.130\t -99.630\t -9.800\n",
      "0.081\t -99.391\t -9.800\n",
      "0.047\t -99.227\t -9.800\n",
      "0.026\t -99.120\t -9.800\n",
      "0.012\t -99.055\t -9.800\n",
      "0.005\t -99.020\t -9.800\n",
      "0.002\t -99.003\t -9.800\n",
      "0.000\t -98.996\t -9.800\n",
      "0.000\t -98.995\t -9.801\n",
      "\n",
      "👍\n"
     ]
    }
   ],
   "source": [
    "t = (500/4.9)**0.5 # analytic solution\n",
    "\n",
    "intervals=15\n",
    "\n",
    "# range with dt decreasing exponentially\n",
    "dt_range = [(i/intervals)**4 for i in range(1, intervals+1)]\n",
    "\n",
    "\n",
    "print(f'Table of v({t:.3f}, dt) and a({t:.3f}, dt) as dt-> 0')\n",
    "print('-'*5)\n",
    "\n",
    "print('dt\\t v\\t\\t a') # table header\n",
    "for dt in reversed(dt_range):\n",
    "    print(f'{dt:.3f}\\t {v(t, dt):.3f}\\t {a(t, dt):.3f}')\n",
    "\n",
    "print('\\n👍')"
   ]
  },
  {
   "cell_type": "markdown",
   "metadata": {},
   "source": [
    "---\n",
    "<a name=\"ch1.4\"></a>\n",
    "#### <a href=\"#contents-table\">Back to Contents</a>\n",
    "\n",
    "# Ch 1.4: Visualizations 🎨🖌👁\n",
    "**`Plot`** the graphs of position, velocity, and acceleration compared to time from **`t=0 to t=10`** in **`0.1`** increments, with time `t` on the horizontal axis.\n",
    "\n",
    "* For each subplot, also plot the average rate of change between `t=0` to `t=10`.\n",
    "\n",
    "\n",
    "* Show the slope of the average rate of change in each subplot, and the formulas of the position function for each group."
   ]
  },
  {
   "cell_type": "markdown",
   "metadata": {},
   "source": [
    "---\n",
    "<a name=\"q1.4\"></a>\n",
    "\n",
    "## Challenges\n",
    "\n",
    "\n",
    "1. What is the **`change`** in `position`, `velocity`, and `acceleration`:\n",
    "    \n",
    "    a. From **`t=0` to `t=5`**?\n",
    "    \n",
    "    b. From **`t=5` to `t=10`**?\n",
    "\n",
    "\n",
    "\n",
    "2. For the same functions and time intervals in **`question 1`**, what is the **`average rate of change`**?"
   ]
  },
  {
   "cell_type": "code",
   "execution_count": 36,
   "metadata": {},
   "outputs": [],
   "source": [
    "# your code here"
   ]
  },
  {
   "cell_type": "code",
   "execution_count": null,
   "metadata": {},
   "outputs": [],
   "source": []
  },
  {
   "cell_type": "markdown",
   "metadata": {},
   "source": [
    "## <span style=\"color:red;\">Solution</span>"
   ]
  },
  {
   "cell_type": "code",
   "execution_count": 10,
   "metadata": {},
   "outputs": [
    {
     "data": {
      "image/png": "[encoded data removed]",
      "text/plain": [
       "<Figure size 576x864 with 3 Axes>"
      ]
     },
     "metadata": {
      "needs_background": "light"
     },
     "output_type": "display_data"
    }
   ],
   "source": [
    "# set functions\n",
    "def x(t):\n",
    "    return -4.9*(t**2) + 500\n",
    "\n",
    "def v(t, delta_t=1e-6):\n",
    "    return (x(t+delta_t) - x(t)) / delta_t\n",
    "\n",
    "def a(t, delta_t=1e-6):\n",
    "    return (v(t+delta_t) - v(t)) / delta_t\n",
    "\n",
    "\n",
    "# arrange functions in list\n",
    "functions = [\n",
    "    ('x(t)', 'Position', x),\n",
    "    ('v(t)', 'Velocity', v),\n",
    "    ('a(t)', 'Acceleration', a)\n",
    "]\n",
    "\n",
    "# create data points for plots\n",
    "time =  [i/10 for i in range(101)]\n",
    "\n",
    "# set up figure and axes\n",
    "fig, axes = plt.subplots(3, 1, figsize=(8, 12))\n",
    "\n",
    "# adjust distance between plots\n",
    "fig.tight_layout(pad=8)\n",
    "\n",
    "# set super title\n",
    "fig.suptitle('Derivatives of $x(t)$', fontsize=18, fontweight='bold')\n",
    "\n",
    "# iterate through functions\n",
    "for i, (name, title, func) in enumerate(functions):\n",
    "    \n",
    "    # get positions\n",
    "    res = [func(t) for t in time]\n",
    "    \n",
    "    # plot -- scatterplot helps distinguish the trend and noise better\n",
    "    axes[i].scatter(time, res, linewidth=0.35, alpha=0.5)\n",
    "\n",
    "    # set titles and axes labels\n",
    "    \n",
    "    axes[i].set_title(title, fontsize=14)\n",
    "    axes[i].set_ylabel(f'${name}$', fontsize=14, rotation=0, labelpad=15)\n",
    "    axes[i].set_xlabel('$t$', fontsize=14)\n",
    "\n",
    "\n",
    "plt.show()"
   ]
  },
  {
   "cell_type": "markdown",
   "metadata": {},
   "source": [
    "#### Question\n",
    "1. What are the changes in the position, velocity, and acceleration from `t=0` to `t=5` and from `t=5` to `t=10`?\n",
    "\n",
    "2. For each interval, what are the average changes over time?\n",
    "\n",
    "Response:"
   ]
  },
  {
   "cell_type": "code",
   "execution_count": 11,
   "metadata": {},
   "outputs": [
    {
     "name": "stdout",
     "output_type": "stream",
     "text": [
      "\n",
      "x(t): Position\n",
      "----------\n",
      "1. Change from 0 to 5 -122.500\n",
      "2. Avg change -24.500\n",
      "\n",
      "1. Change from 5 to 10 -367.500\n",
      "2. Avg change -73.500\n",
      "\n",
      "\n",
      "v(t): Velocity\n",
      "----------\n",
      "1. Change from 0 to 5 -49.000\n",
      "2. Avg change -9.800\n",
      "\n",
      "1. Change from 5 to 10 -49.000\n",
      "2. Avg change -9.800\n",
      "\n",
      "\n",
      "a(t): Acceleration\n",
      "----------\n",
      "1. Change from 0 to 5 0.057\n",
      "2. Avg change 0.011\n",
      "\n",
      "1. Change from 5 to 10 0.000\n",
      "2. Avg change 0.000\n",
      "\n",
      "\n",
      "👍\n"
     ]
    }
   ],
   "source": [
    "delta_t = 1e-6\n",
    "\n",
    "for name, title, func in functions:\n",
    "    \n",
    "    print(f'\\n{name}: {title}')\n",
    "    print('-'*10)\n",
    "    for t0, t in [(0, 5), (5, 10)]:\n",
    "        \n",
    "        change = func(t) - func(t0)\n",
    "        print(f'1. Change from {t0} to {t} {change:.3f}')\n",
    "        \n",
    "        avg_change = change/(t-t0)\n",
    "        print(f'2. Avg change {avg_change:.3f}\\n')\n",
    "    \n",
    "print('\\n👍')"
   ]
  },
  {
   "cell_type": "markdown",
   "metadata": {},
   "source": [
    "---\n",
    "<a name=\"ch1.5\"></a>\n",
    "#### <a href=\"#contents-table\">Back to Contents</a>\n",
    "\n",
    "# Ch 1.5: Compare and Contrast 👀🔎⚛"
   ]
  },
  {
   "cell_type": "markdown",
   "metadata": {},
   "source": [
    "<a name=\"q1.3\"></a>\n",
    "\n",
    "## Challenges\n",
    "Consider the following functions of the particle's position:\n",
    "\n",
    "$$\n",
    "\\begin{align}\n",
    "x_1(t) &= -\\frac{49}{100}t^3 + 500 \\\\\n",
    "\\\\\n",
    "x_2(t) &= -\\frac{49}{10}t^2 + 500 \\\\\n",
    "\\\\\n",
    "x_3(t) &= -49t + 500\n",
    "\\end{align}\n",
    "$$\n",
    "\n",
    "\n",
    "**`Plot`** the three `position` functions and their derivative functions for `velocity` and `acceleration` from **`t=0`** to **`t=10`**, and observe their results.\n",
    "\n",
    "* For each subplot, also plot the average rate of change between `t=0` to `t=10`.\n",
    "\n",
    "\n",
    "* Show the slope of the average rate of change in each subplot, and the formulas of the position function for each group.\n",
    "\n",
    "\n",
    "* Are there any interesting patterns that you notice?\n"
   ]
  },
  {
   "cell_type": "code",
   "execution_count": 12,
   "metadata": {},
   "outputs": [],
   "source": [
    "# your code here"
   ]
  },
  {
   "cell_type": "code",
   "execution_count": null,
   "metadata": {},
   "outputs": [],
   "source": []
  },
  {
   "cell_type": "markdown",
   "metadata": {},
   "source": [
    "## <span style=\"color:red;\">Solution</span>"
   ]
  },
  {
   "cell_type": "code",
   "execution_count": 35,
   "metadata": {},
   "outputs": [
    {
     "data": {
      "image/png": "[encoded data removed]",
      "text/plain": [
       "<Figure size 864x864 with 9 Axes>"
      ]
     },
     "metadata": {
      "needs_background": "light"
     },
     "output_type": "display_data"
    }
   ],
   "source": [
    "from matplotlib import pyplot as plt\n",
    "%matplotlib inline\n",
    "\n",
    "\n",
    "x_params = ((-0.49, 3), (-4.9, 2), (-49, 1))\n",
    "\n",
    "# get pyplot standard colors\n",
    "std_colors = plt.rcParams['axes.prop_cycle'].by_key()['color']\n",
    "\n",
    "# set up figure and axes\n",
    "fig, axes = plt.subplots(3, len(x_params), figsize=(12, 12))\n",
    "\n",
    "fig.tight_layout(pad=8)\n",
    "fig.suptitle('Plot of x(t) and Derivatives', fontsize=18, fontweight='bold')\n",
    "\n",
    "\n",
    "j = 0 # row indexing\n",
    "\n",
    "# iterate through pairs of coeffs and powers for x(t)\n",
    "for coeff, power in x_params:\n",
    "\n",
    "    # re-define functions\n",
    "    def x(t):\n",
    "        return coeff*(t**power) + 500\n",
    "\n",
    "    def v(t, delta_t=1e-6):\n",
    "        return (x(t+delta_t) - x(t)) / delta_t\n",
    "\n",
    "    def a(t, delta_t=1e-6):\n",
    "        return (v(t+delta_t) - v(t)) / delta_t\n",
    "\n",
    "    # arrange functiosn in list\n",
    "    functions = [\n",
    "        ('x(t)', 'Position', x),\n",
    "        ('v(t)', 'Velocity', v),\n",
    "        ('a(t)', 'Acceleration', a)\n",
    "    ]\n",
    "\n",
    "    # create data points for plots\n",
    "    time =  [i/10 for i in range(101)]\n",
    "\n",
    "\n",
    "    # iterate through functions\n",
    "    for i, (name, title, func) in enumerate(functions):\n",
    "        \n",
    "        \n",
    "        # get positions\n",
    "        res = [func(t) for t in time]\n",
    "\n",
    "        # plot -- scatterplot helps distinguish the trend and noise better\n",
    "        axes[i][j].scatter(time, res, linewidth=1, alpha=0.35, color=std_colors[j])\n",
    "\n",
    "        # set titles and axes labels\n",
    "        axes[i][j].set_title(title, fontsize=14)\n",
    "        axes[i][j].set_ylabel(f'${name}$', fontsize=14, rotation=0, labelpad=15)\n",
    "        axes[i][j].set_xlabel('$t$', fontsize=14)\n",
    "\n",
    "    j += 1\n",
    "\n",
    "plt.show()"
   ]
  },
  {
   "cell_type": "markdown",
   "metadata": {},
   "source": [
    "### Comaprison of Derivatives\n",
    "\n",
    "#### Question\n",
    "How do the results of the two different position functions and their derivatives compare?\n"
   ]
  },
  {
   "cell_type": "code",
   "execution_count": 14,
   "metadata": {},
   "outputs": [
    {
     "data": {
      "text/html": [
       "<style>\n",
       "table {float:left}\n",
       "</style>\n"
      ],
      "text/plain": [
       "<IPython.core.display.HTML object>"
      ]
     },
     "metadata": {},
     "output_type": "display_data"
    }
   ],
   "source": [
    "%%html\n",
    "<style>\n",
    "table {float:left}\n",
    "</style>"
   ]
  },
  {
   "cell_type": "markdown",
   "metadata": {},
   "source": [
    "\n",
    "#### Properties of Derivative Functions of *x(t)*\n",
    "\n",
    "|Function| $$x(t) = -\\frac{49}{100}t^{3} + 500$$ |$$x(t) = -\\frac{49}{10}t^{2} + 500$$  | $$x(t)=−49t+500$$ | \n",
    "|-------:|:---------:|:-------------------------:|:-----------------:|\n",
    "|$x(t)$  | Cubic     | Quadratic|Linear  |\n",
    "|$v(t)$  | Quadratic | Linear   |Constant|\n",
    "|$a(t)$  | Linear    | Constant |Zero    |"
   ]
  },
  {
   "cell_type": "markdown",
   "metadata": {},
   "source": [
    "Response:\n",
    "\n",
    "Can we hypothesis about some sort of pattern?\n",
    "\n",
    "Let's define derivative relationships between the formulas:\n",
    "* $v$ as derivative of $x$\n",
    "* $a$ as derivative of $v$\n",
    "\n",
    "We write as:\n",
    "$$\n",
    "\\begin{align}\n",
    "\\frac{d x(t)}{dt} &= v(t) \\\\ \n",
    "\\\\\n",
    "\\frac{d v(t)}{dt} &= a(t)\\\\ \n",
    "\\\\\n",
    "\\frac{d a(t)}{dt} &= \\,\\,\\, ...\\\\ \n",
    "\\end{align}\n",
    "$$\n",
    "\n",
    "And some choices for alternative notations:\n",
    "$$\n",
    "\\begin{align}\n",
    "\\frac{d x(t)}{dt} &= x'(t) = v(t) \\\\ \n",
    "\\\\\n",
    "\\frac{d v(t)}{dt} &= v'(t) = \\frac{d^2 x(t)}{dt^2} = x''(t) = a(t)\\\\ \n",
    "\\\\\n",
    "\\frac{d a(t)}{dt} &= a'(t) = \\frac{d^2 v(t)}{dt^2} = v''(t) = \\frac{d^3 x(t)}{dt^3} = x'''(t) \\\\ \n",
    "\\end{align}\n",
    "$$\n",
    "\n",
    "\n",
    "## Looking at our data\n",
    "\n",
    "#### Define properties of functions from our table\n",
    "\n",
    "* Quadratic function has highest order $x^2$ (has changing slope)\n",
    "* Linear function is a straight line (with constant slope)\n",
    "* Constant function as zero slope (flat line)\n",
    "* Zero function is a specific constant (flat line at zero)\n",
    "\n",
    "### Possible Patterns?\n",
    "* Derivative of quadratic function becomes linear\n",
    "* Derivative of linear function becomes constant\n",
    "* Derivative of constant function becomes zero \n",
    "\n",
    "👍"
   ]
  }
 ],
 "metadata": {
  "kernelspec": {
   "display_name": "Python 3",
   "language": "python",
   "name": "python3"
  },
  "language_info": {
   "codemirror_mode": {
    "name": "ipython",
    "version": 3
   },
   "file_extension": ".py",
   "mimetype": "text/x-python",
   "name": "python",
   "nbconvert_exporter": "python",
   "pygments_lexer": "ipython3",
   "version": "3.8.5"
  }
 },
 "nbformat": 4,
 "nbformat_minor": 4
}

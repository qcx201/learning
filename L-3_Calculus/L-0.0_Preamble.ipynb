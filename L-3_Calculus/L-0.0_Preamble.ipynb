{
 "cells": [
  {
   "cell_type": "markdown",
   "metadata": {},
   "source": [
    "# A Brief History of Calculus 🍎🤺\n",
    "\n",
    "The early formulations of calculus were discovered by **[Isaac Newton](https://www.britannica.com/biography/Isaac-Newton)** and independently by **[Gottfried Wilhelm Leibniz](https://www.cs.mcgill.ca/~rwest/wikispeedia/wpcd/wp/g/Gottfried_Leibniz.htm)** (see [Numberphile video](https://www.youtube.com/watch?v=LN--erHStqA)). The discovery of calculus was foundational in Newton's work in physics, such as his three laws of motion and the law of universal gravitation (many laws ⚖ and lols). Since then, calculus has proven to be one of the most important mathematical tools in science. It also produces many beautiful results, if you're into that kind of thing.\n",
    "\n",
    "![Alt Text](https://i.makeagif.com/media/5-09-2016/8zLGUA.gif)\n",
    "\n",
    "We won't try by any means to cover the foundations of the topic comprehensively, because of how ghastly under-qualified the author is, and there are surely many good resources available elsewhere for the dedicated autodidact (also, I remembering hearing that Newton discovered calculus about as quickly as students learn the material in a semester course). Instead we will look at some basic formulations and focus on problems or results that are interesting but maybe not very useful."
   ]
  },
  {
   "cell_type": "code",
   "execution_count": null,
   "metadata": {},
   "outputs": [],
   "source": []
  }
 ],
 "metadata": {
  "kernelspec": {
   "display_name": "Python 3",
   "language": "python",
   "name": "python3"
  },
  "language_info": {
   "codemirror_mode": {
    "name": "ipython",
    "version": 3
   },
   "file_extension": ".py",
   "mimetype": "text/x-python",
   "name": "python",
   "nbconvert_exporter": "python",
   "pygments_lexer": "ipython3",
   "version": "3.7.6"
  }
 },
 "nbformat": 4,
 "nbformat_minor": 4
}

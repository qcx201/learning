{
 "cells": [
  {
   "cell_type": "code",
   "execution_count": 18,
   "metadata": {},
   "outputs": [],
   "source": [
    "# set of (frozen) sets\n",
    "sos = lambda *S: set(frozenset(A) for A in S)"
   ]
  },
  {
   "cell_type": "markdown",
   "metadata": {},
   "source": [
    "# Probability Space\n",
    "\n",
    "**<u>Definition</u>**\n",
    "\n",
    "A probability space consists of three objects $(\\Omega, \\mathcal{F}, P)$:\n",
    "\n",
    "* $\\Omega$ &ndash; sample space: a nonempty set\n",
    "\n",
    "* $\\mathcal{F}$ &ndash; $\\sigma$-algebra on $\\Omega$: a set of sets\n",
    "\n",
    "* $P$ &ndash; probability measure on $\\mathcal{F}, \\Omega$: a function mapping $P: \\mathcal{F} \\to [0, 1]$"
   ]
  },
  {
   "cell_type": "markdown",
   "metadata": {},
   "source": [
    "## Sample Space $\\Omega$"
   ]
  },
  {
   "cell_type": "code",
   "execution_count": 2,
   "metadata": {},
   "outputs": [],
   "source": [
    "Ω = {1, 2, 3}"
   ]
  },
  {
   "cell_type": "markdown",
   "metadata": {},
   "source": [
    "## Algebra $\\mathcal{F}_{a}$\n",
    "\n",
    "**<u>Definition</u>**\n",
    "\n",
    "1. Sample space: $\\Omega \\in \\mathcal{F}_{a}$ (and also empty set $\\emptyset \\in \\mathcal{F}_a$).\n",
    "\n",
    "2. Closed under complements: $A \\in \\Omega \\implies A^c \\in \\mathcal{F}_{a}$.\n",
    "\n",
    "3. Closed under finite union: $A, B \\in \\Omega \\implies A \\cup B \\in \\mathcal{F}_{a}$."
   ]
  },
  {
   "cell_type": "markdown",
   "metadata": {},
   "source": [
    "## $\\sigma$-Algebra $\\mathcal{F}$\n",
    "\n",
    "**<u>Definition</u>**\n",
    "\n",
    "Similar definition as that of an algebra, but closed under countable (infinite) union.\n",
    "\n",
    "1. Sample space: $\\Omega \\in \\mathcal{F}$ (and also empty set $\\emptyset \\in \\mathcal{F}$).\n",
    "\n",
    "\n",
    "2. Closed under complements: $A \\in \\Omega \\implies A^c \\in \\mathcal{F}$.\n",
    "\n",
    "3. Closed under countable (infinite) union: $\\bigcup\\limits_{i=1}^{\\infty}A_i \\in F, A_i \\in \\Omega.$"
   ]
  },
  {
   "cell_type": "code",
   "execution_count": 27,
   "metadata": {},
   "outputs": [],
   "source": [
    "def algebra(generating_set, sample_space):\n",
    "\n",
    "    F = [S for S in generating_set if S.issubset(sample_space)]\n",
    "    \n",
    "    if sample_space not in F:\n",
    "        F.append(sample_space)\n",
    "\n",
    "    if set() not in F:\n",
    "        F.append(set())\n",
    "\n",
    "    while True:\n",
    "        \n",
    "        F_old = F.copy()\n",
    "\n",
    "        for A in F:\n",
    "            # closure under complements\n",
    "            A_comp = sample_space - A\n",
    "            if A_comp not in F:\n",
    "                F.append(A_comp)\n",
    "\n",
    "            for B in F:\n",
    "                # closure under finite union\n",
    "                union = A.union(B)\n",
    "                if union not in F:\n",
    "                    F.append(union)\n",
    "\n",
    "        if sos(*F_old)==sos(*F):\n",
    "            return sos(*F)"
   ]
  },
  {
   "cell_type": "code",
   "execution_count": 30,
   "metadata": {},
   "outputs": [
    {
     "data": {
      "text/plain": [
       "{frozenset(), frozenset({1}), frozenset({2, 3}), frozenset({1, 2, 3})}"
      ]
     },
     "execution_count": 30,
     "metadata": {},
     "output_type": "execute_result"
    }
   ],
   "source": [
    "algebra(sos({1}), Ω)"
   ]
  },
  {
   "cell_type": "markdown",
   "metadata": {},
   "source": [
    "## The Power Set\n",
    "\n",
    "Given a set $S$, its power set $2^S$  is the set of all subsets of $S$. The power set of a sample space $\\Omega$ is the largest $\\sigma$-algebra on $\\Omega$."
   ]
  },
  {
   "cell_type": "code",
   "execution_count": 5,
   "metadata": {},
   "outputs": [],
   "source": [
    "def power_set(S):\n",
    "    \n",
    "    ps = [{x} for x in S]\n",
    "    \n",
    "    for x in ps:\n",
    "        for y in ps:\n",
    "            union = x.union(y)\n",
    "            if union not in ps:\n",
    "                ps.append(union)\n",
    "    \n",
    "    # add empty set\n",
    "    ps.append(set())\n",
    "    \n",
    "    return sos(ps)"
   ]
  },
  {
   "cell_type": "code",
   "execution_count": 6,
   "metadata": {},
   "outputs": [],
   "source": [
    "ps = power_set(Ω)\n",
    "len(ps)"
   ]
  },
  {
   "cell_type": "code",
   "execution_count": 7,
   "metadata": {},
   "outputs": [],
   "source": [
    "x = [0]\n",
    "\n",
    "for y in x:\n",
    "    x.append(y+1)\n",
    "    if len(x) > 100:\n",
    "        break\n",
    "        \n",
    "print(x)"
   ]
  },
  {
   "cell_type": "markdown",
   "metadata": {},
   "source": [
    "# Probability Measure $P$"
   ]
  },
  {
   "cell_type": "code",
   "execution_count": 39,
   "metadata": {},
   "outputs": [
    {
     "data": {
      "text/plain": [
       "0.6666666666666666"
      ]
     },
     "execution_count": 39,
     "metadata": {},
     "output_type": "execute_result"
    }
   ],
   "source": [
    "def P(Fset, Ω):\n",
    "    return len(Fset) / len(Ω)"
   ]
  },
  {
   "cell_type": "markdown",
   "metadata": {},
   "source": [
    "# Borel Set"
   ]
  },
  {
   "cell_type": "code",
   "execution_count": 8,
   "metadata": {},
   "outputs": [
    {
     "data": {
      "text/plain": [
       "True"
      ]
     },
     "execution_count": 8,
     "metadata": {},
     "output_type": "execute_result"
    }
   ],
   "source": [
    "class Naturals(object):\n",
    "    \n",
    "    def __init__(self, start=0):\n",
    "        self.start = start\n",
    "        self._gen = self.generator(start)\n",
    "        \n",
    "    def __repr__(self):\n",
    "        return 'ℕ'\n",
    "        \n",
    "    def __contains__(self, other):\n",
    "            \n",
    "        if int(other) == other:\n",
    "            return other >= self.start\n",
    "        else:\n",
    "            return False\n",
    "    \n",
    "    def generator(self, n):\n",
    "        yield n\n",
    "        yield from self.generator(n+1)\n",
    "        \n",
    "    def next_n(self):\n",
    "        return next(self._gen)\n",
    "        \n",
    "N = Naturals()\n",
    "1 in N"
   ]
  },
  {
   "cell_type": "markdown",
   "metadata": {},
   "source": [
    "# Random Variable\n",
    "\n",
    "\n",
    "A random variable is a function $X : \\Omega \\to \\mathbb{R}$ such that, given probability space $(\\Omega, \\mathcal{F}, P)$:\n",
    "\n",
    "$$\n",
    "\\lbrace \\omega \\in \\Omega : X(\\omega) \\le x \\rbrace \\in \\mathcal{F} \\quad \\forall x \\in \\mathbb{R}.\n",
    "$$\n",
    "\n",
    "in other words, for all $x\\in \\mathbb{R}$, the inverse image of $X$ on interval $(-\\infty, x]$ is in $F$:\n",
    "\n",
    "$$\n",
    "\\lbrace X \\leq x \\rbrace = X^{-1}((-\\infty, x]) \\in \\mathcal{F}.\n",
    "$$"
   ]
  },
  {
   "cell_type": "code",
   "execution_count": 9,
   "metadata": {},
   "outputs": [],
   "source": [
    "import time"
   ]
  },
  {
   "cell_type": "code",
   "execution_count": 10,
   "metadata": {},
   "outputs": [],
   "source": [
    "def X(ω):\n",
    "    \n",
    "    return 2* ω\n",
    "\n",
    "def X_inv(X, x, Ω):\n",
    "    \n",
    "    res = set()\n",
    "    for ω in Ω:\n",
    "        if X(ω) <= x:\n",
    "            res.add(ω)\n",
    "    return res\n",
    "\n",
    "\n",
    "def is_rv(X, Ω, F, t=1.0, return_xlim=False):\n",
    "    '''\n",
    "    Returns boolean if X is a r.v.\n",
    "    \n",
    "        Parameters:\n",
    "            X (function):     A random variable candidate\n",
    "            Ω (set):          The sample space\n",
    "            F (set):          Sigma algebra on Ω (set of set)\n",
    "            t (int or float): Time limit for testing (default is 1.0)\n",
    "            \n",
    "        Returns:\n",
    "            is_rv (bool): Whether X is a r.v.\n",
    "    '''\n",
    "    \n",
    "    t0, x= time.time(), 0\n",
    "    while time.time()-t0 < 1:\n",
    "        \n",
    "        if X_inv(X, x, Ω) not in F or X_inv(X, -x, Ω) not in F:\n",
    "            return False\n",
    "        \n",
    "        x+=1\n",
    "    \n",
    "    if return_xlim:\n",
    "        return True, [-x, x]\n",
    "    else:\n",
    "        return True\n",
    "    "
   ]
  },
  {
   "cell_type": "code",
   "execution_count": 11,
   "metadata": {},
   "outputs": [
    {
     "data": {
      "text/plain": [
       "True"
      ]
     },
     "execution_count": 11,
     "metadata": {},
     "output_type": "execute_result"
    }
   ],
   "source": [
    "is_rv(X, Ω, ps)"
   ]
  },
  {
   "cell_type": "code",
   "execution_count": 12,
   "metadata": {},
   "outputs": [],
   "source": [
    "class Infinity(object):\n",
    "    '''\n",
    "    Infinity ✨\n",
    "    '''\n",
    "    def __init__(self, cardinality=1):\n",
    "        \n",
    "        self.card = cardinality\n",
    "        self.pos = True\n",
    "        \n",
    "    def __repr__(self):\n",
    "        if self.pos:\n",
    "            return f'∞ (cardinality {self.card})'\n",
    "        else:\n",
    "            return f'-∞ (cardinality {self.card})'\n",
    "    \n",
    "    def copy(self):\n",
    "        '''\n",
    "        Return copy of self\n",
    "        '''\n",
    "        obj = type(self).__new__(self.__class__) # create a new instance\n",
    "        obj.__dict__.update(self.__dict__) # update dictionary\n",
    "        return obj\n",
    "    \n",
    "    def __add__(self, other):\n",
    "        if type(self)==type(other):\n",
    "            if other.card > self.card:\n",
    "                return other\n",
    "            else:\n",
    "                return self\n",
    "        else:\n",
    "            return self\n",
    "        \n",
    "    def __radd__(self, other):\n",
    "        return self + other\n",
    "    \n",
    "    def __neg__(self):\n",
    "        res = self.copy()\n",
    "        res.pos = False\n",
    "        return res\n",
    "    \n",
    "    def __sub__(self, other):\n",
    "        if type(self)==type(other):\n",
    "            if other.card > self.card:\n",
    "                return -other\n",
    "            else:\n",
    "                return self\n",
    "        else:\n",
    "            return self\n",
    "        \n",
    "    def __rsub__(self, other):\n",
    "        return -(self-other)\n",
    "        \n",
    "    def __mul__(self, other):\n",
    "        if type(self)==type(other):\n",
    "            if other.card > self.card:\n",
    "                return other\n",
    "            else:\n",
    "                return self\n",
    "        else:\n",
    "            return self\n",
    "        \n",
    "    def __rmul__(self, other):\n",
    "        return self * other\n",
    "    \n",
    "    def __lt__(self, other):\n",
    "        \n",
    "        if type(self)==type(other):\n",
    "            return self.card < other.card\n",
    "        else:\n",
    "            return False\n",
    "        \n",
    "    def __le__(self, other):\n",
    "        if type(self)==type(other):\n",
    "            return self.card <= other.card\n",
    "        else:\n",
    "            return False\n",
    "    \n",
    "    def __gt__(self, other):\n",
    "        if type(self)==type(other):\n",
    "            return self.card > other.card\n",
    "        else:\n",
    "            return True\n",
    "        \n",
    "    def __ge__(self, other):\n",
    "        if type(self)==type(other):\n",
    "            return self.card >= other.card\n",
    "        else:\n",
    "            return True\n",
    "\n",
    "infty = Infinity()"
   ]
  },
  {
   "cell_type": "code",
   "execution_count": null,
   "metadata": {},
   "outputs": [],
   "source": []
  }
 ],
 "metadata": {
  "kernelspec": {
   "display_name": "Python 3",
   "language": "python",
   "name": "python3"
  },
  "language_info": {
   "codemirror_mode": {
    "name": "ipython",
    "version": 3
   },
   "file_extension": ".py",
   "mimetype": "text/x-python",
   "name": "python",
   "nbconvert_exporter": "python",
   "pygments_lexer": "ipython3",
   "version": "3.8.5"
  }
 },
 "nbformat": 4,
 "nbformat_minor": 4
}

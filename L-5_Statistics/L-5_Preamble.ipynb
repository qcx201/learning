{
 "cells": [
  {
   "cell_type": "markdown",
   "metadata": {},
   "source": [
    "---\n",
    "# Statistics"
   ]
  },
  {
   "cell_type": "markdown",
   "metadata": {},
   "source": [
    "---\n",
    "# Coin Flips 🍀\n",
    "\n",
    "Create a **`function`** `flip_coins()`that returns the results of simulated coin-flip games.\n",
    "\n",
    "The function takes two arguments:\n",
    "* **`flips`**, the number of flips per game\n",
    "\n",
    "* **`trials`**, the number of games in the sample.\n",
    "\n",
    "The function returns a `list` of the resulting trials, where each trial contains the result of random coin-flips in that trial.\n",
    "\n",
    "***`e.g.:`***\n",
    "\n",
    "`flip_coins(flips=4, trials=1)` returns random results: `[[\"H\", \"H\", \"T\", \"H\"]]`\n",
    "\n",
    "`flip_coins(flips=3, trials=2)` returns random results: `[[\"H\", \"T\", \"T\"], [\"H\", \"T\", \"H\"]]`"
   ]
  },
  {
   "cell_type": "code",
   "execution_count": 92,
   "metadata": {},
   "outputs": [],
   "source": [
    "# your code here"
   ]
  },
  {
   "cell_type": "code",
   "execution_count": null,
   "metadata": {},
   "outputs": [],
   "source": []
  },
  {
   "cell_type": "markdown",
   "metadata": {},
   "source": [
    "# Coin Stats 📊\n",
    "\n",
    "**Part 1:** With sample sizes of **`100,000`** trials, simulate samples with **`10`** flips per trial.\n",
    "\n",
    "**Answer:** What is the average percentage of times when coin landed on **`heads`** in a trial? What is the variance of the heads percentage?\n",
    "\n",
    "---\n",
    "\n",
    "**Part 2: `Plot`** the frequency distribution of heads percentages in the trials.\n",
    "\n"
   ]
  },
  {
   "cell_type": "code",
   "execution_count": 93,
   "metadata": {},
   "outputs": [],
   "source": [
    "# your code here"
   ]
  },
  {
   "cell_type": "code",
   "execution_count": null,
   "metadata": {},
   "outputs": [],
   "source": []
  }
 ],
 "metadata": {
  "kernelspec": {
   "display_name": "Python 3",
   "language": "python",
   "name": "python3"
  },
  "language_info": {
   "codemirror_mode": {
    "name": "ipython",
    "version": 3
   },
   "file_extension": ".py",
   "mimetype": "text/x-python",
   "name": "python",
   "nbconvert_exporter": "python",
   "pygments_lexer": "ipython3",
   "version": "3.8.5"
  }
 },
 "nbformat": 4,
 "nbformat_minor": 4
}

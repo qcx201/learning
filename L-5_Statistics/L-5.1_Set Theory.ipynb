{
 "cells": [
  {
   "cell_type": "markdown",
   "metadata": {},
   "source": [
    "# Chapter 1: Set Theory"
   ]
  },
  {
   "cell_type": "markdown",
   "metadata": {},
   "source": [
    "\n",
    "In Python, a **`set`** is an `unordered` collection of `unique` (non-repeated) elements.\n",
    "\n",
    "In this chapter, we'll introduce some formal ideas in mathematical **`set theory`** and try to implement them in Python."
   ]
  },
  {
   "cell_type": "markdown",
   "metadata": {},
   "source": [
    "---\n",
    "<a name=\"contents-table\"></a>\n",
    "\n",
    "# Contents\n",
    "\n",
    "### <a href=\"#ch1.1\">Chapter 1.1:</a> Sets Revisited\n",
    "* <a href=\"#ch1.1.1\">1.1.1</a> Elements of Sets\n",
    "* <a href=\"#ch1.1.2\">1.1.2</a> \"For All\" Statements\n",
    "* <a href=\"#ch1.1.3\">1.1.3</a> \"There Exists\" Statements\n",
    "* <a href=\"#ch1.1.4\">1.1.4</a> The Empty Set and Singletons\n",
    "* <a href=\"#ch1.1.5\">1.1.5</a> Sets of Sets\n",
    "\n",
    "\n",
    "* <b><a href=\"#q1.1\">Ch 1.1</a> Challenge</b>\n",
    "\n",
    "\n",
    "### <a href=\"#ch1.2\">Chapter 1.2:</a> Set Relationships\n",
    "* <a href=\"#ch1.2.1\">1.2.1</a> Subsets\n",
    "* <a href=\"#ch1.2.2\">1.2.2</a> Supersets\n",
    "* <a href=\"#ch1.2.3\">1.2.3</a> Strict Subsets and Supersets\n",
    "\n",
    "\n",
    "* <b><a href=\"#q1.2\">Ch 1.2</a> Challenge</b>\n",
    "\n",
    "### <a href=\"#ch1.3\">Chapter 1.3:</a> Set Operations\n",
    "* <a href=\"#ch1.3.1\">1.3.1</a> Unions\n",
    "* <a href=\"#ch1.3.2\">1.3.2</a> Intersections\n",
    "* <a href=\"#ch1.3.3\">1.3.3</a> Differences\n",
    "* <a href=\"#ch1.3.4\">1.3.4</a> Complements\n",
    "* <a href=\"#ch1.3.5\">1.3.5</a> Disjoints and Disjoint Operations\n",
    "\n",
    "\n",
    "### <a href=\"#ch1.4\">Chapter 1.4:</a> Functions\n",
    "* <a href=\"#ch1.4.1\">1.4.1</a> Domain, Co-Domain, and Range\n",
    "* <a href=\"#ch1.4.2\">1.4.2</a> Injections\n",
    "* <a href=\"#ch1.4.3\">1.4.3</a> Surjections\n",
    "* <a href=\"#ch1.4.4\">1.4.4</a> Bijections\n",
    "\n",
    "### <a href=\"#ch1.5\">Chapter 1.5:</a> Cardinality\n",
    "* <a href=\"#ch1.5.1\">1.5.1</a> Set Sizes\n",
    "* <a href=\"#ch1.5.2\">1.5.2</a> Finite Sets\n",
    "* <a href=\"#ch1.5.3\">1.5.3</a> Countably Infinite Sets\n",
    "* <a href=\"#ch1.5.4\">1.5.4</a> Uncountably Infinite Sets\n",
    "\n",
    "\n",
    "* <b><a href=\"#q1.5\">Ch 1.5</a> Challenges</b>"
   ]
  },
  {
   "cell_type": "markdown",
   "metadata": {},
   "source": [
    "### Setup\n",
    "\n",
    "Suppose we have two sets, $A$ and $B$, that contain only number elements.\n",
    "* $A$ contains the first 5 unique fibonnaci numbers, starting from 1\n",
    "* $B$ contains the first 5 odd natural numbers, starting from 1\n",
    "\n",
    "In mathematical set theory, the variable names of sets are usually denoted with `capital` letters."
   ]
  },
  {
   "cell_type": "code",
   "execution_count": 1,
   "metadata": {},
   "outputs": [],
   "source": [
    "A = {1, 2, 3, 5, 8} # set of first 5 Fibonnaci numbers\n",
    "B = {1, 3, 5, 7, 9} # set of first 5 odd natural numbers"
   ]
  },
  {
   "cell_type": "markdown",
   "metadata": {},
   "source": [
    "---\n",
    "<a name=\"ch1.1\"></a>\n",
    "#### <a href=\"#contents-table\">Back to Contents</a>\n",
    "\n",
    "# Ch 1.1: Sets Revisited"
   ]
  },
  {
   "cell_type": "markdown",
   "metadata": {},
   "source": [
    "---\n",
    "<a name=\"ch1.1.1\"></a>\n",
    "\n",
    "## 1.1.1 Elements of Sets\n",
    "\n",
    "If $x$ is an element of the set $A$, then we write $x$ **`in`** $A$ as\n",
    "\n",
    "$$x \\in A.$$\n",
    "\n",
    "If $x$ is not element of the set $A$, then we write $x$ **`not in`** $A$ as\n",
    "\n",
    "$$x \\notin A.$$"
   ]
  },
  {
   "cell_type": "code",
   "execution_count": 45,
   "metadata": {},
   "outputs": [
    {
     "name": "stdout",
     "output_type": "stream",
     "text": [
      "True\n",
      "True\n"
     ]
    }
   ],
   "source": [
    "# element in set\n",
    "x = 2\n",
    "\n",
    "# x ∈ A is True\n",
    "print(x in A)\n",
    "\n",
    "# x ∉ B is True\n",
    "print(x not in B)"
   ]
  },
  {
   "cell_type": "markdown",
   "metadata": {},
   "source": [
    "---\n",
    "<a name=\"ch1.1.2\"></a>\n",
    "\n",
    "## 1.1.2: \"For All\" Statements\n",
    "\n",
    "We write the statement, \"every element in A is smaller than 10\" as:\n",
    "\n",
    "$$\\forall a \\in A,\\quad a < 10$$\n",
    "\n",
    "We read this as: **`for all`** $a$ in $A$, $a$ is less than ten.\n",
    "\n",
    "Or, we can say the same statement in a different order:\n",
    "\n",
    "$$x < 10 \\quad \\forall a \\in A$$\n",
    "\n",
    "`Read:` $a$ is less than ten **`for all`** $a$ in $A$.\n",
    "\n",
    "\n",
    "* We read the symbol \"$\\forall$\" as `for all`, `for any`, `for every`, or `for each` interchangeably.\n",
    "\n",
    "\n",
    "* In python, `for all` statements can be evaluated with the **`all()`** function...\n",
    "\n",
    "\n",
    "* ...but ***not the `any()` function*** (slightly confusing)."
   ]
  },
  {
   "cell_type": "code",
   "execution_count": 49,
   "metadata": {},
   "outputs": [
    {
     "name": "stdout",
     "output_type": "stream",
     "text": [
      "True\n",
      "False\n"
     ]
    }
   ],
   "source": [
    "# (For all x in A, x < 10) is True\n",
    "print(\n",
    "    all(a < 10 for a in A)\n",
    ")\n",
    "\n",
    "# (For every x in A, x < 7) is False\n",
    "print(\n",
    "    all(a < 7 for a in A)\n",
    ")"
   ]
  },
  {
   "cell_type": "markdown",
   "metadata": {},
   "source": [
    "---\n",
    "<a name=\"ch1.1.3\"></a>\n",
    "\n",
    "## 1.1.3: \"There Exists\" Statements\n",
    "\n",
    "We write the statement, \"there is some element in $A$ that is smaller than 2,\" as:\n",
    "\n",
    "$$\n",
    "\\exists a \\in A, a < 2\n",
    "$$\n",
    "\n",
    "`Read:` \"**`there exists`** $a$ in $A$ such that $a$ is less than two.\" \n",
    "\n",
    "* \"There exists\" statements can be evaluated with the **`any()`** function.\n",
    "\n",
    "We can also write the negation:\n",
    "\n",
    "$$\n",
    "\\not\\exists a \\in A, a > 10\n",
    "$$\n",
    "\n",
    "`Read:` \"**`there does not exists`** $a$ in $A$ such that $a$ is greater than 10.\" "
   ]
  },
  {
   "cell_type": "code",
   "execution_count": 131,
   "metadata": {},
   "outputs": [
    {
     "name": "stdout",
     "output_type": "stream",
     "text": [
      "True\n",
      "True\n"
     ]
    }
   ],
   "source": [
    "# (There exists any x in A where x < 2) is True\n",
    "print(\n",
    "    any(a < 2 for a in A)\n",
    ")\n",
    "\n",
    "# (There does not exists any x in A where x > 10) is True\n",
    "print(\n",
    "    not any(a > 10 for a in A)\n",
    ")"
   ]
  },
  {
   "cell_type": "markdown",
   "metadata": {},
   "source": [
    "---\n",
    "<a name=\"ch1.1.4\"></a>\n",
    "\n",
    "## 1.1.4: Empty Set and Singletons\n",
    "\n",
    "The **`empty set`**, denoted by $\\emptyset$ or $\\lbrace \\rbrace$ is a set that contains no elements.\n",
    "\n",
    "A **`singleton`** is a set that contains only one element: $\\lbrace x \\rbrace$."
   ]
  },
  {
   "cell_type": "code",
   "execution_count": 89,
   "metadata": {},
   "outputs": [
    {
     "name": "stdout",
     "output_type": "stream",
     "text": [
      "length 0:\t set()\n",
      "length 1:\t {5}\n"
     ]
    }
   ],
   "source": [
    "# empty set\n",
    "S = set()\n",
    "print(f'length {len(S)}:\\t', S)\n",
    "\n",
    "# singleton of 5\n",
    "x = 5\n",
    "S = {x}\n",
    "print(f'length {len(S)}:\\t', S)"
   ]
  },
  {
   "cell_type": "markdown",
   "metadata": {},
   "source": [
    "---\n",
    "<a name=\"ch1.1.5\"></a>\n",
    "\n",
    "## 1.1.5: Sets of Sets\n",
    "\n",
    "A set can contain *other sets* as its **elements**, for example:\n",
    "\n",
    "$$\n",
    "S = \\lbrace A, B\\rbrace = \\lbrace \\lbrace 1, 2, 3, 5, 8\\rbrace, \\lbrace 1, 3, 5, 7, 9\\rbrace \\rbrace\n",
    "$$\n",
    "\n",
    "However, python does not allow regular sets to be elements of a set. We have to first convert each set element into a **`frozenset()`**."
   ]
  },
  {
   "cell_type": "code",
   "execution_count": 90,
   "metadata": {},
   "outputs": [
    {
     "name": "stdout",
     "output_type": "stream",
     "text": [
      "unhashable type: 'set'\n",
      "length 2:\t {frozenset({1, 2, 3, 5, 8}), frozenset({1, 3, 5, 7, 9})}\n",
      "length 1:\t {frozenset()}\n"
     ]
    }
   ],
   "source": [
    "# set of sets\n",
    "\n",
    "try:\n",
    "    S = {A, B} # this will throw an error\n",
    "except Exception as e:\n",
    "    print(e)\n",
    "    \n",
    "# first convert to frozen set\n",
    "S = {frozenset(A), frozenset(B)}\n",
    "\n",
    "print(f'length {len(S)}:\\t', S)\n",
    "\n",
    "\n",
    "# singleton of the empty set\n",
    "S = set()\n",
    "S.add(frozenset())\n",
    "\n",
    "print(f'length {len(S)}:\\t', S)"
   ]
  },
  {
   "cell_type": "markdown",
   "metadata": {},
   "source": [
    "---\n",
    "<a name=\"q1.1\"></a>\n",
    "#### <a href=\"#contents-table\">Back to Contents</a>\n",
    "\n",
    "# Ch 1.1: Challenge \n",
    "\n",
    "Without using the built-in operators/functions `in`, `not`, `all()`, `any()`, evaluate the following statements:\n",
    "\n",
    "1. $1 \\in B$\n",
    "\n",
    "2. $2 \\notin A$\n",
    "\n",
    "3. $\\forall b \\in B, b < 9$\n",
    "\n",
    "4. $\\not\\exists b \\in B, b > 9$"
   ]
  },
  {
   "cell_type": "code",
   "execution_count": 5,
   "metadata": {},
   "outputs": [],
   "source": [
    "# your code here"
   ]
  },
  {
   "cell_type": "code",
   "execution_count": null,
   "metadata": {},
   "outputs": [],
   "source": []
  },
  {
   "cell_type": "markdown",
   "metadata": {},
   "source": [
    "# <span style=\"color:red;\">Solutions<span>"
   ]
  },
  {
   "cell_type": "code",
   "execution_count": 133,
   "metadata": {},
   "outputs": [
    {
     "name": "stdout",
     "output_type": "stream",
     "text": [
      "True\n",
      "False\n",
      "False\n",
      "True\n"
     ]
    }
   ],
   "source": [
    "# Challenge 1.1 solutions\n",
    "\n",
    "# 1. (1 in B) is True\n",
    "s1 = False\n",
    "for b in B:\n",
    "    if b == 1: # if any element in B == 1\n",
    "        s1 = True\n",
    "        \n",
    "# 2. (2 not in A) (is False)\n",
    "s2 = True\n",
    "for b in A:\n",
    "    if b==2:\n",
    "        s2 = False\n",
    "        \n",
    "# 3. (For all b in B, b < 9) is False\n",
    "s3 = True\n",
    "for b in B:\n",
    "    if b >= 9:\n",
    "        s3 = False\n",
    "        \n",
    "# 4. (There exists no b in B where b > 9) is True\n",
    "s4 = True\n",
    "for b in B:\n",
    "    if b > 9:\n",
    "        s4 = False\n",
    "        \n",
    "for stmt in [s1, s2, s3, s4]:\n",
    "    print(stmt)"
   ]
  },
  {
   "cell_type": "markdown",
   "metadata": {},
   "source": [
    "---\n",
    "<a name=\"ch1.2\"></a>\n",
    "#### <a href=\"#contents-table\">Back to Contents</a>\n",
    "\n",
    "# Ch 1.2: Set Relationships"
   ]
  },
  {
   "cell_type": "markdown",
   "metadata": {},
   "source": [
    "Recall that sets $A, B$ are constructed so that:\n",
    "* $A$ contains the first 5 unique fibonnaci numbers, starting from 1\n",
    "* $B$ contains the first 5 odd natural numbers, starting from 1"
   ]
  },
  {
   "cell_type": "code",
   "execution_count": 7,
   "metadata": {},
   "outputs": [
    {
     "name": "stdout",
     "output_type": "stream",
     "text": [
      "{1, 2, 3, 5, 8}\n",
      "{1, 3, 5, 7, 9}\n"
     ]
    }
   ],
   "source": [
    "print(A)\n",
    "print(B)"
   ]
  },
  {
   "cell_type": "markdown",
   "metadata": {},
   "source": [
    "Now suppose we have another set $U$, which contains all natural numbers from 1 to 10.\n",
    "\n",
    "Let us call $U$ the **`universal set`** that **`contains`** $A$ and $B$."
   ]
  },
  {
   "cell_type": "code",
   "execution_count": 8,
   "metadata": {},
   "outputs": [
    {
     "name": "stdout",
     "output_type": "stream",
     "text": [
      "{1, 2, 3, 4, 5, 6, 7, 8, 9, 10}\n"
     ]
    }
   ],
   "source": [
    "U = {x for x in range(1, 11)}\n",
    "print(U)"
   ]
  },
  {
   "cell_type": "markdown",
   "metadata": {},
   "source": [
    "We have some more notation:\n",
    "\n",
    "| Notation | English |\n",
    "|:---:|:---:|\n",
    "| $\\therefore$ | Therefore |\n",
    "| $\\because$ | Because |\n",
    "| $$\\implies$$ | Implies |\n",
    "| $$\\Longleftarrow$$ | Implied by |\n",
    "| $$\\iff$$ | If and only if (iff) |"
   ]
  },
  {
   "cell_type": "markdown",
   "metadata": {},
   "source": [
    "---\n",
    "<a name=\"ch1.2.1\"></a>\n",
    "\n",
    "## Subsets\n",
    "\n",
    "$A$ and $B$ are then **`subsets`** of $U$. Subset relationships are denoted by $\\subset$, which is similar to $\\le$, the less than symbol:\n",
    "\n",
    "$$\n",
    "\\begin{align}\n",
    "    A \\subseteq U & \\quad\\because x \\in A \\implies x \\in U\\\\\n",
    "    B \\subseteq U & \\quad\\because x \\in B \\implies x \\in U\\\\\n",
    "\\end{align}\n",
    "$$\n",
    "\n",
    "`Read:` $A$ is a subset of $U$ because $x \\in A$ implies $x \\in U$.\n",
    "\n",
    "`i.e.:` $A$ is a subset of $U$ because if $x$ is an element of $A$, then $x$ must also be an element of $U$.\n",
    "\n",
    "For statement about multiple subsets, we can also write:\n",
    "\n",
    "$$\n",
    "A, B \\subseteq U\n",
    "$$\n",
    "\n",
    "For any set $S$, the `empty set` $\\emptyset$ is a subset of $S$:\n",
    "\n",
    "$$\n",
    "\\emptyset \\subseteq S\n",
    "$$"
   ]
  },
  {
   "cell_type": "code",
   "execution_count": 9,
   "metadata": {},
   "outputs": [
    {
     "name": "stdout",
     "output_type": "stream",
     "text": [
      "True\n",
      "True\n",
      "True\n"
     ]
    }
   ],
   "source": [
    "# A is a subset of U\n",
    "print(A.issubset(U))\n",
    "\n",
    "print(A <= U)\n",
    "\n",
    "# empty set is also a subset of A\n",
    "print(set() <= A)"
   ]
  },
  {
   "cell_type": "markdown",
   "metadata": {},
   "source": [
    "---\n",
    "<a name=\"ch1.2.2\"></a>\n",
    "## Supersets\n",
    "\n",
    "Equivalently, $U$ is a superset of $A$ and $B$. Superset relationships are denoted by $\\supset$, which is similar to $\\ge$, the greater than symbol:\n",
    "\n",
    "$$\n",
    "\\begin{align}\n",
    "    U \\supseteq A & \\quad\\because \\forall x \\in A \\implies x \\in U\\\\\n",
    "    U \\supseteq B & \\quad\\because \\forall x \\in B \\implies x \\in U\\\\\n",
    "\\end{align}\n",
    "$$\n",
    "\n",
    "`Read:` $U$ is a superset of $A$ because ... (same reason as before).\n",
    "\n",
    "For statement about multiple subsets, we can also write:\n",
    "\n",
    "$$\n",
    "U \\subseteq A, B\n",
    "$$"
   ]
  },
  {
   "cell_type": "code",
   "execution_count": 10,
   "metadata": {},
   "outputs": [
    {
     "name": "stdout",
     "output_type": "stream",
     "text": [
      "True\n",
      "True\n"
     ]
    }
   ],
   "source": [
    "# U is a superset of A\n",
    "print(U.issuperset(A))\n",
    "\n",
    "print(U >= A)"
   ]
  },
  {
   "cell_type": "markdown",
   "metadata": {},
   "source": [
    "---\n",
    "<a name=\"ch1.2.3\"></a>\n",
    "\n",
    "# Strict Subsets and Supersets\n",
    "\n",
    "Just as there are *strictly* greater than `>` and *strictly* less than `<` relationships between quantities, there are **`strictly subset of`** and **`strictly superset of`** relationships between sets:\n",
    "\n",
    "$$\n",
    "\\begin{align}\n",
    "A, B \\subset U \\iff U \\supset A, B\n",
    "\\end{align}\n",
    "$$\n",
    "\n",
    "We use the same symbol **`=`** to denote the equivalence relation:\n",
    "\n",
    "$$\n",
    "\\begin{align}\n",
    "    U = U \\iff U \\supseteq U \\text{ and } U \\subseteq U \\iff U \\not\\supset U \\text{ and } U \\not\\subset U \\\\\n",
    "\\end{align}\n",
    "$$\n",
    "\n",
    "For any set $S$, the empty set denoted by $\\emptyset$ is a subset of $S$:\n",
    "\n",
    "Python:"
   ]
  },
  {
   "cell_type": "code",
   "execution_count": 11,
   "metadata": {},
   "outputs": [
    {
     "name": "stdout",
     "output_type": "stream",
     "text": [
      "True\n",
      "True\n",
      "False\n"
     ]
    }
   ],
   "source": [
    "print(\n",
    "    U == {10, 9, 8, 7, 6, 5, 4, 3, 2, 1} # U is equivalent\n",
    ")\n",
    "\n",
    "print(\n",
    "    U <= U # U is a subset U or equal to U\n",
    ") \n",
    "\n",
    "print(\n",
    "    U < U # U is strictly a subset of U?\n",
    ") "
   ]
  },
  {
   "cell_type": "markdown",
   "metadata": {},
   "source": [
    "---\n",
    "<a name=\"q1.2\"></a>\n",
    "#### <a href=\"#contents-table\">Back to Contents</a>\n",
    "\n",
    "# Ch 1.2: Challenge\n",
    "\n",
    "Without using the built-in operators/methods `<`, `>`, `<=`, `>=`, `.issubset()`, or `.issuperset()`, evaluate the following statements:\n",
    "\n",
    "1. $\\lbrace 2 \\rbrace \\subseteq \\lbrace 1, 2, 3\\rbrace$\n",
    "\n",
    "2. $\\lbrace 2, 4, 6, 8, 10 \\rbrace \\supseteq \\lbrace 2, 4, 7\\rbrace$\n",
    "\n",
    "3. $B \\subset U$\n",
    "\n",
    "4. $\\emptyset \\subset \\emptyset$"
   ]
  },
  {
   "cell_type": "code",
   "execution_count": 12,
   "metadata": {},
   "outputs": [],
   "source": [
    "# your code here"
   ]
  },
  {
   "cell_type": "code",
   "execution_count": null,
   "metadata": {},
   "outputs": [],
   "source": []
  },
  {
   "cell_type": "markdown",
   "metadata": {},
   "source": [
    "## Solution"
   ]
  },
  {
   "cell_type": "code",
   "execution_count": 13,
   "metadata": {},
   "outputs": [
    {
     "name": "stdout",
     "output_type": "stream",
     "text": [
      "True\n",
      "False\n",
      "True\n",
      "False\n"
     ]
    }
   ],
   "source": [
    "# Challenge 2 solutions\n",
    "\n",
    "# 1. {2} is subset of {1, 2, 3}\n",
    "s1 = all(x in {1, 2, 3} for x in {2})\n",
    "\n",
    "# 2. {2, 4, 6, 8, 10} is not superset of {2, 4, 7}, because it doesn't contain {7}\n",
    "s2 = all(x in {2, 4, 6, 8, 10} for x in {2, 4, 7})\n",
    "\n",
    "# 3. B is strictly a subset of U\n",
    "s3 = all(b in U for b in B) and bool(len(B) - len(U))\n",
    "\n",
    "# 4. emptyset is not strictly a subset of itself\n",
    "s4 = all(b in set() for b in set()) and bool(len(set()) - len(set()))\n",
    "\n",
    "for stmt in [s1, s2, s3, s4]:\n",
    "    print(stmt)"
   ]
  },
  {
   "cell_type": "markdown",
   "metadata": {},
   "source": [
    "---\n",
    "<a name=\"ch1.3\"></a>\n",
    "#### <a href=\"#contents-table\">Back to Contents</a>\n",
    "\n",
    "# Ch 3: Set Operations and Notation"
   ]
  },
  {
   "cell_type": "markdown",
   "metadata": {},
   "source": [
    "---\n",
    "<a name=\"ch1.3.1\"></a>\n",
    "\n",
    "## 1.3.1: Unions\n",
    "\n",
    "**`Unions`** are denoted with U's or cups:\n",
    "\n",
    "$$\n",
    "\\begin{align}\n",
    "    A \\cup B &= \\lbrace x : x \\in A \\text{ or } x \\in B \\rbrace \\\\\n",
    "    &= \\bigcup\\limits_{i=1}^{2} S_i \\quad\\forall S_i \\in \\lbrace A, B\\rbrace\n",
    "\\end{align}\n",
    "$$\n",
    "\n",
    "Python:"
   ]
  },
  {
   "cell_type": "code",
   "execution_count": 14,
   "metadata": {},
   "outputs": [
    {
     "name": "stdout",
     "output_type": "stream",
     "text": [
      "{1, 2, 3, 5, 7, 8, 9}\n",
      "{1, 2, 3, 5, 7, 8, 9}\n"
     ]
    }
   ],
   "source": [
    "# union\n",
    "print(A.union(B))\n",
    "\n",
    "print(A | B)"
   ]
  },
  {
   "cell_type": "markdown",
   "metadata": {},
   "source": [
    "---\n",
    "<a name=\"ch1.3.2\"></a>\n",
    "\n",
    "## 1.3.2: Intersections\n",
    "\n",
    "**`Intersections`** are denoted with little n's or caps:\n",
    "\n",
    "$$\n",
    "\\begin{align}\n",
    "    A \\cap B &= \\lbrace x : x \\in A \\text{ and } x \\in B \\rbrace \\\\\n",
    "    &= \\bigcap\\limits_{i=1}^{2} S_i \\quad\\forall S_i \\in \\lbrace A, B\\rbrace\n",
    "\\end{align}\n",
    "$$\n",
    "\n",
    "Python:"
   ]
  },
  {
   "cell_type": "code",
   "execution_count": 15,
   "metadata": {},
   "outputs": [
    {
     "name": "stdout",
     "output_type": "stream",
     "text": [
      "{1, 3, 5}\n",
      "{1, 3, 5}\n"
     ]
    }
   ],
   "source": [
    "# intersection\n",
    "\n",
    "print(A.intersection(B))\n",
    "\n",
    "print(A & B)"
   ]
  },
  {
   "cell_type": "markdown",
   "metadata": {},
   "source": [
    "---\n",
    "<a name=\"ch1.3.3\"></a>\n",
    "\n",
    "## 1.3.3: Differences\n",
    "\n",
    "\n",
    "**`Differences`** are denoted with backslashes or minus signs:\n",
    "\n",
    "$$\n",
    "\\begin{align}\n",
    "    A \\setminus B = A - B\n",
    "    = \\lbrace x \\in A: x \\notin B \\rbrace \\\\\n",
    "\\end{align}\n",
    "$$\n",
    "\n",
    "Python:"
   ]
  },
  {
   "cell_type": "code",
   "execution_count": 16,
   "metadata": {},
   "outputs": [
    {
     "name": "stdout",
     "output_type": "stream",
     "text": [
      "{8, 2}\n",
      "{8, 2}\n"
     ]
    }
   ],
   "source": [
    "# difference\n",
    "print(A.difference(B))\n",
    "print(A - B)"
   ]
  },
  {
   "cell_type": "markdown",
   "metadata": {},
   "source": [
    "---\n",
    "<a name=\"ch1.3.4\"></a>\n",
    "\n",
    "## 1.3.4: Complements\n",
    "\n",
    "\n",
    "If $U$ is defined to be the `universal set` of $A$ and $B$, then it must be that $A, B \\subseteq U$.\n",
    "\n",
    "If a set $A$ has a universal set $U$, we say $A$ has a **`complement`** $A^c$, where:\n",
    "\n",
    "$$\n",
    "\\begin{align}\n",
    "    A^c = U \\setminus A = \\lbrace x \\in U : x \\notin A \\rbrace\n",
    "\\end{align}\n",
    "$$\n",
    "\n",
    "`Read:` the complement of $A$, called $A^c$, is a set of every element in $U$ that is not in $A$.\n",
    "\n",
    "Python:"
   ]
  },
  {
   "cell_type": "code",
   "execution_count": 17,
   "metadata": {},
   "outputs": [
    {
     "name": "stdout",
     "output_type": "stream",
     "text": [
      "{4, 6, 7, 9, 10}\n"
     ]
    }
   ],
   "source": [
    "# complements\n",
    "A_comp = U - A\n",
    "\n",
    "print(A_comp)"
   ]
  },
  {
   "cell_type": "markdown",
   "metadata": {},
   "source": [
    "---\n",
    "<a name=\"ch1.3.5\"></a>\n",
    "\n",
    "## 1.3.5: Disjoints and Disjoint Operations"
   ]
  },
  {
   "cell_type": "code",
   "execution_count": null,
   "metadata": {},
   "outputs": [],
   "source": []
  },
  {
   "cell_type": "markdown",
   "metadata": {},
   "source": [
    "---\n",
    "<a name=\"ch1.4\"></a>\n",
    "#### <a href=\"#contents-table\">Back to Contents</a>\n",
    "\n",
    "# Ch 4: Functions\n",
    "\n",
    "https://www.youtube.com/watch?v=gLT58t2z48A&list=PLbMVogVj5nJQqGHrpAloTec_lOKsG-foc&index=2"
   ]
  },
  {
   "cell_type": "markdown",
   "metadata": {},
   "source": [
    "---\n",
    "<a name=\"ch1.4.1\"></a>\n",
    "\n",
    "## 1.4.1: Domain, Co-Domain, and Range\n",
    "\n",
    "A **`function`** $f : X \\to Y$ is a rule that associates (or maps) every element of $X$ with a **unique** element of $Y$.\n",
    "\n",
    "* $X$ is called the **`Domain`**.\n",
    "\n",
    "\n",
    "* $Y$ is called the **`Co-Domain`**. (B is not necessarily the range, as X may not be completely mapped from Y)\n",
    "\n",
    "\n",
    "* The **`Range` or `image`** is the set of resulting values of $f(x) = y \\in Y$ from all $x \\in X$:\n",
    "\n",
    "$$R = \\lbrace y \\in Y: \\exists x \\in X, f(x) = y \\rbrace$$ \n",
    "\n",
    "Or, slightly simplified: \n",
    "\n",
    "$$R = \\lbrace f(x) \\in Y: x \\in X \\rbrace$$"
   ]
  },
  {
   "cell_type": "markdown",
   "metadata": {},
   "source": [
    "**Example:** Define function $f_1 : A \\to U$ where $f_1(x) = x + 1$:"
   ]
  },
  {
   "cell_type": "code",
   "execution_count": 93,
   "metadata": {},
   "outputs": [
    {
     "name": "stdout",
     "output_type": "stream",
     "text": [
      "{2, 3, 4, 6, 9}\n",
      "True\n"
     ]
    }
   ],
   "source": [
    "# f : A to U\n",
    "def f_1(x): \n",
    "    return x + 1\n",
    "\n",
    "# range\n",
    "print(\n",
    "    R := {f_1(x) for x in A}\n",
    ")\n",
    "\n",
    "# U is the co-domain (R is subset of U)\n",
    "print(\n",
    "    R . issubset ( U )\n",
    ")"
   ]
  },
  {
   "cell_type": "markdown",
   "metadata": {},
   "source": [
    "**Example:** Let $f_2 : A \\to B$ be defined as$\n",
    "\\begin{align}\n",
    "f_2(x) = \\begin{cases}\n",
    "x &\\text{ if $x$ is odd} \\\\\n",
    "x + 1 &\\text{ if $x$ is even}\n",
    "\\end{cases}\n",
    "\\end{align}\n",
    "$"
   ]
  },
  {
   "cell_type": "code",
   "execution_count": 92,
   "metadata": {},
   "outputs": [
    {
     "name": "stdout",
     "output_type": "stream",
     "text": [
      "{1, 3, 5, 9}\n",
      "True\n"
     ]
    }
   ],
   "source": [
    "# f: A to B\n",
    "def f_2(x):\n",
    "    if x%2:\n",
    "        return x\n",
    "    else:\n",
    "        return x + 1\n",
    "\n",
    "# range\n",
    "print(\n",
    "    R := {f_2(x) for x in A}\n",
    ")\n",
    "\n",
    "# B is the co-domain (R is subset of B)\n",
    "print(\n",
    "    R . issubset ( B )\n",
    ")"
   ]
  },
  {
   "cell_type": "markdown",
   "metadata": {},
   "source": [
    "---\n",
    "<a name=\"ch1.4.2\"></a>\n",
    "\n",
    "## 1.4.2: Injections\n",
    "\n",
    "\n",
    "**`Injective function` (or injection)** is a function where every element in the range has a unique **`preimage`** in $X$:\n",
    "\n",
    "* No two elements $x_1, x_2 \\in X$ exists where $f(x_1) = f(x_2)$.\n",
    "\n",
    "* Also called a **one-to-one <u>function</u>**.\n",
    "\n",
    "![injective function](https://upload.wikimedia.org/wikipedia/commons/thumb/0/02/Injection.svg/300px-Injection.svg.png)\n",
    "<center><b>Injective mapping (non-surjective)</b></center>\n",
    "\n",
    "* The **`preimage` or inverse image** of subset $Y' \\subseteq Y$ is a subset of $X$ such that:\n",
    "\n",
    "$$\n",
    "\\lbrace x \\in X : f(x) \\in Y'\\rbrace \\subseteq X.\n",
    "$$\n",
    "\n",
    "* The **`inverse function`** $f^{-1}: Y \\to X$ produces the preimage of any for all $Y' \\subseteq Y$:\n",
    "\n",
    "$$\n",
    "f^{-1}(Y') = \\lbrace x \\in X : f(x) \\in Y'\\rbrace \\subseteq X\n",
    "$$"
   ]
  },
  {
   "cell_type": "code",
   "execution_count": 130,
   "metadata": {},
   "outputs": [],
   "source": [
    "def inverse(f, Y_prime,  X):\n",
    "    '''\n",
    "    returns the preimage of Y_prime (subset of Y) under f: X -> Y\n",
    "    '''\n",
    "    return {x for x in X if (f(x) in Y_prime)}"
   ]
  },
  {
   "cell_type": "markdown",
   "metadata": {},
   "source": [
    "**Example:** The function $f_1 : A \\to U$ where $f_1(x) = x + 1$ is `injective` but not `surjective` (more on that later).\n",
    "\n",
    "* The `preimage` of each singleton of $U$ is either a `singleton` or the `emptyset` of A.\n",
    "\n",
    "* Therefore, $f_1 : A \\to U$ is a `injective`, **one-to-one function** (`one element in domain` maps to `one element in co-domain`)."
   ]
  },
  {
   "cell_type": "code",
   "execution_count": 128,
   "metadata": {},
   "outputs": [
    {
     "name": "stdout",
     "output_type": "stream",
     "text": [
      "Preimage of {1} ⊂ U: set()\n",
      "Preimage of {2} ⊂ U: {1}\n",
      "Preimage of {3} ⊂ U: {2}\n",
      "Preimage of {4} ⊂ U: {3}\n",
      "Preimage of {5} ⊂ U: set()\n",
      "Preimage of {6} ⊂ U: {5}\n",
      "Preimage of {7} ⊂ U: set()\n",
      "Preimage of {8} ⊂ U: set()\n",
      "Preimage of {9} ⊂ U: {8}\n",
      "Preimage of {10} ⊂ U: set()\n"
     ]
    }
   ],
   "source": [
    "# f : A to U\n",
    "def f_1(x):\n",
    "    return x + 1\n",
    "\n",
    "for y in U:\n",
    "    \n",
    "    Y_prime = {y}\n",
    "    \n",
    "    print(f'Preimage of', Y_prime, '⊂ U:', inverse(f_1, Y_prime, A))"
   ]
  },
  {
   "cell_type": "markdown",
   "metadata": {},
   "source": [
    "---\n",
    "<a name=\"ch1.4.3\"></a>\n",
    "\n",
    "## 1.4.3: Surjections\n",
    "\n",
    "**`Surjective function` (or surjection)** is a function where the `co-domain` is the `range`:\n",
    "\n",
    "* The `co-domain` is completely mapped.\n",
    "\n",
    "* Also called an **onto function**.\n",
    "\n",
    "![surjective not injective](https://upload.wikimedia.org/wikipedia/commons/thumb/6/6c/Surjection.svg/270px-Surjection.svg.png)\n",
    "<center><b>Surjective mapping (non-injective)</b></center>"
   ]
  },
  {
   "cell_type": "markdown",
   "metadata": {},
   "source": [
    "**Example:**  The function $f_2 : A \\to B$ defined as$\n",
    "\\begin{align}\n",
    "    f_2(x) = \\begin{cases}\n",
    "        x &\\text{ if $x$ is odd} \\\\\n",
    "        x + 1 &\\text{ if $x$ is even}\n",
    "    \\end{cases}\n",
    "\\end{align}\n",
    "$ is **neither** `injective` nor `surjective`:\n",
    "\n"
   ]
  },
  {
   "cell_type": "code",
   "execution_count": 126,
   "metadata": {},
   "outputs": [
    {
     "name": "stdout",
     "output_type": "stream",
     "text": [
      "Preimage of {1} ⊂ U: {1}\n",
      "Preimage of {2} ⊂ U: set()\n",
      "Preimage of {3} ⊂ U: {2, 3}\n",
      "Preimage of {4} ⊂ U: set()\n",
      "Preimage of {5} ⊂ U: {5}\n",
      "Preimage of {6} ⊂ U: set()\n",
      "Preimage of {7} ⊂ U: set()\n",
      "Preimage of {8} ⊂ U: set()\n",
      "Preimage of {9} ⊂ U: {8}\n",
      "Preimage of {10} ⊂ U: set()\n"
     ]
    }
   ],
   "source": [
    "# f : A to B\n",
    "def f_2(x):\n",
    "    \n",
    "    if x%2:\n",
    "        return x\n",
    "    else:\n",
    "        return x + 1\n",
    "\n",
    "for y in U:\n",
    "    \n",
    "    Y_prime = {y}\n",
    "    \n",
    "    print(f'Preimage of', Y_prime, '⊂ U:', inverse(f_2, Y_prime, A))"
   ]
  },
  {
   "cell_type": "markdown",
   "metadata": {},
   "source": [
    "---\n",
    "<a name=\"ch1.4.4\"></a>\n",
    "\n",
    "## 1.4.4: Bijection\n",
    "\n",
    "**`Bijective function` (or bijection)** is a function that is both `injective` and `surjective`:\n",
    "\n",
    "* Also called **one-to-one <u>*correspondence*</u>** between $X, Y$.\n",
    "\n",
    "* Not to be confused with one-to-one <u>*function*</u>, which is the alternative term for an `injection`.\n",
    "\n",
    "![bijective function](https://upload.wikimedia.org/wikipedia/commons/thumb/a/a5/Bijection.svg/270px-Bijection.svg.png)\n",
    "<center><b>Bijective mapping (Injective and Surjective)</b></center>"
   ]
  },
  {
   "cell_type": "code",
   "execution_count": null,
   "metadata": {},
   "outputs": [],
   "source": []
  },
  {
   "cell_type": "markdown",
   "metadata": {},
   "source": [
    "---\n",
    "<a name=\"ch1.5\"></a>\n",
    "#### <a href=\"#contents-table\">Back to Contents</a>\n",
    "\n",
    "\n",
    "# Ch 1.5: Cardinality"
   ]
  },
  {
   "cell_type": "markdown",
   "metadata": {},
   "source": [
    "---\n",
    "<a name=\"ch1.5.1\"></a>\n",
    "\n",
    "## 1.5.1: Finite Sets"
   ]
  },
  {
   "cell_type": "code",
   "execution_count": null,
   "metadata": {},
   "outputs": [],
   "source": []
  },
  {
   "cell_type": "markdown",
   "metadata": {},
   "source": [
    "---\n",
    "<a name=\"ch1.5.2\"></a>\n",
    "\n",
    "## 1.5.2: Countably Infinite Sets"
   ]
  },
  {
   "cell_type": "code",
   "execution_count": null,
   "metadata": {},
   "outputs": [],
   "source": []
  },
  {
   "cell_type": "markdown",
   "metadata": {},
   "source": [
    "---\n",
    "<a name=\"ch1.5.3\"></a>\n",
    "\n",
    "## 1.5.3: Uncountably Infinite Sets"
   ]
  },
  {
   "cell_type": "code",
   "execution_count": null,
   "metadata": {},
   "outputs": [],
   "source": []
  },
  {
   "cell_type": "markdown",
   "metadata": {},
   "source": [
    "---\n",
    "<a name=\"ch1.5.4\"></a>\n",
    "\n",
    "## 1.5.4: Power Sets"
   ]
  },
  {
   "cell_type": "markdown",
   "metadata": {},
   "source": [
    "---\n",
    "<a name=\"q1.5\"></a>\n",
    "\n",
    "# Challenge 1.5: Diagonalization\n",
    "\n",
    "$D$ is a randomly generated set of $n$ binary strings, each string with length $n$, for some random integer $n$ in the range $2 \\le n \\le 10$.\n",
    "\n",
    "Create a **`function`** called `diag_sol()`. The function takes as an argument any set $D$ generated as above, and returns a binary `string` $b$ of length $n$, such that $b \\notin D$.\n",
    "\n",
    "**`Hint:`** Consider a finite version of the method in Cantor's Diagonization Argument."
   ]
  },
  {
   "cell_type": "code",
   "execution_count": 22,
   "metadata": {},
   "outputs": [],
   "source": [
    "# setup: generate random set\n",
    "\n",
    "from random import choices, choice\n",
    "from time import time\n",
    "\n",
    "def generate_set():\n",
    "    \n",
    "    n = choice(range(2, 11))\n",
    "    D = set()\n",
    "    while len(D) < n:\n",
    "        D.add(''.join(choices('01', k=n)))\n",
    "    return D\n",
    "\n",
    "def test_challenge_1_6(func, lim=100_000):\n",
    "\n",
    "    success = False\n",
    "    \n",
    "    t=0\n",
    "    \n",
    "    while True:\n",
    "        \n",
    "        t+=1\n",
    "        \n",
    "        D = generate_set()\n",
    "        b = func(D)\n",
    "\n",
    "        if type(b) is not str:\n",
    "            print('Error ❌ result not string')\n",
    "            break\n",
    "        \n",
    "        elif len(b) != len(D):\n",
    "            print(f'Error ❌ result length incorrect')\n",
    "            break\n",
    "            \n",
    "        elif b in D:\n",
    "            print(f'Test failed 👎 Match found')\n",
    "            print('\\nYour string:', f\"'{b}'\")\n",
    "            print('\\nTested set:', D)\n",
    "            break\n",
    "\n",
    "        elif t >= lim:\n",
    "            print(f'Success 🙌')\n",
    "            success = True\n",
    "            break\n",
    "    \n",
    "    print('-'*25)\n",
    "    print('Trials tested:', t)\n",
    "    return success"
   ]
  },
  {
   "cell_type": "code",
   "execution_count": 23,
   "metadata": {},
   "outputs": [
    {
     "name": "stdout",
     "output_type": "stream",
     "text": [
      "Example of generated set D:\n"
     ]
    },
    {
     "data": {
      "text/plain": [
       "{'0011111010',\n",
       " '0011111011',\n",
       " '0100011100',\n",
       " '0100100101',\n",
       " '0110010010',\n",
       " '0111101111',\n",
       " '1001011110',\n",
       " '1010001011',\n",
       " '1011110100',\n",
       " '1111110111'}"
      ]
     },
     "execution_count": 23,
     "metadata": {},
     "output_type": "execute_result"
    }
   ],
   "source": [
    "# example set\n",
    "print('Example of generated set D:')\n",
    "D = generate_set()\n",
    "D"
   ]
  },
  {
   "cell_type": "code",
   "execution_count": 34,
   "metadata": {},
   "outputs": [
    {
     "name": "stdout",
     "output_type": "stream",
     "text": [
      "Error ❌ result not string\n",
      "-------------------------\n",
      "Trials tested: 1\n",
      "Solution passed: False\n"
     ]
    }
   ],
   "source": [
    "# your code\n",
    "\n",
    "def diag_sol(D):\n",
    "\n",
    "    # write your function here\n",
    "    \n",
    "    return\n",
    "\n",
    "\n",
    "# test solution:\n",
    "print('Solution passed:', correct := test_challenge_1_6(diag_sol))"
   ]
  },
  {
   "cell_type": "code",
   "execution_count": 33,
   "metadata": {},
   "outputs": [
    {
     "name": "stdout",
     "output_type": "stream",
     "text": [
      "Success 🙌\n",
      "-------------------------\n",
      "Trials tested: 100000\n",
      "Correct: True\n"
     ]
    }
   ],
   "source": [
    "# Challenge 5 solution\n",
    "\n",
    "def diag_sol(D):\n",
    "    \n",
    "    res = ''\n",
    "    for i, d in enumerate(D):\n",
    "        res += list(set('01') - set(d[i]))[0]\n",
    "        \n",
    "    return res\n",
    "\n",
    "# test solution\n",
    "print('Solution passed:', correct := test_challenge_1_6(diag_sol))"
   ]
  }
 ],
 "metadata": {
  "kernelspec": {
   "display_name": "Python 3",
   "language": "python",
   "name": "python3"
  },
  "language_info": {
   "codemirror_mode": {
    "name": "ipython",
    "version": 3
   },
   "file_extension": ".py",
   "mimetype": "text/x-python",
   "name": "python",
   "nbconvert_exporter": "python",
   "pygments_lexer": "ipython3",
   "version": "3.8.5"
  }
 },
 "nbformat": 4,
 "nbformat_minor": 4
}

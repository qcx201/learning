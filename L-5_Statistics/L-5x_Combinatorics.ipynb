{
 "cells": [
  {
   "cell_type": "markdown",
   "metadata": {},
   "source": [
    "# Combinatorics 1️⃣2️⃣3️⃣...👀\n",
    "\n",
    "In this chapter, we look at some basic combinatorics problems$-$counting problems."
   ]
  },
  {
   "cell_type": "markdown",
   "metadata": {},
   "source": [
    "## Setup\n",
    "\n",
    "Suppose we have a set that contains 5 characters, $S = \\lbrace a, b, c, d, e \\rbrace$.\n",
    "\n",
    "We'll use this simple set to represent our **`sample spaces`** for all challenges in this chapter. The definition of the term `sample space` will become self-evident."
   ]
  },
  {
   "cell_type": "code",
   "execution_count": 42,
   "metadata": {},
   "outputs": [],
   "source": [
    "# setup\n",
    "\n",
    "S = {'a', 'b', 'c', 'd', 'e'}"
   ]
  },
  {
   "cell_type": "markdown",
   "metadata": {},
   "source": [
    "## Ch.1: Permutations with Replacement\n",
    "\n",
    "Imagine that the elements of $S$ (our `sample space`) are characters that you can use to create a **`password`**.\n",
    "\n",
    "In combinatorics, we call the password that can be created from the characters **`permutations`** of those characters, because the **`order`** of the characters matter. For example, the password `abcde` $\\ne$ `edcba`, though they contain the same letters.\n",
    "\n",
    "**`Note:`** These are different from `combinations`! That's a different thing, though we usually say \"password combinations\" in colloquial settings. We will work with combinations later.\n",
    "\n",
    "Since the characters in the `sample space` can be used more than once, we say that these are permutations **`with replacement`**. For example, a password like `aabcd`, where `a` repeats, is allowed with replacement."
   ]
  },
  {
   "cell_type": "markdown",
   "metadata": {},
   "source": [
    "### Challenge 1.1: Passwords$-$Level 1🔏"
   ]
  },
  {
   "cell_type": "markdown",
   "metadata": {},
   "source": [
    "How many ways are there to make a **`2`**-character password from the characters in our `sample space` given the conditions below?\n",
    "\n",
    "1. You can use any character more than once, and\n",
    "2. The order of the characters matter (i.e.: `ab` $\\ne$ `ba`)\n",
    "\n",
    "Create a **`list`** of all such possible passwords."
   ]
  },
  {
   "cell_type": "code",
   "execution_count": 2,
   "metadata": {},
   "outputs": [],
   "source": [
    "# your code here"
   ]
  },
  {
   "cell_type": "code",
   "execution_count": null,
   "metadata": {},
   "outputs": [],
   "source": []
  },
  {
   "cell_type": "code",
   "execution_count": 52,
   "metadata": {},
   "outputs": [
    {
     "name": "stdout",
     "output_type": "stream",
     "text": [
      "['aa', 'ab', 'ac', 'ad', 'ae', 'ba', 'bb', 'bc', 'bd', 'be', 'ca', 'cb', 'cc', 'cd', 'ce', 'da', 'db', 'dc', 'dd', 'de', 'ea', 'eb', 'ec', 'ed', 'ee']\n",
      "Length: 5**2 =  25\n"
     ]
    }
   ],
   "source": [
    "# solution 1.1\n",
    "\n",
    "res = []\n",
    "\n",
    "for x in sorted([str(x) for x in S]):\n",
    "    for y in sorted(S):\n",
    "        res.append(x+y)\n",
    "        \n",
    "print(res)\n",
    "print(f'Length: {len(S)}**2 = ', len(res))"
   ]
  },
  {
   "cell_type": "markdown",
   "metadata": {},
   "source": [
    "$$\n",
    "\\begin{align}\n",
    "    \\text{5 chars} \\begin{cases}\n",
    "        a & \\to \\text{5 chars}\\begin{cases}\n",
    "            aa & \\to \\dots \\\\\n",
    "            ab & \\\\\n",
    "            ac & \\\\\n",
    "            ad & \\\\\n",
    "            ae & \\\\\n",
    "        \\end{cases} \\\\\n",
    "        b & \\\\\n",
    "        c & \\\\\n",
    "        d & \\\\\n",
    "        e & \\\\\n",
    "    \\end{cases}\n",
    "\\end{align}\n",
    "$$"
   ]
  },
  {
   "cell_type": "markdown",
   "metadata": {},
   "source": [
    "### Challenge 1.2: Passwords$-$Level 2 🔏"
   ]
  },
  {
   "cell_type": "markdown",
   "metadata": {},
   "source": [
    "How many ways are there to make a **`3`**-character password from characters in our `sample space` given the conditions below?\n",
    "\n",
    "1. You can use any character more than once, and\n",
    "2. The order of the characters matter (i.e.: `abc` $\\ne$ `bca`)?\n",
    "\n",
    "Create a **`list`** of all such possible passwords.\n",
    "\n",
    "For any number **`n`**, How many ways are there to make `n`-character passwords?"
   ]
  },
  {
   "cell_type": "code",
   "execution_count": 2,
   "metadata": {},
   "outputs": [],
   "source": [
    "# your code here"
   ]
  },
  {
   "cell_type": "code",
   "execution_count": null,
   "metadata": {},
   "outputs": [],
   "source": []
  },
  {
   "cell_type": "code",
   "execution_count": 45,
   "metadata": {},
   "outputs": [
    {
     "name": "stdout",
     "output_type": "stream",
     "text": [
      "['aaa', 'aab', 'aac', 'aad', 'aae', 'aba', ..., 'eea', 'eeb', 'eec', 'eed', 'eee']\n",
      "Length: 5**3 =  125\n"
     ]
    }
   ],
   "source": [
    "# solution 1.2\n",
    "\n",
    "res = sorted(S) # seed with set\n",
    "n = 3\n",
    "\n",
    "for _ in range(n-1): # blank iterator\n",
    "    \n",
    "    prev_res = res.copy() # copy of previous result\n",
    "    tmp = []\n",
    "    \n",
    "    for x in prev_res:\n",
    "        for y in sorted(S):\n",
    "            tmp.append(x+y)\n",
    "    \n",
    "    res = tmp\n",
    "    \n",
    "print(str(res[:6]).replace(']', ', ...,'), str(res[-5:]).replace('[', ''))\n",
    "print(f'Length: {len(S)}**{n} = ', len(res))"
   ]
  },
  {
   "cell_type": "code",
   "execution_count": null,
   "metadata": {},
   "outputs": [],
   "source": []
  },
  {
   "cell_type": "markdown",
   "metadata": {},
   "source": [
    "### Challenge 1.3: Passwords$-$Level 3 🔏"
   ]
  },
  {
   "cell_type": "markdown",
   "metadata": {},
   "source": [
    "How many ways are there to make a password, with **`n`** characters or less, from characters in our `sample space` given  the conditions below?\n",
    "\n",
    "1. You can use any character more than once, and\n",
    "2. The order of the characters matter (i.e.: `abc` $\\ne$ `bca`)?\n",
    "\n",
    "Create a **`list`** of all such possible passwords with **`n=3`**."
   ]
  },
  {
   "cell_type": "code",
   "execution_count": 2,
   "metadata": {},
   "outputs": [],
   "source": [
    "# your code here"
   ]
  },
  {
   "cell_type": "code",
   "execution_count": null,
   "metadata": {},
   "outputs": [],
   "source": []
  },
  {
   "cell_type": "code",
   "execution_count": 46,
   "metadata": {},
   "outputs": [
    {
     "name": "stdout",
     "output_type": "stream",
     "text": [
      "['a', 'b', 'c', 'd', 'e', 'aa', ..., 'eea', 'eeb', 'eec', 'eed', 'eee']\n",
      "Length: 5**1 + 5**2 + 5**3 =  155\n"
     ]
    }
   ],
   "source": [
    "# solution 1.3\n",
    "\n",
    "res = sorted(S) # seed with set\n",
    "lvl = res.copy() # level 1\n",
    "n = 3\n",
    "\n",
    "for _ in range(n-1): # blank iterator\n",
    "    \n",
    "    prev_lvl = lvl.copy() # copy of previous level\n",
    "    tmp = [] # empty temporary list\n",
    "    \n",
    "    for x in prev_lvl:\n",
    "        for y in sorted(S):\n",
    "            tmp.append(x+y)\n",
    "    \n",
    "    lvl = tmp\n",
    "    res.extend(tmp)\n",
    "\n",
    "\n",
    "print(str(res[:6]).replace(']', ', ...,'), str(res[-5:]).replace('[', ''))\n",
    "\n",
    "calc = ' + '.join(f'{len(S)}**{i}' for i in range(1, n+1))\n",
    "print(f'Length: {calc} = ', len(res))"
   ]
  },
  {
   "cell_type": "markdown",
   "metadata": {},
   "source": [
    "## Ch.1: Permutations without Replacement\n",
    "\n",
    "Imagine that the elements of $S$ (our `sample space`) are characters that you can use to create a **`secret code`**, where a character never repeats itself in the code.\n",
    "\n",
    "In this case, we are still dealing with **`permutations`** since the order matters. But these are permutations **`without replacement`**, since the elements cannot repeat. For example, a code like `abbc`, where `b` repeats, is ***not allowed*** without replacement."
   ]
  },
  {
   "cell_type": "markdown",
   "metadata": {},
   "source": [
    "### Challenge 2.1: Secret Code (Non-Repetitive)$-$Level 1🔏"
   ]
  },
  {
   "cell_type": "markdown",
   "metadata": {},
   "source": [
    "How many ways are there to make a **`2`**-character code from the characters in our `sample space` given the conditions below?\n",
    "\n",
    "1. You ***cannot*** use any character more than once, and\n",
    "2. The order of the characters matter (i.e.: `ab` $\\ne$ `ba`)\n",
    "\n",
    "Create a **`list`** of all such possible secret codes."
   ]
  },
  {
   "cell_type": "code",
   "execution_count": 56,
   "metadata": {},
   "outputs": [
    {
     "name": "stdout",
     "output_type": "stream",
     "text": [
      "['ab', 'ac', 'ad', 'ae', 'ba', 'bc', 'bd', 'be', 'ca', 'cb', 'cd', 'ce', 'da', 'db', 'dc', 'de', 'ea', 'eb', 'ec', 'ed']\n",
      "Length: 5 * 4 =  20\n"
     ]
    }
   ],
   "source": [
    "res = []\n",
    "\n",
    "for x in sorted(S):\n",
    "    for y in sorted(S):\n",
    "        if y != x:\n",
    "            res.append(x + y)\n",
    "\n",
    "print(res)\n",
    "print(f'Length: {len(S)} * {len(S)-1} = ', len(res))"
   ]
  },
  {
   "cell_type": "markdown",
   "metadata": {},
   "source": [
    "### Challenge 2.1: Secret Code (Non-Repetitive)$-$Level 2🔏"
   ]
  },
  {
   "cell_type": "markdown",
   "metadata": {},
   "source": [
    "How many ways are there to make a **`n`**-character code from the characters in our `sample space` given the conditions below?\n",
    "\n",
    "1. You ***cannot*** use any character more than once, and\n",
    "2. The order of the characters matter (i.e.: `ab` $\\ne$ `ba`)\n",
    "\n",
    "Create a **`list`** of all such possible secret codes for **`n = 5`**. Can you make such a list with **`n = 6`**?\n",
    "\n",
    "Can you come up with a **`mathematical formula`** that calculates the number of possible codes? ***`Hint:`***  the formula involves factorials."
   ]
  },
  {
   "cell_type": "code",
   "execution_count": 67,
   "metadata": {},
   "outputs": [
    {
     "name": "stdout",
     "output_type": "stream",
     "text": [
      "['abcde', 'abced', 'abdce', 'abdec', 'abecd', 'abedc', ..., 'edacb', 'edbac', 'edbca', 'edcab', 'edcba']\n",
      "Length: 5 * 4 * 3 * 2 * 1 = factorial(5) / factorial(5 - 5) =  120\n"
     ]
    }
   ],
   "source": [
    "n = 5\n",
    "\n",
    "res = sorted(S)\n",
    "\n",
    "for _ in range(n-1):\n",
    "        \n",
    "    prev = res.copy()\n",
    "    tmp = []\n",
    "    for x in prev:\n",
    "        for y in sorted(S):\n",
    "            if y not in x:\n",
    "                tmp.append(x+y)\n",
    "    res = tmp\n",
    "\n",
    "print(str(res[:6]).replace(']', ', ...,'), str(res[-5:]).replace('[', ''))\n",
    "\n",
    "calc = ' * '.join(f'{len(S)-i}' for i in range(n))\n",
    "print(f'Length: {calc} =', f'factorial({len(S)}) / factorial({len(S)} - {n}) = ', len(res))"
   ]
  },
  {
   "cell_type": "markdown",
   "metadata": {},
   "source": [
    "$$\n",
    "\\begin{align}\n",
    "    \\text{5 chars} \\begin{cases}\n",
    "        a & \\to \\text{4 chars}\\begin{cases}\n",
    "            ab & \\to \\text{3 chars} \\begin{cases}\n",
    "                abc & \\to \\dots \\\\\n",
    "                abd & \\\\\n",
    "                abe & \\\\\n",
    "            \\end{cases} \\\\\n",
    "            ac & \\\\\n",
    "            ad & \\\\\n",
    "            ae & \\\\\n",
    "        \\end{cases} \\\\\n",
    "        b & \\\\\n",
    "        c & \\\\\n",
    "        d & \\\\\n",
    "        e & \\\\\n",
    "    \\end{cases}\n",
    "\\end{align}\n",
    "$$"
   ]
  },
  {
   "cell_type": "code",
   "execution_count": null,
   "metadata": {},
   "outputs": [],
   "source": []
  }
 ],
 "metadata": {
  "kernelspec": {
   "display_name": "Python 3",
   "language": "python",
   "name": "python3"
  },
  "language_info": {
   "codemirror_mode": {
    "name": "ipython",
    "version": 3
   },
   "file_extension": ".py",
   "mimetype": "text/x-python",
   "name": "python",
   "nbconvert_exporter": "python",
   "pygments_lexer": "ipython3",
   "version": "3.8.5"
  }
 },
 "nbformat": 4,
 "nbformat_minor": 4
}

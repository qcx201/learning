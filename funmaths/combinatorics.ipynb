{
 "cells": [
  {
   "cell_type": "code",
   "execution_count": 129,
   "metadata": {},
   "outputs": [],
   "source": [
    "\n",
    "def comb_perm(levels=range(3), values=range(2)):\n",
    "\n",
    "    all_perm, all_comb = [],[]\n",
    "\n",
    "    for k in levels:\n",
    "\n",
    "        perm = []\n",
    "        comb = []\n",
    "        for _ in range(k+1):\n",
    "            if not perm:\n",
    "                perm = [[v] for v in values]\n",
    "                comb = perm\n",
    "            else:\n",
    "                tp, tc = [], []\n",
    "                for v in values:\n",
    "                    for x in comb:\n",
    "                        new = sorted(x+[v])\n",
    "                        if new not in tc:\n",
    "                            tc.append(new)\n",
    "                    for x in perm:\n",
    "                        new = x+[v]\n",
    "                        tp.append(new)\n",
    "\n",
    "\n",
    "                perm = tp\n",
    "                comb = tc\n",
    "\n",
    "        all_perm.extend(perm)\n",
    "        all_comb.extend(comb)\n",
    "        \n",
    "    return sorted(all_perm),sorted(all_comb)"
   ]
  },
  {
   "cell_type": "code",
   "execution_count": 130,
   "metadata": {},
   "outputs": [],
   "source": [
    "perms, combs = comb_perm(values=range(3))"
   ]
  },
  {
   "cell_type": "code",
   "execution_count": 131,
   "metadata": {},
   "outputs": [
    {
     "name": "stdout",
     "output_type": "stream",
     "text": [
      "[0]\n",
      "[0, 0]\n",
      "[0, 0, 0]\n",
      "[0, 0, 1]\n",
      "[0, 0, 2]\n",
      "[0, 1]\n",
      "[0, 1, 1]\n",
      "[0, 1, 2]\n",
      "[0, 2]\n",
      "[0, 2, 2]\n",
      "[1]\n",
      "[1, 1]\n",
      "[1, 1, 1]\n",
      "[1, 1, 2]\n",
      "[1, 2]\n",
      "[1, 2, 2]\n",
      "[2]\n",
      "[2, 2]\n",
      "[2, 2, 2]\n"
     ]
    }
   ],
   "source": [
    "for x in combs:\n",
    "    print(x)"
   ]
  },
  {
   "cell_type": "code",
   "execution_count": 132,
   "metadata": {
    "scrolled": true
   },
   "outputs": [
    {
     "name": "stdout",
     "output_type": "stream",
     "text": [
      "[0]\n",
      "[0, 0]\n",
      "[0, 0, 0]\n",
      "[0, 0, 1]\n",
      "[0, 0, 2]\n",
      "[0, 1]\n",
      "[0, 1, 0]\n",
      "[0, 1, 1]\n",
      "[0, 1, 2]\n",
      "[0, 2]\n",
      "[0, 2, 0]\n",
      "[0, 2, 1]\n",
      "[0, 2, 2]\n",
      "[1]\n",
      "[1, 0]\n",
      "[1, 0, 0]\n",
      "[1, 0, 1]\n",
      "[1, 0, 2]\n",
      "[1, 1]\n",
      "[1, 1, 0]\n",
      "[1, 1, 1]\n",
      "[1, 1, 2]\n",
      "[1, 2]\n",
      "[1, 2, 0]\n",
      "[1, 2, 1]\n",
      "[1, 2, 2]\n",
      "[2]\n",
      "[2, 0]\n",
      "[2, 0, 0]\n",
      "[2, 0, 1]\n",
      "[2, 0, 2]\n",
      "[2, 1]\n",
      "[2, 1, 0]\n",
      "[2, 1, 1]\n",
      "[2, 1, 2]\n",
      "[2, 2]\n",
      "[2, 2, 0]\n",
      "[2, 2, 1]\n",
      "[2, 2, 2]\n"
     ]
    }
   ],
   "source": [
    "for x in perms:\n",
    "    print(x)"
   ]
  },
  {
   "cell_type": "code",
   "execution_count": 128,
   "metadata": {},
   "outputs": [
    {
     "name": "stdout",
     "output_type": "stream",
     "text": [
      "Combinations: 4\n",
      "Permutations: 8\n"
     ]
    }
   ],
   "source": [
    "print(f'Combinations: {len(comb)}\\nPermutations: {len(perm)}')"
   ]
  }
 ],
 "metadata": {
  "kernelspec": {
   "display_name": "Python 3",
   "language": "python",
   "name": "python3"
  },
  "language_info": {
   "codemirror_mode": {
    "name": "ipython",
    "version": 3
   },
   "file_extension": ".py",
   "mimetype": "text/x-python",
   "name": "python",
   "nbconvert_exporter": "python",
   "pygments_lexer": "ipython3",
   "version": "3.7.6"
  }
 },
 "nbformat": 4,
 "nbformat_minor": 4
}

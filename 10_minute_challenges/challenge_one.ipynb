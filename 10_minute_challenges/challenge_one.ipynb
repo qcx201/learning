{
 "cells": [
  {
   "cell_type": "code",
   "execution_count": null,
   "metadata": {},
   "outputs": [],
   "source": [
    "# Run me 👇"
   ]
  },
  {
   "cell_type": "code",
   "execution_count": null,
   "metadata": {
    "scrolled": false
   },
   "outputs": [],
   "source": [
    "%%html\n",
    "<!DOCTYPE html>\n",
    "<!-- code stolen from: https://www.sitepoint.com/build-javascript-countdown-timer-no-dependencies/ -->\n",
    "<html>\n",
    "    <head>\n",
    "        <style>\n",
    "            .challenge {\n",
    "                padding: 1px 25px 1px  25px;\n",
    "                background-color: black;\n",
    "                color: white;\n",
    "            }\n",
    "            #hello {\n",
    "                color : RGB(250,100,200);\n",
    "                font-size: 80px;\n",
    "                -webkit-text-stroke: 3px white;\n",
    "            }\n",
    "            #today {\n",
    "                font-weight: bold;\n",
    "            }\n",
    "            #startTimer {\n",
    "                margin: 10px;\n",
    "                text-align: center;\n",
    "                align-content: center;\n",
    "                font-size: 16px;\n",
    "                color: black;\n",
    "                font-weight: strong;\n",
    "            }\n",
    "            #clockdiv {\n",
    "                display: inline-block;\n",
    "                text-align: center;\n",
    "                font-weight: bold;\n",
    "                font-size: 25px;\n",
    "                margin: 10px;\n",
    "                padding-bottom: 1em;\n",
    "            }\n",
    "            #clockdiv > div{\n",
    "                padding: 10px;\n",
    "                border-radius: 3px;\n",
    "                display: inline-block;\n",
    "            }\n",
    "\n",
    "            #clockdiv div > span{\n",
    "                padding: 15px;\n",
    "                border-radius: 3px;\n",
    "                display: inline-block;\n",
    "            }\n",
    "            \n",
    "        </style>\n",
    "    </head>\n",
    "    <main>  \n",
    "        <div class=\"challenge\">\n",
    "            <div>\n",
    "                <h1 id=\"hello\">10 Minute Challenge</h1>\n",
    "                <p id=\"today\"></p>\n",
    "                <p><br>Press button to start timer.<br><br>You&apos;ll have 10 minutes to complete as many of the below <b>python</b> challenges as you can.<br><br>Good luck! 🐍</p>\n",
    "            </div>\n",
    "            <div>\n",
    "                <button id=\"startTimer\" type=\"submit\" onclick=\"start()\">Start</button>\n",
    "            </div>\n",
    "            <div id=\"clockdiv\">\n",
    "                <div>\n",
    "                    <span class=\"minutes\"></span>\n",
    "                    <div class=\"smalltext\">minutes</div>\n",
    "                </div>\n",
    "                <div>\n",
    "                    <span class=\"seconds\"></span>\n",
    "                    <div class=\"smalltext\">seconds</div>\n",
    "                </div>\n",
    "            </div>\n",
    "        </div>\n",
    "    </main>\n",
    "\n",
    "    <script>\n",
    "    \n",
    "        // set date and change background\n",
    "        document.getElementById(\"today\").innerHTML += Date();\n",
    "        \n",
    "        function blackOut(){\n",
    "            document.body.style.background = 'black';\n",
    "        }\n",
    "        \n",
    "        setTimeout(blackOut, 3000); // wait 3 seconds\n",
    "\n",
    "        function getTimeRemaining(endTime){\n",
    "            const total = Date.parse(endTime) - Date.parse(new Date());\n",
    "            const seconds = Math.floor((total/1000) % 60);\n",
    "            const minutes = Math.floor((total/(1000*60)));\n",
    "\n",
    "            return {\n",
    "                total,\n",
    "                minutes,\n",
    "                seconds\n",
    "            };\n",
    "        }\n",
    "\n",
    "        function initializeClock(id, endTime) {\n",
    "\n",
    "            const clock = document.getElementById(id);\n",
    "            const minutesSpan = clock.querySelector('.minutes');\n",
    "            const secondsSpan = clock.querySelector('.seconds');\n",
    "\n",
    "                function updateClock(){\n",
    "                    const t = getTimeRemaining(endTime);\n",
    "                    minutesSpan.innerHTML = ('0' + t.minutes).slice(-2);\n",
    "                    secondsSpan.innerHTML = ('0' + t.seconds).slice(-2);\n",
    "                \n",
    "                if (t.total<60*1000 && firstAlert && t.total > 0){\n",
    "                    alert(\"⏳ 1 minute left! ⌛\");\n",
    "                    firstAlert = false;\n",
    "                };\n",
    "                    \n",
    "                if (t.total<20*1000 && t.total > 0){\n",
    "                    \n",
    "                    if (lastAlert){\n",
    "                        alert(\"🙈 20 seconds!!! 🙈\");\n",
    "                        lastAlert = false;\n",
    "                    };\n",
    "                    \n",
    "                    \n",
    "                };\n",
    "                if (t.total<=0) {\n",
    "                    clearInterval(timeinterval);\n",
    "                    IPython.notebook.kernel.kill(); // kill kernel\n",
    "                    alert(\"⏳🐍🙌 Time's up! 🙌🐍⌛\");\n",
    "                };\n",
    "            }\n",
    "            \n",
    "            var firstAlert = true;\n",
    "            var lastAlert = true;\n",
    "            updateClock();\n",
    "            \n",
    "            const timeinterval = setInterval(updateClock, 500);\n",
    "        }\n",
    "        \n",
    "        var started = false;\n",
    "        function start(){\n",
    "            if (!started){\n",
    "                initializeClock('clockdiv', new Date(Date.parse(new Date()) + 10*60*1000));\n",
    "                started = true;\n",
    "            }\n",
    "        }\n",
    "        \n",
    "    </script>\n",
    "</html>"
   ]
  },
  {
   "cell_type": "markdown",
   "metadata": {},
   "source": [
    "# Challenge 1 🍰\n",
    "\n",
    "Print all numbers from <b>`0 to 99`</b>, all inclusive, **`99`** times consecutively."
   ]
  },
  {
   "cell_type": "code",
   "execution_count": null,
   "metadata": {},
   "outputs": [],
   "source": [
    "# your code here"
   ]
  },
  {
   "cell_type": "markdown",
   "metadata": {},
   "source": [
    "# Challenge 2 🧭\n",
    "Create a list of all numbers from **`99 to 0`** in descending order.\n",
    "\n",
    "***`Bonus`*** for using a list comprehension."
   ]
  },
  {
   "cell_type": "code",
   "execution_count": null,
   "metadata": {},
   "outputs": [],
   "source": [
    "# your code here"
   ]
  },
  {
   "cell_type": "code",
   "execution_count": null,
   "metadata": {},
   "outputs": [],
   "source": []
  },
  {
   "cell_type": "markdown",
   "metadata": {},
   "source": [
    "# Challenge 3 🎣\n",
    "Print all numbers from <b>`0 to 99`</b> except for multiples of <b>`3`</b> and <b>`5`</b>.\n",
    "\n",
    "***i.e.:*** `1, 2, 4, 6, 7, 8, 11,...`\n",
    "\n",
    "**`Hint: %`**"
   ]
  },
  {
   "cell_type": "code",
   "execution_count": null,
   "metadata": {},
   "outputs": [],
   "source": [
    "# your code here"
   ]
  },
  {
   "cell_type": "code",
   "execution_count": null,
   "metadata": {},
   "outputs": [],
   "source": []
  },
  {
   "cell_type": "markdown",
   "metadata": {},
   "source": [
    "# Challenge 4 🤖\n",
    "Create a list of all ***prime*** integers between **`0 to 99`**. A prime is a number whose only factors are ***itself*** and ***1***.\n",
    "\n",
    "***e.g.:*** 5 is prime because it's a multiple of only 5 and 1 — it is not divisible by 2, 3, or 4.\n",
    "\n",
    "***`Super Bonus`*** for using a list comprehension."
   ]
  },
  {
   "cell_type": "code",
   "execution_count": null,
   "metadata": {},
   "outputs": [],
   "source": [
    "# your code here"
   ]
  },
  {
   "cell_type": "code",
   "execution_count": null,
   "metadata": {},
   "outputs": [],
   "source": []
  },
  {
   "cell_type": "markdown",
   "metadata": {},
   "source": [
    "# Challenge 5 👯‍♀️\n",
    "Create a dictionary whose keys are all the integers between **`1 to 100`** and whose values are the same as the keys.\n",
    "\n",
    "***i.e.:*** \n",
    "```python\n",
    "{1:1, 2:2, ..., 99:99, 100:100}\n",
    "```\n"
   ]
  },
  {
   "cell_type": "code",
   "execution_count": null,
   "metadata": {},
   "outputs": [],
   "source": [
    "# your code here"
   ]
  },
  {
   "cell_type": "code",
   "execution_count": null,
   "metadata": {},
   "outputs": [],
   "source": []
  },
  {
   "cell_type": "markdown",
   "metadata": {},
   "source": [
    "# Challenge 6 🌽\n",
    "Create a dictionary whose keys are all the integers from **`1 to 100`**. The values of each key is a list of all numbers between **`1 to 100`** that are multiples of the key.\n",
    "\n",
    "***i.e.:***\n",
    "\n",
    "```python\n",
    "result = {\n",
    "        1 : [1, 2, 3, ..., 100],\n",
    "        2 : [2, 4, 6, ..., 100],\n",
    "        3 : [3, 6, 9, ..., 99],\n",
    "    \n",
    "                 ⋮\n",
    "    \n",
    "        100 : [100]\n",
    "        }\n",
    "```"
   ]
  },
  {
   "cell_type": "code",
   "execution_count": null,
   "metadata": {},
   "outputs": [],
   "source": [
    "# your code here"
   ]
  },
  {
   "cell_type": "code",
   "execution_count": null,
   "metadata": {},
   "outputs": [],
   "source": []
  },
  {
   "cell_type": "markdown",
   "metadata": {},
   "source": [
    "# Challenge 7 🌶\n",
    "Print all integers from <b>`0 to 99`</b> in mirroring alternating order, i.e.:\n",
    "***`0, 99, 1, 98, ... 99, 0`***\n",
    "\n",
    "**`Hint:`** Try the next question first."
   ]
  },
  {
   "cell_type": "code",
   "execution_count": null,
   "metadata": {},
   "outputs": [],
   "source": [
    "# your code here"
   ]
  },
  {
   "cell_type": "code",
   "execution_count": null,
   "metadata": {
    "scrolled": true
   },
   "outputs": [],
   "source": []
  },
  {
   "cell_type": "markdown",
   "metadata": {},
   "source": [
    "# Challenge 8 🚀\n",
    "Create a dictionary whose keys are all integers from **`0 to 99`**, and whose values are the mirroring numbers opposite the key in the range.\n",
    "\n",
    "***i.e.:***\n",
    "```python\n",
    "{0:99, 1:98, 2:97, 3:96 ..., 98:1, 99:0}\n",
    "```"
   ]
  },
  {
   "cell_type": "code",
   "execution_count": null,
   "metadata": {},
   "outputs": [],
   "source": [
    "# your code here"
   ]
  },
  {
   "cell_type": "code",
   "execution_count": null,
   "metadata": {},
   "outputs": [],
   "source": []
  }
 ],
 "metadata": {
  "kernelspec": {
   "display_name": "Python 3",
   "language": "python",
   "name": "python3"
  },
  "language_info": {
   "codemirror_mode": {
    "name": "ipython",
    "version": 3
   },
   "file_extension": ".py",
   "mimetype": "text/x-python",
   "name": "python",
   "nbconvert_exporter": "python",
   "pygments_lexer": "ipython3",
   "version": "3.7.6"
  }
 },
 "nbformat": 4,
 "nbformat_minor": 4
}

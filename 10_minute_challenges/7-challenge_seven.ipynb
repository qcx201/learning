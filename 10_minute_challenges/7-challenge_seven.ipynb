{
 "cells": [
  {
   "cell_type": "markdown",
   "metadata": {},
   "source": [
    "---\n",
    "# Challenge 7.1 📐\n",
    "\n",
    "Consider a pyramid constructed of the numbers from **`0 to 9`**:\n",
    "```\n",
    "0\n",
    "12\n",
    "345\n",
    "6789\n",
    "01234\n",
    "567890\n",
    " ⋮\n",
    "```\n",
    "\n",
    "**`Print`** a pyramid with **`20`** layers."
   ]
  },
  {
   "cell_type": "code",
   "execution_count": null,
   "metadata": {},
   "outputs": [],
   "source": [
    "# your code here"
   ]
  },
  {
   "cell_type": "code",
   "execution_count": null,
   "metadata": {},
   "outputs": [],
   "source": []
  },
  {
   "cell_type": "markdown",
   "metadata": {},
   "source": [
    "# Challenge 7.2 🕰\n",
    "\n",
    "**Part 1:** Create a **`function`** named `tell_time()` that takes an integer argument, **`t`**, representing time in seconds.\n",
    "\n",
    "The function should print a message that tells how long `t` seconds are in **`years`, `days`, `hours`, `minutes`,** and **`seconds`**.\n",
    "\n",
    "***`e.g.:`***\n",
    "\n",
    "`tell_time(100)` prints `...0 hr 1 m 40 s`\n",
    "\n",
    "`tell_time(5400)` prints `...0 dy 1 hr 30 m 0 s`\n",
    "\n",
    "<br>\n",
    "\n",
    "**Part 2:** **`Print`** the converted time for **`one billion`** seconds.\n",
    "\n",
    "---\n",
    "\n",
    "***`Bonus:`*** print output with only units that have non-zero values.\n",
    "\n",
    "***`e.g.:`***\n",
    "\n",
    "`tell_time(5400)` prints `1 hr 30 m`\n",
    "\n",
    "`tell_time(86400)` prints `1 dy`"
   ]
  },
  {
   "cell_type": "code",
   "execution_count": null,
   "metadata": {},
   "outputs": [],
   "source": [
    "# your code here"
   ]
  },
  {
   "cell_type": "code",
   "execution_count": null,
   "metadata": {},
   "outputs": [],
   "source": []
  }
 ],
 "metadata": {
  "kernelspec": {
   "display_name": "Python 3",
   "language": "python",
   "name": "python3"
  },
  "language_info": {
   "codemirror_mode": {
    "name": "ipython",
    "version": 3
   },
   "file_extension": ".py",
   "mimetype": "text/x-python",
   "name": "python",
   "nbconvert_exporter": "python",
   "pygments_lexer": "ipython3",
   "version": "3.7.6"
  }
 },
 "nbformat": 4,
 "nbformat_minor": 4
}

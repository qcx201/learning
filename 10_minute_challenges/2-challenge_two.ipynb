{
 "cells": [
  {
   "cell_type": "code",
   "execution_count": null,
   "metadata": {},
   "outputs": [],
   "source": [
    "# Run me 👇"
   ]
  },
  {
   "cell_type": "code",
   "execution_count": null,
   "metadata": {
    "scrolled": false
   },
   "outputs": [],
   "source": [
    "%%html\n",
    "<!DOCTYPE html>\n",
    "<!-- code stolen from: https://www.sitepoint.com/build-javascript-countdown-timer-no-dependencies/ -->\n",
    "<html>\n",
    "    <head>\n",
    "        <style>\n",
    "            #challenge {\n",
    "                padding: 1px 25px 1px  25px;\n",
    "                background: black;\n",
    "                color: white;\n",
    "            }\n",
    "            #hello {\n",
    "                color : RGB(250,100,200);\n",
    "                font-size: 80px;\n",
    "                -webkit-text-stroke: 3px white;\n",
    "            }\n",
    "            #today {\n",
    "                font-weight: bold;\n",
    "            }\n",
    "            #startTimer {\n",
    "                margin: 10px;\n",
    "                text-align: center;\n",
    "                align-content: center;\n",
    "                font-size: 16px;\n",
    "                color: black;\n",
    "                font-weight: strong;\n",
    "            }\n",
    "            #clockdiv {\n",
    "                display: inline-block;\n",
    "                text-align: center;\n",
    "                font-weight: bold;\n",
    "                font-size: 25px;\n",
    "                margin: 10px;\n",
    "                padding-bottom: 1em;\n",
    "            }\n",
    "            .smalltext{\n",
    "                font-size: 14px;\n",
    "            }\n",
    "            #clockdiv > div{\n",
    "                padding: 10px;\n",
    "                border-radius: 3px;\n",
    "                display: inline-block;\n",
    "            }\n",
    "\n",
    "            #clockdiv div > span{\n",
    "                padding: 15px;\n",
    "                border-radius: 3px;\n",
    "                display: inline-block;\n",
    "            }\n",
    "            \n",
    "        </style>\n",
    "    </head>\n",
    "    <main>  \n",
    "        <div id=\"challenge\">\n",
    "            <div>\n",
    "                <h1 id=\"hello\">10 Minute Challenge</h1>\n",
    "                <p id=\"today\"></p>\n",
    "                <p><br>Press button to start timer.<br><br>You&apos;ll have 10 minutes to attempt the challenges below<b>python</b> challenges as you can.<br><br>Good luck! 🐍</p>\n",
    "            </div>\n",
    "            <div>\n",
    "                <button id=\"startTimer\" type=\"submit\" onclick=\"start()\">Start</button>\n",
    "            </div>\n",
    "            <div id=\"clockdiv\">\n",
    "                <div>\n",
    "                    <span class=\"minutes\"></span>\n",
    "                    <div class=\"smalltext\">minutes</div>\n",
    "                </div>\n",
    "                <div>\n",
    "                    <span class=\"seconds\"></span>\n",
    "                    <div class=\"smalltext\">seconds</div>\n",
    "                </div>\n",
    "            </div>\n",
    "        </div>\n",
    "    </main>\n",
    "\n",
    "    <script>\n",
    "    \n",
    "        // set date and change background\n",
    "        document.getElementById(\"today\").innerHTML += Date();\n",
    "        \n",
    "        function blackOut(){\n",
    "            document.body.style.background = black;\n",
    "        }\n",
    "        \n",
    "        setTimeout(blackOut, 2000); // wait 3 seconds\n",
    "\n",
    "        function getTimeRemaining(endTime){\n",
    "            const total = Date.parse(endTime) - Date.parse(new Date());\n",
    "            const seconds = Math.floor((total/1000) % 60);\n",
    "            const minutes = Math.floor((total/(1000*60)));\n",
    "\n",
    "            return {\n",
    "                total,\n",
    "                minutes,\n",
    "                seconds\n",
    "            };\n",
    "        }\n",
    "\n",
    "        function initializeClock(id, endTime) {\n",
    "\n",
    "            const clock = document.getElementById(id);\n",
    "            const minutesSpan = clock.querySelector('.minutes');\n",
    "            const secondsSpan = clock.querySelector('.seconds');\n",
    "\n",
    "                function updateClock(){\n",
    "                    const t = getTimeRemaining(endTime);\n",
    "                    minutesSpan.innerHTML = ('0' + t.minutes).slice(-2);\n",
    "                    secondsSpan.innerHTML = ('0' + t.seconds).slice(-2);\n",
    "                \n",
    "                if (t.total<60*1000 && firstAlert && t.total > 0){\n",
    "                    alert(\"⏳ 1 minute left! ⌛\");\n",
    "                    firstAlert = false;\n",
    "                };\n",
    "                    \n",
    "                if (t.total<20*1000 && t.total > 0){\n",
    "                    \n",
    "                    if (lastAlert){\n",
    "                        alert(\"🙈 20 seconds!!! 🙈\");\n",
    "                        lastAlert = false;\n",
    "                    };\n",
    "                    \n",
    "                    \n",
    "                };\n",
    "                if (t.total<=0) {\n",
    "                    clearInterval(timeinterval);\n",
    "                    IPython.notebook.kernel.kill(); // kill kernel\n",
    "                    alert(\"⏳🐍🙌 Time's up! 🙌🐍⌛\");\n",
    "                };\n",
    "            }\n",
    "            \n",
    "            var firstAlert = true;\n",
    "            var lastAlert = true;\n",
    "            updateClock();\n",
    "            \n",
    "            const timeinterval = setInterval(updateClock, 500);\n",
    "        }\n",
    "        \n",
    "        var started = false;\n",
    "        function start(){\n",
    "            if (!started){\n",
    "                initializeClock('clockdiv', new Date(Date.parse(new Date()) + 10*60*1000));\n",
    "                started = true;\n",
    "            }\n",
    "        }\n",
    "        \n",
    "    </script>\n",
    "</html>"
   ]
  },
  {
   "cell_type": "markdown",
   "metadata": {},
   "source": [
    "---\n",
    "# Challenge  1 🧭\n",
    "Create a **`list`** of all numbers from **`99 to 0`** in descending order.\n",
    "\n",
    "***`Bonus`*** for using a list comprehension."
   ]
  },
  {
   "cell_type": "code",
   "execution_count": null,
   "metadata": {},
   "outputs": [],
   "source": [
    "# your code here"
   ]
  },
  {
   "cell_type": "code",
   "execution_count": null,
   "metadata": {},
   "outputs": [],
   "source": []
  },
  {
   "cell_type": "markdown",
   "metadata": {},
   "source": [
    "# Challenge 2 📐\n",
    "\n",
    "Consider a pyramid where each layer is constructed with numbers from **`0 to 9`**:\n",
    "\n",
    "```\n",
    "0\n",
    "11\n",
    "222\n",
    "3333\n",
    " ⋮\n",
    "9999999999\n",
    "00000000000\n",
    "111111111111\n",
    "```\n",
    "\n",
    "**`Print`** two pyramids, one with **`10`** layers and one with **`20`** layers.\n",
    "\n",
    "**`Hint:` %**"
   ]
  },
  {
   "cell_type": "code",
   "execution_count": null,
   "metadata": {},
   "outputs": [],
   "source": [
    "# your code here"
   ]
  },
  {
   "cell_type": "code",
   "execution_count": null,
   "metadata": {},
   "outputs": [],
   "source": []
  },
  {
   "cell_type": "markdown",
   "metadata": {},
   "source": [
    "# Challenge 3 👆👇\n",
    "\n",
    "Create a **`list`** that contains the numbers from **`0 to 100`** that increase in order and then comes back down again.\n",
    "\n",
    "***`i.e.:`*** `[0, 1, 2, ..., 98, 99, 100, 99, ..., 3, 2, 1, 0]`."
   ]
  },
  {
   "cell_type": "code",
   "execution_count": null,
   "metadata": {},
   "outputs": [],
   "source": [
    "# your code here"
   ]
  },
  {
   "cell_type": "code",
   "execution_count": null,
   "metadata": {},
   "outputs": [],
   "source": []
  },
  {
   "cell_type": "markdown",
   "metadata": {},
   "source": [
    "# Challenge 4 🔥\n",
    "Create a **`dict`** whose keys are all integers from **`0 to 99`**, and whose values are the mirroring numbers opposite the key in the range.\n",
    "\n",
    "***`i.e.:`***\n",
    "```python\n",
    "{0:99, 1:98, 2:97, 3:96 ..., 98:1, 99:0}\n",
    "```"
   ]
  },
  {
   "cell_type": "code",
   "execution_count": null,
   "metadata": {},
   "outputs": [],
   "source": [
    "# your code here"
   ]
  },
  {
   "cell_type": "code",
   "execution_count": null,
   "metadata": {},
   "outputs": [],
   "source": []
  },
  {
   "cell_type": "markdown",
   "metadata": {},
   "source": [
    "# Challenge 5 🐇\n",
    "Create a **`list`** of numbers between <b>`0 to 99`</b> that alternate between opposite ends of the range.\n",
    "\n",
    "***`i.e.:`*** `[0, 99, 1, 98, ..., 1, 99, 0]`"
   ]
  },
  {
   "cell_type": "code",
   "execution_count": null,
   "metadata": {},
   "outputs": [],
   "source": [
    "# your code here"
   ]
  },
  {
   "cell_type": "code",
   "execution_count": null,
   "metadata": {
    "scrolled": true
   },
   "outputs": [],
   "source": []
  }
 ],
 "metadata": {
  "kernelspec": {
   "display_name": "Python 3",
   "language": "python",
   "name": "python3"
  },
  "language_info": {
   "codemirror_mode": {
    "name": "ipython",
    "version": 3
   },
   "file_extension": ".py",
   "mimetype": "text/x-python",
   "name": "python",
   "nbconvert_exporter": "python",
   "pygments_lexer": "ipython3",
   "version": "3.7.6"
  }
 },
 "nbformat": 4,
 "nbformat_minor": 4
}

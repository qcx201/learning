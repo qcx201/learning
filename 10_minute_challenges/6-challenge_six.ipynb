{
 "cells": [
  {
   "cell_type": "markdown",
   "metadata": {},
   "source": [
    "---\n",
    "# Challenge 6.1\n",
    "\n",
    "Create a **`function`** named **`get_multiples`** that takes two integer arguments, **`n`** and **`limit`**. Both arguments should be non-zero, positive integers.\n",
    "\n",
    "The function returns a list of all multiples of `n` that are less than or equal to the `limit`.\n",
    "\n",
    "***`e.g.:`***\n",
    "\n",
    "`get_multiples(2, 10)` returns `[2, 4, 6, 8, 10]`\n",
    "\n",
    "`get_multiples(3, 10)` returns `[3, 6, 9]`\n",
    "\n",
    "What happens if you allow the function to take **`n = 0`** as an argument?"
   ]
  },
  {
   "cell_type": "code",
   "execution_count": null,
   "metadata": {},
   "outputs": [],
   "source": [
    "# your code here"
   ]
  },
  {
   "cell_type": "code",
   "execution_count": null,
   "metadata": {},
   "outputs": [],
   "source": []
  },
  {
   "cell_type": "markdown",
   "metadata": {},
   "source": [
    "# Challenge 6.2 🌽\n",
    "Create a **`dict`** whose keys are all the number from **`1 to 100`**. The value for each key is the list of numbers between **`1 to 100`** that are multiples of the key.\n",
    "\n",
    "***`i.e.:`***\n",
    "\n",
    "```python\n",
    "result == {\n",
    "        1 : [1, 2, 3, ..., 100],\n",
    "        2 : [2, 4, 6, ..., 100],\n",
    "        3 : [3, 6, 9, ..., 99],\n",
    "    \n",
    "                ⋮\n",
    "    \n",
    "        100 : [100]\n",
    "        }\n",
    "```\n",
    "\n",
    "***`Bonus`*** for using a dictionary comprehension."
   ]
  },
  {
   "cell_type": "code",
   "execution_count": 2,
   "metadata": {},
   "outputs": [],
   "source": [
    "# your code here"
   ]
  },
  {
   "cell_type": "code",
   "execution_count": null,
   "metadata": {
    "scrolled": true
   },
   "outputs": [],
   "source": []
  }
 ],
 "metadata": {
  "kernelspec": {
   "display_name": "Python 3",
   "language": "python",
   "name": "python3"
  },
  "language_info": {
   "codemirror_mode": {
    "name": "ipython",
    "version": 3
   },
   "file_extension": ".py",
   "mimetype": "text/x-python",
   "name": "python",
   "nbconvert_exporter": "python",
   "pygments_lexer": "ipython3",
   "version": "3.7.6"
  }
 },
 "nbformat": 4,
 "nbformat_minor": 4
}

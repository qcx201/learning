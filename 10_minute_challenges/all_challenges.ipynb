{
 "cells": [
  {
   "cell_type": "code",
   "execution_count": null,
   "metadata": {},
   "outputs": [],
   "source": [
    "# Run me 👇"
   ]
  },
  {
   "cell_type": "code",
   "execution_count": null,
   "metadata": {
    "scrolled": false
   },
   "outputs": [],
   "source": [
    "%%html\n",
    "<!DOCTYPE html>\n",
    "<!-- code stolen from: https://www.sitepoint.com/build-javascript-countdown-timer-no-dependencies/ -->\n",
    "<html>\n",
    "    <head>\n",
    "        <style>\n",
    "            #challenge {\n",
    "                padding: 1px 25px 1px  25px;\n",
    "                background: black;\n",
    "                color: white;\n",
    "            }\n",
    "            #hello {\n",
    "                color : RGB(250,100,200);\n",
    "                font-size: 80px;\n",
    "                -webkit-text-stroke: 3px white;\n",
    "            }\n",
    "            #today {\n",
    "                font-weight: bold;\n",
    "            }\n",
    "            #startTimer {\n",
    "                margin: 10px;\n",
    "                text-align: center;\n",
    "                align-content: center;\n",
    "                font-size: 16px;\n",
    "                color: black;\n",
    "                font-weight: strong;\n",
    "            }\n",
    "            #clockdiv {\n",
    "                display: inline-block;\n",
    "                text-align: center;\n",
    "                font-weight: bold;\n",
    "                font-size: 25px;\n",
    "                margin: 10px;\n",
    "                padding-bottom: 1em;\n",
    "            }\n",
    "            .smalltext{\n",
    "                font-size: 14px;\n",
    "            }\n",
    "            #clockdiv > div{\n",
    "                padding: 10px;\n",
    "                border-radius: 3px;\n",
    "                display: inline-block;\n",
    "            }\n",
    "\n",
    "            #clockdiv div > span{\n",
    "                padding: 15px;\n",
    "                border-radius: 3px;\n",
    "                display: inline-block;\n",
    "            }\n",
    "            \n",
    "        </style>\n",
    "    </head>\n",
    "    <main>  \n",
    "        <div id=\"challenge\">\n",
    "            <div>\n",
    "                <h1 id=\"hello\">10 Minute Challenge</h1>\n",
    "                <p id=\"today\"></p>\n",
    "                <p><br>Press button to start timer.<br><br>You&apos;ll have 10 minutes to attempt the challenges below<b>python</b> challenges as you can.<br><br>Good luck! 🐍</p>\n",
    "            </div>\n",
    "            <div>\n",
    "                <button id=\"startTimer\" type=\"submit\" onclick=\"start()\">Start</button>\n",
    "            </div>\n",
    "            <div id=\"clockdiv\">\n",
    "                <div>\n",
    "                    <span class=\"minutes\"></span>\n",
    "                    <div class=\"smalltext\">minutes</div>\n",
    "                </div>\n",
    "                <div>\n",
    "                    <span class=\"seconds\"></span>\n",
    "                    <div class=\"smalltext\">seconds</div>\n",
    "                </div>\n",
    "            </div>\n",
    "        </div>\n",
    "    </main>\n",
    "\n",
    "    <script>\n",
    "    \n",
    "        // set date and change background\n",
    "        document.getElementById(\"today\").innerHTML += Date();\n",
    "        \n",
    "        function blackOut(){\n",
    "            document.body.style.background = black;\n",
    "        }\n",
    "        \n",
    "        setTimeout(blackOut, 2000); // wait 3 seconds\n",
    "\n",
    "        function getTimeRemaining(endTime){\n",
    "            const total = Date.parse(endTime) - Date.parse(new Date());\n",
    "            const seconds = Math.floor((total/1000) % 60);\n",
    "            const minutes = Math.floor((total/(1000*60)));\n",
    "\n",
    "            return {\n",
    "                total,\n",
    "                minutes,\n",
    "                seconds\n",
    "            };\n",
    "        }\n",
    "\n",
    "        function initializeClock(id, endTime) {\n",
    "\n",
    "            const clock = document.getElementById(id);\n",
    "            const minutesSpan = clock.querySelector('.minutes');\n",
    "            const secondsSpan = clock.querySelector('.seconds');\n",
    "\n",
    "                function updateClock(){\n",
    "                    const t = getTimeRemaining(endTime);\n",
    "                    minutesSpan.innerHTML = ('0' + t.minutes).slice(-2);\n",
    "                    secondsSpan.innerHTML = ('0' + t.seconds).slice(-2);\n",
    "                \n",
    "                if (t.total<60*1000 && firstAlert && t.total > 0){\n",
    "                    alert(\"⏳ 1 minute left! ⌛\");\n",
    "                    firstAlert = false;\n",
    "                };\n",
    "                    \n",
    "                if (t.total<20*1000 && t.total > 0){\n",
    "                    \n",
    "                    if (lastAlert){\n",
    "                        alert(\"🙈 20 seconds!!! 🙈\");\n",
    "                        lastAlert = false;\n",
    "                    };\n",
    "                    \n",
    "                    \n",
    "                };\n",
    "                if (t.total<=0) {\n",
    "                    clearInterval(timeinterval);\n",
    "                    IPython.notebook.kernel.kill(); // kill kernel\n",
    "                    alert(\"⏳🐍🙌 Time's up! 🙌🐍⌛\");\n",
    "                };\n",
    "            }\n",
    "            \n",
    "            var firstAlert = true;\n",
    "            var lastAlert = true;\n",
    "            updateClock();\n",
    "            \n",
    "            const timeinterval = setInterval(updateClock, 500);\n",
    "        }\n",
    "        \n",
    "        var started = false;\n",
    "        function start(){\n",
    "            if (!started){\n",
    "                initializeClock('clockdiv', new Date(Date.parse(new Date()) + 10*60*1000));\n",
    "                started = true;\n",
    "            }\n",
    "        }\n",
    "        \n",
    "    </script>\n",
    "</html>"
   ]
  },
  {
   "cell_type": "markdown",
   "metadata": {},
   "source": [
    "---\n",
    "\n",
    "# Challenge 1 🍰\n",
    "\n",
    "Create a **`list`** that contains the numbers from <b>`0 and 99`</b>, all inclusive."
   ]
  },
  {
   "cell_type": "code",
   "execution_count": null,
   "metadata": {},
   "outputs": [],
   "source": [
    "# your code here"
   ]
  },
  {
   "cell_type": "code",
   "execution_count": null,
   "metadata": {},
   "outputs": [],
   "source": []
  },
  {
   "cell_type": "markdown",
   "metadata": {},
   "source": [
    "# Challenge 2 🦔\n",
    "Create a **`list`** that contains the numbers **`0 to 99`**, where the sequence repeats **`100`** times.\n",
    "\n",
    "***`i.e.:`*** `[0, 1, 2, ..., 98, 99, 0, 1, 2, ..., 98, 99 ]`,\n",
    "\n",
    "where the pattern repeats **100** times."
   ]
  },
  {
   "cell_type": "code",
   "execution_count": null,
   "metadata": {},
   "outputs": [],
   "source": [
    "# your code here"
   ]
  },
  {
   "cell_type": "code",
   "execution_count": null,
   "metadata": {},
   "outputs": [],
   "source": []
  },
  {
   "cell_type": "markdown",
   "metadata": {},
   "source": [
    "# Challenge 3 🐱‍👤\n",
    "\n",
    "Create a **`list`** that contains the numbers **`0 to 99`** where the numbers alternate between positives and negatives.\n",
    "\n",
    "***`e.g.:`*** `[0, 1, -2, 3, -4, ..., 99]`"
   ]
  },
  {
   "cell_type": "code",
   "execution_count": null,
   "metadata": {},
   "outputs": [],
   "source": [
    "# your code here"
   ]
  },
  {
   "cell_type": "code",
   "execution_count": null,
   "metadata": {},
   "outputs": [],
   "source": []
  },
  {
   "cell_type": "markdown",
   "metadata": {},
   "source": [
    "# Challenge 4 👯‍♀️\n",
    "Create a **`dict`** whose keys are all the integers between **`0 to 99`** and whose values are the same as the keys.\n",
    "\n",
    "***`i.e.:`*** \n",
    "```python\n",
    "{1:1, 2:2, ..., 99:99, 100:100}\n",
    "```\n",
    "\n",
    "***`Bonus`*** for using a dictionary comprehension."
   ]
  },
  {
   "cell_type": "code",
   "execution_count": null,
   "metadata": {},
   "outputs": [],
   "source": [
    "# your code here"
   ]
  },
  {
   "cell_type": "code",
   "execution_count": null,
   "metadata": {},
   "outputs": [],
   "source": []
  },
  {
   "cell_type": "markdown",
   "metadata": {},
   "source": [
    "# Challenge 5 🌻\n",
    "\n",
    "Create a **`list`** of the first **`100`** Fibonacci Numbers.\n",
    "\n",
    "***`i.e.:`*** `[0, 1, 1, 2, 3, 5, 8... ]`\n",
    "\n",
    "**Hint:** The \"seed\" of the sequence is `[0,1]`."
   ]
  },
  {
   "cell_type": "code",
   "execution_count": null,
   "metadata": {},
   "outputs": [],
   "source": [
    "# your code here"
   ]
  },
  {
   "cell_type": "code",
   "execution_count": null,
   "metadata": {},
   "outputs": [],
   "source": []
  },
  {
   "cell_type": "markdown",
   "metadata": {},
   "source": [
    "---\n",
    "# Challenge  1 🧭\n",
    "Create a **`list`** of all numbers from **`99 to 0`** in descending order.\n",
    "\n",
    "***`Bonus`*** for using a list comprehension."
   ]
  },
  {
   "cell_type": "code",
   "execution_count": null,
   "metadata": {},
   "outputs": [],
   "source": [
    "# your code here"
   ]
  },
  {
   "cell_type": "code",
   "execution_count": null,
   "metadata": {},
   "outputs": [],
   "source": []
  },
  {
   "cell_type": "markdown",
   "metadata": {},
   "source": [
    "# Challenge 2 📐\n",
    "\n",
    "Consider a pyramid where each layer is constructed with numbers from **`0 to 9`**:\n",
    "\n",
    "```\n",
    "0\n",
    "11\n",
    "222\n",
    "3333\n",
    " ⋮\n",
    "9999999999\n",
    "00000000000\n",
    "111111111111\n",
    "```\n",
    "\n",
    "**`Print`** two pyramids, one with **`10`** layers and one with **`20`** layers.\n",
    "\n",
    "**`Hint:` %**"
   ]
  },
  {
   "cell_type": "code",
   "execution_count": null,
   "metadata": {},
   "outputs": [],
   "source": [
    "# your code here"
   ]
  },
  {
   "cell_type": "code",
   "execution_count": null,
   "metadata": {},
   "outputs": [],
   "source": []
  },
  {
   "cell_type": "markdown",
   "metadata": {},
   "source": [
    "# Challenge 3 👆👇\n",
    "\n",
    "Create a **`list`** that contains the numbers from **`0 to 100`** that increase in order and then comes back down again.\n",
    "\n",
    "***`i.e.:`*** `[0, 1, 2, ..., 98, 99, 100, 99, ..., 3, 2, 1, 0]`."
   ]
  },
  {
   "cell_type": "code",
   "execution_count": null,
   "metadata": {},
   "outputs": [],
   "source": [
    "# your code here"
   ]
  },
  {
   "cell_type": "code",
   "execution_count": null,
   "metadata": {},
   "outputs": [],
   "source": []
  },
  {
   "cell_type": "markdown",
   "metadata": {},
   "source": [
    "# Challenge 4 🔥\n",
    "Create a **`dict`** whose keys are all integers from **`0 to 99`**, and whose values are the mirroring numbers opposite the key in the range.\n",
    "\n",
    "***`i.e.:`***\n",
    "```python\n",
    "{0:99, 1:98, 2:97, 3:96 ..., 98:1, 99:0}\n",
    "```"
   ]
  },
  {
   "cell_type": "code",
   "execution_count": null,
   "metadata": {},
   "outputs": [],
   "source": [
    "# your code here"
   ]
  },
  {
   "cell_type": "code",
   "execution_count": null,
   "metadata": {},
   "outputs": [],
   "source": []
  },
  {
   "cell_type": "markdown",
   "metadata": {},
   "source": [
    "# Challenge 5 🐇\n",
    "Create a **`list`** of numbers between <b>`0 to 99`</b> that alternate between opposite ends of the range.\n",
    "\n",
    "***`i.e.:`*** `[0, 99, 1, 98, ..., 1, 99, 0]`"
   ]
  },
  {
   "cell_type": "code",
   "execution_count": null,
   "metadata": {},
   "outputs": [],
   "source": [
    "# your code here"
   ]
  },
  {
   "cell_type": "code",
   "execution_count": null,
   "metadata": {
    "scrolled": true
   },
   "outputs": [],
   "source": []
  },
  {
   "cell_type": "markdown",
   "metadata": {},
   "source": [
    "---\n",
    "# Challenge  1🎣\n",
    "Create a **`list`** of the numbers from <b>`0 to 99`</b> except for multiples of <b>`3`</b> and <b>`5`</b>.\n",
    "\n",
    "***`i.e.:`*** `[1, 2, 4, 6, 7, 8, 11, ...]`\n",
    "\n",
    "**`Hint:` %**"
   ]
  },
  {
   "cell_type": "code",
   "execution_count": null,
   "metadata": {},
   "outputs": [],
   "source": [
    "# your code here"
   ]
  },
  {
   "cell_type": "code",
   "execution_count": null,
   "metadata": {},
   "outputs": [],
   "source": []
  },
  {
   "cell_type": "markdown",
   "metadata": {},
   "source": [
    "# Challenge 2 📐\n",
    "\n",
    "Consider a pyramid constructed of the numbers from **`0 to 9`**:\n",
    "```\n",
    "0\n",
    "01\n",
    "012\n",
    "0123\n",
    "01234\n",
    " ⋮\n",
    "01234567890\n",
    "012345678901\n",
    "```\n",
    "\n",
    "**`Print`** a pyramid with **`20`** layers."
   ]
  },
  {
   "cell_type": "code",
   "execution_count": null,
   "metadata": {},
   "outputs": [],
   "source": [
    "# your code here"
   ]
  },
  {
   "cell_type": "code",
   "execution_count": null,
   "metadata": {},
   "outputs": [],
   "source": []
  },
  {
   "cell_type": "markdown",
   "metadata": {},
   "source": [
    "# Challenge 2 🌽\n",
    "Create a **`dict`** whose keys are all the number from **`1 to 100`**. The value for each key is the list of numbers between **`1 to 100`** that are multiples of the key.\n",
    "\n",
    "***`i.e.:`***\n",
    "\n",
    "```python\n",
    "result = {\n",
    "        1 : [1, 2, 3, ..., 100],\n",
    "        2 : [2, 4, 6, ..., 100],\n",
    "        3 : [3, 6, 9, ..., 99],\n",
    "    \n",
    "                ⋮\n",
    "    \n",
    "        100 : [100]\n",
    "        }\n",
    "```"
   ]
  },
  {
   "cell_type": "code",
   "execution_count": null,
   "metadata": {},
   "outputs": [],
   "source": [
    "# your code here"
   ]
  },
  {
   "cell_type": "code",
   "execution_count": null,
   "metadata": {},
   "outputs": [],
   "source": []
  },
  {
   "cell_type": "markdown",
   "metadata": {},
   "source": [
    "# Challenge 3 🤖\n",
    "Create a **`list`** of all primes between **`2 and 100`**. A prime is a number whose only factors are **itself** and **1**.\n",
    "\n",
    "***`e.g.:`*** 5 is prime because it's a multiple of only 5 and 1 — it is not divisible by 2, 3, 4 or any other positive integers.\n",
    "\n",
    "***`Bonus`*** for using a list comprehension."
   ]
  },
  {
   "cell_type": "code",
   "execution_count": null,
   "metadata": {},
   "outputs": [],
   "source": [
    "# your code here"
   ]
  },
  {
   "cell_type": "code",
   "execution_count": null,
   "metadata": {},
   "outputs": [],
   "source": []
  },
  {
   "cell_type": "markdown",
   "metadata": {},
   "source": [
    "# Challenge 4 🔥\n",
    "Create a **`dict`** whose keys are all the numbers from **`2 to 100`**. The value for each key is the list of the prime factors of the key.\n",
    "\n",
    "***`i.e.:`***\n",
    "\n",
    "```python\n",
    "result = {\n",
    "    2: [2],\n",
    "    3: [3],\n",
    "    4: [2, 2],\n",
    "    \n",
    "        ⋮\n",
    "    \n",
    "    98: [2, 7, 7],\n",
    "    99: [3, 3, 11],\n",
    "    100: [2, 2, 5, 5]\n",
    "    }\n",
    "```"
   ]
  },
  {
   "cell_type": "code",
   "execution_count": null,
   "metadata": {},
   "outputs": [],
   "source": [
    "# your code here"
   ]
  },
  {
   "cell_type": "code",
   "execution_count": null,
   "metadata": {},
   "outputs": [],
   "source": []
  },
  {
   "cell_type": "markdown",
   "metadata": {},
   "source": [
    "---\n",
    "# Challenge 1 👈👉\n",
    "\n",
    "**`Print`** each phrase from `phrases` with the characters in reverse order.\n",
    "\n",
    "***For example:***\n",
    "\n",
    "*`ABCD`* becomes *`DCBA`*\n",
    "\n",
    "*`We're not in Kansas anymore`* becomes *`eromyna sasnaK ni ton er'eW`*"
   ]
  },
  {
   "cell_type": "code",
   "execution_count": null,
   "metadata": {},
   "outputs": [],
   "source": [
    "phrases = [\n",
    "    'ABCD',\n",
    "    'We\\'re not in Kansas anymore',\n",
    "    'UFO tofu',\n",
    "    'Taco cat',\n",
    "    'Borrow or rob',\n",
    "    'Madam, in Eden, I’m Adam',\n",
    "    'Was it a car or a cat I saw'\n",
    "]"
   ]
  },
  {
   "cell_type": "code",
   "execution_count": null,
   "metadata": {},
   "outputs": [],
   "source": [
    "# your code here"
   ]
  },
  {
   "cell_type": "code",
   "execution_count": null,
   "metadata": {},
   "outputs": [],
   "source": []
  },
  {
   "cell_type": "markdown",
   "metadata": {},
   "source": [
    "# Challenge 2 🐖\n",
    "**`Print`** each sentence in the list `pig_latin` in regular English.\n",
    "\n",
    "***For example:***\n",
    "\n",
    "*`O-day ou-yay peak-say Ig-pay Atin-lay?`* translates to *`Do you speak pig latin?`*"
   ]
  },
  {
   "cell_type": "code",
   "execution_count": null,
   "metadata": {},
   "outputs": [],
   "source": [
    "# setup\n",
    "pig_latin = [\n",
    "    'Ello-hay!',\n",
    "    'Y-may ame-nay is-ay Ister-may Nowball-say.',\n",
    "    'Leased-pay o-tay eet-may ou-yay.',\n",
    "    'O-day ou-yay peak-say Ig-pay Atin-lay?',\n",
    "    'I-ay ope-hay ou-yay ave-hay ork-tastic-pay ay-day 🐷'\n",
    "    ]"
   ]
  },
  {
   "cell_type": "code",
   "execution_count": null,
   "metadata": {},
   "outputs": [],
   "source": [
    "# your code here"
   ]
  },
  {
   "cell_type": "code",
   "execution_count": null,
   "metadata": {},
   "outputs": [],
   "source": []
  },
  {
   "cell_type": "markdown",
   "metadata": {},
   "source": [
    "# Challenge 3 🔠\n",
    "Create a **`list`** of the letters in the alphabet.\n",
    "\n",
    "**`Hint:`** python has two built-in functions called `ord()` and `chr()`."
   ]
  },
  {
   "cell_type": "code",
   "execution_count": null,
   "metadata": {},
   "outputs": [],
   "source": [
    "# your code here"
   ]
  },
  {
   "cell_type": "code",
   "execution_count": null,
   "metadata": {},
   "outputs": [],
   "source": []
  },
  {
   "cell_type": "markdown",
   "metadata": {},
   "source": [
    "# Challenge 4 📜\n",
    "\n",
    "A caesar cipher is an encryption algorithm where each letter is shifted by some number ***`n`*** in the alphabet. We'll call **`n`** the encryption key.\n",
    "\n",
    "***For example:***\n",
    "\n",
    "For **`n=1:`** *`ABCD`* becomes *`BCDE`*, for **`n=2`** it is *`CDEF`*.\n",
    "\n",
    "For **`n=2:`** *`WXYZ`* becomes *`YZAB`*\n",
    "\n",
    "For **`n=4:`** *`Hail Caesar`* becomes *`Lemp Geiwev!`*\n",
    "\n",
    "Using caesar ciphers, create a **`dict`** that contains as its values messages encrypted from  `messages`. Use the dictionary keys as the encryption key `n`.\n",
    "\n",
    "***`i.e.:`***\n",
    "\n",
    "```python\n",
    "result = {\n",
    "    1: 'BCD',\n",
    "    2: 'YZAB',\n",
    "            ⋮\n",
    "    }\n",
    "```"
   ]
  },
  {
   "cell_type": "code",
   "execution_count": null,
   "metadata": {},
   "outputs": [],
   "source": [
    "messages = {\n",
    "    1: 'ABC',\n",
    "    2: 'WXYZ',\n",
    "    3: 'Carpe Diem',\n",
    "    4: 'Hail Caesar!',\n",
    "    6: 'Can I please have some dressing on the side?',\n",
    "    23:'Some things stay the same ¯\\_(ツ)_/¯'\n",
    "}"
   ]
  },
  {
   "cell_type": "code",
   "execution_count": null,
   "metadata": {},
   "outputs": [],
   "source": [
    "# your code here"
   ]
  },
  {
   "cell_type": "code",
   "execution_count": null,
   "metadata": {},
   "outputs": [],
   "source": []
  },
  {
   "cell_type": "markdown",
   "metadata": {},
   "source": [
    "# Challenge 5 🌿\n",
    "\n",
    "**`Print`** the decrypted messages from the dictionary `encrypted`.\n",
    "\n",
    "The dictionary key for each message is also the encryption key **`n`**."
   ]
  },
  {
   "cell_type": "code",
   "execution_count": null,
   "metadata": {},
   "outputs": [],
   "source": [
    "encrypted = {\n",
    "    1: \"Opx J lopx nz BCD, xpo'u zpv tjoh bmpoh xjui nf?\",\n",
    "    2: 'Xgpk, xkfk, xkek',\n",
    "    3: 'Hw wx, Euxwh?',\n",
    "    4: 'Jvmirhw, Vsqerw, gsyrxvcqir, pirh qi csyv ievw.',\n",
    "    5: 'Ymjwj bfx tshj f Wtrfs bmt fyj mnx lnwqkwnjsi... Mj bfx lqfinfytw.'\n",
    "}"
   ]
  },
  {
   "cell_type": "code",
   "execution_count": null,
   "metadata": {},
   "outputs": [],
   "source": [
    "# your code here"
   ]
  },
  {
   "cell_type": "code",
   "execution_count": null,
   "metadata": {},
   "outputs": [],
   "source": []
  }
 ],
 "metadata": {
  "kernelspec": {
   "display_name": "Python 3",
   "language": "python",
   "name": "python3"
  },
  "language_info": {
   "codemirror_mode": {
    "name": "ipython",
    "version": 3
   },
   "file_extension": ".py",
   "mimetype": "text/x-python",
   "name": "python",
   "nbconvert_exporter": "python",
   "pygments_lexer": "ipython3",
   "version": "3.7.6"
  }
 },
 "nbformat": 4,
 "nbformat_minor": 4
}

{
 "cells": [
  {
   "cell_type": "markdown",
   "metadata": {},
   "source": [
    "---\n",
    "\n",
    "# Challenge 1.1 🍰\n",
    "\n",
    "Create a **`list`** that contains the numbers from <b>`0 and 99`</b>, all inclusive."
   ]
  },
  {
   "cell_type": "code",
   "execution_count": null,
   "metadata": {},
   "outputs": [],
   "source": [
    "# your code here"
   ]
  },
  {
   "cell_type": "code",
   "execution_count": null,
   "metadata": {},
   "outputs": [],
   "source": []
  },
  {
   "cell_type": "markdown",
   "metadata": {},
   "source": [
    "# Challenge 1.2 🦔\n",
    "Create a **`list`** that contains the numbers **`0 to 99`**, where the sequence repeats **`100`** times.\n",
    "\n",
    "***`i.e.:`*** `[0, 1, 2, ..., 98, 99, 0, 1, 2, ..., 98, 99 ]`,\n",
    "\n",
    "where the pattern repeats **100** times."
   ]
  },
  {
   "cell_type": "code",
   "execution_count": null,
   "metadata": {},
   "outputs": [],
   "source": [
    "# your code here"
   ]
  },
  {
   "cell_type": "code",
   "execution_count": null,
   "metadata": {},
   "outputs": [],
   "source": []
  },
  {
   "cell_type": "markdown",
   "metadata": {},
   "source": [
    "---\n",
    "# Challenge  2.1 🧭\n",
    "Create a **`list`** of all numbers from **`99 to 0`** in descending order.\n",
    "\n",
    "***`Bonus`*** for using a list comprehension."
   ]
  },
  {
   "cell_type": "code",
   "execution_count": null,
   "metadata": {},
   "outputs": [],
   "source": [
    "# your code here"
   ]
  },
  {
   "cell_type": "code",
   "execution_count": null,
   "metadata": {},
   "outputs": [],
   "source": []
  },
  {
   "cell_type": "markdown",
   "metadata": {},
   "source": [
    "# Challenge 2.2 📐\n",
    "\n",
    "Consider a pyramid where each layer is constructed with numbers from **`0 to 9`**:\n",
    "\n",
    "```\n",
    "0\n",
    "11\n",
    "222\n",
    "3333\n",
    " ⋮\n",
    "9999999999\n",
    "00000000000\n",
    "111111111111\n",
    "```\n",
    "\n",
    "**`Print`** two pyramids, one with **`10`** layers and one with **`20`** layers.\n",
    "\n",
    "**`Hint:` %**"
   ]
  },
  {
   "cell_type": "code",
   "execution_count": null,
   "metadata": {},
   "outputs": [],
   "source": [
    "# your code here"
   ]
  },
  {
   "cell_type": "code",
   "execution_count": null,
   "metadata": {},
   "outputs": [],
   "source": []
  },
  {
   "cell_type": "markdown",
   "metadata": {},
   "source": [
    "---\n",
    "# Challenge  3.1🎣\n",
    "Create a **`list`** of the numbers from <b>`0 to 99`</b> except for multiples of <b>`3`</b> and <b>`5`</b>.\n",
    "\n",
    "***`i.e.:`*** `[1, 2, 4, 6, 7, 8, 11, ...]`\n",
    "\n",
    "**`Hint:` %**"
   ]
  },
  {
   "cell_type": "code",
   "execution_count": null,
   "metadata": {},
   "outputs": [],
   "source": [
    "# your code here"
   ]
  },
  {
   "cell_type": "code",
   "execution_count": null,
   "metadata": {},
   "outputs": [],
   "source": []
  },
  {
   "cell_type": "markdown",
   "metadata": {},
   "source": [
    "# Challenge 3.2 📐\n",
    "\n",
    "Consider a pyramid constructed of the numbers from **`0 to 9`**:\n",
    "```\n",
    "0\n",
    "01\n",
    "012\n",
    "0123\n",
    "01234\n",
    " ⋮\n",
    "01234567890\n",
    "012345678901\n",
    "```\n",
    "\n",
    "**`Print`** a pyramid with **`20`** layers."
   ]
  },
  {
   "cell_type": "code",
   "execution_count": null,
   "metadata": {},
   "outputs": [],
   "source": [
    "# your code here"
   ]
  },
  {
   "cell_type": "code",
   "execution_count": null,
   "metadata": {},
   "outputs": [],
   "source": []
  },
  {
   "cell_type": "markdown",
   "metadata": {},
   "source": [
    "---\n",
    "# Challenge 4.1 👆👇\n",
    "\n",
    "Create a **`list`** that contains the numbers from **`0 to 100`** that increase in order and then comes back down again.\n",
    "\n",
    "***`i.e.:`*** `[0, 1, 2, ..., 98, 99, 100, 99, ..., 3, 2, 1, 0]`."
   ]
  },
  {
   "cell_type": "code",
   "execution_count": null,
   "metadata": {},
   "outputs": [],
   "source": [
    "# your code here"
   ]
  },
  {
   "cell_type": "code",
   "execution_count": null,
   "metadata": {},
   "outputs": [],
   "source": []
  },
  {
   "cell_type": "markdown",
   "metadata": {},
   "source": [
    "# Challenge 4.2 🐱‍👤\n",
    "\n",
    "Create a **`list`** that contains the numbers **`0 to 99`** where the numbers alternate between positives and negatives.\n",
    "\n",
    "***`e.g.:`*** `[0, 1, -2, 3, -4, ..., 99]`"
   ]
  },
  {
   "cell_type": "code",
   "execution_count": null,
   "metadata": {},
   "outputs": [],
   "source": [
    "# your code here"
   ]
  },
  {
   "cell_type": "code",
   "execution_count": null,
   "metadata": {},
   "outputs": [],
   "source": []
  },
  {
   "cell_type": "markdown",
   "metadata": {},
   "source": [
    "---"
   ]
  },
  {
   "cell_type": "markdown",
   "metadata": {},
   "source": [
    "# Challenge 5.1 👯‍♀️\n",
    "Create a **`dict`** whose keys are all the integers between **`1 to 100`** and whose values are the same as the keys.\n",
    "\n",
    "***`i.e.:`*** \n",
    "```python\n",
    "{1:1, 2:2, ..., 99:99, 100:100}\n",
    "```\n",
    "\n",
    "***`Bonus`*** for using a dictionary comprehension."
   ]
  },
  {
   "cell_type": "code",
   "execution_count": null,
   "metadata": {},
   "outputs": [],
   "source": [
    "# your code here"
   ]
  },
  {
   "cell_type": "code",
   "execution_count": null,
   "metadata": {},
   "outputs": [],
   "source": []
  },
  {
   "cell_type": "markdown",
   "metadata": {},
   "source": [
    "# Challenge 5.2 🔥\n",
    "Create a **`dict`** whose keys are all integers from **`0 to 99`**, and whose values are the mirroring numbers opposite the key in the range.\n",
    "\n",
    "***`i.e.:`***\n",
    "```python\n",
    "{0:99, 1:98, 2:97, 3:96 ..., 98:1, 99:0}\n",
    "```"
   ]
  },
  {
   "cell_type": "code",
   "execution_count": null,
   "metadata": {},
   "outputs": [],
   "source": [
    "# your code here"
   ]
  },
  {
   "cell_type": "code",
   "execution_count": null,
   "metadata": {},
   "outputs": [],
   "source": []
  },
  {
   "cell_type": "markdown",
   "metadata": {},
   "source": [
    "# Challenge 5.3 🐇\n",
    "Create a **`list`** of numbers between <b>`0 to 99`</b> that alternate between opposite ends of the range.\n",
    "\n",
    "***`i.e.:`*** `[0, 99, 1, 98, ..., 1, 99, 0]`"
   ]
  },
  {
   "cell_type": "code",
   "execution_count": null,
   "metadata": {},
   "outputs": [],
   "source": [
    "# your code here"
   ]
  },
  {
   "cell_type": "code",
   "execution_count": null,
   "metadata": {
    "scrolled": true
   },
   "outputs": [],
   "source": []
  },
  {
   "cell_type": "markdown",
   "metadata": {},
   "source": [
    "---\n",
    "# Challenge 6.1\n",
    "\n",
    "Create a **`function`** named **`get_multiples`** that takes two integer arguments, **`n`** and **`limit`**. Both arguments should be non-zero, positive integers.\n",
    "\n",
    "The function returns a list of all multiples of `n` that are less than or equal to the `limit`.\n",
    "\n",
    "***`e.g.:`***\n",
    "\n",
    "`get_multiples(2, 10)` returns `[2, 4, 6, 8, 10]`\n",
    "\n",
    "`get_multiples(3, 10)` returns `[3, 6, 9]`\n",
    "\n",
    "What happens if you allow the function to take **`n = 0`** as an argument?"
   ]
  },
  {
   "cell_type": "code",
   "execution_count": null,
   "metadata": {},
   "outputs": [],
   "source": [
    "# your code here"
   ]
  },
  {
   "cell_type": "code",
   "execution_count": null,
   "metadata": {},
   "outputs": [],
   "source": []
  },
  {
   "cell_type": "markdown",
   "metadata": {},
   "source": [
    "# Challenge 6.2 🌽\n",
    "Create a **`dict`** whose keys are all the number from **`1 to 100`**. The value for each key is the list of numbers between **`1 to 100`** that are multiples of the key.\n",
    "\n",
    "***`i.e.:`***\n",
    "\n",
    "```python\n",
    "result == {\n",
    "        1 : [1, 2, 3, ..., 100],\n",
    "        2 : [2, 4, 6, ..., 100],\n",
    "        3 : [3, 6, 9, ..., 99],\n",
    "    \n",
    "                ⋮\n",
    "    \n",
    "        100 : [100]\n",
    "        }\n",
    "```\n",
    "\n",
    "***`Bonus`*** for using a dictionary comprehension."
   ]
  },
  {
   "cell_type": "code",
   "execution_count": null,
   "metadata": {},
   "outputs": [],
   "source": [
    "# your code here"
   ]
  },
  {
   "cell_type": "code",
   "execution_count": null,
   "metadata": {},
   "outputs": [],
   "source": []
  },
  {
   "cell_type": "markdown",
   "metadata": {},
   "source": [
    "---\n",
    "# Primes 🤖\n",
    "Create a **`list`** of all primes between **`2 and 100`**.\n",
    "\n",
    "A prime is a natural number (non-zero positive integer) whose only factors are **itself** and **1**.\n",
    "\n",
    "***`e.g.:`*** 5 is prime because it's a multiple of only 5 and 1 — it is not divisible by 2, 3, 4 or any other positive integers.\n",
    "\n",
    "***`Bonus`*** for using a list comprehension."
   ]
  },
  {
   "cell_type": "code",
   "execution_count": null,
   "metadata": {},
   "outputs": [],
   "source": [
    "# your code here"
   ]
  },
  {
   "cell_type": "code",
   "execution_count": null,
   "metadata": {},
   "outputs": [],
   "source": []
  },
  {
   "cell_type": "markdown",
   "metadata": {},
   "source": [
    "# Factors ⚛\n",
    "Create a **`dict`** whose keys are all the numbers from **`2 to 100`**. The value for each key is the list of the prime factors of the key.\n",
    "\n",
    "***`i.e.:`***\n",
    "\n",
    "```python\n",
    "result == {\n",
    "    2:  [2],\n",
    "    3:  [3],\n",
    "    4:  [2, 2],\n",
    "    \n",
    "        ⋮\n",
    "    \n",
    "    98:  [2, 7, 7],\n",
    "    99:  [3, 3, 11],\n",
    "    100: [2, 2, 5, 5]\n",
    "    }\n",
    "```"
   ]
  },
  {
   "cell_type": "code",
   "execution_count": null,
   "metadata": {},
   "outputs": [],
   "source": [
    "# your code here"
   ]
  },
  {
   "cell_type": "code",
   "execution_count": null,
   "metadata": {},
   "outputs": [],
   "source": []
  },
  {
   "cell_type": "markdown",
   "metadata": {},
   "source": [
    "---\n",
    "# Mirror rorriM 👈👉\n",
    "\n",
    "**`Print`** each phrase from `phrases` with its characters mirrored.\n",
    "\n",
    "***`e.g.:`***\n",
    "\n",
    "*`ABCD | DCBA`*\n",
    "\n",
    "*`We're not in Kansas anymore | eromyna sasnaK ni ton er'eW`*\n",
    "\n",
    "<br>\n",
    "\n",
    "***`Bonus`*** Print everything all in same case without spaces or punctuation."
   ]
  },
  {
   "cell_type": "code",
   "execution_count": 13,
   "metadata": {},
   "outputs": [],
   "source": [
    "phrases = [\n",
    "    'ABCD',\n",
    "    'We\\'re not in Kansas anymore',\n",
    "    'UFO tofu',\n",
    "    'Taco cat',\n",
    "    'Borrow or rob',\n",
    "    'Tattarrattat',\n",
    "    'No lemon, no melon',\n",
    "    'Red rum, sir, is murder',\n",
    "    'Mirror mirror on the wall',\n",
    "    'Was it a car or a cat I saw'\n",
    "]"
   ]
  },
  {
   "cell_type": "code",
   "execution_count": 14,
   "metadata": {},
   "outputs": [],
   "source": [
    "# your code here"
   ]
  },
  {
   "cell_type": "code",
   "execution_count": null,
   "metadata": {},
   "outputs": [],
   "source": []
  },
  {
   "cell_type": "markdown",
   "metadata": {},
   "source": [
    "# Pig-Latin 🐖\n",
    "**`Print`** each sentence in the list `pig_latin` in regular English.\n",
    "\n",
    "***For example:***\n",
    "\n",
    "*`O-day ou-yay peak-say Ig-pay Atin-lay?`* translates to *`Do you speak pig latin?`*"
   ]
  },
  {
   "cell_type": "code",
   "execution_count": null,
   "metadata": {},
   "outputs": [],
   "source": [
    "# setup\n",
    "pig_latin = [\n",
    "    'Ello-hay!',\n",
    "    'Y-may ame-nay is-ay Ister-may Nowball-say.',\n",
    "    'Leased-pay o-tay eet-may ou-yay.',\n",
    "    'O-day ou-yay peak-say Ig-pay Atin-lay?',\n",
    "    'I-ay ope-hay ou-yay ave-hay ork-tastic-pay ay-day 🐷'\n",
    "    ]"
   ]
  },
  {
   "cell_type": "code",
   "execution_count": null,
   "metadata": {},
   "outputs": [],
   "source": [
    "# your code here"
   ]
  },
  {
   "cell_type": "code",
   "execution_count": null,
   "metadata": {},
   "outputs": [],
   "source": []
  },
  {
   "cell_type": "markdown",
   "metadata": {},
   "source": [
    "---\n",
    "# FizzBuzz 🥤🐝\n",
    "\n",
    "Fizzbuzz is a children's game where numbers are counted consecutively starting from 1.\n",
    "\n",
    "If the number is divisible by 3, you say `Fizz!` instead of the number.\n",
    "\n",
    "If the number is divisible by 5, you say `Buzz!` instead of the number.\n",
    "\n",
    "If the number is divisible by both 3 and 5, you say `FizzBuzz!` instead of the number.\n",
    "\n",
    "**`i.e.:`** `1, 2, Fizz!, 4, Buzz!, Fizz!, 7, 8, Fizz!, Buzz!, 11, Fizz!, 13, 14, FizzBuzz!, ...`\n",
    "\n",
    "---\n",
    "\n",
    "**Challenge: `Print`** the FizzBuzz game sequence from **`1 to 100`**.\n",
    "\n",
    "<br>\n",
    "\n",
    "***`Bonus:`*** make the program adaptive to adding arbitrary word rules.\n",
    "\n",
    "\n",
    "**`e.g.:`**\n",
    "\n",
    "Rules: `3=>Fizz, 5=>Buzz, 7=>Hot, 11=>Pot, 13=>Fox, 17=>Cop ...` <br>\n",
    "\n",
    "Result: `1, 2, Fizz!, 4, Buzz!, Fizz!, Hot!, 8, Fizz!, Buzz!, Pot!, Fizz!, Fox!, Hot!, FizzBuzz!, ...`"
   ]
  },
  {
   "cell_type": "code",
   "execution_count": null,
   "metadata": {},
   "outputs": [],
   "source": [
    "# your code here"
   ]
  },
  {
   "cell_type": "code",
   "execution_count": null,
   "metadata": {},
   "outputs": [],
   "source": []
  },
  {
   "cell_type": "markdown",
   "metadata": {},
   "source": [
    "# Human v Machine 🤖♟🤺\n",
    "\n",
    "Create a **`function`** that allows a human to play the game `FizzBuzz` against the program.\n",
    "\n",
    "The function should take three parameters:\n",
    "\n",
    "* `players` for number of players, with default `2` (for human and computer).\n",
    "\n",
    "* `my_turn` for the human's turn in the order of play, with the default where the human `plays last`.\n",
    "\n",
    "* `win_at` for the number of corrected turns the human player must play to win the game, with default at `20`.\n",
    "\n",
    "**`Bonus:`**\n",
    "* Allow parameter adjusting divisible rules, e.g., `3=>Fizz, 5=>Buzz, 7=>Hot, 11=>Pot, 13=>Fox, 17=>Cop ...`\n",
    "\n",
    "* Make human lose if they take more than 5 seconds to answer.\n",
    "\n",
    "* Add pause button."
   ]
  },
  {
   "cell_type": "code",
   "execution_count": null,
   "metadata": {},
   "outputs": [],
   "source": [
    "# your code here"
   ]
  },
  {
   "cell_type": "code",
   "execution_count": null,
   "metadata": {},
   "outputs": [],
   "source": []
  },
  {
   "cell_type": "markdown",
   "metadata": {},
   "source": [
    "---\n",
    "# Recursive Sequences\n",
    "\n",
    "Create a **`list`** of numbers of length **`15`**, starting with `0`, where each number is the square of the preceding number in the list plus 1.\n",
    "\n",
    "***`i.e.`*** the first 15 numbers of the sequence:\n",
    "```python\n",
    "result = [\n",
    "      0,\n",
    "      0^2 + 1,\n",
    "     (0^2 + 1)^2 + 1,\n",
    "    ((0^2 + 1)^2 + 1)^2 + 1,\n",
    "      ⋮\n",
    "]\n",
    "\n",
    "```\n",
    "\n",
    "The mathematical notation for this sequence is as follows:\n",
    "\n",
    "$z_{i} = z_{i-1}^{2} + c \\text{ where } z_{0} = 0, c = 1$\n",
    "\n",
    "\n",
    "Create another of number **`list`** of length **`100`** $[z_{0}, z_{1}, z_{2}, ..., z_{100}] , \\text{ where } z_{0} = -\\frac{7}{4}, c = -\\frac{29}{16}$."
   ]
  },
  {
   "cell_type": "code",
   "execution_count": null,
   "metadata": {},
   "outputs": [],
   "source": [
    "# your code here"
   ]
  },
  {
   "cell_type": "code",
   "execution_count": null,
   "metadata": {},
   "outputs": [],
   "source": []
  },
  {
   "cell_type": "markdown",
   "metadata": {},
   "source": [
    "# Fibonacci Sequence 🌻\n",
    "\n",
    "Create a **`list`** of the first **`100`** Fibonacci Numbers.\n",
    "\n",
    "***`i.e.:`*** `[0, 1, 1, 2, 3, 5, 8... ]`\n",
    "\n",
    "Mathematical formulation for Fibonacci sequence: each element $z_{i} = z_{i-2} + z_{i-1}$, where $z_{0} = 0, z_{1} = 1$.\n",
    "\n",
    "**Hint:** The \"seed\" of the sequence is `[0, 1]`."
   ]
  },
  {
   "cell_type": "code",
   "execution_count": null,
   "metadata": {},
   "outputs": [],
   "source": [
    "# your code here"
   ]
  },
  {
   "cell_type": "code",
   "execution_count": null,
   "metadata": {},
   "outputs": [],
   "source": []
  },
  {
   "cell_type": "markdown",
   "metadata": {},
   "source": [
    "---\n",
    "# Alphabet 🔠\n",
    "Create a **`list`** of the letters in the alphabet.\n",
    "\n",
    "**`Hint:`** python has two built-in functions called `ord()` and `chr()`."
   ]
  },
  {
   "cell_type": "code",
   "execution_count": null,
   "metadata": {},
   "outputs": [],
   "source": [
    "# your code here"
   ]
  },
  {
   "cell_type": "code",
   "execution_count": null,
   "metadata": {},
   "outputs": [],
   "source": []
  },
  {
   "cell_type": "markdown",
   "metadata": {},
   "source": [
    "# Caesar Cipher 📜\n",
    "\n",
    "A caesar cipher is an encryption algorithm where each letter is shifted by some number ***`n`*** in the alphabet. We'll call **`n`** the encryption key.\n",
    "\n",
    "***For example:***\n",
    "\n",
    "For **`n=1:`** *`ABCD`* becomes *`BCDE`*, for **`n=2`** it is *`CDEF`*.\n",
    "\n",
    "For **`n=2:`** *`WXYZ`* becomes *`YZAB`*\n",
    "\n",
    "For **`n=4:`** *`Hail Caesar`* becomes *`Lemp Geiwev!`*\n",
    "\n",
    "Using caesar ciphers, create a **`dict`** that contains as its values messages encrypted from  `messages`. Use the dictionary keys as the encryption key `n`.\n",
    "\n",
    "***`i.e.:`***\n",
    "\n",
    "```python\n",
    "result == {\n",
    "    1: 'BCD',\n",
    "    2: 'YZAB',\n",
    "            ⋮\n",
    "    }\n",
    "```"
   ]
  },
  {
   "cell_type": "code",
   "execution_count": null,
   "metadata": {},
   "outputs": [],
   "source": [
    "messages = {\n",
    "    1: 'ABC',\n",
    "    2: 'WXYZ',\n",
    "    3: 'Carpe Diem',\n",
    "    4: 'Hail Caesar!',\n",
    "    6: 'Can I please have some salad dressing on the side?',\n",
    "    23:'Some things stay the same ¯\\_(ツ)_/¯'\n",
    "}"
   ]
  },
  {
   "cell_type": "code",
   "execution_count": null,
   "metadata": {},
   "outputs": [],
   "source": [
    "# your code here"
   ]
  },
  {
   "cell_type": "code",
   "execution_count": null,
   "metadata": {},
   "outputs": [],
   "source": []
  },
  {
   "cell_type": "markdown",
   "metadata": {},
   "source": [
    "# Decrypting Caesar 🥬\n",
    "\n",
    "**`Print`** the decrypted messages from the dictionary `encrypted`.\n",
    "\n",
    "The dictionary key for each message is also the encryption key **`n`**."
   ]
  },
  {
   "cell_type": "code",
   "execution_count": null,
   "metadata": {},
   "outputs": [],
   "source": [
    "encrypted = {\n",
    "    1: \"Opx J lopx nz BCD, xpo'u zpv tjoh bmpoh xjui nf?\",\n",
    "    2: 'Xgpk, xkfk, xkek',\n",
    "    3: 'Hw wx, Euxwh?',\n",
    "    4: 'Jvmirhw, Vsqerw, gsyrxvcqir, pirh qi csyv ievw.',\n",
    "    5: 'Ymjwj bfx tshj f Wtrfs bmt fyj mnx lnwqkwnjsi... Mj bfx lqfinfytw.'\n",
    "}"
   ]
  },
  {
   "cell_type": "code",
   "execution_count": null,
   "metadata": {},
   "outputs": [],
   "source": [
    "# your code here"
   ]
  },
  {
   "cell_type": "code",
   "execution_count": null,
   "metadata": {},
   "outputs": [],
   "source": []
  },
  {
   "cell_type": "markdown",
   "metadata": {},
   "source": [
    "---\n",
    "# Pascal's Triangle\n",
    "\n",
    "Pascal's Triangle is a pyramid of numbers constructed as follows:\n",
    "\n",
    "```\n",
    "      1\n",
    "     1 1\n",
    "    1 2 1\n",
    "   1 3 3 1\n",
    "  1 4 6 4 1\n",
    "      ⋮\n",
    "```\n",
    "\n",
    "Where the numbers in each level is constructed by the sum of the numbers standing on its shoulders from the level above.\n",
    "\n",
    "\n",
    "For example, the 5th level of the triangle, `1 4 6 4 1`, is constructed as follows:\n",
    "```\n",
    "              1\n",
    "           1     1\n",
    "        1     2     1\n",
    "     1     3     3     1\n",
    "(0+1) (1+3) (3+3) (3+1) (1+0) => 1 4 6 4 1\n",
    " ```\n",
    "  \n",
    "---\n",
    "\n",
    "**Challenge:** Create a **`list of lists`** that contain the first **`100`** levels of Pascal's Triangle.\n",
    "\n",
    "***`i.e.:`***\n",
    "```Python\n",
    "\n",
    "pascals_triangle = [\n",
    "        [1],\n",
    "        [1, 1],\n",
    "        [1, 2, 1],\n",
    "        [1, 3, 3, 1],\n",
    "        [1, 4, 6, 4, 1],\n",
    "            ⋮\n",
    "]\n",
    "\n",
    "```"
   ]
  },
  {
   "cell_type": "code",
   "execution_count": null,
   "metadata": {},
   "outputs": [],
   "source": [
    "# your code here"
   ]
  },
  {
   "cell_type": "code",
   "execution_count": null,
   "metadata": {},
   "outputs": [],
   "source": []
  },
  {
   "cell_type": "markdown",
   "metadata": {},
   "source": [
    "---\n",
    "# Look-and-Say Numbers\n",
    "\n",
    "A look-and-say number sequence is generated mnemonically.\n",
    "\n",
    "Suppose we start with the number **`1`** in the sequence:\n",
    "\n",
    "**`1`** reads... `One \"one\"` => **`11`**\n",
    "\n",
    "**`11`** reads... `Two \"ones\"` => **`21`**\n",
    "\n",
    "**`21`** reads... `One \"two\", one \"one\"` => **`1211`**\n",
    "\n",
    "**`1211`** reads... `One \"one\", one \"two\", two \"ones\"` => **`111221`**\n",
    "\n",
    "**`111221`** reads... `Three \"ones\", two \"twos\", one \"one\"` => **`312211`**\n",
    "\n",
    "... and so on.\n",
    "\n",
    "---\n",
    "\n",
    "**Challenge:** Create a **`list`** of `look-and-say` sequence of length **`100`**, where the first number in the sequence is **`1`**.\n",
    "\n",
    "**`i.e.:`**\n",
    "```python\n",
    "result == [\n",
    "    1,\n",
    "    11,\n",
    "    21,\n",
    "    1211,\n",
    "    111221,\n",
    "    312211,\n",
    "       ⋮ \n",
    "          ]\n",
    "```"
   ]
  },
  {
   "cell_type": "code",
   "execution_count": null,
   "metadata": {},
   "outputs": [],
   "source": [
    "# your code here"
   ]
  },
  {
   "cell_type": "code",
   "execution_count": null,
   "metadata": {},
   "outputs": [],
   "source": []
  },
  {
   "cell_type": "markdown",
   "metadata": {},
   "source": [
    "---\n",
    "# Roman Numerals\n",
    "\n",
    "Create a **`list`** of numbers from **`1 to 1000`** in Roman Numerals.\n",
    "\n",
    "**`i.e.:`** `[I, II, III, IV, V..., CMXCIX, M]`\n",
    "\n",
    "Use the `roman_symbols` below:"
   ]
  },
  {
   "cell_type": "code",
   "execution_count": null,
   "metadata": {},
   "outputs": [],
   "source": [
    "# roman symbols tables\n",
    "roman_symbols = [\n",
    "    (1000, 'M'),\n",
    "    (900, 'CM'),\n",
    "    (500, 'D'),\n",
    "    (400, 'CD'),\n",
    "    (100, 'C'),\n",
    "    (90, 'XC'),\n",
    "    (50, 'L'),\n",
    "    (40, 'XL'),\n",
    "    (10, 'X'),\n",
    "    (9, 'IX'),\n",
    "    (5, 'V'),\n",
    "    (4, 'IV'),\n",
    "    (1, 'I')\n",
    "]"
   ]
  },
  {
   "cell_type": "code",
   "execution_count": null,
   "metadata": {},
   "outputs": [],
   "source": [
    "# your code here"
   ]
  },
  {
   "cell_type": "code",
   "execution_count": null,
   "metadata": {},
   "outputs": [],
   "source": []
  },
  {
   "cell_type": "markdown",
   "metadata": {},
   "source": [
    "---\n",
    "# Coin Flips 🍀\n",
    "\n",
    "Create a **`function`** that returns the results of simulated coin-flip games.\n",
    "\n",
    "The function takes two arguments:\n",
    "* **`flips`**, the number of flips per game\n",
    "\n",
    "* **`trials`**, the number of games in the sample.\n",
    "\n",
    "The function returns a `list` of the resulting trials, where each trial contains the result of random coin-flips in that trial."
   ]
  },
  {
   "cell_type": "code",
   "execution_count": null,
   "metadata": {},
   "outputs": [],
   "source": [
    "# your code here"
   ]
  },
  {
   "cell_type": "code",
   "execution_count": null,
   "metadata": {},
   "outputs": [],
   "source": []
  },
  {
   "cell_type": "markdown",
   "metadata": {},
   "source": [
    "# Coin Stats 📊\n",
    "\n",
    "With sample sizes of **`100,000`** trials, simulate samples with **`10`** flips per trial.\n",
    "\n",
    "In each trial, what is the percentage of flips where the coin came up heads?\n",
    "\n",
    "**Challenge: `Plot`** the frequency distribution of heads percentages in the trials.\n",
    "\n",
    "**Question:** How many trials are there where the coin came up all **heads**? How many all **tails**? What are the probabilities of flipping 10 heads and 10 tails in a row?\n",
    "\n"
   ]
  },
  {
   "cell_type": "code",
   "execution_count": null,
   "metadata": {},
   "outputs": [],
   "source": [
    "# your code here"
   ]
  },
  {
   "cell_type": "code",
   "execution_count": null,
   "metadata": {},
   "outputs": [],
   "source": []
  }
 ],
 "metadata": {
  "kernelspec": {
   "display_name": "Python 3",
   "language": "python",
   "name": "python3"
  },
  "language_info": {
   "codemirror_mode": {
    "name": "ipython",
    "version": 3
   },
   "file_extension": ".py",
   "mimetype": "text/x-python",
   "name": "python",
   "nbconvert_exporter": "python",
   "pygments_lexer": "ipython3",
   "version": "3.7.6"
  }
 },
 "nbformat": 4,
 "nbformat_minor": 4
}

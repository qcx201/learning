{
 "cells": [
  {
   "cell_type": "markdown",
   "metadata": {},
   "source": [
    "---\n",
    "# Warm-Up 🙆‍♀️💦\n",
    "\n",
    "Write a **`function`** named `is_prime()` that checks whether a number greater than 2 **`n`** is prime.\n",
    "\n",
    "A prime is a natural number (non-zero positive integer) who only divides by **itself** and **1**.\n",
    "\n",
    "***`i.e.:`*** `2, 3, 5, 7, 11, 13, 17, 19, 23...`\n",
    "\n",
    "***`Bonus:`*** use a `lambda` function."
   ]
  },
  {
   "cell_type": "code",
   "execution_count": 1,
   "metadata": {},
   "outputs": [],
   "source": [
    "# your code here"
   ]
  },
  {
   "cell_type": "code",
   "execution_count": null,
   "metadata": {},
   "outputs": [],
   "source": []
  },
  {
   "cell_type": "markdown",
   "metadata": {},
   "source": [
    "### Solutions"
   ]
  },
  {
   "cell_type": "code",
   "execution_count": 2,
   "metadata": {},
   "outputs": [
    {
     "name": "stdout",
     "output_type": "stream",
     "text": [
      "2 is prime.\n",
      "3 is prime.\n",
      "4 is not prime.\n",
      "5 is prime.\n",
      "6 is not prime.\n",
      "7 is prime.\n",
      "8 is not prime.\n",
      "9 is not prime.\n"
     ]
    }
   ],
   "source": [
    "# with def\n",
    "\n",
    "# note: returns negatives are non-primes\n",
    "# We can fix this with abs() function, but I don't want to clutter solution too much.\n",
    "\n",
    "def is_prime(n):\n",
    "    \n",
    "    if n < 2: # not required given prompt states n>=2, but since zero and one are not primes, we return zero\n",
    "        return False\n",
    "    \n",
    "    for i in range(2, n):\n",
    "        if n % i == 0: # if divisible by any number between 2 and n-1, not prime, return False\n",
    "            return False\n",
    "        \n",
    "    return True # if made it through all iterations, return True\n",
    "\n",
    "# show results\n",
    "for i in range(2, 10):\n",
    "    print(i, 'is', 'prime.' if is_prime(i) else 'not prime.')"
   ]
  },
  {
   "cell_type": "code",
   "execution_count": 3,
   "metadata": {
    "scrolled": true
   },
   "outputs": [
    {
     "name": "stdout",
     "output_type": "stream",
     "text": [
      "2 is prime.\n",
      "3 is prime.\n",
      "4 is not prime.\n",
      "5 is prime.\n",
      "6 is not prime.\n",
      "7 is prime.\n",
      "8 is not prime.\n",
      "9 is not prime.\n"
     ]
    }
   ],
   "source": [
    "# with lambda function\n",
    "\n",
    "is_prime = lambda n: all(n % i != 0  for i in range(2, n))\n",
    "\n",
    "# show results\n",
    "for i in range(2, 10):\n",
    "    print(i, 'is', 'prime.' if is_prime(i) else 'not prime.')"
   ]
  },
  {
   "cell_type": "code",
   "execution_count": 4,
   "metadata": {},
   "outputs": [
    {
     "name": "stdout",
     "output_type": "stream",
     "text": [
      "0 is not prime.\n",
      "1 is not prime.\n",
      "👍\n"
     ]
    }
   ],
   "source": [
    "# we can create a lambda function version that returns zero and one as non-primes\n",
    "\n",
    "is_prime = lambda n: all(n%i != 0  for i in range(2, n)) if n > 1 else False\n",
    "\n",
    "# show results\n",
    "for i in range(2):\n",
    "    print(i, 'is', 'prime.' if is_prime(i) else 'not prime.')\n",
    "    \n",
    "print('👍')"
   ]
  },
  {
   "cell_type": "markdown",
   "metadata": {},
   "source": [
    "# Primes 🤖\n",
    "Create a **`list`** or **`set`** of all primes between **`2 and 100`**.\n",
    "\n",
    "***`Bonus:`*** use a list comprehension."
   ]
  },
  {
   "cell_type": "code",
   "execution_count": 5,
   "metadata": {},
   "outputs": [],
   "source": [
    "# your code here"
   ]
  },
  {
   "cell_type": "code",
   "execution_count": null,
   "metadata": {},
   "outputs": [],
   "source": []
  },
  {
   "cell_type": "markdown",
   "metadata": {},
   "source": [
    "### Solutions"
   ]
  },
  {
   "cell_type": "code",
   "execution_count": 6,
   "metadata": {},
   "outputs": [
    {
     "name": "stdout",
     "output_type": "stream",
     "text": [
      "[2, 3, 5, 7, 11, 13, 17, 19, 23, 29, 31, 37, 41, 43, 47, 53, 59, 61, 67, 71, 73, 79, 83, 89, 97]\n"
     ]
    }
   ],
   "source": [
    "# using for loop\n",
    "\n",
    "primes = []\n",
    "\n",
    "for n in range(2, 101):\n",
    "    \n",
    "    is_prime = True # assume n is prime\n",
    "    \n",
    "    for i in range(2, n): # check if any factors between 2 and n-1\n",
    "        if n % i == 0:\n",
    "            is_prime = False # if so, not prime\n",
    "            break # break out of \"for i in range(2, n)\" loop\n",
    "    \n",
    "    if is_prime:\n",
    "        primes.append(n)\n",
    "    \n",
    "print(primes)"
   ]
  },
  {
   "cell_type": "code",
   "execution_count": 7,
   "metadata": {},
   "outputs": [
    {
     "name": "stdout",
     "output_type": "stream",
     "text": [
      "[2, 3, 5, 7, 11, 13, 17, 19, 23, 29, 31, 37, 41, 43, 47, 53, 59, 61, 67, 71, 73, 79, 83, 89, 97]\n"
     ]
    }
   ],
   "source": [
    "# using previously found primes\n",
    "# computationally faster than previous method\n",
    "\n",
    "primes = []\n",
    "\n",
    "for n in range(2, 101):\n",
    "    \n",
    "    is_prime = True # assume n is prime\n",
    "    for p in primes: # check if any factors in previous primes\n",
    "        if n % p == 0:\n",
    "            is_prime = False # if so, not prime\n",
    "            break # break out of \"for p in primes\" loop\n",
    "            \n",
    "    if is_prime:\n",
    "        primes.append(n)\n",
    "        \n",
    "print(primes)"
   ]
  },
  {
   "cell_type": "code",
   "execution_count": 8,
   "metadata": {},
   "outputs": [
    {
     "name": "stdout",
     "output_type": "stream",
     "text": [
      "{2, 3, 5, 7, 11, 13, 17, 19, 23, 29, 31, 37, 41, 43, 47, 53, 59, 61, 67, 71, 73, 79, 83, 89, 97}\n"
     ]
    }
   ],
   "source": [
    "# Using Sieve of Eratosthenes\n",
    "# https://en.wikipedia.org/wiki/Sieve_of_Eratosthenes\n",
    "\n",
    "# so far, this is the most computatively efficient\n",
    "# although this algorithm does not work if generating primes indefinitely\n",
    "\n",
    "res = []\n",
    "limit = 100\n",
    "\n",
    "# define two sets\n",
    "primes = set()\n",
    "non_primes = set()\n",
    "\n",
    "for n in range(2, limit+1):\n",
    "    \n",
    "    if n not in non_primes: # if the number is not in non_primes\n",
    "        \n",
    "        primes.add(n) # add to primes\n",
    "        \n",
    "        for i in range(n*2, limit+1, n): # add all its multiples up to limit to non_primes\n",
    "            non_primes.add(i)\n",
    "            \n",
    "print(primes)"
   ]
  },
  {
   "cell_type": "code",
   "execution_count": 9,
   "metadata": {},
   "outputs": [
    {
     "name": "stdout",
     "output_type": "stream",
     "text": [
      "[2, 3, 5, 7, 11, 13, 17, 19, 23, 29, 31, 37, 41, 43, 47, 53, 59, 61, 67, 71, 73, 79, 83, 89, 97]\n",
      "👍\n"
     ]
    }
   ],
   "source": [
    "# list comprehension, though probably the most computatively inefficient\n",
    "\n",
    "primes = [n for n in range(2, 101) if all(n % i!=0 for i in range(2, n))]\n",
    "\n",
    "print(primes)\n",
    "print('👍')"
   ]
  },
  {
   "cell_type": "markdown",
   "metadata": {},
   "source": [
    "## Factors ⚛\n",
    "Create a **`dict`** whose keys are all the numbers from **`2 to 100`**. The value for each key is the list of the prime factors of the key.\n",
    "\n",
    "***`i.e.:`***\n",
    "\n",
    "```python\n",
    "result == {\n",
    "    2:  [2],\n",
    "    3:  [3],\n",
    "    4:  [2, 2],\n",
    "    \n",
    "        ⋮\n",
    "    \n",
    "    98:  [2, 7, 7],\n",
    "    99:  [3, 3, 11],\n",
    "    100: [2, 2, 5, 5]\n",
    "    }\n",
    "```"
   ]
  },
  {
   "cell_type": "code",
   "execution_count": 10,
   "metadata": {},
   "outputs": [],
   "source": [
    "# your code here"
   ]
  },
  {
   "cell_type": "code",
   "execution_count": null,
   "metadata": {},
   "outputs": [],
   "source": []
  },
  {
   "cell_type": "markdown",
   "metadata": {},
   "source": [
    "### Solution"
   ]
  },
  {
   "cell_type": "code",
   "execution_count": 11,
   "metadata": {},
   "outputs": [
    {
     "name": "stdout",
     "output_type": "stream",
     "text": [
      "2 : [2]\n",
      "3 : [3]\n",
      "4 : [2, 2]\n",
      "5 : [5]\n",
      "6 : [2, 3]\n",
      "⋮\n",
      "96 : [2, 2, 2, 2, 2, 3]\n",
      "97 : [97]\n",
      "98 : [2, 7, 7]\n",
      "99 : [3, 3, 11]\n",
      "100 : [2, 2, 5, 5]\n",
      "👍\n"
     ]
    }
   ],
   "source": [
    "# using primes we have generated\n",
    "\n",
    "res = {}\n",
    "\n",
    "for n in range(2, 101):\n",
    "    \n",
    "    num = n # use a separate variable for n that will be manipulated\n",
    "    factors = [] # create a list for the factors\n",
    "    \n",
    "    for p in primes: # iterate through all the primes\n",
    "        \n",
    "        while num % p==0: # for each prime, while num is still divisible\n",
    "            \n",
    "            num /= p # divide num by that prime\n",
    "            factors.append(p) # add the prime to the actors\n",
    "    \n",
    "    res[n] = factors # add to result dictionary\n",
    "\n",
    "\n",
    "# show results\n",
    "res_list = list(res.items())\n",
    "\n",
    "for n, factors in res_list[:5]:\n",
    "    print(f'{n} : {factors}')\n",
    "\n",
    "print('⋮')\n",
    "\n",
    "for n, factors in res_list[-5:]:\n",
    "    print(f'{n} : {factors}')\n",
    "    \n",
    "print('👍')"
   ]
  },
  {
   "cell_type": "markdown",
   "metadata": {},
   "source": [
    "---\n",
    "# Mirror rorriM 👈👉\n",
    "\n",
    "**`Print`** each phrase from `phrases` with its characters mirrored.\n",
    "\n",
    "***`e.g.:`***\n",
    "\n",
    "*`ABCD | DCBA`*\n",
    "\n",
    "*`We're not in Kansas anymore | eromyna sasnaK ni ton er'eW`*\n",
    "\n",
    "<br>\n",
    "\n",
    "***`Bonus:`*** print everything all in same case without spaces or punctuation."
   ]
  },
  {
   "cell_type": "code",
   "execution_count": 12,
   "metadata": {},
   "outputs": [],
   "source": [
    "phrases = [\n",
    "    'ABCD',\n",
    "    'We\\'re not in Kansas anymore',\n",
    "    'UFO tofu',\n",
    "    'Taco cat',\n",
    "    'Borrow or rob',\n",
    "    'Tattarrattat',\n",
    "    'No lemon, no melon',\n",
    "    'Red rum, sir, is murder',\n",
    "    'Mirror mirror on the wall',\n",
    "    'Was it a car or a cat I saw'\n",
    "]"
   ]
  },
  {
   "cell_type": "code",
   "execution_count": 13,
   "metadata": {},
   "outputs": [],
   "source": [
    "# your code here"
   ]
  },
  {
   "cell_type": "code",
   "execution_count": null,
   "metadata": {},
   "outputs": [],
   "source": []
  },
  {
   "cell_type": "markdown",
   "metadata": {},
   "source": [
    "### Solutions"
   ]
  },
  {
   "cell_type": "code",
   "execution_count": 14,
   "metadata": {},
   "outputs": [
    {
     "name": "stdout",
     "output_type": "stream",
     "text": [
      "ABCD | DCBA\n",
      "We're not in Kansas anymore | eromyna sasnaK ni ton er'eW\n",
      "UFO tofu | ufot OFU\n",
      "Taco cat | tac ocaT\n",
      "Borrow or rob | bor ro worroB\n",
      "Tattarrattat | tattarrattaT\n",
      "No lemon, no melon | nolem on ,nomel oN\n",
      "Red rum, sir, is murder | redrum si ,ris ,mur deR\n",
      "Mirror mirror on the wall | llaw eht no rorrim rorriM\n",
      "Was it a car or a cat I saw | was I tac a ro rac a ti saW\n"
     ]
    }
   ],
   "source": [
    "# using reversed\n",
    "\n",
    "for p in phrases:\n",
    "    \n",
    "    rev = ''.join(c for c in reversed(p))\n",
    "    \n",
    "    print(p,'|',rev)"
   ]
  },
  {
   "cell_type": "code",
   "execution_count": 15,
   "metadata": {},
   "outputs": [
    {
     "name": "stdout",
     "output_type": "stream",
     "text": [
      "ABCD | DCBA\n",
      "We're not in Kansas anymore | eromyna sasnaK ni ton er'eW\n",
      "UFO tofu | ufot OFU\n",
      "Taco cat | tac ocaT\n",
      "Borrow or rob | bor ro worroB\n",
      "Tattarrattat | tattarrattaT\n",
      "No lemon, no melon | nolem on ,nomel oN\n",
      "Red rum, sir, is murder | redrum si ,ris ,mur deR\n",
      "Mirror mirror on the wall | llaw eht no rorrim rorriM\n",
      "Was it a car or a cat I saw | was I tac a ro rac a ti saW\n"
     ]
    }
   ],
   "source": [
    "# more DIY\n",
    "\n",
    "for p in phrases:\n",
    "    \n",
    "    rev = ''\n",
    "    for i in range(len(p)):\n",
    "        rev += p[len(p)-i-1]\n",
    "    \n",
    "    print(p,'|',rev)"
   ]
  },
  {
   "cell_type": "code",
   "execution_count": 16,
   "metadata": {},
   "outputs": [
    {
     "name": "stdout",
     "output_type": "stream",
     "text": [
      "ABCD | DCBA\n",
      "WERENOTINKANSASANYMORE | EROMYNASASNAKNITONEREW\n",
      "UFOTOFU | UFOTOFU\n",
      "TACOCAT | TACOCAT\n",
      "BORROWORROB | BORROWORROB\n",
      "TATTARRATTAT | TATTARRATTAT\n",
      "NOLEMONNOMELON | NOLEMONNOMELON\n",
      "REDRUMSIRISMURDER | REDRUMSIRISMURDER\n",
      "MIRRORMIRRORONTHEWALL | LLAWEHTNORORRIMRORRIM\n",
      "WASITACARORACATISAW | WASITACARORACATISAW\n",
      "👍\n"
     ]
    }
   ],
   "source": [
    "# without spaces or punctuation, some of these are palindromes\n",
    "\n",
    "for p in phrases:\n",
    "    \n",
    "    # remove non-alphas and make upper case\n",
    "    p = ''.join(c for c in p if c.isalpha()).upper()\n",
    "    \n",
    "    # same drill\n",
    "    rev = ''.join(c for c in reversed(p))\n",
    "    \n",
    "    print(p,'|',rev)\n",
    "    \n",
    "print('👍')"
   ]
  },
  {
   "cell_type": "markdown",
   "metadata": {},
   "source": [
    "# Pig-Latin 🐖\n",
    "**`Print`** each sentence in the list `pig_latin` in regular English.\n",
    "\n",
    "***For example:***\n",
    "\n",
    "*`O-day ou-yay peak-say Ig-pay Atin-lay?`* translates to *`Do you speak pig latin?`*"
   ]
  },
  {
   "cell_type": "code",
   "execution_count": 17,
   "metadata": {},
   "outputs": [],
   "source": [
    "# setup\n",
    "pig_latin = [\n",
    "    'Ello-hay!',\n",
    "    'Y-may ame-nay is-ay Ister-may Nowball-say.',\n",
    "    'Leased-pay o-tay eet-may ou-yay.',\n",
    "    'O-day ou-yay peak-say Ig-pay Atin-lay?',\n",
    "    'I-ay ope-hay ou-yay ave-hay ork-tastic-pay ay-day 🐷'\n",
    "    ]"
   ]
  },
  {
   "cell_type": "code",
   "execution_count": 18,
   "metadata": {},
   "outputs": [],
   "source": [
    "# your code here"
   ]
  },
  {
   "cell_type": "code",
   "execution_count": null,
   "metadata": {},
   "outputs": [],
   "source": []
  },
  {
   "cell_type": "markdown",
   "metadata": {},
   "source": [
    "### Solution"
   ]
  },
  {
   "cell_type": "code",
   "execution_count": 19,
   "metadata": {},
   "outputs": [
    {
     "name": "stdout",
     "output_type": "stream",
     "text": [
      "Hello!\n",
      "My name is Mister Snowball.\n",
      "Pleased to meet you.\n",
      "Do you speak Pig Latin?\n",
      "I hope you have pork-tastic day 🐷\n",
      "👍\n"
     ]
    }
   ],
   "source": [
    "for p in pig_latin:\n",
    "    \n",
    "    words = p.split()\n",
    "    \n",
    "    eng_words = []\n",
    "    \n",
    "    for w in words:\n",
    "        \n",
    "        # check if word is capitalized\n",
    "        cap = w[0].isupper()\n",
    "        \n",
    "        # check for punctuation\n",
    "        if not w[-1].isalpha():\n",
    "            punc = w[-1] # save punctuation for later\n",
    "            w = w[:-1] # remove punct from word\n",
    "        \n",
    "        else: # if no punctation\n",
    "            punc = '' \n",
    "        \n",
    "        # split into word parts pased on '-'\n",
    "        parts = w.split('-')\n",
    "        \n",
    "        # remove \"-ay\" from the last word part and place at beginning of new word\n",
    "        eng_w = parts[-1].replace('ay','')\n",
    "        \n",
    "        # add remaining parts joined by '-'\n",
    "        eng_w += '-'.join(parts[:-1])\n",
    "        \n",
    "        # add punctation\n",
    "        eng_w += punc\n",
    "        \n",
    "        if cap: # if word was capitalized\n",
    "            eng_w = eng_w[0].upper() + eng_w[1:].lower() # caplitalize first letter, lower case everything else\n",
    "        else:\n",
    "            eng_w = eng_w.lower()\n",
    "        \n",
    "        eng_words.append(eng_w)\n",
    "    \n",
    "    eng = ' '.join(eng_words)\n",
    "    print(eng)\n",
    "\n",
    "print('👍')"
   ]
  },
  {
   "cell_type": "markdown",
   "metadata": {},
   "source": [
    "---\n",
    "# Fractions 🔢➗\n",
    "\n",
    "Create a **`function`** called `fraction()` that takes a floating point argument **`n`** and returns the numerator and denominator of the fraction in lowest terms.\n",
    "\n",
    "***`e.g.:`***\n",
    "\n",
    "`fraction(1.5)` returns `(3, 2)`\n",
    "\n",
    "`fraction(2.41)` returns `(241, 100)`\n",
    "\n",
    "`fraction(5.0)` returns `(5, 1)`\n",
    "\n",
    "**Question:** What is the fractions representation of $\\sqrt{2}$?"
   ]
  },
  {
   "cell_type": "code",
   "execution_count": 20,
   "metadata": {},
   "outputs": [],
   "source": [
    "# your code here"
   ]
  },
  {
   "cell_type": "code",
   "execution_count": null,
   "metadata": {},
   "outputs": [],
   "source": []
  },
  {
   "cell_type": "markdown",
   "metadata": {},
   "source": [
    "### Solution"
   ]
  },
  {
   "cell_type": "code",
   "execution_count": 21,
   "metadata": {},
   "outputs": [
    {
     "name": "stdout",
     "output_type": "stream",
     "text": [
      "fraction(1.5):  \t (3, 2)\n",
      "fraction(2.41):  \t (241, 100)\n",
      "fraction(5.0):  \t (5, 1)\n"
     ]
    }
   ],
   "source": [
    "# probably not the best algorithm, but... ¯\\_(ツ)_/¯\n",
    "\n",
    "def fraction(n):\n",
    "    \n",
    "    # if n is negative\n",
    "    if n < 0:\n",
    "        n = -n # make positive\n",
    "        m = -1 # set negative multiple\n",
    "    else:\n",
    "        m = 1 # set positive multiple\n",
    "    \n",
    "    # set numerator and denominator\n",
    "    num, denom = 0, 1\n",
    "    \n",
    "    while (num/denom) != n: # while quotient not equal to n\n",
    "        \n",
    "        if (num/denom) < n: # if fraction is smaller\n",
    "            num+=1 # increase numerator\n",
    "        else:\n",
    "            denom +=1 # else fraction is bigger, increase denominator\n",
    "    \n",
    "    return m*num, denom\n",
    "\n",
    "# test results\n",
    "for n in [1.5, 2.41, 5.0]:\n",
    "    \n",
    "    print(f'fraction({n}):  \\t', fraction(n))"
   ]
  },
  {
   "cell_type": "code",
   "execution_count": 22,
   "metadata": {},
   "outputs": [
    {
     "name": "stdout",
     "output_type": "stream",
     "text": [
      "fraction(sqrt(2)):  \t (131836323, 93222358)\n",
      "👍\n"
     ]
    }
   ],
   "source": [
    "\n",
    "# sqrt(2) is irrational, so it should not be expressible as a fraction of two integers\n",
    "# this shows that when python evaluates sqrt(2), it stores it as a terminating value--irrational numbers are interminable\n",
    "print('fraction(sqrt(2)):  \\t', fraction(2**(1/2)))\n",
    "\n",
    "print('👍')"
   ]
  },
  {
   "cell_type": "markdown",
   "metadata": {},
   "source": [
    "---\n",
    "# Recursive Sequences 🔁\n",
    "\n",
    "Create a **`list`** of numbers of **`length 15`**, starting at **`0`**, where each number is the square of the preceding number in the list plus 1.\n",
    "\n",
    "The mathematical notation of an element is as follows:\n",
    "\n",
    "$z_{i} = (z_{i-1})^{2} + c \\text{ where } z_{0} = 0, c = 1$\n",
    "\n",
    "\n",
    "***`i.e.:`***\n",
    "```python\n",
    "result == [\n",
    "    0,\n",
    "    1,\n",
    "    2,\n",
    "    5,\n",
    "    26,\n",
    "     ⋮\n",
    "] == [\n",
    "    0, \n",
    "    0^2 + 1,\n",
    "    1^2 + 1,\n",
    "    2^2 + 1,\n",
    "    5^2 + 1,\n",
    "     ⋮\n",
    "]\n",
    "```\n",
    "\n",
    "Create another of number **`list`** of  **`length 15`** $, \\text{ where } z_{0} = -\\frac{7}{4}, c = -\\frac{29}{16}$."
   ]
  },
  {
   "cell_type": "code",
   "execution_count": 23,
   "metadata": {},
   "outputs": [],
   "source": [
    "# your code here"
   ]
  },
  {
   "cell_type": "code",
   "execution_count": null,
   "metadata": {},
   "outputs": [],
   "source": []
  },
  {
   "cell_type": "markdown",
   "metadata": {},
   "source": [
    "### Solution"
   ]
  },
  {
   "cell_type": "code",
   "execution_count": 24,
   "metadata": {},
   "outputs": [],
   "source": [
    "# let's create a function first so we can reuse it\n",
    "\n",
    "def recur(z0=0, c=1, length=15):\n",
    "    \n",
    "    res = [z0]\n",
    "    \n",
    "    for _ in range(length-1):\n",
    "        new_val = res[-1]**2 + c\n",
    "        res.append(new_val)\n",
    "        \n",
    "    return res\n"
   ]
  },
  {
   "cell_type": "code",
   "execution_count": 25,
   "metadata": {},
   "outputs": [
    {
     "name": "stdout",
     "output_type": "stream",
     "text": [
      "[0, 1, 2, 5, 26, 677, 458330, 210066388901, 44127887745906175987802, 1947270476915296449559703445493848930452791205] ...\n",
      "length: 15\n"
     ]
    }
   ],
   "source": [
    "# results for z0 = 0, c = 1\n",
    "\n",
    "res = recur()\n",
    "print(res[:10], '...')\n",
    "print('length:', len(res))"
   ]
  },
  {
   "cell_type": "code",
   "execution_count": 26,
   "metadata": {},
   "outputs": [
    {
     "name": "stdout",
     "output_type": "stream",
     "text": [
      "[-1.75, 1.25, -0.25, -1.75, 1.25, -0.25, -1.75, 1.25, -0.25, -1.75] ...\n",
      "length: 15 👍\n"
     ]
    }
   ],
   "source": [
    "# results for z0 = -7/4, c = -29/16\n",
    "\n",
    "# when z0 = -7/4 and c = -29/16, the recursive sequence is \"periodic\"\n",
    "# meaning it follows a repeating pattern: -1.75, 1.25, -0.25, -1.75, ...\n",
    "\n",
    "res = recur(z0=-7/4, c=-29/16)\n",
    "\n",
    "print(res[:10], '...')\n",
    "print('length:', len(res), '👍')"
   ]
  },
  {
   "cell_type": "markdown",
   "metadata": {},
   "source": [
    "# Fibonacci Numbers 🌻\n",
    "\n",
    "The Fibonacci Sequence is the a sequence of numbers that begins (depending on who you ask) with `0` and `1`:\n",
    "\n",
    "`0, 1, 1, 2, 3, 5, 8, 13 ...`\n",
    "\n",
    "All numbers after the first two are the sum of the two previous numbers.\n",
    "\n",
    "---"
   ]
  },
  {
   "cell_type": "markdown",
   "metadata": {},
   "source": [
    "\n",
    "**Part 1:** Create a **`function`** called `get_fib` that takes an integer **`n`** as an argument. The function returns the number in the `n`th index of the Fibonnaci Sequence.\n",
    "\n",
    "***`i.e.:`***\n",
    "\n",
    "\n",
    "`fib(0)` returns `0`\n",
    "\n",
    "`fib(4)` returns `3`\n",
    "\n",
    "`fib(5)` returns `5`\n",
    "\n",
    "`fib(6)` returns `8`\n",
    "\n",
    "`fib(30)` returns `832040`\n",
    "\n",
    "---"
   ]
  },
  {
   "cell_type": "markdown",
   "metadata": {},
   "source": [
    "**Part 2:** Create a **`list`** of the **`first 100`** Fibonacci Numbers.\n",
    "\n",
    "***`i.e.:`*** `[0, 1, 1, 2, 3, 5, 8... ]`"
   ]
  },
  {
   "cell_type": "code",
   "execution_count": 27,
   "metadata": {},
   "outputs": [],
   "source": [
    "# your code here"
   ]
  },
  {
   "cell_type": "code",
   "execution_count": null,
   "metadata": {},
   "outputs": [],
   "source": []
  },
  {
   "cell_type": "markdown",
   "metadata": {},
   "source": [
    "### Solutions for Part 1\n",
    "Creating a `get_fib()` function"
   ]
  },
  {
   "cell_type": "markdown",
   "metadata": {},
   "source": [
    "#### Comment about solution\n",
    "This pure recursion solution will get the job done, but it's devastatingly inefficient."
   ]
  },
  {
   "cell_type": "code",
   "execution_count": 28,
   "metadata": {},
   "outputs": [],
   "source": [
    "# pure recursion\n",
    "\n",
    "def get_fib(n):\n",
    "    \n",
    "    if n in [0,1]: # if n is 0 or 1\n",
    "        return n # return 0 or 1\n",
    "    \n",
    "    else: # recurse\n",
    "        return get_fib(n-1) + get_fib(n-2)"
   ]
  },
  {
   "cell_type": "code",
   "execution_count": 29,
   "metadata": {},
   "outputs": [
    {
     "name": "stdout",
     "output_type": "stream",
     "text": [
      "n: 0, fib: 0\n",
      "n: 4, fib: 3\n",
      "n: 5, fib: 5\n",
      "n: 6, fib: 8\n",
      "n: 30, fib: 832040\n",
      "Wall time: 353 ms\n"
     ]
    }
   ],
   "source": [
    "%%time\n",
    "# use ipython magic to get cell run-time\n",
    "\n",
    "# test results\n",
    "for n in [0, 4, 5, 6, 30]:\n",
    "    print(f'n: {n}, fib: {get_fib(n)}')"
   ]
  },
  {
   "cell_type": "code",
   "execution_count": 30,
   "metadata": {},
   "outputs": [],
   "source": [
    "# if you try get_fib(50), you'll be pretty much stuck\n",
    "\n",
    "n = 50\n",
    "# print(n, ':', get_fib(n)) # uncomment and run this if you want to waste some time"
   ]
  },
  {
   "cell_type": "markdown",
   "metadata": {},
   "source": [
    "#### A better solution: dynamic programming\n",
    "This Fibonnaci Number solution is a classic example in dynamic programming."
   ]
  },
  {
   "cell_type": "code",
   "execution_count": 31,
   "metadata": {},
   "outputs": [],
   "source": [
    "# dyanmic programming\n",
    "\n",
    "memo = {} # create a dictionary for memoization\n",
    "\n",
    "def get_fib(n):\n",
    "    \n",
    "    if n in [0,1]: # returns our base case values\n",
    "        return n\n",
    "    \n",
    "    if n in memo: # checks if the result is already stored in our memoized dictionary\n",
    "        return memo[n]\n",
    "    \n",
    "    else:\n",
    "        val = get_fib(n-1)+get_fib(n-2) # if not in memo, recurse\n",
    "        memo[n] = val # store the value for n in memo. This happens every time function is called in the recursion\n",
    "        return val"
   ]
  },
  {
   "cell_type": "code",
   "execution_count": 32,
   "metadata": {},
   "outputs": [
    {
     "name": "stdout",
     "output_type": "stream",
     "text": [
      "n: 0, fib: 0\n",
      "n: 4, fib: 3\n",
      "n: 5, fib: 5\n",
      "n: 6, fib: 8\n",
      "n: 30, fib: 832040\n",
      "Wall time: 955 µs\n"
     ]
    }
   ],
   "source": [
    "%%time\n",
    "# use ipython magic to get cell run-time\n",
    "\n",
    "# test results\n",
    "for n in [0, 4, 5, 6, 30]:\n",
    "    print(f'n: {n}, fib: {get_fib(n)}')"
   ]
  },
  {
   "cell_type": "code",
   "execution_count": 33,
   "metadata": {},
   "outputs": [
    {
     "name": "stdout",
     "output_type": "stream",
     "text": [
      "n: 50, fib: 12586269025\n",
      "Wall time: 0 ns\n"
     ]
    }
   ],
   "source": [
    "%%time\n",
    "# use ipython magic to get cell run-time\n",
    "\n",
    "n = 50\n",
    "print(f'n: {n}, fib: {get_fib(n)}') # Wow! So fast!"
   ]
  },
  {
   "cell_type": "markdown",
   "metadata": {},
   "source": [
    "### Solutions for Part 2\n",
    "Creating a `list` of the first 100 fibonnaci numbers."
   ]
  },
  {
   "cell_type": "code",
   "execution_count": 34,
   "metadata": {},
   "outputs": [
    {
     "name": "stdout",
     "output_type": "stream",
     "text": [
      "[0, 1, 1, 2, 3, 5, 8, 13, 21, 34, 55, 89, 144, 233, 377, 610, 987, 1597, 2584, 4181] ...\n",
      "length: 100\n"
     ]
    }
   ],
   "source": [
    "# We can repurpose our get_fib() function\n",
    "\n",
    "fibs = [get_fib(i) for i in range(100)]\n",
    "\n",
    "# show results\n",
    "print(fibs[:20], '...')\n",
    "print('length:', len(fibs))"
   ]
  },
  {
   "cell_type": "code",
   "execution_count": 35,
   "metadata": {},
   "outputs": [
    {
     "name": "stdout",
     "output_type": "stream",
     "text": [
      "[0, 1, 1, 2, 3, 5, 8, 13, 21, 34, 55, 89, 144, 233, 377, 610, 987, 1597, 2584, 4181] ...\n",
      "length: 100\n"
     ]
    }
   ],
   "source": [
    "# Or we can start from scratch\n",
    "\n",
    "fibs = [0, 1] # seed first two value in sequences\n",
    "\n",
    "while len(fibs) < 100: # keep adding while sequence length < 100\n",
    "    \n",
    "    fibs.append(fibs[-1]+fibs[-2]) # add last values in last two index to end\n",
    "\n",
    "# show results\n",
    "print(fibs[:20], '...')\n",
    "print('length:', len(fibs))"
   ]
  },
  {
   "cell_type": "markdown",
   "metadata": {},
   "source": [
    "#### Last comment, I promise\n",
    "The solution above gives us another alternative for **`part 1`** that, although is not quite dynamic programming, is simpler and also fast."
   ]
  },
  {
   "cell_type": "code",
   "execution_count": 36,
   "metadata": {},
   "outputs": [],
   "source": [
    "fibs = [0, 1]\n",
    "\n",
    "def get_fib2(n):\n",
    "    \n",
    "    while len(fibs) < (n+1): # while length of fibs list is less than our index\n",
    "        \n",
    "        fibs.append(fibs[-1]+fibs[-2]) # keep adding fibonacci numbers to list\n",
    "    \n",
    "    return fibs[n]\n",
    "        "
   ]
  },
  {
   "cell_type": "markdown",
   "metadata": {},
   "source": [
    "## Let's race these two functions 🏁🔢🚗💨"
   ]
  },
  {
   "cell_type": "code",
   "execution_count": 37,
   "metadata": {},
   "outputs": [],
   "source": [
    "# clear the cache first\n",
    "memo = {}\n",
    "fibs = [0, 1]"
   ]
  },
  {
   "cell_type": "code",
   "execution_count": 38,
   "metadata": {},
   "outputs": [
    {
     "name": "stdout",
     "output_type": "stream",
     "text": [
      "\n",
      "get_fib(199999):\n",
      "\n",
      "9323465182362609607288619767148106427780444195248563132048347024726772091866394745170765148560740584 ...\n",
      "\n",
      "Wall time: 1.36 s\n"
     ]
    }
   ],
   "source": [
    "%%time\n",
    "\n",
    "# test first hundred thousand fibonnaci numbers\n",
    "for i in range(200_000):\n",
    "    res = get_fib(i)\n",
    "\n",
    "print(f'\\nget_fib({i}):\\n')\n",
    "print(str(res)[:100], '...\\n')"
   ]
  },
  {
   "cell_type": "code",
   "execution_count": 39,
   "metadata": {},
   "outputs": [],
   "source": [
    "# clear cache\n",
    "memo = {}\n",
    "fibs = [0, 1]"
   ]
  },
  {
   "cell_type": "code",
   "execution_count": 40,
   "metadata": {},
   "outputs": [
    {
     "name": "stdout",
     "output_type": "stream",
     "text": [
      "\n",
      "get_fib2(199999):\n",
      "\n",
      "9323465182362609607288619767148106427780444195248563132048347024726772091866394745170765148560740584 ...\n",
      "\n",
      "Wall time: 1.23 s\n"
     ]
    }
   ],
   "source": [
    "%%time\n",
    "\n",
    "# test first hundred thousand fibonnaci numbers\n",
    "for i in range(200_000):\n",
    "    res = get_fib2(i)\n",
    "    \n",
    "\n",
    "# get last result\n",
    "print(f'\\nget_fib2({i}):\\n')\n",
    "\n",
    "print(str(res)[:100], '...\\n')"
   ]
  },
  {
   "cell_type": "markdown",
   "metadata": {},
   "source": [
    "### Seems pretty close...\n",
    "If we go any bigger we'll probably run into issues with disk memory."
   ]
  },
  {
   "cell_type": "code",
   "execution_count": 41,
   "metadata": {},
   "outputs": [
    {
     "name": "stdout",
     "output_type": "stream",
     "text": [
      "👍\n"
     ]
    }
   ],
   "source": [
    "print('👍')"
   ]
  },
  {
   "cell_type": "markdown",
   "metadata": {},
   "source": [
    "---\n",
    "# FizzBuzz 🥤🐝\n",
    "\n",
    "Fizzbuzz is a children's game where numbers are counted consecutively starting from 1.\n",
    "\n",
    "If the number is divisible by 3, you say `Fizz!` instead of the number.\n",
    "\n",
    "If the number is divisible by 5, you say `Buzz!` instead of the number.\n",
    "\n",
    "If the number is divisible by both 3 and 5, you say `FizzBuzz!` instead of the number.\n",
    "\n",
    "**`i.e.:`** `1, 2, Fizz!, 4, Buzz!, Fizz!, 7, 8, Fizz!, Buzz!, 11, Fizz!, 13, 14, FizzBuzz!, ...`\n",
    "\n",
    "---\n",
    "\n",
    "**Challenge: `Print`** the FizzBuzz game sequence from **`1 to 100`**.\n",
    "\n",
    "<br>\n",
    "\n",
    "***`Bonus:`*** make the program adaptive to adding arbitrary word rules.\n",
    "\n",
    "\n",
    "**`e.g.:`**\n",
    "\n",
    "Rules: `3: 'Fizz', 5: 'Buzz', 7: 'Hot', 11: 'Pot', 13: 'Fox', 17: 'Cop' ...` <br>\n",
    "\n",
    "Result: `1, 2, Fizz!, 4, Buzz!, Fizz!, Hot!, 8, Fizz!, Buzz!, Pot!, Fizz!, Fox!, Hot!, FizzBuzz!, ...`"
   ]
  },
  {
   "cell_type": "code",
   "execution_count": 42,
   "metadata": {},
   "outputs": [],
   "source": [
    "# your code here"
   ]
  },
  {
   "cell_type": "code",
   "execution_count": null,
   "metadata": {},
   "outputs": [],
   "source": []
  },
  {
   "cell_type": "markdown",
   "metadata": {},
   "source": [
    "### Solutions"
   ]
  },
  {
   "cell_type": "code",
   "execution_count": 43,
   "metadata": {
    "scrolled": false
   },
   "outputs": [
    {
     "name": "stdout",
     "output_type": "stream",
     "text": [
      "1: 1\n",
      "2: 2\n",
      "3: Fizz!\n",
      "4: 4\n",
      "5: Buzz!\n",
      "6: Fizz!\n",
      "7: 7\n",
      "8: 8\n",
      "9: Fizz!\n",
      "10: Buzz!\n",
      "11: 11\n",
      "12: Fizz!\n",
      "13: 13\n",
      "14: 14\n",
      "15: FizzBuzz!\n",
      "16: 16\n",
      "17: 17\n",
      "18: Fizz!\n",
      "19: 19\n",
      "20: Buzz!\n",
      "⋮\n",
      "\n"
     ]
    }
   ],
   "source": [
    "# simple case\n",
    "\n",
    "for n in range(1, 21): # I'll print only first 20 for sake of brevity...\n",
    "    \n",
    "    msg = '' # set empty string\n",
    "    \n",
    "    if n % 3==0: # if divisible\n",
    "        msg += 'Fizz' # add keyword\n",
    "    \n",
    "    if n % 5==0: # if divisible\n",
    "        msg += 'Buzz' # add keyword\n",
    "    \n",
    "    if len(msg)==0: # if no words added\n",
    "        msg += str(n) # add number\n",
    "    else: # if words were added\n",
    "        msg += '!' # add exclaimation mark\n",
    "        \n",
    "    print(f'{n}: {msg}')\n",
    "    \n",
    "print('⋮\\n')"
   ]
  },
  {
   "cell_type": "code",
   "execution_count": 44,
   "metadata": {},
   "outputs": [
    {
     "name": "stdout",
     "output_type": "stream",
     "text": [
      "1: 1\n",
      "2: 2\n",
      "3: Fizz!\n",
      "4: 4\n",
      "5: Buzz!\n",
      "6: Fizz!\n",
      "7: Hot!\n",
      "8: 8\n",
      "9: Fizz!\n",
      "10: Buzz!\n",
      "11: Pot!\n",
      "12: Fizz!\n",
      "13: Fox!\n",
      "14: Hot!\n",
      "15: FizzBuzz!\n",
      "16: 16\n",
      "17: Cop!\n",
      "18: Fizz!\n",
      "19: 19\n",
      "20: Buzz!\n",
      "⋮\n",
      "\n",
      "👍\n"
     ]
    }
   ],
   "source": [
    "# with rules for bonus\n",
    "rules = {3: 'Fizz', 5: 'Buzz', 7: 'Hot', 11: 'Pot', 13: 'Fox', 17: 'Cop'}\n",
    "\n",
    "for n in range(1, 21): # I'll print only first 20 for sake of brevity...\n",
    "    \n",
    "    msg = ''\n",
    "    \n",
    "    for k, v in rules.items():\n",
    "        if n % k == 0:\n",
    "            msg+=v\n",
    "            \n",
    "    if len(msg) == 0:\n",
    "        msg += str(n)\n",
    "    else:\n",
    "        msg += '!'\n",
    "    \n",
    "    print(f'{n}: {msg}')\n",
    "    \n",
    "print('⋮\\n')    \n",
    "    \n",
    "print('👍')"
   ]
  },
  {
   "cell_type": "markdown",
   "metadata": {},
   "source": [
    "# FizzBuzz: Human v Machine 🤖⚡🤺\n",
    "\n",
    "Create a **`function`** called `play_fizzbuzz()` that allows a human to play the game `FizzBuzz` against the program.\n",
    "\n",
    "The function should take three parameters:\n",
    "\n",
    "* `players` for number of players, with default `2` (for human and computer).\n",
    "\n",
    "* `my_turn` for the human's turn in the order of play, with the default where the `human plays last`.\n",
    "\n",
    "* `win_at` for the number of corrected turns the human player must play to win the game, with default at `20`.\n",
    "\n",
    "***`Bonus:`***\n",
    "* Add a parameter that can add/adjust the divisible rules, e.g., `3=>Fizz, 5=>Buzz, 7=>Hot, 11=>Pot, 13=>Fox, 17=>Cop ...`\n",
    "\n",
    "* Make human lose if the time taken to respond exceeds 5 seconds.\n",
    "\n",
    "* Add pause command."
   ]
  },
  {
   "cell_type": "code",
   "execution_count": 45,
   "metadata": {},
   "outputs": [],
   "source": [
    "# your code here"
   ]
  },
  {
   "cell_type": "code",
   "execution_count": null,
   "metadata": {},
   "outputs": [],
   "source": []
  },
  {
   "cell_type": "markdown",
   "metadata": {},
   "source": [
    "### Solution\n",
    "\n",
    "These things are very customizable.\n",
    "\n",
    "I'm just going to do everything, including bonus, with one go..."
   ]
  },
  {
   "cell_type": "code",
   "execution_count": 46,
   "metadata": {},
   "outputs": [],
   "source": [
    "import time\n",
    "\n",
    "# rules = {3: 'Fizz', 5: 'Buzz', 7: 'Hot', 11: 'Pot', 13: 'Fox', 17: 'Cop'}\n",
    "\n",
    "rules = {3: 'Fizz', 5: 'Buzz'}\n",
    "\n",
    "def play_fizzbuzz(\n",
    "                players=2,\n",
    "                my_turn=None,\n",
    "                win_at=20,\n",
    "                rules=rules,\n",
    "                time_limit=5\n",
    "            ):\n",
    "    \n",
    "    # set default my_turn if none specified\n",
    "    if my_turn==None:\n",
    "        my_turn = players\n",
    "        \n",
    "    # add more players\n",
    "    elif my_turn > players:\n",
    "        players = my_turn\n",
    "        \n",
    "    # negative indexing\n",
    "    elif my_turn < 1:\n",
    "        my_turn = max(1, players+my_turn+1) \n",
    "    \n",
    "    places = {1:'st', 2:'nd', 3:'rd'}\n",
    "    if my_turn in places:\n",
    "        place = places[my_turn]\n",
    "    else:\n",
    "        place = 'th'\n",
    "        \n",
    "    # welcome message\n",
    "    welcome = f'''\n",
    "Welcome to FizzBuzz: Human v Machine 🤖⚡🤺\n",
    "\n",
    "> Enter \"pause\" any time to pause the game. The clock will stop running.\n",
    "> Enter \"exit\" any time to exit the game\n",
    "\n",
    "You have {time_limit} seconds to respond during your turn.\n",
    "\n",
    "You have the {my_turn}{place} turn of {players} players.\n",
    "\n",
    "You win the game if you get {win_at} turns correct.\n",
    "\n",
    "The divisibility rules are:\n",
    "\n",
    "{rules}\n",
    "\n",
    "Goodluck!\n",
    "\n",
    "{\"=\"*20}\n",
    "'''\n",
    "    print(welcome)\n",
    "    \n",
    "    start_game = input('Enter any key when you\\'re ready to play, or enter \"exit\" to exit game\\n')\n",
    "    \n",
    "    play=True\n",
    "    if 'exit' in start_game.lower():\n",
    "        play=False\n",
    "    \n",
    "    else:\n",
    "        # count down\n",
    "        cnt_start = 3\n",
    "        for i in range(cnt_start):\n",
    "            cnt = cnt_start-i\n",
    "            print((cnt)*'*')\n",
    "            time.sleep(1)\n",
    "\n",
    "        print('\\nBegin! 🏁')\n",
    "        print('-'*5,'\\n')\n",
    "        \n",
    "    # set starting values for rounds n and correct answers\n",
    "    n, correct = 0, 0\n",
    "    while play:\n",
    "        \n",
    "        time.sleep(1) # one second interval between numbers to help players react\n",
    "        \n",
    "        n += 1 # add round number\n",
    "        \n",
    "        # set empty string for solution\n",
    "        sol = '' \n",
    "\n",
    "        # get solutions according to keywords rules\n",
    "        for k, v in rules.items():\n",
    "            if n % k == 0:\n",
    "                sol+=v\n",
    "        \n",
    "        # just number if no keywords added\n",
    "        if len(sol)==0: \n",
    "            sol += str(n)\n",
    "        \n",
    "        # if player's turn\n",
    "        player = ((n-1) % players) + 1\n",
    "        if player == my_turn:\n",
    "            \n",
    "            # start timer\n",
    "            t0 = time.time()\n",
    "            \n",
    "            # prompt answer\n",
    "            ans = input(f'P{player} 🤺 >> ')\n",
    "            \n",
    "            # pause game mechanism\n",
    "            wait = ''\n",
    "            while 'pause' in ans.lower():\n",
    "                t1 = time.time() - t0\n",
    "                wait = input('\\nEnter any key to continue, or \"exit\" to quit.')\n",
    "                \n",
    "                if 'exit' in wait:\n",
    "                    break\n",
    "                    \n",
    "                t0 = time.time() + t1\n",
    "                ans = input(f'\\nP{player} 🤺 >> ')\n",
    "            \n",
    "            t1 = time.time() - t0\n",
    "            \n",
    "            if 'exit' in ans.lower() or 'exit' in wait:\n",
    "                break\n",
    "                \n",
    "            # check time against limit\n",
    "            if t1 > time_limit:\n",
    "                print('\\nToo slow! 🐌 You lost 💔')\n",
    "                break\n",
    "            \n",
    "            # check if correct answer\n",
    "            if sol.lower() == ans[:len(sol)].lower():\n",
    "                correct += 1\n",
    "                print(f'\\tScore {correct}/{win_at} 💓')\n",
    "                \n",
    "                # win if reached win_at\n",
    "                if correct >= win_at:\n",
    "                    print('\\Woohoo! 🙌 You win 🏆')\n",
    "                    break\n",
    "            \n",
    "            # lose if wrong answer\n",
    "            else:\n",
    "                print('\\nOh no! 💔 You lost 👻')\n",
    "                print('Correct answer is:', sol)\n",
    " \n",
    "                break\n",
    "        \n",
    "        # not player's turn\n",
    "        else:\n",
    "            \n",
    "            if not sol.isnumeric():\n",
    "                sol += '!' # add exclaimation mark \n",
    "            \n",
    "            # print machine answer\n",
    "            print(f'P{player} 🤖 >>', sol)\n",
    "    \n",
    "    print('\\n'+'='*20)\n",
    "    print('Game Over! 🤖⚡🤺')"
   ]
  },
  {
   "cell_type": "code",
   "execution_count": 47,
   "metadata": {},
   "outputs": [
    {
     "name": "stdout",
     "output_type": "stream",
     "text": [
      "\n",
      "👍\n"
     ]
    }
   ],
   "source": [
    "# uncomment and run to play\n",
    "\n",
    "# play_fizzbuzz()\n",
    "\n",
    "print('\\n👍')"
   ]
  },
  {
   "cell_type": "markdown",
   "metadata": {},
   "source": [
    "---\n",
    "# Alphabet 🔠\n",
    "Create a **`list`** of the letters in the alphabet in either upper or lower case.\n",
    "\n",
    "**`Hint:`** python has two built-in functions called `ord()` and `chr()`."
   ]
  },
  {
   "cell_type": "code",
   "execution_count": 48,
   "metadata": {},
   "outputs": [],
   "source": [
    "# your code here"
   ]
  },
  {
   "cell_type": "code",
   "execution_count": null,
   "metadata": {},
   "outputs": [],
   "source": []
  },
  {
   "cell_type": "markdown",
   "metadata": {},
   "source": [
    "### Solutions"
   ]
  },
  {
   "cell_type": "code",
   "execution_count": 49,
   "metadata": {},
   "outputs": [
    {
     "name": "stdout",
     "output_type": "stream",
     "text": [
      "ord('a'): 97\n",
      "chr(98) : b\n"
     ]
    }
   ],
   "source": [
    "# quick refresher on ord() and chr()\n",
    "\n",
    "# ord(str_char) returns the ordinal number of str_chr\n",
    "print(\"ord('a'):\", ord('a'))\n",
    "\n",
    "# chr(n) returns the string with ordinal number n\n",
    "print(\"chr(98) :\", chr(98))"
   ]
  },
  {
   "cell_type": "code",
   "execution_count": 50,
   "metadata": {},
   "outputs": [
    {
     "name": "stdout",
     "output_type": "stream",
     "text": [
      "['A', 'B', 'C', 'D', 'E', 'F', 'G', 'H', 'I', 'J', 'K', 'L', 'M', 'N', 'O', 'P', 'Q', 'R', 'S', 'T', 'U', 'V', 'W', 'X', 'Y', 'Z']\n"
     ]
    }
   ],
   "source": [
    "# we can use ord() and chr()\n",
    "\n",
    "alpha = [chr(i) for i in range(ord('A'), ord('Z')+1)]\n",
    "print(alpha)"
   ]
  },
  {
   "cell_type": "code",
   "execution_count": 51,
   "metadata": {},
   "outputs": [
    {
     "name": "stdout",
     "output_type": "stream",
     "text": [
      "['A', 'B', 'C', 'D', 'E', 'F', 'G', 'H', 'I', 'J', 'K', 'L', 'M', 'N', 'O', 'P', 'Q', 'R', 'S', 'T', 'U', 'V', 'W', 'X', 'Y', 'Z']\n"
     ]
    }
   ],
   "source": [
    "# or we can use the built-in variable\n",
    "\n",
    "import string\n",
    "alpha = list(string.ascii_uppercase)\n",
    "print(alpha)"
   ]
  },
  {
   "cell_type": "markdown",
   "metadata": {},
   "source": [
    "# Caesar Cipher 📜\n",
    "\n",
    "A caesar cipher is an encryption algorithm where each letter is shifted by some number ***`n`*** in the alphabet. We'll call **`n`** the encryption key.\n",
    "\n",
    "***For example:***\n",
    "\n",
    "For **`n=1:`** *`ABCD`* becomes *`BCDE`*, for **`n=2`** it is *`CDEF`*.\n",
    "\n",
    "For **`n=2:`** *`WXYZ`* becomes *`YZAB`*\n",
    "\n",
    "For **`n=4:`** *`Hail Caesar`* becomes *`Lemp Geiwev!`*\n",
    "\n",
    "Using caesar ciphers, create a **`dict`** that contains as its values messages encrypted from  `messages`. Use the dictionary keys as the encryption key `n`.\n",
    "\n",
    "***`i.e.:`***\n",
    "\n",
    "```python\n",
    "result == {\n",
    "    1: 'BCD',\n",
    "    2: 'YZAB',\n",
    "            ⋮\n",
    "    }\n",
    "```"
   ]
  },
  {
   "cell_type": "code",
   "execution_count": 52,
   "metadata": {},
   "outputs": [],
   "source": [
    "messages = {\n",
    "    1: 'ABC',\n",
    "    2: 'WXYZ',\n",
    "    3: 'Carpe Diem',\n",
    "    4: 'Hail Caesar!',\n",
    "    6: 'Can I please have some salad dressing on the side?',\n",
    "    26:'Some things stay the same ¯\\_(ツ)_/¯'\n",
    "}"
   ]
  },
  {
   "cell_type": "code",
   "execution_count": 53,
   "metadata": {},
   "outputs": [],
   "source": [
    "# your code here"
   ]
  },
  {
   "cell_type": "code",
   "execution_count": null,
   "metadata": {},
   "outputs": [],
   "source": []
  },
  {
   "cell_type": "markdown",
   "metadata": {},
   "source": [
    "### Solutions"
   ]
  },
  {
   "cell_type": "code",
   "execution_count": 54,
   "metadata": {},
   "outputs": [],
   "source": [
    "# let's create a function:\n",
    "\n",
    "# generate list of alphabetic characters\n",
    "alpha = [chr(i) for i in range(ord('A'), ord('Z')+1)]\n",
    "\n",
    "def cipher(text, n):\n",
    "    '''\n",
    "    Encrypts text using Caesar Cipher with n displacement\n",
    "    '''\n",
    "    \n",
    "    res = ''\n",
    "\n",
    "    for c in text: # iterate through characters\n",
    "        \n",
    "        # check if this character is in our alpha\n",
    "        # note: we don't use .isalpha() because foreign characters such as \"ツ\" is alpha\n",
    "        if c.upper() in alpha:\n",
    "            \n",
    "            lowercase = c.islower() # check case\n",
    "            \n",
    "            i = alpha.index(c.upper()) # index position of character in alpha\n",
    "            i = (i + n) % len(alpha) # add n to index and modulate by length of alpha \n",
    "            \n",
    "            # add the shifted character back in the original case\n",
    "            if lowercase:\n",
    "                res += alpha[i].lower()\n",
    "            else:\n",
    "                res += alpha[i].upper()\n",
    "\n",
    "        else: # if not in alpha list, just add the original character\n",
    "            res += c \n",
    "            \n",
    "    return res"
   ]
  },
  {
   "cell_type": "code",
   "execution_count": 55,
   "metadata": {},
   "outputs": [
    {
     "name": "stdout",
     "output_type": "stream",
     "text": [
      "1: ABC\n",
      "Encrypted: BCD \n",
      "\n",
      "2: WXYZ\n",
      "Encrypted: YZAB \n",
      "\n",
      "3: Carpe Diem\n",
      "Encrypted: Fdush Glhp \n",
      "\n",
      "4: Hail Caesar!\n",
      "Encrypted: Lemp Geiwev! \n",
      "\n",
      "6: Can I please have some salad dressing on the side?\n",
      "Encrypted: Igt O vrkgyk ngbk yusk ygrgj jxkyyotm ut znk yojk? \n",
      "\n",
      "26: Some things stay the same ¯\\_(ツ)_/¯\n",
      "Encrypted: Some things stay the same ¯\\_(ツ)_/¯ \n",
      "\n"
     ]
    }
   ],
   "source": [
    "# let's print our encrypted messages\n",
    "\n",
    "for n, msg in messages.items():\n",
    "    \n",
    "    print(f'{n}: {msg}\\nEncrypted:', cipher(msg, n),'\\n')"
   ]
  },
  {
   "cell_type": "code",
   "execution_count": 56,
   "metadata": {},
   "outputs": [
    {
     "name": "stdout",
     "output_type": "stream",
     "text": [
      "{1: 'BCD', 2: 'YZAB', 3: 'Fdush Glhp', 4: 'Lemp Geiwev!', 6: 'Igt O vrkgyk ngbk yusk ygrgj jxkyyotm ut znk yojk?', 26: 'Some things stay the same ¯\\\\_(ツ)_/¯'}\n",
      "\n",
      "👍\n"
     ]
    }
   ],
   "source": [
    "# save to dict with dict comprehension\n",
    "\n",
    "encrypted_messages = {n: cipher(msg, n) for n, msg in messages.items()}\n",
    "\n",
    "print(encrypted_messages)\n",
    "\n",
    "print('\\n👍')"
   ]
  },
  {
   "cell_type": "markdown",
   "metadata": {},
   "source": [
    "# Decrypting Caesar 🥬\n",
    "\n",
    "**`Print`** the decrypted messages from the dictionary `encrypted`.\n",
    "\n",
    "The dictionary key for each message is also the encryption key **`n`**."
   ]
  },
  {
   "cell_type": "code",
   "execution_count": 57,
   "metadata": {},
   "outputs": [],
   "source": [
    "encrypted = {\n",
    "    1: \"Opx J lopx nz BCD, xpo'u zpv tjoh bmpoh xjui nf?\",\n",
    "    2: 'Xgpk, xkfk, xkek',\n",
    "    3: 'Hw wx, Euxwh?',\n",
    "    4: 'Jvmirhw, Vsqerw, gsyrxvcqir, pirh qi csyv ievw.',\n",
    "    5: 'Ymjwj bfx tshj f Wtrfs bmt fyj mnx lnwqkwnjsi... Mj bfx lqfinfytw.'\n",
    "}"
   ]
  },
  {
   "cell_type": "code",
   "execution_count": 58,
   "metadata": {},
   "outputs": [],
   "source": [
    "# your code here"
   ]
  },
  {
   "cell_type": "code",
   "execution_count": null,
   "metadata": {},
   "outputs": [],
   "source": []
  },
  {
   "cell_type": "markdown",
   "metadata": {},
   "source": [
    "### Solution"
   ]
  },
  {
   "cell_type": "code",
   "execution_count": 59,
   "metadata": {},
   "outputs": [
    {
     "name": "stdout",
     "output_type": "stream",
     "text": [
      "Encrypted: Opx J lopx nz BCD, xpo'u zpv tjoh bmpoh xjui nf?\n",
      "Decrypted: Now I know my ABC, won't you sing along with me? \n",
      "\n",
      "Encrypted: Xgpk, xkfk, xkek\n",
      "Decrypted: Veni, vidi, vici \n",
      "\n",
      "Encrypted: Hw wx, Euxwh?\n",
      "Decrypted: Et tu, Brute? \n",
      "\n",
      "Encrypted: Jvmirhw, Vsqerw, gsyrxvcqir, pirh qi csyv ievw.\n",
      "Decrypted: Friends, Romans, countrymen, lend me your ears. \n",
      "\n",
      "Encrypted: Ymjwj bfx tshj f Wtrfs bmt fyj mnx lnwqkwnjsi... Mj bfx lqfinfytw.\n",
      "Decrypted: There was once a Roman who ate his girlfriend... He was gladiator. \n",
      "\n",
      "\n",
      "👍\n"
     ]
    }
   ],
   "source": [
    "# all we really have to do is use negative index for n (to subtract n from index)\n",
    "\n",
    "for n, msg in encrypted.items():\n",
    "    \n",
    "    print(f'Encrypted: {msg}\\nDecrypted:', cipher(msg, -n),'\\n')\n",
    "    \n",
    "print('\\n👍')"
   ]
  },
  {
   "cell_type": "markdown",
   "metadata": {},
   "source": [
    "---\n",
    "# Pascal's Triangle 🔢🔼\n",
    "\n",
    "Pascal's Triangle is a pyramid of numbers constructed as follows:\n",
    "\n",
    "```\n",
    "      1\n",
    "     1 1\n",
    "    1 2 1\n",
    "   1 3 3 1\n",
    "  1 4 6 4 1\n",
    "      ⋮\n",
    "```\n",
    "\n",
    "Where the numbers in each level is constructed by the sum of the numbers standing on its shoulders from the level above.\n",
    "\n",
    "\n",
    "For example, the 5th level of the triangle, `1 4 6 4 1`, is constructed as follows:\n",
    "```\n",
    "              1\n",
    "           1     1\n",
    "        1     2     1\n",
    "     1     3     3     1\n",
    "(0+1) (1+3) (3+3) (3+1) (1+0) => 1 4 6 4 1\n",
    " ```\n",
    "  \n",
    "---\n",
    "\n",
    "**Challenge:** Create a **`list of lists`** that contain the first **`100`** levels of Pascal's Triangle.\n",
    "\n",
    "***`i.e.:`***\n",
    "```Python\n",
    "\n",
    "pascal = [\n",
    "        [1],\n",
    "        [1, 1],\n",
    "        [1, 2, 1],\n",
    "        [1, 3, 3, 1],\n",
    "        [1, 4, 6, 4, 1],\n",
    "            ⋮\n",
    "]\n",
    "\n",
    "```"
   ]
  },
  {
   "cell_type": "code",
   "execution_count": 60,
   "metadata": {},
   "outputs": [],
   "source": [
    "# your code here"
   ]
  },
  {
   "cell_type": "code",
   "execution_count": null,
   "metadata": {},
   "outputs": [],
   "source": []
  },
  {
   "cell_type": "markdown",
   "metadata": {},
   "source": [
    "### Solution"
   ]
  },
  {
   "cell_type": "code",
   "execution_count": 61,
   "metadata": {},
   "outputs": [
    {
     "name": "stdout",
     "output_type": "stream",
     "text": [
      "[1]\n",
      "[1, 1]\n",
      "[1, 2, 1]\n",
      "[1, 3, 3, 1]\n",
      "[1, 4, 6, 4, 1]\n",
      "[1, 5, 10, 10, 5, 1]\n",
      "[1, 6, 15, 20, 15, 6, 1]\n",
      "[1, 7, 21, 35, 35, 21, 7, 1]\n",
      "[1, 8, 28, 56, 70, 56, 28, 8, 1]\n",
      "[1, 9, 36, 84, 126, 126, 84, 36, 9, 1]\n",
      "[1, 10, 45, 120, 210, 252, 210, 120, 45, 10, 1]\n",
      "[1, 11, 55, 165, 330, 462, 462, 330, 165, 55, 11, 1]\n",
      "[1, 12, 66, 220, 495, 792, 924, 792, 495, 220, 66, 12, 1]\n",
      "[1, 13, 78, 286, 715, 1287, 1716, 1716, 1287, 715, 286, 78, 13, 1]\n",
      "[1, 14, 91, 364, 1001, 2002, 3003, 3432, 3003, 2002, 1001, 364, 91, 14, 1]\n",
      "[1, 15, 105, 455, 1365, 3003, 5005, 6435, 6435, 5005, 3003, 1365, 455, 105, 15, 1]\n",
      "[1, 16, 120, 560, 1820, 4368, 8008, 11440, 12870, 11440, 8008, 4368, 1820, 560, 120, 16, 1]\n",
      "[1, 17, 136, 680, 2380, 6188, 12376, 19448, 24310, 24310, 19448, 12376, 6188, 2380, 680, 136, 17, 1]\n",
      "[1, 18, 153, 816, 3060, 8568, 18564, 31824, 43758, 48620, 43758, 31824, 18564, 8568, 3060, 816, 153, 18, 1]\n",
      "[1, 19, 171, 969, 3876, 11628, 27132, 50388, 75582, 92378, 92378, 75582, 50388, 27132, 11628, 3876, 969, 171, 19, 1]\n",
      "\n",
      "⋮\n",
      "Length: 100\n"
     ]
    }
   ],
   "source": [
    "# seed with the first level\n",
    "pascal = [[1]]\n",
    "\n",
    "while len(pascal) < 100:\n",
    "\n",
    "    # assign the last and new levels in the triangle\n",
    "    last = pascal[-1]\n",
    "    new = [last[0]] # seed with 1\n",
    "\n",
    "    # zip the values of last level from\n",
    "    # last[:-1] starts from beginning and ends on second-to-last number\n",
    "    # last[1:] starts on second number and ends on the last\n",
    "    for x, y in zip(last[:-1], last[1:]):\n",
    "        new.append(x + y) # append the sum to the new level\n",
    "\n",
    "    new.append(last[-1]) # end with 1\n",
    "\n",
    "    # add new level to triangle\n",
    "    pascal.append(new)\n",
    "\n",
    "\n",
    "# show result\n",
    "for level in pascal[:20]:\n",
    "    print(level)\n",
    "    \n",
    "print('\\n⋮')\n",
    "\n",
    "print('Length:', len(pascal))"
   ]
  },
  {
   "cell_type": "code",
   "execution_count": 62,
   "metadata": {},
   "outputs": [
    {
     "name": "stdout",
     "output_type": "stream",
     "text": [
      "                            1\n",
      "                           1 1\n",
      "                          1 2 1\n",
      "                         1 3 3 1\n",
      "                        1 4 6 4 1\n",
      "                      1 5 10 10 5 1\n",
      "                     1 6 15 20 15 6 1\n",
      "                   1 7 21 35 35 21 7 1\n",
      "                  1 8 28 56 70 56 28 8 1\n",
      "               1 9 36 84 126 126 84 36 9 1\n",
      "           1 10 45 120 210 252 210 120 45 10 1\n",
      "         1 11 55 165 330 462 462 330 165 55 11 1\n",
      "       1 12 66 220 495 792 924 792 495 220 66 12 1\n",
      "   1 13 78 286 715 1287 1716 1716 1287 715 286 78 13 1\n",
      "1 14 91 364 1001 2002 3003 3432 3003 2002 1001 364 91 14 1\n",
      "\n",
      "                             ⋮\n",
      "\n",
      "                             👍\n"
     ]
    }
   ],
   "source": [
    "# we can try to print the result a little more nicely\n",
    "\n",
    "# get list with numbers converted to string\n",
    "pascal_str = [' '.join(str(n) for n in level) for level in pascal[:15]] # just a sample\n",
    "\n",
    "# get length of longest string\n",
    "max_length = max(len(x) for x in pascal_str)\n",
    "\n",
    "# print each level\n",
    "for level in pascal_str:\n",
    "    \n",
    "    # divide difference by 2\n",
    "    space_length = (max_length - len(level)) // 2 # integer division\n",
    "    \n",
    "    # multiply by space\n",
    "    spaces = ' ' * space_length\n",
    "    \n",
    "    # print spaces and text\n",
    "    print(spaces+level)\n",
    "    \n",
    "spaces = (max_length//2) *' '\n",
    "print('\\n'+spaces+'⋮')\n",
    "\n",
    "print('\\n'+spaces+'👍')"
   ]
  },
  {
   "cell_type": "markdown",
   "metadata": {},
   "source": [
    "---\n",
    "# Look-and-Say Numbers 👁👄👁\n",
    "\n",
    "A look-and-say number sequence is generated mnemonically.\n",
    "\n",
    "Suppose we start with the number **`1`** in the sequence:\n",
    "\n",
    "**`1`** reads... `One \"one\"` => **`11`**\n",
    "\n",
    "**`11`** reads... `Two \"ones\"` => **`21`**\n",
    "\n",
    "**`21`** reads... `One \"two\", one \"one\"` => **`1211`**\n",
    "\n",
    "**`1211`** reads... `One \"one\", one \"two\", two \"ones\"` => **`111221`**\n",
    "\n",
    "**`111221`** reads... `Three \"ones\", two \"twos\", one \"one\"` => **`312211`**\n",
    "\n",
    "... and so on.\n",
    "\n",
    "---\n",
    "\n",
    "**Challenge:** Create a **`list`** of `look-and-say` sequence of length **`30`**, where the first number in the sequence is **`1`**.\n",
    "\n",
    "**`i.e.:`**\n",
    "```python\n",
    "result == [\n",
    "    1,\n",
    "    11,\n",
    "    21,\n",
    "    1211,\n",
    "    111221,\n",
    "    312211,\n",
    "       ⋮ \n",
    "          ]\n",
    "```"
   ]
  },
  {
   "cell_type": "code",
   "execution_count": 63,
   "metadata": {},
   "outputs": [],
   "source": [
    "# your code here"
   ]
  },
  {
   "cell_type": "code",
   "execution_count": null,
   "metadata": {},
   "outputs": [],
   "source": []
  },
  {
   "cell_type": "markdown",
   "metadata": {},
   "source": [
    "### Solution"
   ]
  },
  {
   "cell_type": "code",
   "execution_count": 64,
   "metadata": {},
   "outputs": [
    {
     "name": "stdout",
     "output_type": "stream",
     "text": [
      "1\n",
      "11\n",
      "21\n",
      "1211\n",
      "111221\n",
      "312211\n",
      "13112221\n",
      "1113213211\n",
      "31131211131221\n",
      "13211311123113112211\n",
      "11131221133112132113212221\n",
      "3113112221232112111312211312113211\n",
      "1321132132111213122112311311222113111221131221\n",
      "11131221131211131231121113112221121321132132211331222113112211\n",
      "311311222113111231131112132112311321322112111312211312111322212311322113212221\n",
      "\n",
      "⋮\n",
      "\n",
      "Length: 30 👍\n"
     ]
    }
   ],
   "source": [
    "looksay = [1] # seed value\n",
    "\n",
    "while len(looksay) < 30:\n",
    "    \n",
    "    # get string representation of last number looksay number\n",
    "    last = str(looksay[-1])\n",
    "    \n",
    "    # create counter start at one\n",
    "    div = ''\n",
    "    \n",
    "    # get each pair of consecutive characters\n",
    "    for c1, c2 in zip(last[:-1],last[1:]):\n",
    "        \n",
    "        div += c1 # add first character\n",
    "        \n",
    "        if c1 != c2: # if numbers change\n",
    "            div += ',' # add separator to denote change in number\n",
    "    \n",
    "    div += last[-1] # add last character\n",
    "    \n",
    "    # split on comma\n",
    "    # create a list concating length of str to str value\n",
    "    len_c = [str(len(c)) + c[0] for c in div.split(',')]\n",
    "    new = ''.join(len_c)\n",
    "    \n",
    "    # convert to int and add to list\n",
    "    looksay.append(int(new))\n",
    "            \n",
    "\n",
    "# results\n",
    "\n",
    "for n in looksay[:15]:\n",
    "    print(n)\n",
    "\n",
    "print('\\n⋮')\n",
    "\n",
    "print('\\nLength:', len(looksay), '👍')"
   ]
  },
  {
   "cell_type": "markdown",
   "metadata": {},
   "source": [
    "---\n",
    "# To Base-10 🧮\n",
    "\n",
    "Create a **`function`** called `to_b10()` that takes two arguments:\n",
    "\n",
    "* **`b`** : an integer between 2 and 10\n",
    "\n",
    "* **`n`**: an integer in the base-`b` numeral system.\n",
    "\n",
    "The function converts `n` from base-`b` to base-10 and returns the output.\n",
    "\n",
    "***`e.g.:`***\n",
    "\n",
    "`to_b10(b=2, n=1010)` converts *`1010`* from binary and returns `10`\n",
    "\n",
    "`to_b10(b=3, n=101)` returns `10`\n",
    "\n",
    "`to_b10(b=10, n=10)` returns `10`"
   ]
  },
  {
   "cell_type": "code",
   "execution_count": 65,
   "metadata": {},
   "outputs": [],
   "source": [
    "# your code here"
   ]
  },
  {
   "cell_type": "code",
   "execution_count": null,
   "metadata": {},
   "outputs": [],
   "source": []
  },
  {
   "cell_type": "markdown",
   "metadata": {},
   "source": [
    "### Solution"
   ]
  },
  {
   "cell_type": "code",
   "execution_count": 66,
   "metadata": {},
   "outputs": [
    {
     "name": "stdout",
     "output_type": "stream",
     "text": [
      "to_b10(b=2, n=1010): 10\n",
      "to_b10(b=3, n=101): 10\n",
      "to_b10(b=10, n=10): 10\n"
     ]
    }
   ],
   "source": [
    "def to_b10(b, n):\n",
    "    '''\n",
    "    Returns integer converting n from base-b to base-10\n",
    "    '''\n",
    "    \n",
    "    num_chars = str(n) # convert to string\n",
    "    \n",
    "    res = 0 # define result\n",
    "    \n",
    "    # iterate through reversed characters \n",
    "    for p, digit in enumerate(reversed(num_chars)):\n",
    "        \n",
    "        # add digit times base to power of index\n",
    "        res += int(digit) * (b**p)\n",
    "    \n",
    "    return res\n",
    "\n",
    "# check results\n",
    "for b, n in [[2, 1010], [3, 101], [10, 10]]:\n",
    "    print(f'to_b10(b={b}, n={n}):', to_b10(b, n))"
   ]
  },
  {
   "cell_type": "markdown",
   "metadata": {},
   "source": [
    "# From Base-10 🔙\n",
    "\n",
    "Create a **`function`** called `b10_to()` that takes two arguments:\n",
    "\n",
    "* **`b`** : an integer between 2 and 10\n",
    "\n",
    "* **`n`**: an integer in base-10\n",
    "\n",
    "The function converts `n` from base-10 to the base-`b` numeral system and returns the output.\n",
    "\n",
    "***`e.g.:`***\n",
    "\n",
    "`b10_to(b=2, n=10)` converts 10 to binary, and returns `1010`\n",
    "\n",
    "`b10_to(b=3, n=10)` returns `101`\n",
    "\n",
    "`b10_to(b=10, n=10)` returns `10`\n",
    "\n",
    "***`Bonus:`*** Create a function called `b_to_b()` that converts numbers between any bases."
   ]
  },
  {
   "cell_type": "code",
   "execution_count": 67,
   "metadata": {},
   "outputs": [],
   "source": [
    "# your code here"
   ]
  },
  {
   "cell_type": "code",
   "execution_count": null,
   "metadata": {},
   "outputs": [],
   "source": []
  },
  {
   "cell_type": "markdown",
   "metadata": {},
   "source": [
    "### Solutions"
   ]
  },
  {
   "cell_type": "code",
   "execution_count": 68,
   "metadata": {},
   "outputs": [
    {
     "name": "stdout",
     "output_type": "stream",
     "text": [
      "from_b10(b=2, n=10): 1010\n",
      "from_b10(b=3, n=10): 101\n",
      "from_b10(b=10, n=10): 10\n"
     ]
    }
   ],
   "source": [
    "# convert base-10 to any\n",
    "\n",
    "def from_b10(b, n):\n",
    "    '''\n",
    "    Returns integer converting n from base-10 to base-b\n",
    "    '''\n",
    "\n",
    "    res = '' # define result\n",
    "\n",
    "    # get the highest base power\n",
    "    max_p = 0\n",
    "    \n",
    "    # increase max_p until we get above n\n",
    "    while b**max_p < n:\n",
    "        max_p+=1\n",
    "\n",
    "    # iterate through the base's powers\n",
    "    for p in reversed(range(max_p+1)):\n",
    "        digit = (n//(b**p)) % b\n",
    "        res += str(digit)\n",
    "\n",
    "    return int(res)\n",
    "    \n",
    "\n",
    "# check results\n",
    "for b, n in [[2, 10], [3, 10], [10, 10]]:\n",
    "    print(f'from_b10(b={b}, n={n}):', from_b10(b, n))"
   ]
  },
  {
   "cell_type": "code",
   "execution_count": 69,
   "metadata": {},
   "outputs": [
    {
     "name": "stdout",
     "output_type": "stream",
     "text": [
      "b_to_b(n=1010, from_b=2, to_b=3): 101\n",
      "\n",
      "👍\n"
     ]
    }
   ],
   "source": [
    "# bonus base to base\n",
    "\n",
    "def b_to_b(n, from_b, to_b):\n",
    "    '''\n",
    "    Returns integer converting n from base-from_b to base-to_b\n",
    "    '''\n",
    "    b10 = to_b10(from_b, n)\n",
    "    return from_b10(to_b, b10)\n",
    "\n",
    "\n",
    "print('b_to_b(n=1010, from_b=2, to_b=3):', b_to_b(1010, 2, 3))\n",
    "\n",
    "print('\\n👍')"
   ]
  },
  {
   "cell_type": "markdown",
   "metadata": {},
   "source": [
    "---\n",
    "# Roman Numerals 🔢\n",
    "\n",
    "Create a **`list`** of numbers from **`1 to 1000`** in Roman Numerals.\n",
    "\n",
    "**`i.e.:`** `[I, II, III, IV, V..., CMXCIX, M]`\n",
    "\n",
    "The symbols and denominations of roman numerals are provided in `roman_denoms`:"
   ]
  },
  {
   "cell_type": "code",
   "execution_count": 70,
   "metadata": {},
   "outputs": [],
   "source": [
    "# roman symbols tables\n",
    "roman_denoms = [\n",
    "     ('M', 1000),\n",
    "     ('CM', 900),\n",
    "     ('D', 500),\n",
    "     ('CD', 400),\n",
    "     ('C', 100),\n",
    "     ('XC', 90),\n",
    "     ('L', 50),\n",
    "     ('XL', 40),\n",
    "     ('X', 10),\n",
    "     ('IX', 9),\n",
    "     ('V', 5),\n",
    "     ('IV', 4),\n",
    "     ('I', 1)\n",
    "]"
   ]
  },
  {
   "cell_type": "code",
   "execution_count": 71,
   "metadata": {},
   "outputs": [],
   "source": [
    "# your code here"
   ]
  },
  {
   "cell_type": "code",
   "execution_count": null,
   "metadata": {},
   "outputs": [],
   "source": []
  },
  {
   "cell_type": "markdown",
   "metadata": {},
   "source": [
    "### Solution"
   ]
  },
  {
   "cell_type": "code",
   "execution_count": 72,
   "metadata": {},
   "outputs": [],
   "source": [
    "# let's create a function to convert a number to roman numerals\n",
    "\n",
    "def to_roman(n):\n",
    "    \n",
    "    res = ''\n",
    "    \n",
    "    # iterate through each denomination-symbol pair\n",
    "    for roman, denom  in roman_denoms:\n",
    "        \n",
    "        while n >= denom: # while the number greater than the denomination\n",
    "            n-=denom # reduce number by denom\n",
    "            res += roman # add symbol to result\n",
    "            \n",
    "    return res"
   ]
  },
  {
   "cell_type": "code",
   "execution_count": 73,
   "metadata": {},
   "outputs": [
    {
     "name": "stdout",
     "output_type": "stream",
     "text": [
      "I II III IV V VI VII VIII IX X ... CMXCI CMXCII CMXCIII CMXCIV CMXCV CMXCVI CMXCVII CMXCVIII CMXCIX M \n",
      "\n",
      "Length: 1000 👍\n"
     ]
    }
   ],
   "source": [
    "# create list with function\n",
    "roman_numerals = [to_roman(n) for n in range(1, 1001)]\n",
    "\n",
    "# show results\n",
    "for rn in roman_numerals[:10]:\n",
    "    print(rn, end=' ')\n",
    "    \n",
    "print('...', end=' ')\n",
    "\n",
    "for rn in roman_numerals[-10:]:\n",
    "    print(rn, end=' ')\n",
    "\n",
    "print('\\n\\nLength:',len(roman_numerals),'👍')"
   ]
  },
  {
   "cell_type": "markdown",
   "metadata": {},
   "source": [
    "# English Numbers 📖🔍\n",
    "\n",
    "Create a **`function`** called `eng_number()` that takes an integer argument `n` and converts a string of its dictation in English.\n",
    "\n",
    "***`e.g.:`***\n",
    "\n",
    "`eng_number(1)` returns `\"one\"`\n",
    "\n",
    "`eng_number(13)` returns `\"thirteen\"`\n",
    "\n",
    "`eng_number(100_327)` returns `\"one hundred thousand three hundred twenty seven\"`"
   ]
  },
  {
   "cell_type": "code",
   "execution_count": 74,
   "metadata": {},
   "outputs": [],
   "source": [
    "denoms = [\n",
    "     [1e3, 'thousand'],\n",
    "     [100, 'hundred'],\n",
    "     [50, 'fifty'],\n",
    "     [40, 'forty'],\n",
    "     [30, 'thirty'],\n",
    "     [20, 'twenty'],\n",
    "     [15, 'fifteen'],\n",
    "     [14, 'forteen'],\n",
    "     [13, 'thirteen'],\n",
    "     [12, 'twelve'],\n",
    "     [11, 'eleven'],\n",
    "     [10, 'ten'],\n",
    "     [9, 'nine'],\n",
    "     [8, 'eight'],\n",
    "     [7, 'seven'],\n",
    "     [6, 'six'],\n",
    "     [5, 'five'],\n",
    "     [4, 'four'],\n",
    "     [3, 'three'],\n",
    "     [2, 'two'],\n",
    "     [1, 'one']]\n",
    "\n",
    "for i in range(6,10):\n",
    "    for d, w in denoms:\n",
    "        if d==i:\n",
    "            denoms.append([10+d, (w+'teen').replace('tt','t')])\n",
    "            denoms.append([10*i, (w+'ty').replace('tt','t')])\n",
    "            \n",
    "            break\n",
    "\n",
    "# add the -illions\n",
    "names = ['m', 'b', 'tr','quadr','quint','sext','sept','oct','non', 'dec']\n",
    "for i, name in enumerate(names):\n",
    "    denoms.append([float(10**(i*3+6)), name+'illion'])\n",
    "    \n",
    "denoms.sort(reverse=True)"
   ]
  },
  {
   "cell_type": "code",
   "execution_count": 75,
   "metadata": {},
   "outputs": [],
   "source": [
    "def eng_number(n):\n",
    "\n",
    "    res = []\n",
    "    \n",
    "    if n==0:\n",
    "        return 'zero'\n",
    "    elif n<0:\n",
    "        res.append('negative')\n",
    "        n = -n\n",
    "        \n",
    "    for num, word in denoms:\n",
    "        if num<=n:\n",
    "            if n<100:\n",
    "                n-=num\n",
    "                res.append(word)\n",
    "\n",
    "            else:\n",
    "                group=[]\n",
    "\n",
    "                for num2, word2 in denoms:\n",
    "\n",
    "                    mult = num*num2\n",
    "                    if mult<=n:\n",
    "                        if num2 >= 100:\n",
    "                            group.append('one')\n",
    "                        n-=mult\n",
    "                        group.append(word2)\n",
    "\n",
    "                group.append(word)\n",
    "                res.append('-'.join(group))\n",
    "\n",
    "    return ' '.join(res)"
   ]
  },
  {
   "cell_type": "code",
   "execution_count": 76,
   "metadata": {},
   "outputs": [
    {
     "data": {
      "text/plain": [
       "'one-hundred-ninety-eighty-seventy-four-million one-hundred-twenty-three-thousand four-hundred twelve'"
      ]
     },
     "execution_count": 76,
     "metadata": {},
     "output_type": "execute_result"
    }
   ],
   "source": [
    "eng_number(344_123_412)"
   ]
  },
  {
   "cell_type": "markdown",
   "metadata": {},
   "source": [
    "---\n",
    "# -- --- .-. ... . / -- -.-- ... - . .-. -.-- 🛎\n",
    "**1. `Scrape`** this webpage for characters in morse code:\n",
    "https://morsecode.world/international/morse2.html \n",
    "\n",
    "\n",
    "**2. `Translate`** the following texts to and from morse code. Use `/` for the spaces between words in morse code (following convention in the [morsecode translator](https://morsecode.world/international/translator.html))."
   ]
  },
  {
   "cell_type": "code",
   "execution_count": 77,
   "metadata": {},
   "outputs": [],
   "source": [
    "# morsecode website url\n",
    "url = 'https://morsecode.world/international/morse2.html'\n",
    "\n",
    "# text\n",
    "text = '''Once more unto the breach, dear friends, once more;\n",
    "Or close the wall up with our English dead.'''\n",
    "\n",
    "# morse code\n",
    "morse_text = '''.. / -- . - / .- / ... . . .-. --..-- / \n",
    " .--. .- ... ... .. -. --. / - .... . / .... ..- . ... / .- -. -.. / --- -... .--- . -.-. - ... / --- ..-. / - .... . / .-- --- .-. .-.. -.. --..-- /\n",
    " - .... . / ..-. .. . .-.. -.. ... / --- ..-. / .- .-. - / .- -. -.. / .-.. . .- .-. -. .. -. --. --..-- / .--. .-.. . .- ... ..- .-. . --..-- / ... . -. ... . --..-- /\n",
    " - --- / --. .-.. . .- -. / . .. -.. --- .-.. --- -. ... .-.-.-'''"
   ]
  },
  {
   "cell_type": "code",
   "execution_count": 78,
   "metadata": {},
   "outputs": [],
   "source": [
    "# your code here"
   ]
  },
  {
   "cell_type": "code",
   "execution_count": null,
   "metadata": {},
   "outputs": [],
   "source": []
  },
  {
   "cell_type": "markdown",
   "metadata": {},
   "source": [
    "### Solution"
   ]
  },
  {
   "cell_type": "code",
   "execution_count": 79,
   "metadata": {},
   "outputs": [],
   "source": [
    "import requests as r\n",
    "from lxml import html\n",
    "\n",
    "url = 'https://morsecode.world/international/morse2.html'\n",
    "resp = r.get(url)\n",
    "doc = html.fromstring(resp.content)"
   ]
  },
  {
   "cell_type": "code",
   "execution_count": 80,
   "metadata": {},
   "outputs": [],
   "source": [
    "alpha_morse = {' ':'/'} # start with our own defined space/slash\n",
    "\n",
    "for tr in doc.xpath('//tr'):\n",
    "    \n",
    "    data = tr.xpath('./td')\n",
    "    \n",
    "    if data:\n",
    "        a_td, m_td = data\n",
    "        \n",
    "        # alpha\n",
    "        a_span = a_td.xpath('./span')\n",
    "        if a_span:\n",
    "            a = a_span[0].text\n",
    "        else:\n",
    "            a = a_td.text.upper()\n",
    "        \n",
    "        alpha_morse[a] = m_td.text\n",
    "\n",
    "morse_alpha = {m:a for a, m in alpha_morse.items()}"
   ]
  },
  {
   "cell_type": "code",
   "execution_count": 81,
   "metadata": {},
   "outputs": [],
   "source": [
    "def to_morse(alpha_text):\n",
    "    '''\n",
    "    Converts alphanumeric text to morse code\n",
    "    '''\n",
    "    \n",
    "    res = ''\n",
    "    for a in alpha_text:\n",
    "        if a.upper() in alpha_morse:\n",
    "            res += alpha_morse[a.upper()]\n",
    "            \n",
    "    return res\n",
    "\n",
    "\n",
    "def from_morse(morse_text):\n",
    "    '''\n",
    "    Converts morse text to alpha text\n",
    "    '''\n",
    "\n",
    "    words = morse_text.split('/') # split on / for space\n",
    "\n",
    "    alpha_words = []\n",
    "\n",
    "    for word in words:\n",
    "\n",
    "        morse_chars = word.split() # split each morse character on space\n",
    "        alpha_chars = ''\n",
    "\n",
    "        for m in morse_chars:\n",
    "            if m in morse_alpha:\n",
    "                alpha_chars += morse_alpha[m]\n",
    "            else:\n",
    "                alpha_chars += m\n",
    "\n",
    "        alpha_words.append(alpha_chars)\n",
    "\n",
    "    return ' '.join(alpha_words)\n"
   ]
  },
  {
   "cell_type": "code",
   "execution_count": 82,
   "metadata": {},
   "outputs": [
    {
     "name": "stdout",
     "output_type": "stream",
     "text": [
      "Alphanumeric text:\n",
      "Once more unto the breach, dear friends, once more;\n",
      "Or close the wall up with our English dead.\n",
      "\n",
      "Morse Code:\n",
      "----.-.-../-----.-../..--.----/-...../-....-...--.-.....--..--/-....-.-./..-..-....-.-.....--..--/----.-.-../-----.-..---.-./-.-..-..---..../-...../.--.-.-...-../..-.--./.--..-..../---..-.-./.-.--..-.........../-....--...-.-.-\n"
     ]
    }
   ],
   "source": [
    "# text\n",
    "print('Alphanumeric text:')\n",
    "print(text)\n",
    "\n",
    "print('\\nMorse Code:')\n",
    "print(to_morse(text))"
   ]
  },
  {
   "cell_type": "code",
   "execution_count": 83,
   "metadata": {},
   "outputs": [
    {
     "name": "stdout",
     "output_type": "stream",
     "text": [
      "\n",
      "Morse Code text:\n",
      ".. / -- . - / .- / ... . . .-. --..-- / \n",
      " .--. .- ... ... .. -. --. / - .... . / .... ..- . ... / .- -. -.. / --- -... .--- . -.-. - ... / --- ..-. / - .... . / .-- --- .-. .-.. -.. --..-- /\n",
      " - .... . / ..-. .. . .-.. -.. ... / --- ..-. / .- .-. - / .- -. -.. / .-.. . .- .-. -. .. -. --. --..-- / .--. .-.. . .- ... ..- .-. . --..-- / ... . -. ... . --..-- /\n",
      " - --- / --. .-.. . .- -. / . .. -.. --- .-.. --- -. ... .-.-.-\n",
      "\n",
      "Alpha Translation:\n",
      "I MET A SEER, PASSING THE HUES AND OBJECTS OF THE WORLD, THE FIELDS OF ART AND LEARNING, PLEASURE, SENSE, TO GLEAN EIDOLONS.\n",
      "\n",
      "👍\n"
     ]
    }
   ],
   "source": [
    "# morse_text\n",
    "print('\\nMorse Code text:')\n",
    "print(morse_text) \n",
    "\n",
    "print('\\nAlpha Translation:')\n",
    "print(from_morse(morse_text))\n",
    "\n",
    "print('\\n👍')"
   ]
  },
  {
   "cell_type": "markdown",
   "metadata": {},
   "source": [
    "---\n",
    "# Password 🍘\n",
    "\n",
    "A password is created by the object class from a random combination of digits from `0-9`.\n",
    "\n",
    "The default length of the password is `5` digits.\n",
    "\n",
    "**`Crack`** the password.\n",
    "\n",
    "***Question:*** What is the probability of guessing the password on the first try*?\n",
    "\n",
    "*assuming you know the length of the password"
   ]
  },
  {
   "cell_type": "code",
   "execution_count": 84,
   "metadata": {},
   "outputs": [],
   "source": [
    "# run this cell\n",
    "\n",
    "import random\n",
    "\n",
    "values = ''.join([str(i) for i in range(10)])\n",
    "\n",
    "class Password(object):\n",
    "    \n",
    "    def __init__(self, length=5):\n",
    "        '''\n",
    "        Initialize random password\n",
    "        '''\n",
    "        self._value = ''.join([random.choice(values) for _ in range(length)])\n",
    "    \n",
    "    def __len__(self):\n",
    "        '''\n",
    "        Returns how many characters in password\n",
    "        '''\n",
    "        return len(self._value)\n",
    "    \n",
    "    def __repr__(self):\n",
    "        '''\n",
    "        Obscures password when object called\n",
    "        '''\n",
    "        return '*' * len(self)\n",
    "    \n",
    "    def check(self, guess):\n",
    "        '''\n",
    "        Returns if guess is correct\n",
    "        '''\n",
    "        return str(guess)==self._value\n",
    "    \n",
    "    def reveal(self):\n",
    "        '''\n",
    "        Reveal Password\n",
    "        '''\n",
    "        print('Password revealed:', self._value)"
   ]
  },
  {
   "cell_type": "code",
   "execution_count": 85,
   "metadata": {},
   "outputs": [
    {
     "name": "stdout",
     "output_type": "stream",
     "text": [
      "*****\n"
     ]
    }
   ],
   "source": [
    "# the password's value is \"hidden\" from view:\n",
    "pw = Password()\n",
    "print(pw)"
   ]
  },
  {
   "cell_type": "code",
   "execution_count": 86,
   "metadata": {},
   "outputs": [
    {
     "name": "stdout",
     "output_type": "stream",
     "text": [
      "Check 00000: False\n"
     ]
    }
   ],
   "source": [
    "# You can check a guess against the password with .check():\n",
    "guess = '00000'\n",
    "print(f'Check {guess}:', pw.check(guess))"
   ]
  },
  {
   "cell_type": "code",
   "execution_count": 87,
   "metadata": {},
   "outputs": [
    {
     "name": "stdout",
     "output_type": "stream",
     "text": [
      "Password length: 5\n",
      "Possible values: 0123456789\n"
     ]
    }
   ],
   "source": [
    "# You can get the length of password\n",
    "print('Password length:', len(pw))\n",
    "\n",
    "# possible values of the password:\n",
    "print('Possible values:', values)"
   ]
  },
  {
   "cell_type": "markdown",
   "metadata": {},
   "source": [
    "### Your Turn 🙌\n",
    "**`Crack`** the password.\n",
    "\n",
    "***Question:*** What is the probability of guessing the password on the first try*?\n",
    "\n",
    "*assuming you know the length of the password"
   ]
  },
  {
   "cell_type": "code",
   "execution_count": 88,
   "metadata": {},
   "outputs": [
    {
     "data": {
      "text/plain": [
       "*****"
      ]
     },
     "execution_count": 88,
     "metadata": {},
     "output_type": "execute_result"
    }
   ],
   "source": [
    "# your code here\n",
    "pw"
   ]
  },
  {
   "cell_type": "code",
   "execution_count": null,
   "metadata": {},
   "outputs": [],
   "source": []
  },
  {
   "cell_type": "markdown",
   "metadata": {},
   "source": [
    "### Solution"
   ]
  },
  {
   "cell_type": "code",
   "execution_count": 89,
   "metadata": {},
   "outputs": [],
   "source": [
    "# seed permutations from values\n",
    "permutations = list(values)\n",
    "\n",
    "# generate permutations length of password minus one (for the seed value)\n",
    "for _ in range(len(pw)-1):\n",
    "    \n",
    "    temp_perms = [] # temp list\n",
    "    \n",
    "    for perm in permutations: # add each existing permutations\n",
    "        \n",
    "        for value in values: # to each value\n",
    "            \n",
    "            temp_perms.append(perm+value) # and add to temp_perms\n",
    "    \n",
    "    permutations = temp_perms # reassign temp to permutations\n",
    "        "
   ]
  },
  {
   "cell_type": "code",
   "execution_count": 90,
   "metadata": {},
   "outputs": [
    {
     "name": "stdout",
     "output_type": "stream",
     "text": [
      "Password is: 78482\n",
      "Password revealed: 78482\n"
     ]
    }
   ],
   "source": [
    "# check each permutation\n",
    "for perm in permutations:\n",
    "    \n",
    "    # if correct\n",
    "    if pw.check(perm):\n",
    "        print('Password is:', perm)\n",
    "        break # print and break\n",
    "        \n",
    "# reveal the password\n",
    "pw.reveal()"
   ]
  },
  {
   "cell_type": "code",
   "execution_count": 91,
   "metadata": {},
   "outputs": [
    {
     "name": "stdout",
     "output_type": "stream",
     "text": [
      "Chance of guessing the password correctly on the first try: \n",
      "1 in 100000\n",
      "\n",
      "👍\n"
     ]
    }
   ],
   "source": [
    "print('Chance of guessing the password correctly on the first try:', '\\n1 in', len(permutations))\n",
    "\n",
    "print('\\n👍')"
   ]
  }
 ],
 "metadata": {
  "kernelspec": {
   "display_name": "Python 3",
   "language": "python",
   "name": "python3"
  },
  "language_info": {
   "codemirror_mode": {
    "name": "ipython",
    "version": 3
   },
   "file_extension": ".py",
   "mimetype": "text/x-python",
   "name": "python",
   "nbconvert_exporter": "python",
   "pygments_lexer": "ipython3",
   "version": "3.7.6"
  }
 },
 "nbformat": 4,
 "nbformat_minor": 4
}

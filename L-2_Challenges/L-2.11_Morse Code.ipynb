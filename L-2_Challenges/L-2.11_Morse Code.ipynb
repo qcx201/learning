{
 "cells": [
  {
   "cell_type": "markdown",
   "metadata": {},
   "source": [
    "---\n",
    "# -- --- .-. ... . / -- -.-- ... - . .-. -.-- 🛎\n",
    "**1. `Scrape`** this webpage for characters in morse code:\n",
    "https://morsecode.world/international/morse2.html \n",
    "\n",
    "\n",
    "**2. `Translate`** the following texts to and from morse code. Use `/` for the spaces between words in morse code (following convention in the [morsecode translator](https://morsecode.world/international/translator.html))."
   ]
  },
  {
   "cell_type": "code",
   "execution_count": null,
   "metadata": {},
   "outputs": [],
   "source": [
    "# morsecode website url\n",
    "url = 'https://morsecode.world/international/morse2.html'\n",
    "\n",
    "# text\n",
    "text = '''Once more unto the breach, dear friends, once more;\n",
    "Or close the wall up with our English dead.'''\n",
    "\n",
    "# morse code\n",
    "morse_text = '''.. / -- . - / .- / ... . . .-. --..-- / \n",
    " .--. .- ... ... .. -. --. / - .... . / .... ..- . ... / .- -. -.. / --- -... .--- . -.-. - ... / --- ..-. / - .... . / .-- --- .-. .-.. -.. --..-- /\n",
    " - .... . / ..-. .. . .-.. -.. ... / --- ..-. / .- .-. - / .- -. -.. / .-.. . .- .-. -. .. -. --. --..-- / .--. .-.. . .- ... ..- .-. . --..-- / ... . -. ... . --..-- /\n",
    " - --- / --. .-.. . .- -. / . .. -.. --- .-.. --- -. ... .-.-.-'''"
   ]
  },
  {
   "cell_type": "code",
   "execution_count": null,
   "metadata": {},
   "outputs": [],
   "source": [
    "# your code here"
   ]
  },
  {
   "cell_type": "code",
   "execution_count": null,
   "metadata": {},
   "outputs": [],
   "source": []
  }
 ],
 "metadata": {
  "kernelspec": {
   "display_name": "Python 3",
   "language": "python",
   "name": "python3"
  },
  "language_info": {
   "codemirror_mode": {
    "name": "ipython",
    "version": 3
   },
   "file_extension": ".py",
   "mimetype": "text/x-python",
   "name": "python",
   "nbconvert_exporter": "python",
   "pygments_lexer": "ipython3",
   "version": "3.7.6"
  }
 },
 "nbformat": 4,
 "nbformat_minor": 4
}

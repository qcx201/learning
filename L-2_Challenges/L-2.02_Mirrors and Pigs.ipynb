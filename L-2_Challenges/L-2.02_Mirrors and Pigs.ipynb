{
 "cells": [
  {
   "cell_type": "markdown",
   "metadata": {},
   "source": [
    "---\n",
    "# Mirror rorriM 👈👉\n",
    "\n",
    "**`Print`** each phrase from `phrases` with its characters mirrored.\n",
    "\n",
    "***`e.g.:`***\n",
    "\n",
    "*`ABCD | DCBA`*\n",
    "\n",
    "*`We're not in Kansas anymore | eromyna sasnaK ni ton er'eW`*\n",
    "\n",
    "<br>\n",
    "\n",
    "***`Bonus:`*** print everything all in same case without spaces or punctuation."
   ]
  },
  {
   "cell_type": "code",
   "execution_count": null,
   "metadata": {},
   "outputs": [],
   "source": [
    "phrases = [\n",
    "    'ABCD',\n",
    "    'We\\'re not in Kansas anymore',\n",
    "    'UFO tofu',\n",
    "    'Taco cat',\n",
    "    'Borrow or rob',\n",
    "    'Tattarrattat',\n",
    "    'No lemon, no melon',\n",
    "    'Red rum, sir, is murder',\n",
    "    'Mirror mirror on the wall',\n",
    "    'Was it a car or a cat I saw'\n",
    "]"
   ]
  },
  {
   "cell_type": "code",
   "execution_count": null,
   "metadata": {},
   "outputs": [],
   "source": [
    "# your code here"
   ]
  },
  {
   "cell_type": "code",
   "execution_count": null,
   "metadata": {},
   "outputs": [],
   "source": []
  },
  {
   "cell_type": "markdown",
   "metadata": {},
   "source": [
    "# Pig-Latin 🐖\n",
    "**`Print`** each sentence in the list `pig_latin` in regular English.\n",
    "\n",
    "***For example:***\n",
    "\n",
    "*`O-day ou-yay peak-say Ig-pay Atin-lay?`* translates to *`Do you speak pig latin?`*"
   ]
  },
  {
   "cell_type": "code",
   "execution_count": null,
   "metadata": {},
   "outputs": [],
   "source": [
    "# setup\n",
    "pig_latin = [\n",
    "    'Ello-hay!',\n",
    "    'Y-may ame-nay is-ay Ister-may Nowball-say.',\n",
    "    'Leased-pay o-tay eet-may ou-yay.',\n",
    "    'O-day ou-yay peak-say Ig-pay Atin-lay?',\n",
    "    'I-ay ope-hay ou-yay ave-hay ork-tastic-pay ay-day 🐷'\n",
    "    ]"
   ]
  },
  {
   "cell_type": "code",
   "execution_count": null,
   "metadata": {},
   "outputs": [],
   "source": [
    "# your code here"
   ]
  },
  {
   "cell_type": "code",
   "execution_count": null,
   "metadata": {},
   "outputs": [],
   "source": []
  }
 ],
 "metadata": {
  "kernelspec": {
   "display_name": "Python 3",
   "language": "python",
   "name": "python3"
  },
  "language_info": {
   "codemirror_mode": {
    "name": "ipython",
    "version": 3
   },
   "file_extension": ".py",
   "mimetype": "text/x-python",
   "name": "python",
   "nbconvert_exporter": "python",
   "pygments_lexer": "ipython3",
   "version": "3.7.6"
  }
 },
 "nbformat": 4,
 "nbformat_minor": 4
}

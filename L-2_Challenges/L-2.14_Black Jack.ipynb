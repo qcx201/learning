{
 "cells": [
  {
   "cell_type": "markdown",
   "metadata": {},
   "source": [
    "---\n",
    "# 52-Deck 🃏🚢\n",
    "\n",
    "Create an **`object class`** called **`deck`**.\n",
    "\n",
    "The object has the following properties and methods:\n",
    "\n",
    "***Properties***\n",
    "* `.cards`: the cards in the deck\n",
    "\n",
    "***Methods***\n",
    "* **`.shuffle()`**: shuffle the order of cards. Takes no arguments.\n",
    "\n",
    "\n",
    "* **`.draw()`**: draw a card from deck. Takes argument `index`, to specify the position of the card drawn from the deck."
   ]
  },
  {
   "cell_type": "code",
   "execution_count": null,
   "metadata": {},
   "outputs": [],
   "source": [
    "# your code here"
   ]
  },
  {
   "cell_type": "code",
   "execution_count": null,
   "metadata": {},
   "outputs": [],
   "source": []
  },
  {
   "cell_type": "markdown",
   "metadata": {},
   "source": [
    "---\n",
    "# Black Jack ♠💸\n",
    "\n",
    "Create a **`function`** called **`black_jack()`** that plays blackjack.\n",
    "\n",
    "The function takes two functions, `chips` and `win_at`. The function takes inputs from a human player to play the game.\n",
    "\n",
    "#### Winning the game\n",
    "1. The player `wins` the **`game`** if his chip count reaches `win_at`.\n",
    "\n",
    "#### Player Decisions\n",
    "2. The player begins every round by betting either his chips. Bets must be above zero and less or equal to his current chip count.\n",
    "\n",
    "\n",
    "3. The player goes first, and can either `hit` (get dealt another card) or `stand`.\n",
    "\n",
    "#### Dealer Rules\n",
    "3. After the player has completed his actions for the round, the dealer proceeds. \n",
    "* The dealer must `hit` if her hand is `16 or below`. Otherwise, she `stands`.\n",
    "\n",
    "Follow [standard blackjack](https://bicyclecards.com/how-to-play/blackjack/) rules for all other rules.\n"
   ]
  },
  {
   "cell_type": "code",
   "execution_count": 2,
   "metadata": {},
   "outputs": [],
   "source": [
    "# your code here"
   ]
  },
  {
   "cell_type": "code",
   "execution_count": null,
   "metadata": {},
   "outputs": [],
   "source": []
  }
 ],
 "metadata": {
  "kernelspec": {
   "display_name": "Python 3",
   "language": "python",
   "name": "python3"
  },
  "language_info": {
   "codemirror_mode": {
    "name": "ipython",
    "version": 3
   },
   "file_extension": ".py",
   "mimetype": "text/x-python",
   "name": "python",
   "nbconvert_exporter": "python",
   "pygments_lexer": "ipython3",
   "version": "3.7.6"
  }
 },
 "nbformat": 4,
 "nbformat_minor": 4
}

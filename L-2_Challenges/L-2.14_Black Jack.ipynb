{
 "cells": [
  {
   "cell_type": "markdown",
   "metadata": {},
   "source": [
    "# 1. Pick a Card 🎴\n",
    "\n",
    "Create an **`object class`** called **`Card`**.\n",
    "\n",
    "\n",
    "The object takes the **`card value`** (eg, `\"4♣\"` or `\"10❤\"`) as an argument and has the following properties and methods:\n",
    "\n",
    "***Properties***\n",
    "* **`.rank`**: the card's rank (A, 2, 3, ... Q, K)\n",
    "\n",
    "* **`.suit`**: the card's suite (♣♦♥♠)\n",
    "\n",
    "\n",
    "***Methods***\n",
    "\n",
    "* **`.show()`**: return the value of card\n",
    "\n",
    "* A **`__repr__`** function that hides/shows the card value\n",
    "\n",
    "* **`.flip()`**: hide/show value from **`__repr__`**\n",
    "\n",
    "**`Bonus:`** Allow the `card value` argument to be optional. If no input, assign a random card from standard 52-card deck."
   ]
  },
  {
   "cell_type": "code",
   "execution_count": 1,
   "metadata": {},
   "outputs": [],
   "source": [
    "# your code here"
   ]
  },
  {
   "cell_type": "code",
   "execution_count": null,
   "metadata": {},
   "outputs": [],
   "source": []
  },
  {
   "cell_type": "markdown",
   "metadata": {},
   "source": [
    "---\n",
    "# 2. Deck-52 🃏🚢\n",
    "\n",
    "Create an **`object class`** called **`Deck`**.\n",
    "\n",
    "The object has the following properties and methods:\n",
    "\n",
    "***Properties***\n",
    "* **`.cards`**: a list of the cards left in the deck (in order)\n",
    "\n",
    "***Methods***\n",
    "* **`.shuffle()`**: shuffle the order of cards. Takes no arguments.\n",
    "\n",
    "\n",
    "* **`.draw()`**: draw a card from deck. Takes argument `index`, to specify the position of the card drawn from the deck."
   ]
  },
  {
   "cell_type": "code",
   "execution_count": 2,
   "metadata": {},
   "outputs": [],
   "source": [
    "# your code here"
   ]
  },
  {
   "cell_type": "code",
   "execution_count": null,
   "metadata": {},
   "outputs": [],
   "source": []
  },
  {
   "cell_type": "markdown",
   "metadata": {},
   "source": [
    "---\n",
    "# 3. Black Jack ♠💸\n",
    "\n",
    "Create a **`function`** called **`black_jack()`** that plays blackjack.\n",
    "\n",
    "The function takes two functions, `chips` and `win_at`. The function takes inputs from a human player to play the game.\n",
    "\n",
    "#### Winning the game\n",
    "1. The player `wins` the **`game`** if his chip count reaches `win_at`.\n",
    "\n",
    "#### Player Decisions\n",
    "2. The player begins every round by betting either his chips. Bets must be above zero and less or equal to his current chip count.\n",
    "\n",
    "\n",
    "3. The player goes first, and can either `hit` (get dealt another card) or `stand`.\n",
    "\n",
    "#### Dealer Rules\n",
    "3. After the player has completed his actions for the round, the dealer proceeds. \n",
    "* The dealer must `hit` if her hand is `16 or below`. Otherwise, she `stands`.\n",
    "\n",
    "Follow [standard blackjack](https://bicyclecards.com/how-to-play/blackjack/) rules for all other rules.\n"
   ]
  },
  {
   "cell_type": "code",
   "execution_count": 3,
   "metadata": {},
   "outputs": [],
   "source": [
    "# your code here"
   ]
  },
  {
   "cell_type": "code",
   "execution_count": null,
   "metadata": {},
   "outputs": [],
   "source": []
  },
  {
   "cell_type": "markdown",
   "metadata": {},
   "source": [
    "## <span style=\"color:red;\">Solutions</span>"
   ]
  },
  {
   "cell_type": "code",
   "execution_count": 4,
   "metadata": {},
   "outputs": [],
   "source": [
    "import random"
   ]
  },
  {
   "cell_type": "code",
   "execution_count": 5,
   "metadata": {},
   "outputs": [],
   "source": [
    "# 1. solution\n",
    "\n",
    "class Card(object):\n",
    "    \n",
    "    _ranks = ['A'] + [str(i) for i in range(2, 11)] + list('JQK')\n",
    "    _suits = '♥♣♦♠'\n",
    "        \n",
    "    def __init__(self, value=None):\n",
    "        \n",
    "        # invisible properties\n",
    "        self._hide = True\n",
    "        \n",
    "        if value:\n",
    "            \n",
    "            if type(value)==type(self): # passing a Card as argument\n",
    "                self._value = value._value\n",
    "                \n",
    "            else:\n",
    "                self._value = value\n",
    "\n",
    "            for i, v in enumerate(self._value):\n",
    "                if not v.isalnum():\n",
    "                    break\n",
    "\n",
    "            if i==len(self._value)-1:\n",
    "                i = 1\n",
    "            \n",
    "            self.rank = self._value[:i]\n",
    "            self.suit = self._value[i:]\n",
    "            \n",
    "        else:\n",
    "            self.rank = random.choice(self._ranks)\n",
    "            self.suit = random.choice(self._suits)\n",
    "            self._value = self.rank + self.suit\n",
    "    \n",
    "    def __repr__(self):\n",
    "        if self._hide:\n",
    "            return '🎴'\n",
    "        else:\n",
    "            return self._value\n",
    "        \n",
    "    def show(self):\n",
    "        return self._value\n",
    "    \n",
    "    def flip(self):\n",
    "        self._hide = not self._hide"
   ]
  },
  {
   "cell_type": "code",
   "execution_count": 6,
   "metadata": {},
   "outputs": [
    {
     "name": "stdout",
     "output_type": "stream",
     "text": [
      "🎴\n",
      "K♥\n"
     ]
    }
   ],
   "source": [
    "print(c := Card())\n",
    "print(c.show())"
   ]
  },
  {
   "cell_type": "code",
   "execution_count": 7,
   "metadata": {},
   "outputs": [],
   "source": [
    "# 2. solution\n",
    "\n",
    "class Deck(object):\n",
    "    \n",
    "    def __init__(self, cards=None):\n",
    "        \n",
    "        if cards:\n",
    "            self._cards = [Card(c) for c in cards]\n",
    "        \n",
    "        else:\n",
    "            self._cards = []\n",
    "            suits = Card._suits\n",
    "            ranks = Card._ranks\n",
    "            for suit in suits:\n",
    "\n",
    "                for rank in ranks:\n",
    "                    self._cards.append(Card(rank+suit))\n",
    "\n",
    "                ranks.reverse()\n",
    "    \n",
    "    def __repr__(self):\n",
    "        \n",
    "        return 'Deck 🎴'\n",
    "    \n",
    "    def __len__(self):\n",
    "        return len(self._cards)\n",
    "    \n",
    "    def __getitem__(self, key):\n",
    "        return self._cards[key].show()\n",
    "    \n",
    "    def __setitem__(self, key, value):\n",
    "        self._cards.insert(key, Card(value))\n",
    "        \n",
    "    def __add__(self, other):\n",
    "        return Deck(self._cards + other._cards)\n",
    "    \n",
    "    def show(self):\n",
    "        \n",
    "        return [c.show() for c in self._cards]\n",
    "        \n",
    "    def shuffle(self):\n",
    "        \n",
    "        random.shuffle(self._cards)\n",
    "    \n",
    "    def cut(self, pos=None):\n",
    "        \n",
    "        if not pos:\n",
    "            pos = random.choice(range(len(self)))\n",
    "        \n",
    "        return Deck(self._cards[:pos]), Deck(self._cards[pos:])\n",
    "    \n",
    "    def draw(self, pos=0):\n",
    "        \n",
    "        return self._cards.pop(pos)"
   ]
  },
  {
   "cell_type": "code",
   "execution_count": 8,
   "metadata": {},
   "outputs": [
    {
     "name": "stdout",
     "output_type": "stream",
     "text": [
      "Deck 🎴\n",
      "['A♥', '2♥', '3♥', '4♥', '5♥', '6♥', '7♥', '8♥', '9♥', '10♥', 'J♥', 'Q♥', 'K♥', 'K♣', 'Q♣', 'J♣', '10♣', '9♣', '8♣', '7♣', '6♣', '5♣', '4♣', '3♣', '2♣', 'A♣', 'A♦', '2♦', '3♦', '4♦', '5♦', '6♦', '7♦', '8♦', '9♦', '10♦', 'J♦', 'Q♦', 'K♦', 'K♠', 'Q♠', 'J♠', '10♠', '9♠', '8♠', '7♠', '6♠', '5♠', '4♠', '3♠', '2♠', 'A♠']\n"
     ]
    }
   ],
   "source": [
    "print(d := Deck())\n",
    "print(d.show())"
   ]
  }
 ],
 "metadata": {
  "kernelspec": {
   "display_name": "Python 3",
   "language": "python",
   "name": "python3"
  },
  "language_info": {
   "codemirror_mode": {
    "name": "ipython",
    "version": 3
   },
   "file_extension": ".py",
   "mimetype": "text/x-python",
   "name": "python",
   "nbconvert_exporter": "python",
   "pygments_lexer": "ipython3",
   "version": "3.8.5"
  }
 },
 "nbformat": 4,
 "nbformat_minor": 4
}

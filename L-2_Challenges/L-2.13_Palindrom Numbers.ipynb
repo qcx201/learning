{
 "cells": [
  {
   "cell_type": "markdown",
   "metadata": {},
   "source": [
    "---\n",
    "# Palindrome Numbers ⏩⏪\n",
    "\n",
    "What the first 3 minutes of the numberphile video on **palindrom numbers:**\n",
    "\n",
    "https://www.youtube.com/embed/bN8PE3eljdA?end=195\n",
    "\n",
    "Return the **`palindrom number`** resulting from **`89`**, and show the steps of solving the result.\n",
    "\n",
    "***`e.g.:`***\n",
    "\n",
    "89 + 98 = 187\n",
    "\n",
    "187 + 781 = 968\n",
    "\n",
    "968 + 869 = 1837\n",
    "\n",
    "1837 + 7381 = 9218\n",
    "\n",
    "$\\qquad \\vdots$\n",
    "\n",
    "Until the sum is a palindrom number."
   ]
  },
  {
   "cell_type": "code",
   "execution_count": null,
   "metadata": {},
   "outputs": [],
   "source": [
    "# your code here"
   ]
  },
  {
   "cell_type": "code",
   "execution_count": null,
   "metadata": {},
   "outputs": [],
   "source": []
  }
 ],
 "metadata": {
  "kernelspec": {
   "display_name": "Python 3",
   "language": "python",
   "name": "python3"
  },
  "language_info": {
   "codemirror_mode": {
    "name": "ipython",
    "version": 3
   },
   "file_extension": ".py",
   "mimetype": "text/x-python",
   "name": "python",
   "nbconvert_exporter": "python",
   "pygments_lexer": "ipython3",
   "version": "3.7.6"
  }
 },
 "nbformat": 4,
 "nbformat_minor": 4
}

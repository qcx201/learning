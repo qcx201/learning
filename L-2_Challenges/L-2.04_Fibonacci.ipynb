{
 "cells": [
  {
   "cell_type": "markdown",
   "metadata": {},
   "source": [
    "---\n",
    "# Recursive Sequences 🔁\n",
    "\n",
    "Create a **`list`** of numbers of **`length 15`**, starting at **`0`**, where each number is the square of the preceding number in the list plus 1.\n",
    "\n",
    "The mathematical notation of an element is as follows:\n",
    "\n",
    "$z_{i} = (z_{i-1})^{2} + c$\n",
    "\n",
    "$i \\in \\{0, 1, 2 ...\\}$\n",
    "\n",
    "$\\text{ where } z_{0} = 0, c = 1$\n",
    "\n",
    "\n",
    "***`i.e.:`***\n",
    "```python\n",
    "result == [\n",
    "    0,\n",
    "    1,\n",
    "    2,\n",
    "    5,\n",
    "    26,\n",
    "     ⋮\n",
    "] == [\n",
    "    0, \n",
    "    0^2 + 1,\n",
    "    1^2 + 1,\n",
    "    2^2 + 1,\n",
    "    5^2 + 1,\n",
    "     ⋮\n",
    "]\n",
    "```\n",
    "\n",
    "Create another of number **`list`** of  **`length 15`** $, \\text{ where } z_{0} = -\\frac{7}{4}, c = -\\frac{29}{16}$."
   ]
  },
  {
   "cell_type": "code",
   "execution_count": null,
   "metadata": {},
   "outputs": [],
   "source": [
    "# your code here"
   ]
  },
  {
   "cell_type": "code",
   "execution_count": null,
   "metadata": {},
   "outputs": [],
   "source": []
  },
  {
   "cell_type": "markdown",
   "metadata": {},
   "source": [
    "# Fibonacci Numbers 🌻\n",
    "\n",
    "The Fibonacci Sequence is the a sequence of numbers that begins (depending on who you ask) with `0` and `1`:\n",
    "\n",
    "`0, 1, 1, 2, 3, 5, 8, 13 ...`\n",
    "\n",
    "All numbers after the first two are the sum of the two previous numbers.\n",
    "\n",
    "---"
   ]
  },
  {
   "cell_type": "markdown",
   "metadata": {},
   "source": [
    "\n",
    "**Part 1:** Create a **`function`** called `get_fib` that takes an integer **`n`** as an argument. The function returns the number in the `n`th index of the Fibonnaci Sequence.\n",
    "\n",
    "***`i.e.:`***\n",
    "\n",
    "\n",
    "`fib(0)` returns `0`\n",
    "\n",
    "`fib(4)` returns `3`\n",
    "\n",
    "`fib(5)` returns `5`\n",
    "\n",
    "`fib(6)` returns `8`\n",
    "\n",
    "`fib(30)` returns `832040`\n",
    "\n",
    "---"
   ]
  },
  {
   "cell_type": "markdown",
   "metadata": {},
   "source": [
    "**Part 2:** Create a **`list`** of the **`first 100`** Fibonacci Numbers.\n",
    "\n",
    "***`i.e.:`*** `[0, 1, 1, 2, 3, 5, 8... ]`"
   ]
  },
  {
   "cell_type": "code",
   "execution_count": null,
   "metadata": {},
   "outputs": [],
   "source": [
    "# your code here"
   ]
  },
  {
   "cell_type": "code",
   "execution_count": null,
   "metadata": {},
   "outputs": [],
   "source": []
  }
 ],
 "metadata": {
  "kernelspec": {
   "display_name": "Python 3",
   "language": "python",
   "name": "python3"
  },
  "language_info": {
   "codemirror_mode": {
    "name": "ipython",
    "version": 3
   },
   "file_extension": ".py",
   "mimetype": "text/x-python",
   "name": "python",
   "nbconvert_exporter": "python",
   "pygments_lexer": "ipython3",
   "version": "3.7.6"
  }
 },
 "nbformat": 4,
 "nbformat_minor": 4
}

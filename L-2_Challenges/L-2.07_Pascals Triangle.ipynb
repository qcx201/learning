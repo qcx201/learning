{
 "cells": [
  {
   "cell_type": "markdown",
   "metadata": {},
   "source": [
    "---\n",
    "# Pascal's Triangle 🔢🔼\n",
    "\n",
    "Pascal's Triangle is a pyramid of numbers constructed as follows:\n",
    "\n",
    "```python\n",
    "      1\n",
    "     1 1   \n",
    "    1 2 1 \n",
    "   1 3 3 1\n",
    "  1 4 6 4 1 \n",
    "      ⋮\n",
    "```\n",
    "\n",
    "Where the numbers in each level is constructed by the sum of the numbers standing on its shoulders from the level above.\n",
    "\n",
    "\n",
    "For example, the 5th level of the triangle, `1 4 6 4 1`, is constructed as follows:\n",
    "```python\n",
    "              1\n",
    "           1     1\n",
    "        1     2     1\n",
    "     1     3     3     1\n",
    "(0+1) (1+3) (3+3) (3+1) (1+0) => 1 4 6 4 1\n",
    "              ⋮\n",
    "    \n",
    " ```\n",
    "  \n",
    "---\n",
    "\n",
    "**Challenge:** Create a **`list of lists`** that contain the first **`100`** levels of Pascal's Triangle.\n",
    "\n",
    "***`i.e.:`***\n",
    "```Python\n",
    "\n",
    "pascal = [\n",
    "        [1],\n",
    "        [1, 1],\n",
    "        [1, 2, 1],\n",
    "        [1, 3, 3, 1],\n",
    "        [1, 4, 6, 4, 1],\n",
    "            ⋮\n",
    "]\n",
    "\n",
    "```"
   ]
  },
  {
   "cell_type": "code",
   "execution_count": null,
   "metadata": {},
   "outputs": [],
   "source": [
    "# your code here"
   ]
  },
  {
   "cell_type": "code",
   "execution_count": null,
   "metadata": {},
   "outputs": [],
   "source": []
  }
 ],
 "metadata": {
  "kernelspec": {
   "display_name": "Python 3",
   "language": "python",
   "name": "python3"
  },
  "language_info": {
   "codemirror_mode": {
    "name": "ipython",
    "version": 3
   },
   "file_extension": ".py",
   "mimetype": "text/x-python",
   "name": "python",
   "nbconvert_exporter": "python",
   "pygments_lexer": "ipython3",
   "version": "3.7.6"
  }
 },
 "nbformat": 4,
 "nbformat_minor": 4
}

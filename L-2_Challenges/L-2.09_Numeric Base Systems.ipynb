{
 "cells": [
  {
   "cell_type": "markdown",
   "metadata": {},
   "source": [
    "---\n",
    "# To Base-10 🧮\n",
    "\n",
    "Create a **`function`** called `to_b10()` that takes two arguments:\n",
    "\n",
    "* **`b`** : an integer between 2 and 10\n",
    "\n",
    "* **`n`**: an integer in the base-`b` numeral system.\n",
    "\n",
    "The function converts `n` from base-`b` to base-10 and returns the output.\n",
    "\n",
    "***`e.g.:`***\n",
    "\n",
    "`to_b10(b=2, n=1010)` converts *`1010`* from binary and returns `10`\n",
    "\n",
    "`to_b10(b=3, n=101)` returns `10`\n",
    "\n",
    "`to_b10(b=10, n=10)` returns `10`"
   ]
  },
  {
   "cell_type": "code",
   "execution_count": null,
   "metadata": {},
   "outputs": [],
   "source": [
    "# your code here"
   ]
  },
  {
   "cell_type": "code",
   "execution_count": null,
   "metadata": {},
   "outputs": [],
   "source": []
  },
  {
   "cell_type": "markdown",
   "metadata": {},
   "source": [
    "# From Base-10 🔙\n",
    "\n",
    "Create a **`function`** called `b10_to()` that takes two arguments:\n",
    "\n",
    "* **`b`** : an integer between 2 and 10\n",
    "\n",
    "* **`n`**: an integer in base-10\n",
    "\n",
    "The function converts `n` from base-10 to the base-`b` numeral system and returns the output.\n",
    "\n",
    "***`e.g.:`***\n",
    "\n",
    "`b10_to(b=2, n=10)` converts 10 to binary, and returns `1010`\n",
    "\n",
    "`b10_to(b=3, n=10)` returns `101`\n",
    "\n",
    "`b10_to(b=10, n=10)` returns `10`\n",
    "\n",
    "***`Bonus:`*** Create a function called `b_to_b()` that converts numbers between any bases."
   ]
  },
  {
   "cell_type": "code",
   "execution_count": null,
   "metadata": {},
   "outputs": [],
   "source": [
    "# your code here"
   ]
  },
  {
   "cell_type": "code",
   "execution_count": null,
   "metadata": {},
   "outputs": [],
   "source": []
  }
 ],
 "metadata": {
  "kernelspec": {
   "display_name": "Python 3",
   "language": "python",
   "name": "python3"
  },
  "language_info": {
   "codemirror_mode": {
    "name": "ipython",
    "version": 3
   },
   "file_extension": ".py",
   "mimetype": "text/x-python",
   "name": "python",
   "nbconvert_exporter": "python",
   "pygments_lexer": "ipython3",
   "version": "3.7.6"
  }
 },
 "nbformat": 4,
 "nbformat_minor": 4
}

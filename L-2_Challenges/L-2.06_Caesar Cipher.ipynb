{
 "cells": [
  {
   "cell_type": "markdown",
   "metadata": {},
   "source": [
    "---\n",
    "# Alphabet 🔠\n",
    "Create a **`list`** of the letters in the alphabet in either upper or lower case.\n",
    "\n",
    "**`Hint:`** python has two built-in functions called `ord()` and `chr()`."
   ]
  },
  {
   "cell_type": "code",
   "execution_count": null,
   "metadata": {},
   "outputs": [],
   "source": [
    "# your code here"
   ]
  },
  {
   "cell_type": "code",
   "execution_count": null,
   "metadata": {},
   "outputs": [],
   "source": []
  },
  {
   "cell_type": "markdown",
   "metadata": {},
   "source": [
    "# Caesar Cipher 📜\n",
    "\n",
    "A caesar cipher is an encryption algorithm where each letter is shifted by some number ***`n`*** in the alphabet. We'll call **`n`** the encryption key.\n",
    "\n",
    "***For example:***\n",
    "\n",
    "For **`n=1:`** *`ABCD`* becomes *`BCDE`*, for **`n=2`** it is *`CDEF`*.\n",
    "\n",
    "For **`n=2:`** *`WXYZ`* becomes *`YZAB`*\n",
    "\n",
    "For **`n=4:`** *`Hail Caesar`* becomes *`Lemp Geiwev!`*\n",
    "\n",
    "Using caesar ciphers, create a **`dict`** that contains as its values messages encrypted from  `messages`. Use the dictionary keys as the encryption key `n`.\n",
    "\n",
    "***`i.e.:`***\n",
    "\n",
    "```python\n",
    "result == {\n",
    "    1: 'BCD',\n",
    "    2: 'YZAB',\n",
    "            ⋮\n",
    "    }\n",
    "```"
   ]
  },
  {
   "cell_type": "code",
   "execution_count": null,
   "metadata": {},
   "outputs": [],
   "source": [
    "messages = {\n",
    "    1: 'ABC',\n",
    "    2: 'WXYZ',\n",
    "    3: 'Carpe Diem',\n",
    "    4: 'Hail Caesar!',\n",
    "    6: 'Can I please have some salad dressing on the side?',\n",
    "    26:'Some things stay the same ¯\\_(ツ)_/¯'\n",
    "}"
   ]
  },
  {
   "cell_type": "code",
   "execution_count": null,
   "metadata": {},
   "outputs": [],
   "source": [
    "# your code here"
   ]
  },
  {
   "cell_type": "code",
   "execution_count": null,
   "metadata": {},
   "outputs": [],
   "source": []
  },
  {
   "cell_type": "markdown",
   "metadata": {},
   "source": [
    "# Decrypting Caesar 🥬\n",
    "\n",
    "**`Print`** the decrypted messages from the dictionary `encrypted`.\n",
    "\n",
    "The dictionary key for each message is also the encryption key **`n`**."
   ]
  },
  {
   "cell_type": "code",
   "execution_count": null,
   "metadata": {},
   "outputs": [],
   "source": [
    "encrypted = {\n",
    "    1: \"Opx J lopx nz BCD, xpo'u zpv tjoh bmpoh xjui nf?\",\n",
    "    2: 'Xgpk, xkfk, xkek',\n",
    "    3: 'Hw wx, Euxwh?',\n",
    "    4: 'Jvmirhw, Vsqerw, gsyrxvcqir, pirh qi csyv ievw.',\n",
    "    5: 'Ymjwj bfx tshj f Wtrfs bmt fyj mnx lnwqkwnjsi... Mj bfx lqfinfytw.'\n",
    "}"
   ]
  },
  {
   "cell_type": "code",
   "execution_count": null,
   "metadata": {},
   "outputs": [],
   "source": [
    "# your code here"
   ]
  },
  {
   "cell_type": "code",
   "execution_count": null,
   "metadata": {},
   "outputs": [],
   "source": []
  }
 ],
 "metadata": {
  "kernelspec": {
   "display_name": "Python 3",
   "language": "python",
   "name": "python3"
  },
  "language_info": {
   "codemirror_mode": {
    "name": "ipython",
    "version": 3
   },
   "file_extension": ".py",
   "mimetype": "text/x-python",
   "name": "python",
   "nbconvert_exporter": "python",
   "pygments_lexer": "ipython3",
   "version": "3.7.6"
  }
 },
 "nbformat": 4,
 "nbformat_minor": 4
}

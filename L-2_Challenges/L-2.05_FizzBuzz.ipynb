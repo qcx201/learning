{
 "cells": [
  {
   "cell_type": "markdown",
   "metadata": {},
   "source": [
    "---\n",
    "# FizzBuzz 🥤🐝\n",
    "\n",
    "Fizzbuzz is a children's game where numbers are counted consecutively starting from 1.\n",
    "\n",
    "If the number is divisible by 3, you say `Fizz!` instead of the number.\n",
    "\n",
    "If the number is divisible by 5, you say `Buzz!` instead of the number.\n",
    "\n",
    "If the number is divisible by both 3 and 5, you say `FizzBuzz!` instead of the number.\n",
    "\n",
    "**`i.e.:`** `1, 2, Fizz!, 4, Buzz!, Fizz!, 7, 8, Fizz!, Buzz!, 11, Fizz!, 13, 14, FizzBuzz!, ...`\n",
    "\n",
    "---\n",
    "\n",
    "**Challenge: `Print`** the FizzBuzz game sequence from **`1 to 100`**.\n",
    "\n",
    "<br>\n",
    "\n",
    "***`Bonus:`*** make the program adaptive to adding arbitrary word rules.\n",
    "\n",
    "\n",
    "**`e.g.:`**\n",
    "\n",
    "Rules: `3: 'Fizz', 5: 'Buzz', 7: 'Hot', 11: 'Pot', 13: 'Fox', 17: 'Cop' ...` <br>\n",
    "\n",
    "Result: `1, 2, Fizz!, 4, Buzz!, Fizz!, Hot!, 8, Fizz!, Buzz!, Pot!, Fizz!, Fox!, Hot!, FizzBuzz!, ...`"
   ]
  },
  {
   "cell_type": "code",
   "execution_count": null,
   "metadata": {},
   "outputs": [],
   "source": [
    "# your code here"
   ]
  },
  {
   "cell_type": "code",
   "execution_count": null,
   "metadata": {},
   "outputs": [],
   "source": []
  },
  {
   "cell_type": "markdown",
   "metadata": {},
   "source": [
    "# FizzBuzz: Human v Machine 🤖⚡🤺\n",
    "\n",
    "Create a **`function`** called `play_fizzbuzz()` that allows a human to play the game `FizzBuzz` against the program.\n",
    "\n",
    "The function should take three parameters:\n",
    "\n",
    "* `players` for number of players, with default `2` (for human and computer).\n",
    "\n",
    "* `my_turn` for the human's turn in the order of play, with the default where the `human plays last`.\n",
    "\n",
    "* `win_at` for the number of corrected turns the human player must play to win the game, with default at `20`.\n",
    "\n",
    "***`Bonus:`***\n",
    "* Add a parameter that can add/adjust the divisible rules, e.g., `3=>Fizz, 5=>Buzz, 7=>Hot, 11=>Pot, 13=>Fox, 17=>Cop ...`\n",
    "\n",
    "* Make human lose if the time taken to respond exceeds 5 seconds.\n",
    "\n",
    "* Add pause command."
   ]
  },
  {
   "cell_type": "code",
   "execution_count": null,
   "metadata": {},
   "outputs": [],
   "source": [
    "# your code here"
   ]
  },
  {
   "cell_type": "code",
   "execution_count": null,
   "metadata": {},
   "outputs": [],
   "source": []
  }
 ],
 "metadata": {
  "kernelspec": {
   "display_name": "Python 3",
   "language": "python",
   "name": "python3"
  },
  "language_info": {
   "codemirror_mode": {
    "name": "ipython",
    "version": 3
   },
   "file_extension": ".py",
   "mimetype": "text/x-python",
   "name": "python",
   "nbconvert_exporter": "python",
   "pygments_lexer": "ipython3",
   "version": "3.7.6"
  }
 },
 "nbformat": 4,
 "nbformat_minor": 4
}

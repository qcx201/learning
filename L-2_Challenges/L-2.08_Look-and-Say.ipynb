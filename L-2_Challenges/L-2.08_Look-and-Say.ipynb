{
 "cells": [
  {
   "cell_type": "markdown",
   "metadata": {},
   "source": [
    "---\n",
    "# Look-and-Say Numbers 👁👄👁\n",
    "\n",
    "A look-and-say number sequence is generated mnemonically.\n",
    "\n",
    "Suppose we start with the number **`1`** in the sequence:\n",
    "\n",
    "**`1`** reads... `One \"one\"` => **`11`**\n",
    "\n",
    "**`11`** reads... `Two \"ones\"` => **`21`**\n",
    "\n",
    "**`21`** reads... `One \"two\", one \"one\"` => **`1211`**\n",
    "\n",
    "**`1211`** reads... `One \"one\", one \"two\", two \"ones\"` => **`111221`**\n",
    "\n",
    "**`111221`** reads... `Three \"ones\", two \"twos\", one \"one\"` => **`312211`**\n",
    "\n",
    "... and so on.\n",
    "\n",
    "---\n",
    "\n",
    "**Challenge:** Create a **`list`** of `look-and-say` sequence of length **`30`**, where the first number in the sequence is **`1`**.\n",
    "\n",
    "**`i.e.:`**\n",
    "```python\n",
    "result == [\n",
    "    1,\n",
    "    11,\n",
    "    21,\n",
    "    1211,\n",
    "    111221,\n",
    "    312211,\n",
    "       ⋮ \n",
    "          ]\n",
    "```"
   ]
  },
  {
   "cell_type": "code",
   "execution_count": null,
   "metadata": {},
   "outputs": [],
   "source": [
    "# your code here"
   ]
  },
  {
   "cell_type": "code",
   "execution_count": null,
   "metadata": {},
   "outputs": [],
   "source": []
  }
 ],
 "metadata": {
  "kernelspec": {
   "display_name": "Python 3",
   "language": "python",
   "name": "python3"
  },
  "language_info": {
   "codemirror_mode": {
    "name": "ipython",
    "version": 3
   },
   "file_extension": ".py",
   "mimetype": "text/x-python",
   "name": "python",
   "nbconvert_exporter": "python",
   "pygments_lexer": "ipython3",
   "version": "3.7.6"
  }
 },
 "nbformat": 4,
 "nbformat_minor": 4
}

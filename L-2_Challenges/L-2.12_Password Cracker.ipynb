{
 "cells": [
  {
   "cell_type": "markdown",
   "metadata": {},
   "source": [
    "---\n",
    "# Password 🍘\n",
    "\n",
    "A password is created by the object class from a random combination of digits from `0-9`.\n",
    "\n",
    "The default length of the password is `5` digits.\n",
    "\n",
    "**`Crack`** the password.\n",
    "\n",
    "***Question:*** What is the probability of guessing the password on the first try*?\n",
    "\n",
    "*assuming you know the length of the password"
   ]
  },
  {
   "cell_type": "code",
   "execution_count": 1,
   "metadata": {},
   "outputs": [],
   "source": [
    "# run this cell\n",
    "\n",
    "import random\n",
    "\n",
    "values = ''.join([str(i) for i in range(10)])\n",
    "\n",
    "class Password(object):\n",
    "    \n",
    "    def __init__(self, length=5):\n",
    "        '''\n",
    "        Initialize random password\n",
    "        '''\n",
    "        self._value = ''.join([random.choice(values) for _ in range(length)])\n",
    "    \n",
    "    def __len__(self):\n",
    "        '''\n",
    "        Returns how many characters in password\n",
    "        '''\n",
    "        return len(self._value)\n",
    "    \n",
    "    def __repr__(self):\n",
    "        '''\n",
    "        Obscures password when object called\n",
    "        '''\n",
    "        return '*' * len(self)\n",
    "    \n",
    "    def check(self, guess):\n",
    "        '''\n",
    "        Returns if guess is correct\n",
    "        '''\n",
    "        return str(guess)==self._value\n",
    "    \n",
    "    def reveal(self):\n",
    "        '''\n",
    "        Reveal Password\n",
    "        '''\n",
    "        print('Password revealed:', self._value)"
   ]
  },
  {
   "cell_type": "code",
   "execution_count": 2,
   "metadata": {},
   "outputs": [
    {
     "name": "stdout",
     "output_type": "stream",
     "text": [
      "*****\n"
     ]
    }
   ],
   "source": [
    "# the password's value is \"hidden\" from view:\n",
    "pw = Password()\n",
    "print(pw)"
   ]
  },
  {
   "cell_type": "code",
   "execution_count": 3,
   "metadata": {},
   "outputs": [
    {
     "name": "stdout",
     "output_type": "stream",
     "text": [
      "Check 00000: False\n"
     ]
    }
   ],
   "source": [
    "# You can check a guess against the password with .check():\n",
    "guess = '00000'\n",
    "print(f'Check {guess}:', pw.check(guess))"
   ]
  },
  {
   "cell_type": "code",
   "execution_count": 4,
   "metadata": {},
   "outputs": [
    {
     "name": "stdout",
     "output_type": "stream",
     "text": [
      "Password length: 5\n",
      "Possible values: 0123456789\n"
     ]
    }
   ],
   "source": [
    "# You can get the length of password\n",
    "print('Password length:', len(pw))\n",
    "\n",
    "# possible values of the password:\n",
    "print('Possible values:', values)"
   ]
  },
  {
   "cell_type": "markdown",
   "metadata": {},
   "source": [
    "### Your Turn 🙌\n",
    "**`Crack`** the password.\n",
    "\n",
    "***Question:*** What is the probability of guessing the password on the first try*?\n",
    "\n",
    "*assuming you know the length of the password"
   ]
  },
  {
   "cell_type": "code",
   "execution_count": 5,
   "metadata": {},
   "outputs": [
    {
     "data": {
      "text/plain": [
       "*****"
      ]
     },
     "execution_count": 5,
     "metadata": {},
     "output_type": "execute_result"
    }
   ],
   "source": [
    "# your code here\n",
    "pw"
   ]
  },
  {
   "cell_type": "code",
   "execution_count": null,
   "metadata": {},
   "outputs": [],
   "source": []
  }
 ],
 "metadata": {
  "kernelspec": {
   "display_name": "Python 3",
   "language": "python",
   "name": "python3"
  },
  "language_info": {
   "codemirror_mode": {
    "name": "ipython",
    "version": 3
   },
   "file_extension": ".py",
   "mimetype": "text/x-python",
   "name": "python",
   "nbconvert_exporter": "python",
   "pygments_lexer": "ipython3",
   "version": "3.7.6"
  }
 },
 "nbformat": 4,
 "nbformat_minor": 4
}

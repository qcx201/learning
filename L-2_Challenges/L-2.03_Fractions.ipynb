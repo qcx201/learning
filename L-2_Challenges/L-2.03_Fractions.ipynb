{
 "cells": [
  {
   "cell_type": "markdown",
   "metadata": {},
   "source": [
    "---\n",
    "# Fractions 🔢➗\n",
    "\n",
    "Create a **`function`** called `fraction()` that takes a floating point argument **`n`** and returns the numerator and denominator of the fraction in lowest terms.\n",
    "\n",
    "***`e.g.:`***\n",
    "\n",
    "`fraction(1.5)` returns `(3, 2)`\n",
    "\n",
    "`fraction(2.41)` returns `(241, 100)`\n",
    "\n",
    "`fraction(5.0)` returns `(5, 1)`\n",
    "\n",
    "**Question:** What is the fractions representation of $\\sqrt{2}$?"
   ]
  },
  {
   "cell_type": "code",
   "execution_count": null,
   "metadata": {},
   "outputs": [],
   "source": [
    "# your code here"
   ]
  },
  {
   "cell_type": "code",
   "execution_count": null,
   "metadata": {},
   "outputs": [],
   "source": []
  }
 ],
 "metadata": {
  "kernelspec": {
   "display_name": "Python 3",
   "language": "python",
   "name": "python3"
  },
  "language_info": {
   "codemirror_mode": {
    "name": "ipython",
    "version": 3
   },
   "file_extension": ".py",
   "mimetype": "text/x-python",
   "name": "python",
   "nbconvert_exporter": "python",
   "pygments_lexer": "ipython3",
   "version": "3.7.6"
  }
 },
 "nbformat": 4,
 "nbformat_minor": 4
}

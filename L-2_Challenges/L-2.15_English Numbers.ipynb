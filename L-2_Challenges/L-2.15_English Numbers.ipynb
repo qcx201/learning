{
 "cells": [
  {
   "cell_type": "markdown",
   "metadata": {},
   "source": [
    "---\n",
    "# English Numbers 📖🔍\n",
    "\n",
    "Create a **`function`** called `eng_number()` that takes an integer argument `n` and converts a string of its dictation in English.\n",
    "\n",
    "***`e.g.:`***\n",
    "\n",
    "`eng_number(1)` returns `\"one\"`\n",
    "\n",
    "`eng_number(13)` returns `\"thirteen\"`\n",
    "\n",
    "`eng_number(100_327)` returns `\"one hundred thousand three hundred twenty seven\"`"
   ]
  },
  {
   "cell_type": "code",
   "execution_count": null,
   "metadata": {},
   "outputs": [],
   "source": [
    "# your code here"
   ]
  },
  {
   "cell_type": "code",
   "execution_count": null,
   "metadata": {},
   "outputs": [],
   "source": []
  }
 ],
 "metadata": {
  "kernelspec": {
   "display_name": "Python 3",
   "language": "python",
   "name": "python3"
  },
  "language_info": {
   "codemirror_mode": {
    "name": "ipython",
    "version": 3
   },
   "file_extension": ".py",
   "mimetype": "text/x-python",
   "name": "python",
   "nbconvert_exporter": "python",
   "pygments_lexer": "ipython3",
   "version": "3.7.6"
  }
 },
 "nbformat": 4,
 "nbformat_minor": 4
}

{
 "cells": [
  {
   "cell_type": "markdown",
   "metadata": {},
   "source": [
    "---\n",
    "# Roman Numerals 🔢\n",
    "\n",
    "Create a **`list`** of numbers from **`1 to 1000`** in Roman Numerals.\n",
    "\n",
    "**`i.e.:`** `[I, II, III, IV, V..., CMXCIX, M]`\n",
    "\n",
    "The symbols and denominations of roman numerals are provided in `roman_denoms`:"
   ]
  },
  {
   "cell_type": "code",
   "execution_count": null,
   "metadata": {},
   "outputs": [],
   "source": [
    "# roman symbols tables\n",
    "roman_denoms = [\n",
    "     ('M', 1000),\n",
    "     ('CM', 900),\n",
    "     ('D', 500),\n",
    "     ('CD', 400),\n",
    "     ('C', 100),\n",
    "     ('XC', 90),\n",
    "     ('L', 50),\n",
    "     ('XL', 40),\n",
    "     ('X', 10),\n",
    "     ('IX', 9),\n",
    "     ('V', 5),\n",
    "     ('IV', 4),\n",
    "     ('I', 1)\n",
    "]"
   ]
  },
  {
   "cell_type": "code",
   "execution_count": null,
   "metadata": {},
   "outputs": [],
   "source": [
    "# your code here"
   ]
  },
  {
   "cell_type": "code",
   "execution_count": null,
   "metadata": {},
   "outputs": [],
   "source": []
  }
 ],
 "metadata": {
  "kernelspec": {
   "display_name": "Python 3",
   "language": "python",
   "name": "python3"
  },
  "language_info": {
   "codemirror_mode": {
    "name": "ipython",
    "version": 3
   },
   "file_extension": ".py",
   "mimetype": "text/x-python",
   "name": "python",
   "nbconvert_exporter": "python",
   "pygments_lexer": "ipython3",
   "version": "3.7.6"
  }
 },
 "nbformat": 4,
 "nbformat_minor": 4
}

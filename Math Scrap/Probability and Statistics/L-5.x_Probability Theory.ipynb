{
 "cells": [
  {
   "cell_type": "code",
   "execution_count": 1,
   "metadata": {},
   "outputs": [],
   "source": [
    "# set of (frozen) sets\n",
    "sos = lambda *S: set(frozenset(A) for A in S)"
   ]
  },
  {
   "cell_type": "markdown",
   "metadata": {},
   "source": [
    "# Probability Space\n",
    "\n",
    "**<u>Definition</u>**\n",
    "\n",
    "A probability space consists of three objects $(\\Omega, \\mathcal{F}, P)$:\n",
    "\n",
    "* $\\Omega$ &ndash; sample space: a nonempty set\n",
    "\n",
    "* $\\mathcal{F}$ &ndash; $\\sigma$-algebra on $\\Omega$: a set of sets\n",
    "\n",
    "* $P$ &ndash; probability measure on $\\mathcal{F}, \\Omega$: a function mapping $P: \\mathcal{F} \\to [0, 1]$"
   ]
  },
  {
   "cell_type": "markdown",
   "metadata": {},
   "source": [
    "## Sample Space $\\Omega$"
   ]
  },
  {
   "cell_type": "code",
   "execution_count": 2,
   "metadata": {},
   "outputs": [],
   "source": [
    "Ω = {1, 2, 3}"
   ]
  },
  {
   "cell_type": "markdown",
   "metadata": {},
   "source": [
    "## Algebra $\\mathcal{F}_{a}$\n",
    "\n",
    "**<u>Definition</u>**\n",
    "\n",
    "1. Sample space: $\\Omega \\in \\mathcal{F}_{a}$ (and also empty set $\\emptyset \\in \\mathcal{F}_a$).\n",
    "\n",
    "2. Closed under complements: $A \\in \\Omega \\implies A^c \\in \\mathcal{F}_{a}$.\n",
    "\n",
    "3. Closed under finite union: $A, B \\in \\Omega \\implies A \\cup B \\in \\mathcal{F}_{a}$."
   ]
  },
  {
   "cell_type": "markdown",
   "metadata": {},
   "source": [
    "## $\\sigma$-Algebra $\\mathcal{F}$\n",
    "\n",
    "**<u>Definition</u>**\n",
    "\n",
    "Similar definition as that of an algebra, but closed under countable (infinite) union.\n",
    "\n",
    "1. Sample space: $\\Omega \\in \\mathcal{F}$ (and also empty set $\\emptyset \\in \\mathcal{F}$).\n",
    "\n",
    "\n",
    "2. Closed under complements: $A \\in \\Omega \\implies A^c \\in \\mathcal{F}$.\n",
    "\n",
    "3. Closed under countable (infinite) union: $\\bigcup\\limits_{i=1}^{\\infty}A_i \\in F, A_i \\in \\Omega.$"
   ]
  },
  {
   "cell_type": "code",
   "execution_count": 3,
   "metadata": {},
   "outputs": [],
   "source": [
    "def algebra(generating_set, sample_space):\n",
    "\n",
    "    F = [S for S in generating_set if S.issubset(sample_space)]\n",
    "    \n",
    "    if sample_space not in F:\n",
    "        F.append(sample_space)\n",
    "\n",
    "    if set() not in F:\n",
    "        F.append(set())\n",
    "\n",
    "    while True:\n",
    "        \n",
    "        F_old = F.copy()\n",
    "\n",
    "        for A in F:\n",
    "            # closure under complements\n",
    "            A_comp = sample_space - A\n",
    "            if A_comp not in F:\n",
    "                F.append(A_comp)\n",
    "\n",
    "            for B in F:\n",
    "                # closure under finite union\n",
    "                union = A.union(B)\n",
    "                if union not in F:\n",
    "                    F.append(union)\n",
    "\n",
    "        if sos(*F_old)==sos(*F):\n",
    "            return sos(*F)"
   ]
  },
  {
   "cell_type": "code",
   "execution_count": 4,
   "metadata": {},
   "outputs": [
    {
     "data": {
      "text/plain": [
       "{frozenset(), frozenset({1}), frozenset({2, 3}), frozenset({1, 2, 3})}"
      ]
     },
     "execution_count": 4,
     "metadata": {},
     "output_type": "execute_result"
    }
   ],
   "source": [
    "algebra(sos({1}), Ω)"
   ]
  },
  {
   "cell_type": "markdown",
   "metadata": {},
   "source": [
    "## The Power Set\n",
    "\n",
    "Given a set $S$, its power set $2^S$  is the set of all subsets of $S$. The power set of a sample space $\\Omega$ is the largest $\\sigma$-algebra on $\\Omega$."
   ]
  },
  {
   "cell_type": "code",
   "execution_count": 5,
   "metadata": {},
   "outputs": [],
   "source": [
    "def power_set(S):\n",
    "    \n",
    "    ps = [{x} for x in S]\n",
    "    \n",
    "    for x in ps:\n",
    "        for y in ps:\n",
    "            union = x.union(y)\n",
    "            if union not in ps:\n",
    "                ps.append(union)\n",
    "    \n",
    "    # add empty set\n",
    "    ps.append(set())\n",
    "    \n",
    "    return sos(*ps)"
   ]
  },
  {
   "cell_type": "code",
   "execution_count": 6,
   "metadata": {},
   "outputs": [
    {
     "data": {
      "text/plain": [
       "8"
      ]
     },
     "execution_count": 6,
     "metadata": {},
     "output_type": "execute_result"
    }
   ],
   "source": [
    "ps = power_set(Ω)\n",
    "len(ps)"
   ]
  },
  {
   "cell_type": "code",
   "execution_count": 7,
   "metadata": {},
   "outputs": [
    {
     "name": "stdout",
     "output_type": "stream",
     "text": [
      "[0, 1, 2, 3, 4, 5, 6, 7, 8, 9, 10, 11, 12, 13, 14, 15, 16, 17, 18, 19, 20, 21, 22, 23, 24, 25, 26, 27, 28, 29, 30, 31, 32, 33, 34, 35, 36, 37, 38, 39, 40, 41, 42, 43, 44, 45, 46, 47, 48, 49, 50, 51, 52, 53, 54, 55, 56, 57, 58, 59, 60, 61, 62, 63, 64, 65, 66, 67, 68, 69, 70, 71, 72, 73, 74, 75, 76, 77, 78, 79, 80, 81, 82, 83, 84, 85, 86, 87, 88, 89, 90, 91, 92, 93, 94, 95, 96, 97, 98, 99, 100]\n"
     ]
    }
   ],
   "source": [
    "x = [0]\n",
    "\n",
    "for y in x:\n",
    "    x.append(y+1)\n",
    "    if len(x) > 100:\n",
    "        break\n",
    "        \n",
    "print(x)"
   ]
  },
  {
   "cell_type": "markdown",
   "metadata": {},
   "source": [
    "## Probability Measure $P$\n",
    "A probability measure is a function $P: \\Omega \\to [0, 1]$ such that:\n",
    "\n",
    "1. $P(\\emptyset) = 0$\n",
    "2. $P(\\Omega) = 1$\n",
    "3. For disjoint subsets $A_1, A_2, ... \\in \\mathcal{F}$: \n",
    "$$\n",
    "P \\left( \\dot\\bigcup_{i=1}^{\\infty} A_i \\right) = \\sum_{i=1}^{\\infty} P \\left( A_i \\right)\n",
    "$$"
   ]
  },
  {
   "cell_type": "code",
   "execution_count": 14,
   "metadata": {},
   "outputs": [
    {
     "data": {
      "text/plain": [
       "0.6931471805599453"
      ]
     },
     "execution_count": 14,
     "metadata": {},
     "output_type": "execute_result"
    }
   ],
   "source": [
    "import numpy as np\n",
    "np.log(1) + np.log(2)"
   ]
  },
  {
   "cell_type": "code",
   "execution_count": 30,
   "metadata": {},
   "outputs": [],
   "source": [
    "# example of probability measure (for discrete prob space)\n",
    "def P(A, Ω):\n",
    "    return len(A) / len(Ω)\n",
    "\n",
    "def lesbegue_measure(A, Ω):\n",
    "    pass"
   ]
  },
  {
   "cell_type": "code",
   "execution_count": 150,
   "metadata": {},
   "outputs": [],
   "source": [
    "class interval(object):\n",
    "    \n",
    "    def __init__(self, range_str):\n",
    "        \n",
    "        \n",
    "        range_str = range_str.strip()\n",
    "        \n",
    "        lb, rb = range_str[0], range_str[-1]\n",
    "        \n",
    "        self.inf, self.sup = [float(x) for x in range_str[1:-1].split(',')]\n",
    "        \n",
    "        if self.inf == int(self.inf):\n",
    "            self.inf = int(self.inf)\n",
    "            \n",
    "        if self.sup == int(self.sup):\n",
    "            self.sup = int(self.sup)\n",
    "            \n",
    "        \n",
    "        if lb == '(':\n",
    "            self.lopen = True\n",
    "        elif lb == '[':\n",
    "            self.lopen = False\n",
    "        else:\n",
    "            raise Exception('Left bracket not specified')\n",
    "            \n",
    "        if rb == ')':\n",
    "            self.ropen = True\n",
    "        elif rb == ']':\n",
    "            self.ropen = False\n",
    "        else:\n",
    "            raise Exception('Right bracket not specified')\n",
    "    \n",
    "    def __repr__(self):\n",
    "        \n",
    "        lb = '(' if self.lopen else '['\n",
    "        rb = ')' if self.ropen else ']'\n",
    "        \n",
    "        return lb + f'{self.inf}, {self.sup}' + rb\n",
    "    \n",
    "    @property\n",
    "    def length(self):\n",
    "        return self.sup - self.inf\n",
    "    \n",
    "    @property\n",
    "    def maximum(self):\n",
    "        if self.ropen:\n",
    "            return None\n",
    "        else:\n",
    "            return self.sup\n",
    "    \n",
    "    @property\n",
    "    def minimum(self):\n",
    "        if self.lopen:\n",
    "            return None\n",
    "        else:\n",
    "            return self.inf\n",
    "        \n",
    "    def __lt__(self, other):\n",
    "        \n",
    "        if self.lopen:\n",
    "            return self.inf <= other \n",
    "        else:\n",
    "            return self.inf < other \n",
    "        \n",
    "    def __gt__(self, other):\n",
    "        \n",
    "        if self.ropen:\n",
    "            return self.sup >= other\n",
    "        else:\n",
    "            return  self.sup > other\n",
    "    \n",
    "    def __le__(self, other):\n",
    "        return self.inf <= other\n",
    "    \n",
    "    def __ge__(self, other):\n",
    "        return self.sup >= other"
   ]
  },
  {
   "cell_type": "markdown",
   "metadata": {},
   "source": [
    "# Borel Set\n",
    "\n",
    "* Sigma-algebra constructed with all open intervals"
   ]
  },
  {
   "cell_type": "code",
   "execution_count": 27,
   "metadata": {},
   "outputs": [
    {
     "data": {
      "text/plain": [
       "True"
      ]
     },
     "execution_count": 27,
     "metadata": {},
     "output_type": "execute_result"
    }
   ],
   "source": [
    "class Naturals(object):\n",
    "    \n",
    "    def __init__(self, start=0):\n",
    "        self.start = start\n",
    "        self._gen = self.generator(start)\n",
    "        \n",
    "    def __repr__(self):\n",
    "        return 'ℕ'\n",
    "        \n",
    "    def __contains__(self, other):\n",
    "            \n",
    "        if int(other) == other:\n",
    "            return other >= self.start\n",
    "        else:\n",
    "            return False\n",
    "    \n",
    "    def generator(self, n):\n",
    "        yield n\n",
    "        yield from self.generator(n+1)\n",
    "        \n",
    "    def next_n(self):\n",
    "        return next(self._gen)\n",
    "        \n",
    "N = Naturals()\n",
    "1 in N"
   ]
  },
  {
   "cell_type": "markdown",
   "metadata": {},
   "source": [
    "# Random Variable\n",
    "\n",
    "\n",
    "A random variable is a function $X : \\Omega \\to \\mathbb{R}$ such that, given probability space $(\\Omega, \\mathcal{F}, P)$:\n",
    "\n",
    "$$\n",
    "\\lbrace \\omega \\in \\Omega : X(\\omega) \\le x \\rbrace \\in \\mathcal{F} \\quad \\forall x \\in \\mathbb{R}.\n",
    "$$\n",
    "\n",
    "in other words, for all $x\\in \\mathbb{R}$, the inverse image of $X$ on interval $(-\\infty, x]$ is in $F$:\n",
    "\n",
    "$$\n",
    "\\lbrace X \\leq x \\rbrace = X^{-1}((-\\infty, x]) \\in \\mathcal{F}.\n",
    "$$"
   ]
  },
  {
   "cell_type": "code",
   "execution_count": null,
   "metadata": {},
   "outputs": [],
   "source": [
    "import time"
   ]
  },
  {
   "cell_type": "code",
   "execution_count": 25,
   "metadata": {},
   "outputs": [],
   "source": [
    "def X(ω):\n",
    "    \n",
    "    return 2* ω\n",
    "\n",
    "def X_inv(X, x, Ω):\n",
    "    \n",
    "    res = set()\n",
    "    for ω in Ω:\n",
    "        if X(ω) <= x:\n",
    "            res.add(ω)\n",
    "    return res\n",
    "\n",
    "\n",
    "def is_rv(X, Ω, F, t=1.0, return_xlim=False):\n",
    "    '''\n",
    "    Returns boolean if X is a r.v.\n",
    "    \n",
    "        Parameters:\n",
    "            X (function):     A random variable candidate\n",
    "            Ω (set):          The sample space\n",
    "            F (set):          Sigma algebra on Ω (set of set)\n",
    "            t (int or float): Time limit for testing (default is 1.0)\n",
    "            \n",
    "        Returns:\n",
    "            is_rv (bool): Whether X is a r.v.\n",
    "    '''\n",
    "    \n",
    "    t0, x= time.time(), 0\n",
    "    while time.time()-t0 < 1:\n",
    "        \n",
    "        if X_inv(X, x, Ω) not in F or X_inv(X, -x, Ω) not in F:\n",
    "            return False\n",
    "        \n",
    "        x+=1\n",
    "    \n",
    "    if return_xlim:\n",
    "        return True, [-x, x]\n",
    "    else:\n",
    "        return True\n",
    "    "
   ]
  },
  {
   "cell_type": "code",
   "execution_count": null,
   "metadata": {},
   "outputs": [],
   "source": [
    "is_rv(X, Ω, ps)"
   ]
  },
  {
   "cell_type": "code",
   "execution_count": null,
   "metadata": {},
   "outputs": [],
   "source": []
  }
 ],
 "metadata": {
  "kernelspec": {
   "display_name": "Python 3",
   "language": "python",
   "name": "python3"
  },
  "language_info": {
   "codemirror_mode": {
    "name": "ipython",
    "version": 3
   },
   "file_extension": ".py",
   "mimetype": "text/x-python",
   "name": "python",
   "nbconvert_exporter": "python",
   "pygments_lexer": "ipython3",
   "version": "3.8.5"
  }
 },
 "nbformat": 4,
 "nbformat_minor": 4
}

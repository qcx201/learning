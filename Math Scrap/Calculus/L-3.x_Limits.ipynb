{
 "cells": [
  {
   "cell_type": "code",
   "execution_count": 1,
   "metadata": {},
   "outputs": [],
   "source": [
    "from sympy import *\n",
    "import numpy as np\n",
    "import matplotlib.pyplot as plt\n",
    "\n",
    "%matplotlib inline\n",
    "\n",
    "# to help render LaTex\n",
    "from IPython.display import display, Math\n",
    "\n",
    "default_colors = plt.rcParams['axes.prop_cycle'].by_key()['color']"
   ]
  },
  {
   "cell_type": "markdown",
   "metadata": {},
   "source": [
    "# Limits"
   ]
  },
  {
   "cell_type": "code",
   "execution_count": 2,
   "metadata": {},
   "outputs": [],
   "source": [
    "h, c = symbols('h, c')"
   ]
  },
  {
   "cell_type": "code",
   "execution_count": 3,
   "metadata": {},
   "outputs": [
    {
     "data": {
      "text/latex": [
       "$\\displaystyle \\lim_{h \\to \\infty}\\left(\\frac{c h + h}{h}\\right)$"
      ],
      "text/plain": [
       "Limit((c*h + h)/h, h, oo, dir='-')"
      ]
     },
     "execution_count": 3,
     "metadata": {},
     "output_type": "execute_result"
    }
   ],
   "source": [
    "expr = (h * c + h) / h \n",
    "\n",
    "Limit(expr, h, oo)"
   ]
  },
  {
   "cell_type": "code",
   "execution_count": 4,
   "metadata": {},
   "outputs": [
    {
     "data": {
      "text/latex": [
       "$\\displaystyle \\lim_{h \\to 0^+}\\left(h + 1\\right) = 1$"
      ],
      "text/plain": [
       "Eq(Limit(h + 1, h, 0), 1)"
      ]
     },
     "metadata": {},
     "output_type": "display_data"
    },
    {
     "data": {
      "text/latex": [
       "$\\displaystyle \\lim_{h \\to 0^-}\\left(h + 1\\right) = 1$"
      ],
      "text/plain": [
       "Eq(Limit(h + 1, h, 0, dir='-'), 1)"
      ]
     },
     "metadata": {},
     "output_type": "display_data"
    },
    {
     "data": {
      "image/png": "[encoded data removed]",
      "text/plain": [
       "<Figure size 432x288 with 1 Axes>"
      ]
     },
     "metadata": {
      "needs_background": "light"
     },
     "output_type": "display_data"
    }
   ],
   "source": [
    "expr = h + 1\n",
    "\n",
    "# limit to approach\n",
    "lim = 0\n",
    "\n",
    "# plot function\n",
    "f = lambda h: h + 1\n",
    "\n",
    "# limits\n",
    "pos_lim = Limit(expr, h, lim, '+')\n",
    "neg_lim = Limit(expr, h, lim, '-')\n",
    "\n",
    "# show limits\n",
    "display(Eq(pos_lim, pos_lim.doit()))\n",
    "display(Eq(neg_lim, neg_lim.doit()))\n",
    "\n",
    "\n",
    "# plot function\n",
    "h_grid = np.linspace(-1, 1)\n",
    "plt.plot(h_grid, f(h_grid), lw=5, alpha=0.7, label=f'${latex(expr)}$')\n",
    "\n",
    "# plot limits\n",
    "for y in [pos_lim.doit(), neg_lim.doit()]:\n",
    "    plt.scatter(lim, y, s=80, c='r')\n",
    "\n",
    "plt.legend()\n",
    "plt.show()"
   ]
  },
  {
   "cell_type": "code",
   "execution_count": 5,
   "metadata": {},
   "outputs": [],
   "source": [
    "def plot_lim(expr, lim, plot_func, span=5, c_val=0):\n",
    "\n",
    "    # limits and plot support\n",
    "    if -oo < lim < oo:\n",
    "        pos_lim = Limit(expr, h, lim, '+')\n",
    "        neg_lim = Limit(expr, h, lim, '-')\n",
    "\n",
    "        left_grid = np.linspace(lim - span, lim)\n",
    "        right_grid = np.linspace(lim, lim + span)\n",
    "\n",
    "    else:\n",
    "        pos_lim = Limit(expr, h, +oo)\n",
    "        neg_lim = Limit(expr, h, -oo)\n",
    "\n",
    "        left_grid = np.linspace(-span, 0)\n",
    "        right_grid = np.linspace(0, span)\n",
    "\n",
    "    # display limits\n",
    "    display(Eq(pos_lim, pos_lim.doit()))\n",
    "    display(Eq(neg_lim, pos_lim.doit()))\n",
    "\n",
    "    # plot expression\n",
    "    \n",
    "    # plot left limit\n",
    "    left_y = plot_func(left_grid)\n",
    "    plt.plot(left_grid, left_y,\n",
    "             lw=3, alpha=0.7,\n",
    "             c=default_colors[0],\n",
    "            )\n",
    "    \n",
    "    # plot right limit\n",
    "    right_y = plot_func(right_grid)\n",
    "    plt.plot(right_grid, right_y,\n",
    "             lw=3, alpha=0.7,\n",
    "             c=default_colors[0],\n",
    "            )\n",
    "    \n",
    "    for y in [left_y, right_y]:\n",
    "        for z0, z1 in [[-1, -2], [0, 1]]:\n",
    "            if not -np.inf < y[z0] < np.inf:\n",
    "                y[z0] = y[z1]\n",
    "            \n",
    "    # plot limit\n",
    "    if -oo < lim < oo:\n",
    "        plt.scatter(left_grid[-1], left_y[-1], s=80, c='r')\n",
    "        plt.scatter(right_grid[0], right_y[0], s=80, c='r')\n",
    "    else:\n",
    "        plt.scatter(left_grid[0], left_y[0], s=80, c='r')\n",
    "        plt.scatter(right_grid[-1], right_y[-1], s=80, c='r')\n",
    "    \n",
    "    plt.show()"
   ]
  },
  {
   "cell_type": "code",
   "execution_count": 6,
   "metadata": {},
   "outputs": [
    {
     "data": {
      "text/latex": [
       "$\\displaystyle \\lim_{h \\to 0^+} \\frac{1}{h} = \\infty$"
      ],
      "text/plain": [
       "Eq(Limit(1/h, h, 0), oo)"
      ]
     },
     "metadata": {},
     "output_type": "display_data"
    },
    {
     "data": {
      "text/latex": [
       "$\\displaystyle \\lim_{h \\to 0^-} \\frac{1}{h} = \\infty$"
      ],
      "text/plain": [
       "Eq(Limit(1/h, h, 0, dir='-'), oo)"
      ]
     },
     "metadata": {},
     "output_type": "display_data"
    },
    {
     "name": "stderr",
     "output_type": "stream",
     "text": [
      "<ipython-input-6-e365a405cb5f>:8: RuntimeWarning: divide by zero encountered in true_divide\n",
      "  f = lambda h: 1 / h\n",
      "<ipython-input-6-e365a405cb5f>:8: RuntimeWarning: divide by zero encountered in true_divide\n",
      "  f = lambda h: 1 / h\n"
     ]
    },
    {
     "data": {
      "image/png": "[encoded data removed]",
      "text/plain": [
       "<Figure size 432x288 with 1 Axes>"
      ]
     },
     "metadata": {
      "needs_background": "light"
     },
     "output_type": "display_data"
    }
   ],
   "source": [
    "# expression\n",
    "expr = 1 / h\n",
    "\n",
    "# limit to approach\n",
    "lim = 0\n",
    "\n",
    "# function for plotting\n",
    "f = lambda h: 1 / h\n",
    "\n",
    "# plot\n",
    "plot_lim(expr, lim, f)"
   ]
  },
  {
   "cell_type": "code",
   "execution_count": 7,
   "metadata": {},
   "outputs": [
    {
     "data": {
      "text/latex": [
       "$\\displaystyle \\lim_{h \\to \\infty} \\frac{1}{h} = 0$"
      ],
      "text/plain": [
       "Eq(Limit(1/h, h, oo, dir='-'), 0)"
      ]
     },
     "metadata": {},
     "output_type": "display_data"
    },
    {
     "data": {
      "text/latex": [
       "$\\displaystyle \\lim_{h \\to -\\infty} \\frac{1}{h} = 0$"
      ],
      "text/plain": [
       "Eq(Limit(1/h, h, -oo), 0)"
      ]
     },
     "metadata": {},
     "output_type": "display_data"
    },
    {
     "name": "stderr",
     "output_type": "stream",
     "text": [
      "<ipython-input-7-d1979a42e6c7>:8: RuntimeWarning: divide by zero encountered in true_divide\n",
      "  f = lambda h: 1 / h\n",
      "<ipython-input-7-d1979a42e6c7>:8: RuntimeWarning: divide by zero encountered in true_divide\n",
      "  f = lambda h: 1 / h\n"
     ]
    },
    {
     "data": {
      "image/png": "[encoded data removed]",
      "text/plain": [
       "<Figure size 432x288 with 1 Axes>"
      ]
     },
     "metadata": {
      "needs_background": "light"
     },
     "output_type": "display_data"
    }
   ],
   "source": [
    "# expression\n",
    "expr = 1 / h\n",
    "\n",
    "# limit to approach\n",
    "lim = oo\n",
    "\n",
    "# function for plotting\n",
    "f = lambda h: 1 / h\n",
    "\n",
    "# plot\n",
    "plot_lim(expr, lim, f, 100)"
   ]
  },
  {
   "cell_type": "code",
   "execution_count": 8,
   "metadata": {},
   "outputs": [
    {
     "data": {
      "text/latex": [
       "$\\displaystyle \\lim_{h \\to \\infty}\\left(\\frac{c + h}{h}\\right) = 1$"
      ],
      "text/plain": [
       "Eq(Limit((c + h)/h, h, oo, dir='-'), 1)"
      ]
     },
     "metadata": {},
     "output_type": "display_data"
    },
    {
     "data": {
      "text/latex": [
       "$\\displaystyle \\lim_{h \\to -\\infty}\\left(\\frac{c + h}{h}\\right) = 1$"
      ],
      "text/plain": [
       "Eq(Limit((c + h)/h, h, -oo), 1)"
      ]
     },
     "metadata": {},
     "output_type": "display_data"
    },
    {
     "name": "stderr",
     "output_type": "stream",
     "text": [
      "<ipython-input-8-c42b9213a4de>:11: RuntimeWarning: divide by zero encountered in true_divide\n",
      "  f = lambda h, c=c_val: (c + h) / h\n",
      "<ipython-input-8-c42b9213a4de>:11: RuntimeWarning: divide by zero encountered in true_divide\n",
      "  f = lambda h, c=c_val: (c + h) / h\n"
     ]
    },
    {
     "data": {
      "image/png": "[encoded data removed]",
      "text/plain": [
       "<Figure size 432x288 with 1 Axes>"
      ]
     },
     "metadata": {
      "needs_background": "light"
     },
     "output_type": "display_data"
    }
   ],
   "source": [
    "# expression\n",
    "expr = (c + h) / h\n",
    "\n",
    "# limit to approach\n",
    "lim = oo\n",
    "\n",
    "# value of c\n",
    "c_val = 1\n",
    "\n",
    "# function for plotting\n",
    "f = lambda h, c=c_val: (c + h) / h\n",
    "\n",
    "# plot\n",
    "plot_lim(expr, lim, f, c_val=c_val)"
   ]
  },
  {
   "cell_type": "code",
   "execution_count": 9,
   "metadata": {},
   "outputs": [
    {
     "data": {
      "text/latex": [
       "$\\displaystyle \\lim_{h \\to 0^+}\\left(\\frac{c + h}{h}\\right) = \\infty \\operatorname{sign}{\\left(c \\right)}$"
      ],
      "text/plain": [
       "Eq(Limit((c + h)/h, h, 0), oo*sign(c))"
      ]
     },
     "metadata": {},
     "output_type": "display_data"
    },
    {
     "data": {
      "text/latex": [
       "$\\displaystyle \\lim_{h \\to 0^-}\\left(\\frac{c + h}{h}\\right) = \\infty \\operatorname{sign}{\\left(c \\right)}$"
      ],
      "text/plain": [
       "Eq(Limit((c + h)/h, h, 0, dir='-'), oo*sign(c))"
      ]
     },
     "metadata": {},
     "output_type": "display_data"
    },
    {
     "name": "stderr",
     "output_type": "stream",
     "text": [
      "<ipython-input-9-078841888669>:11: RuntimeWarning: divide by zero encountered in true_divide\n",
      "  f = lambda h, c=c_val: (c + h) / h\n",
      "<ipython-input-9-078841888669>:11: RuntimeWarning: divide by zero encountered in true_divide\n",
      "  f = lambda h, c=c_val: (c + h) / h\n"
     ]
    },
    {
     "data": {
      "image/png": "[encoded data removed]",
      "text/plain": [
       "<Figure size 432x288 with 1 Axes>"
      ]
     },
     "metadata": {
      "needs_background": "light"
     },
     "output_type": "display_data"
    }
   ],
   "source": [
    "# expression\n",
    "expr = (c + h) / h\n",
    "\n",
    "# limit to approach\n",
    "lim = 0\n",
    "\n",
    "# value of c\n",
    "c_val = 1\n",
    "\n",
    "# function for plotting\n",
    "f = lambda h, c=c_val: (c + h) / h\n",
    "\n",
    "# plot\n",
    "plot_lim(expr, lim, f, c_val=c_val)"
   ]
  },
  {
   "cell_type": "code",
   "execution_count": 10,
   "metadata": {},
   "outputs": [
    {
     "data": {
      "text/latex": [
       "$\\displaystyle \\lim_{h \\to 0^+}\\left(c + h\\right) = c$"
      ],
      "text/plain": [
       "Eq(Limit(c + h, h, 0), c)"
      ]
     },
     "metadata": {},
     "output_type": "display_data"
    },
    {
     "data": {
      "text/latex": [
       "$\\displaystyle \\lim_{h \\to 0^-}\\left(c + h\\right) = c$"
      ],
      "text/plain": [
       "Eq(Limit(c + h, h, 0, dir='-'), c)"
      ]
     },
     "metadata": {},
     "output_type": "display_data"
    },
    {
     "data": {
      "image/png": "[encoded data removed]",
      "text/plain": [
       "<Figure size 432x288 with 1 Axes>"
      ]
     },
     "metadata": {
      "needs_background": "light"
     },
     "output_type": "display_data"
    }
   ],
   "source": [
    "# expression\n",
    "expr = c + h\n",
    "\n",
    "# limit to approach\n",
    "lim = 0\n",
    "\n",
    "# value of c\n",
    "c_val = 1\n",
    "\n",
    "# function for plotting\n",
    "f = lambda h, c=c_val: c + h\n",
    "\n",
    "# plot\n",
    "plot_lim(expr, lim, f, c_val=c_val)"
   ]
  },
  {
   "cell_type": "code",
   "execution_count": 11,
   "metadata": {},
   "outputs": [
    {
     "data": {
      "text/latex": [
       "$\\displaystyle \\lim_{h \\to \\infty} e^{h} = \\infty$"
      ],
      "text/plain": [
       "Eq(Limit(exp(h), h, oo, dir='-'), oo)"
      ]
     },
     "metadata": {},
     "output_type": "display_data"
    },
    {
     "data": {
      "text/latex": [
       "$\\displaystyle \\lim_{h \\to -\\infty} e^{h} = \\infty$"
      ],
      "text/plain": [
       "Eq(Limit(exp(h), h, -oo), oo)"
      ]
     },
     "metadata": {},
     "output_type": "display_data"
    },
    {
     "data": {
      "image/png": "[encoded data removed]",
      "text/plain": [
       "<Figure size 432x288 with 1 Axes>"
      ]
     },
     "metadata": {
      "needs_background": "light"
     },
     "output_type": "display_data"
    }
   ],
   "source": [
    "# expression\n",
    "expr = exp(h)\n",
    "\n",
    "# limit to approach\n",
    "lim = oo\n",
    "\n",
    "# value of c\n",
    "c_val = 1\n",
    "\n",
    "# function for plotting\n",
    "f = lambda h, c=c_val: np.exp(h)\n",
    "\n",
    "# plot\n",
    "plot_lim(expr, lim, f, c_val=c_val)"
   ]
  }
 ],
 "metadata": {
  "kernelspec": {
   "display_name": "Python 3",
   "language": "python",
   "name": "python3"
  },
  "language_info": {
   "codemirror_mode": {
    "name": "ipython",
    "version": 3
   },
   "file_extension": ".py",
   "mimetype": "text/x-python",
   "name": "python",
   "nbconvert_exporter": "python",
   "pygments_lexer": "ipython3",
   "version": "3.8.5"
  }
 },
 "nbformat": 4,
 "nbformat_minor": 4
}

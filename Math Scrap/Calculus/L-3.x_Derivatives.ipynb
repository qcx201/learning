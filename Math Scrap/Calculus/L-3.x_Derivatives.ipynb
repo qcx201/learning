{
 "cells": [
  {
   "cell_type": "code",
   "execution_count": 17,
   "metadata": {},
   "outputs": [],
   "source": [
    "from sympy import *\n",
    "import numpy as np\n",
    "import matplotlib.pyplot as plt\n",
    "\n",
    "%matplotlib inline\n",
    "\n",
    "# to help render LaTex\n",
    "from IPython.display import display, Math"
   ]
  },
  {
   "cell_type": "markdown",
   "metadata": {},
   "source": [
    "# Derivatives"
   ]
  },
  {
   "cell_type": "code",
   "execution_count": 2,
   "metadata": {},
   "outputs": [
    {
     "data": {
      "text/latex": [
       "$\\displaystyle \\left[\\begin{matrix}x & Δx & y\\end{matrix}\\right]$"
      ],
      "text/plain": [
       "Matrix([[x, Δx, y]])"
      ]
     },
     "execution_count": 2,
     "metadata": {},
     "output_type": "execute_result"
    }
   ],
   "source": [
    "# assign variables\n",
    "x, Δx, y = symbols('x, Δx, y')\n",
    "\n",
    "# show variables in a vector\n",
    "Matrix((x, Δx, y)).T"
   ]
  },
  {
   "cell_type": "code",
   "execution_count": null,
   "metadata": {},
   "outputs": [],
   "source": []
  },
  {
   "cell_type": "markdown",
   "metadata": {},
   "source": [
    "## Proofs of Derivative Rules\n",
    "\n",
    "https://tutorial.math.lamar.edu/classes/calci/DerivativeProofs.aspx"
   ]
  },
  {
   "cell_type": "code",
   "execution_count": 3,
   "metadata": {
    "scrolled": false
   },
   "outputs": [
    {
     "data": {
      "text/latex": [
       "$\\displaystyle 1000 - 9.8 x^{2}$"
      ],
      "text/plain": [
       "1000 - 9.8*x**2"
      ]
     },
     "metadata": {},
     "output_type": "display_data"
    },
    {
     "data": {
      "image/png": "[encoded data removed]",
      "text/plain": [
       "<Figure size 432x288 with 1 Axes>"
      ]
     },
     "metadata": {
      "needs_background": "light"
     },
     "output_type": "display_data"
    },
    {
     "data": {
      "image/png": "[encoded data removed]",
      "text/plain": [
       "<Figure size 432x288 with 1 Axes>"
      ]
     },
     "metadata": {
      "needs_background": "light"
     },
     "output_type": "display_data"
    }
   ],
   "source": [
    "# function\n",
    "\n",
    "f = lambda x: -9.8*x**2 + 1000\n",
    "\n",
    "display(f(x))\n",
    "\n",
    "r = np.linspace(0, 10)\n",
    "\n",
    "# x path\n",
    "skip = 4\n",
    "path = f(r)[ : :skip]\n",
    "rp = r[ : :skip]\n",
    "zs = np.zeros(path.shape)\n",
    "\n",
    "# plot y path\n",
    "plt.plot(r, f(r), alpha=0.4)\n",
    "plt.scatter(rp, path, alpha=0.4, s = np.flip(path)/10)\n",
    "plt.show()\n",
    "\n",
    "# plot drop path\n",
    "plt.scatter(zs, path, alpha=0.4, s = np.flip(path)/10)\n",
    "plt.show()"
   ]
  },
  {
   "cell_type": "code",
   "execution_count": 4,
   "metadata": {},
   "outputs": [
    {
     "data": {
      "text/latex": [
       "$\\displaystyle \\frac{9.8 x^{2} - 9.8 \\left(x + Δx\\right)^{2}}{Δx}$"
      ],
      "text/plain": [
       "(9.8*x**2 - 9.8*(x + Δx)**2)/Δx"
      ]
     },
     "execution_count": 4,
     "metadata": {},
     "output_type": "execute_result"
    }
   ],
   "source": [
    "slope =  (f(x + Δx) - f(x)) / Δx\n",
    "slope"
   ]
  },
  {
   "cell_type": "code",
   "execution_count": 5,
   "metadata": {},
   "outputs": [
    {
     "data": {
      "text/latex": [
       "$\\displaystyle \\lim_{Δx \\to 0^+}\\left(\\frac{9.8 x^{2} - 9.8 \\left(x + Δx\\right)^{2}}{Δx}\\right) = - 19.6 x$"
      ],
      "text/plain": [
       "Eq(Limit((9.8*x**2 - 9.8*(x + Δx)**2)/Δx, Δx, 0), -19.6*x)"
      ]
     },
     "execution_count": 5,
     "metadata": {},
     "output_type": "execute_result"
    }
   ],
   "source": [
    "# limit\n",
    "\n",
    "lim =  Limit(slope, Δx, 0)\n",
    "Eq(lim, lim.doit())"
   ]
  },
  {
   "cell_type": "code",
   "execution_count": 6,
   "metadata": {},
   "outputs": [
    {
     "data": {
      "text/latex": [
       "$\\displaystyle x + Δx$"
      ],
      "text/plain": [
       "x + Δx"
      ]
     },
     "metadata": {},
     "output_type": "display_data"
    },
    {
     "data": {
      "text/latex": [
       "$\\displaystyle x^{2} + 2 x Δx + Δx^{2}$"
      ],
      "text/plain": [
       "x**2 + 2*x*Δx + Δx**2"
      ]
     },
     "metadata": {},
     "output_type": "display_data"
    },
    {
     "data": {
      "text/latex": [
       "$\\displaystyle x^{3} + 3 x^{2} Δx + 3 x Δx^{2} + Δx^{3}$"
      ],
      "text/plain": [
       "x**3 + 3*x**2*Δx + 3*x*Δx**2 + Δx**3"
      ]
     },
     "metadata": {},
     "output_type": "display_data"
    },
    {
     "data": {
      "text/latex": [
       "$\\displaystyle x^{4} + 4 x^{3} Δx + 6 x^{2} Δx^{2} + 4 x Δx^{3} + Δx^{4}$"
      ],
      "text/plain": [
       "x**4 + 4*x**3*Δx + 6*x**2*Δx**2 + 4*x*Δx**3 + Δx**4"
      ]
     },
     "metadata": {},
     "output_type": "display_data"
    },
    {
     "data": {
      "text/latex": [
       "$\\displaystyle x^{5} + 5 x^{4} Δx + 10 x^{3} Δx^{2} + 10 x^{2} Δx^{3} + 5 x Δx^{4} + Δx^{5}$"
      ],
      "text/plain": [
       "x**5 + 5*x**4*Δx + 10*x**3*Δx**2 + 10*x**2*Δx**3 + 5*x*Δx**4 + Δx**5"
      ]
     },
     "metadata": {},
     "output_type": "display_data"
    },
    {
     "data": {
      "text/latex": [
       "$\\displaystyle x^{6} + 6 x^{5} Δx + 15 x^{4} Δx^{2} + 20 x^{3} Δx^{3} + 15 x^{2} Δx^{4} + 6 x Δx^{5} + Δx^{6}$"
      ],
      "text/plain": [
       "x**6 + 6*x**5*Δx + 15*x**4*Δx**2 + 20*x**3*Δx**3 + 15*x**2*Δx**4 + 6*x*Δx**5 + Δx**6"
      ]
     },
     "metadata": {},
     "output_type": "display_data"
    },
    {
     "data": {
      "text/latex": [
       "$\\displaystyle x^{7} + 7 x^{6} Δx + 21 x^{5} Δx^{2} + 35 x^{4} Δx^{3} + 35 x^{3} Δx^{4} + 21 x^{2} Δx^{5} + 7 x Δx^{6} + Δx^{7}$"
      ],
      "text/plain": [
       "x**7 + 7*x**6*Δx + 21*x**5*Δx**2 + 35*x**4*Δx**3 + 35*x**3*Δx**4 + 21*x**2*Δx**5 + 7*x*Δx**6 + Δx**7"
      ]
     },
     "metadata": {},
     "output_type": "display_data"
    },
    {
     "data": {
      "text/latex": [
       "$\\displaystyle x^{8} + 8 x^{7} Δx + 28 x^{6} Δx^{2} + 56 x^{5} Δx^{3} + 70 x^{4} Δx^{4} + 56 x^{3} Δx^{5} + 28 x^{2} Δx^{6} + 8 x Δx^{7} + Δx^{8}$"
      ],
      "text/plain": [
       "x**8 + 8*x**7*Δx + 28*x**6*Δx**2 + 56*x**5*Δx**3 + 70*x**4*Δx**4 + 56*x**3*Δx**5 + 28*x**2*Δx**6 + 8*x*Δx**7 + Δx**8"
      ]
     },
     "metadata": {},
     "output_type": "display_data"
    }
   ],
   "source": [
    "# polynomial\n",
    "\n",
    "for n in range(1, 9):\n",
    "    f_x_sub_Δx = (x + Δx)**n\n",
    "    display(expand(f_x_sub_Δx))"
   ]
  },
  {
   "cell_type": "code",
   "execution_count": 7,
   "metadata": {},
   "outputs": [],
   "source": [
    "# two functions\n",
    "g = Function('g')\n",
    "h = Function('h')\n"
   ]
  },
  {
   "cell_type": "code",
   "execution_count": 8,
   "metadata": {},
   "outputs": [
    {
     "data": {
      "text/latex": [
       "$\\displaystyle \\lim_{Δx \\to 0^+}\\left(\\frac{- g{\\left(x \\right)} h{\\left(x \\right)} + g{\\left(x + Δx \\right)} h{\\left(x + Δx \\right)}}{Δx}\\right) = g{\\left(x \\right)} \\frac{d}{d x} h{\\left(x \\right)} + h{\\left(x \\right)} \\frac{d}{d x} g{\\left(x \\right)}$"
      ],
      "text/plain": [
       "Eq(Limit((-g(x)*h(x) + g(x + Δx)*h(x + Δx))/Δx, Δx, 0), g(x)*Derivative(h(x), x) + h(x)*Derivative(g(x), x))"
      ]
     },
     "metadata": {},
     "output_type": "display_data"
    },
    {
     "data": {
      "text/latex": [
       "$\\displaystyle \\frac{d}{d x} g{\\left(x \\right)} h{\\left(x \\right)} = g{\\left(x \\right)} \\frac{d}{d x} h{\\left(x \\right)} + h{\\left(x \\right)} \\frac{d}{d x} g{\\left(x \\right)}$"
      ],
      "text/plain": [
       "Eq(Derivative(g(x)*h(x), x), g(x)*Derivative(h(x), x) + h(x)*Derivative(g(x), x))"
      ]
     },
     "metadata": {},
     "output_type": "display_data"
    }
   ],
   "source": [
    "# product rule\n",
    "f = lambda x: g(x) * h(x)\n",
    "\n",
    "slope = (f(x+Δx) - f(x)) / Δx # slope\n",
    "lim = Limit(slope, Δx, 0) # limit of slope\n",
    "\n",
    "display(Eq(lim, simplify(lim.doit()))) # eval with limit\n",
    "\n",
    "der = Derivative(f(x)) # derivative\n",
    "\n",
    "display(Eq(der, der.doit())) # eval derivative"
   ]
  },
  {
   "cell_type": "code",
   "execution_count": 9,
   "metadata": {},
   "outputs": [
    {
     "data": {
      "text/latex": [
       "$\\displaystyle \\lim_{Δx \\to 0^+}\\left(\\frac{- \\frac{g{\\left(x \\right)}}{h{\\left(x \\right)}} + \\frac{g{\\left(x + Δx \\right)}}{h{\\left(x + Δx \\right)}}}{Δx}\\right) = \\frac{- g{\\left(x \\right)} \\frac{d}{d x} h{\\left(x \\right)} + h{\\left(x \\right)} \\frac{d}{d x} g{\\left(x \\right)}}{h^{2}{\\left(x \\right)}}$"
      ],
      "text/plain": [
       "Eq(Limit((-g(x)/h(x) + g(x + Δx)/h(x + Δx))/Δx, Δx, 0), (-g(x)*Derivative(h(x), x) + h(x)*Derivative(g(x), x))/h(x)**2)"
      ]
     },
     "metadata": {},
     "output_type": "display_data"
    },
    {
     "data": {
      "text/latex": [
       "$\\displaystyle \\frac{d}{d x} \\frac{g{\\left(x \\right)}}{h{\\left(x \\right)}} = - \\frac{g{\\left(x \\right)} \\frac{d}{d x} h{\\left(x \\right)}}{h^{2}{\\left(x \\right)}} + \\frac{\\frac{d}{d x} g{\\left(x \\right)}}{h{\\left(x \\right)}}$"
      ],
      "text/plain": [
       "Eq(Derivative(g(x)/h(x), x), -g(x)*Derivative(h(x), x)/h(x)**2 + Derivative(g(x), x)/h(x))"
      ]
     },
     "metadata": {},
     "output_type": "display_data"
    }
   ],
   "source": [
    "# quotient rule\n",
    "f = lambda x: g(x) / h(x)\n",
    "\n",
    "slope = (f(x+Δx) - f(x)) / Δx # slope\n",
    "lim = Limit(slope, Δx, 0) # limit of slope\n",
    "\n",
    "display(Eq(lim, simplify(lim.doit()))) # eval with limit\n",
    "\n",
    "der = Derivative(f(x)) # derivative\n",
    "\n",
    "display(Eq(der, der.doit())) # eval derivative"
   ]
  },
  {
   "cell_type": "code",
   "execution_count": 10,
   "metadata": {},
   "outputs": [
    {
     "data": {
      "text/latex": [
       "$\\displaystyle \\frac{d}{d x} h{\\left(g{\\left(x \\right)} \\right)}$"
      ],
      "text/plain": [
       "Derivative(h(g(x)), x)"
      ]
     },
     "metadata": {},
     "output_type": "display_data"
    },
    {
     "data": {
      "text/latex": [
       "$\\displaystyle \\lim_{Δx \\to 0^+}\\left(\\frac{- h{\\left(g{\\left(x \\right)} \\right)} + h{\\left(g{\\left(x + Δx \\right)} \\right)}}{Δx}\\right) = \\frac{d}{d x} g{\\left(x \\right)} \\frac{d}{d g{\\left(x \\right)}} h{\\left(g{\\left(x \\right)} \\right)}$"
      ],
      "text/plain": [
       "Eq(Limit((-h(g(x)) + h(g(x + Δx)))/Δx, Δx, 0), Derivative(g(x), x)*Derivative(h(g(x)), g(x)))"
      ]
     },
     "metadata": {},
     "output_type": "display_data"
    },
    {
     "data": {
      "text/latex": [
       "$\\displaystyle \\frac{d}{d x} h{\\left(g{\\left(x \\right)} \\right)} = \\frac{d}{d x} g{\\left(x \\right)} \\frac{d}{d g{\\left(x \\right)}} h{\\left(g{\\left(x \\right)} \\right)}$"
      ],
      "text/plain": [
       "Eq(Derivative(h(g(x)), x), Derivative(g(x), x)*Derivative(h(g(x)), g(x)))"
      ]
     },
     "metadata": {},
     "output_type": "display_data"
    }
   ],
   "source": [
    "# chain rule\n",
    "f = lambda x: h(g(x))\n",
    "\n",
    "\n",
    "der = Derivative(f(x)) # derivative\n",
    "\n",
    "display(der)\n",
    "\n",
    "\n",
    "slope = (f(x+Δx) - f(x)) / Δx # slope\n",
    "lim = Limit(slope, Δx, 0) # limit of slope\n",
    "\n",
    "display(Eq(lim, simplify(lim.doit()))) # eval with limit\n",
    "\n",
    "display(Eq(der, der.doit())) # eval derivative\n"
   ]
  },
  {
   "cell_type": "markdown",
   "metadata": {},
   "source": [
    "## Exponential and Logarithmic Derivatives\n",
    "\n",
    "https://tutorial.math.lamar.edu/Classes/CalcI/DiffExpLogFcns.aspx"
   ]
  },
  {
   "cell_type": "code",
   "execution_count": 11,
   "metadata": {
    "scrolled": true
   },
   "outputs": [
    {
     "data": {
      "text/latex": [
       "$\\displaystyle \\sum_{n=0}^{\\infty} \\frac{x^{n}}{n!}$"
      ],
      "text/plain": [
       "Sum(x**n/factorial(n), (n, 0, oo))"
      ]
     },
     "execution_count": 11,
     "metadata": {},
     "output_type": "execute_result"
    }
   ],
   "source": [
    "n = symbols('n')\n",
    "\n",
    "# Taylor serie s\n",
    "ts = Sum(x**n / factorial(n), (n, 0, oo))\n",
    "ts"
   ]
  },
  {
   "cell_type": "code",
   "execution_count": 12,
   "metadata": {},
   "outputs": [
    {
     "data": {
      "text/latex": [
       "$\\displaystyle \\sum_{n=0}^{\\infty} \\frac{\\left(-1\\right)^{n}}{2 n + 1}$"
      ],
      "text/plain": [
       "Sum((-1)**n/(2*n + 1), (n, 0, oo))"
      ]
     },
     "metadata": {},
     "output_type": "display_data"
    },
    {
     "data": {
      "text/latex": [
       "$\\displaystyle \\frac{\\pi}{4}$"
      ],
      "text/plain": [
       "pi/4"
      ]
     },
     "execution_count": 12,
     "metadata": {},
     "output_type": "execute_result"
    }
   ],
   "source": [
    "ts = Sum((-1)**n/(2*n+1), (n, 0, oo))\n",
    "display(ts)\n",
    "ts.doit()"
   ]
  },
  {
   "cell_type": "code",
   "execution_count": 13,
   "metadata": {},
   "outputs": [
    {
     "data": {
      "text/latex": [
       "$\\displaystyle \\sum_{n=0}^{\\infty} x^{n}$"
      ],
      "text/plain": [
       "Sum(x**n, (n, 0, oo))"
      ]
     },
     "metadata": {},
     "output_type": "display_data"
    },
    {
     "data": {
      "text/latex": [
       "$\\displaystyle \\begin{cases} \\frac{1}{1 - x} & \\text{for}\\: \\left|{x}\\right| < 1 \\\\\\sum_{n=0}^{\\infty} x^{n} & \\text{otherwise} \\end{cases}$"
      ],
      "text/plain": [
       "Piecewise((1/(1 - x), Abs(x) < 1), (Sum(x**n, (n, 0, oo)), True))"
      ]
     },
     "execution_count": 13,
     "metadata": {},
     "output_type": "execute_result"
    }
   ],
   "source": [
    "ts = Sum(x**n, (n, 0 ,oo))\n",
    "display(ts)\n",
    "ts.doit()"
   ]
  },
  {
   "cell_type": "code",
   "execution_count": 14,
   "metadata": {},
   "outputs": [
    {
     "data": {
      "text/latex": [
       "$\\displaystyle 5$"
      ],
      "text/plain": [
       "5"
      ]
     },
     "execution_count": 14,
     "metadata": {},
     "output_type": "execute_result"
    }
   ],
   "source": [
    "ts.subs(x, 0.8).doit()"
   ]
  },
  {
   "cell_type": "markdown",
   "metadata": {},
   "source": [
    "## Proof of derivative of $\\ln(x)$\n",
    "\n",
    "https://www.khanacademy.org/math/ap-calculus-ab/ab-differentiation-1-new/ab-2-7/a/proof-the-derivative-of-lnx-is-1x"
   ]
  },
  {
   "cell_type": "code",
   "execution_count": null,
   "metadata": {},
   "outputs": [],
   "source": []
  }
 ],
 "metadata": {
  "kernelspec": {
   "display_name": "Python 3",
   "language": "python",
   "name": "python3"
  },
  "language_info": {
   "codemirror_mode": {
    "name": "ipython",
    "version": 3
   },
   "file_extension": ".py",
   "mimetype": "text/x-python",
   "name": "python",
   "nbconvert_exporter": "python",
   "pygments_lexer": "ipython3",
   "version": "3.8.5"
  }
 },
 "nbformat": 4,
 "nbformat_minor": 4
}

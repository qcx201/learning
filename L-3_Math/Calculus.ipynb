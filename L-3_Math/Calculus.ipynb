{
 "cells": [
  {
   "cell_type": "code",
   "execution_count": 1,
   "id": "coastal-charles",
   "metadata": {},
   "outputs": [],
   "source": [
    "\n",
    "import numpy as np\n",
    "import sympy as sp\n",
    "\n",
    "# widgets\n",
    "import ipywidgets as wg\n",
    "import time\n",
    "\n",
    "# plot\n",
    "import matplotlib.pyplot as plt\n",
    "%matplotlib notebook"
   ]
  },
  {
   "cell_type": "code",
   "execution_count": 2,
   "id": "educated-insured",
   "metadata": {},
   "outputs": [
    {
     "data": {
      "application/vnd.jupyter.widget-view+json": {
       "model_id": "9eaf50bd7d5745b3acdf6d789371f38d",
       "version_major": 2,
       "version_minor": 0
      },
      "text/plain": [
       "interactive(children=(FloatSlider(value=0.0, description='Progress', layout=Layout(width='650px'), max=1.0), O…"
      ]
     },
     "metadata": {},
     "output_type": "display_data"
    },
    {
     "data": {
      "application/vnd.jupyter.widget-view+json": {
       "model_id": "4f7b4e967d534347ba478a6b83d3a506",
       "version_major": 2,
       "version_minor": 0
      },
      "text/plain": [
       "Button(description='Start Race', style=ButtonStyle())"
      ]
     },
     "metadata": {},
     "output_type": "display_data"
    }
   ],
   "source": [
    "%matplotlib inline\n",
    "# the tortoise and the hare\n",
    "\n",
    "tortoise = lambda t: 100 * t\n",
    "hare = lambda t: 450 * ((t - 5)/5)**9 + 450\n",
    "\n",
    "def plot_race(p=1.0):\n",
    "\n",
    "    tlim=(0, 11)\n",
    "    \n",
    "    T = np.linspace(*tlim) * p\n",
    "\n",
    "    plt.figure(figsize=(14, 8))\n",
    "\n",
    "    pltfmt = dict(alpha=0.5, lw=5)\n",
    "\n",
    "    t_prime = T[-1]\n",
    "\n",
    "    # tortoise\n",
    "    plt.plot(T, tortoise(T), label='Tortoise' , **pltfmt)\n",
    "    plt.scatter(t_prime, tortoise(t_prime), **pltfmt)\n",
    "    \n",
    "    # hare\n",
    "    plt.plot(T, hare(T), label='Hare', **pltfmt)\n",
    "    plt.scatter(t_prime, hare(t_prime), **pltfmt)\n",
    "\n",
    "    # finish line\n",
    "    plt.hlines(1000, tlim[0], tlim[-1],\n",
    "               ls='--', color='gray', **pltfmt)\n",
    "\n",
    "    plt.legend(fontsize=18, loc=2)\n",
    "\n",
    "    plt.ylim(-50, 1050)\n",
    "    plt.xlim(-0.5, 10.5)\n",
    "\n",
    "    \n",
    "slider = wg.FloatSlider(value=0.0, min=0.0, max=1.0,\n",
    "                        steps=0.01, description='Progress',\n",
    "                        layout=wg.Layout(width='650px')\n",
    "                       )\n",
    "wg.interact(plot_race, p=slider)\n",
    "plt.show()\n",
    "\n",
    "\n",
    "button = wg.Button(description='Start Race')\n",
    "display(button)\n",
    "\n",
    "def start_race(b):\n",
    "    for p in np.linspace(0, 1, 60):\n",
    "        slider.value = p\n",
    "\n",
    "button.on_click(start_race)"
   ]
  },
  {
   "cell_type": "markdown",
   "id": "outer-square",
   "metadata": {},
   "source": [
    "# Limits\n",
    "\n",
    "As $x$ approaches $a$, the function $f(x)$ approaches $L$.\n",
    "\n",
    "$$\n",
    "\\begin{align}\n",
    "    f(a) = L &\\implies \\lim_{x \\to a} f(x) = L \\\\\n",
    "    f(a) = L &\\not\\impliedby \\lim_{x \\to a} f(x) = L\n",
    "\\end{align}\n",
    "$$\n",
    "\n",
    "**`Epsilon-delta:`**\n",
    "\n",
    "$$\n",
    "    \\lim_{x \\to a} f(x) = L\n",
    "$$\n",
    "\n",
    "if for every $\\epsilon > 0$, there exists some $\\delta > 0$ where\n",
    "\n",
    "$$\n",
    "    |x - a| < \\delta \\implies |f(x) - L| < \\epsilon\n",
    "$$\n"
   ]
  },
  {
   "cell_type": "code",
   "execution_count": null,
   "id": "brief-nicaragua",
   "metadata": {},
   "outputs": [],
   "source": []
  }
 ],
 "metadata": {
  "kernelspec": {
   "display_name": "Python 3",
   "language": "python",
   "name": "python3"
  },
  "language_info": {
   "codemirror_mode": {
    "name": "ipython",
    "version": 3
   },
   "file_extension": ".py",
   "mimetype": "text/x-python",
   "name": "python",
   "nbconvert_exporter": "python",
   "pygments_lexer": "ipython3",
   "version": "3.8.5"
  }
 },
 "nbformat": 4,
 "nbformat_minor": 5
}

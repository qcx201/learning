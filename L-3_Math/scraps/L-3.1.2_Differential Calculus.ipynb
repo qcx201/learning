{
 "cells": [
  {
   "cell_type": "markdown",
   "metadata": {},
   "source": [
    "# Differential Calculus 📉📏\n",
    "---\n",
    "\n",
    "<center><img src=\"https://media.giphy.com/media/U6dw1Tfu53rkJuVGXz/giphy.gif\" width=650></center>"
   ]
  },
  {
   "cell_type": "markdown",
   "metadata": {},
   "source": [
    "<a id=contents></a>\n",
    "\n",
    "\n",
    "# Contents\n",
    "---\n",
    "\n",
    "\n",
    "### Chapter 1: [The Derivative](#derivative)\n",
    "\n",
    "* The definition of the derivative\n",
    "\n",
    "* Interpretations of the derivative\n",
    "\n",
    "\n",
    "### Chapter 2: [Differentiation Formulas](#diff-formulas)\n",
    "\n",
    "* Linear combinations and constants\n",
    "\n",
    "* The binomial theorem and power rule\n",
    "\n",
    "* Product Rule\n",
    "\n",
    "* Chain Rule and Quotient Rule\n",
    "\n",
    "\n",
    "### Chapter 3: Exponentials and Logarithms\n",
    "\n",
    "* Euler's number\n",
    "\n",
    "* Natural logarithm\n",
    "\n",
    "\n",
    "### Chapter 4: Trigonometric Function\n",
    "\n",
    "* Complex numbers and Euler's Identitiy\n",
    "\n",
    "* Sine and cosine\n",
    "\n",
    "---\n",
    "\n",
    "Materials primarily based on [**Paul's Online Notes**](https://tutorial.math.lamar.edu/Classes/CalcI/CalcI.aspx) for Calculus I."
   ]
  },
  {
   "cell_type": "code",
   "execution_count": 2,
   "metadata": {},
   "outputs": [],
   "source": [
    "import numpy as np\n",
    "import sympy as sp\n",
    "\n",
    "import matplotlib.pyplot as plt\n",
    "%matplotlib inline\n",
    "\n",
    "# !curl https://raw.githubusercontent.com/websitenotavailable/learning/master/L-3_Math/learnmath.py -o ./learnmath.py\n",
    "from learnmath import *"
   ]
  },
  {
   "cell_type": "markdown",
   "metadata": {},
   "source": [
    "<a id=derivative></a>\n",
    "\n",
    "\n",
    "[**Back to Contents**](#contents)\n",
    "\n",
    "# Chapter 1: The Derivative\n",
    "\n",
    "<center><img src=\"https://i.imgflip.com/1zlhrr.jpg\" width=\"420\"><\\center>\n",
    "\n",
    "<!-- ![alt text](https://i.imgflip.com/1zlhrr.jpg) -->"
   ]
  },
  {
   "cell_type": "code",
   "execution_count": 2,
   "metadata": {
    "jupyter": {
     "source_hidden": true
    }
   },
   "outputs": [
    {
     "data": {
      "text/markdown": [
       "---\n",
       " ## Definition of the Derivative"
      ],
      "text/plain": [
       "<IPython.core.display.Markdown object>"
      ]
     },
     "metadata": {},
     "output_type": "display_data"
    },
    {
     "data": {
      "text/markdown": [
       "For any function y = f(x), the **`derivative`** of the function is given by:\n"
      ],
      "text/plain": [
       "<IPython.core.display.Markdown object>"
      ]
     },
     "metadata": {},
     "output_type": "display_data"
    },
    {
     "data": {
      "text/html": [
       "$$\\begin{align*} \\quad \\frac{df}{dx}: = \\lim_{\\Delta x \\to 0}\\frac{\\Delta y}{\\Delta x} = \\lim_{\\Delta x \\to 0}\\frac{f(x + \\Delta x) - f(x)}{\\Delta x} = \\frac{f(x + dx) - f(x)}{dx}\\\\\\\\ \\end{align*}$$"
      ],
      "text/plain": [
       "<IPython.core.display.HTML object>"
      ]
     },
     "metadata": {},
     "output_type": "display_data"
    },
    {
     "data": {
      "text/markdown": [
       "<br><u>**General function:**</u>"
      ],
      "text/plain": [
       "<IPython.core.display.Markdown object>"
      ]
     },
     "metadata": {},
     "output_type": "display_data"
    },
    {
     "data": {
      "text/html": [
       "$$\\begin{align*} \\quad y = f{\\left(x \\right)}\\\\\\\\ \\end{align*}$$"
      ],
      "text/plain": [
       "<IPython.core.display.HTML object>"
      ]
     },
     "metadata": {},
     "output_type": "display_data"
    },
    {
     "data": {
      "text/html": [
       "<span style=\"display:block; height:8px;\"></span>"
      ],
      "text/plain": [
       "<IPython.core.display.HTML object>"
      ]
     },
     "metadata": {},
     "output_type": "display_data"
    },
    {
     "data": {
      "text/markdown": [
       "<u>**Slope formula:**</u>"
      ],
      "text/plain": [
       "<IPython.core.display.Markdown object>"
      ]
     },
     "metadata": {},
     "output_type": "display_data"
    },
    {
     "data": {
      "text/html": [
       "$$\\begin{align*} \\quad \\frac{\\Delta{y}}{\\Delta{x}} = \\frac{- f{\\left(x \\right)} + f{\\left(\\Delta{x} + x \\right)}}{\\Delta{x}}\\\\\\\\ \\end{align*}$$"
      ],
      "text/plain": [
       "<IPython.core.display.HTML object>"
      ]
     },
     "metadata": {},
     "output_type": "display_data"
    },
    {
     "data": {
      "text/html": [
       "<span style=\"display:block; height:8px;\"></span>"
      ],
      "text/plain": [
       "<IPython.core.display.HTML object>"
      ]
     },
     "metadata": {},
     "output_type": "display_data"
    },
    {
     "data": {
      "text/markdown": [
       "<u>**Definition of derivative--Limit of slope formula as Δx -> 0:**</u>"
      ],
      "text/plain": [
       "<IPython.core.display.Markdown object>"
      ]
     },
     "metadata": {},
     "output_type": "display_data"
    },
    {
     "data": {
      "text/html": [
       "$$\\begin{align*} \\quad \\lim_{\\Delta{x} \\to 0^+}\\left(\\frac{\\Delta{y}}{\\Delta{x}}\\right) = \\lim_{\\Delta{x} \\to 0^+}\\left(\\frac{- f{\\left(x \\right)} + f{\\left(\\Delta{x} + x \\right)}}{\\Delta{x}}\\right) = \\frac{d}{d x} f{\\left(x \\right)}\\\\\\\\ \\end{align*}$$"
      ],
      "text/plain": [
       "<IPython.core.display.HTML object>"
      ]
     },
     "metadata": {},
     "output_type": "display_data"
    }
   ],
   "source": [
    "md('---\\n ## Definition of the Derivative')\n",
    "\n",
    "md('For any function y = f(x), the **`derivative`** of the function is given by:\\n')\n",
    "\n",
    "lim_str = r'\\lim_{\\Delta x \\to 0}'\n",
    "\n",
    "Lx(r'\\frac{df}{dx}:',\n",
    "      lim_str+r'\\frac{\\Delta y}{\\Delta x}',\n",
    "      lim_str+r'\\frac{f(x + \\Delta x) - f(x)}{\\Delta x}',\n",
    "      r'\\frac{f(x + dx) - f(x)}{dx}'\n",
    "     ).show()\n",
    "\n",
    "\n",
    "# notation with sympy\n",
    "\n",
    "# variables and changes\n",
    "y, x, Δx, Δy = sp.symbols('y, x, \\Delta{x}, \\Delta{y}')\n",
    "\n",
    "# a general function\n",
    "f = sp.Function('f')\n",
    "\n",
    "# show function\n",
    "md('<br><u>**General function:**</u>')\n",
    "\n",
    "Lx(y, f(x)).show()\n",
    "vspace()\n",
    "\n",
    "# plug into slope formula\n",
    "md('<u>**Slope formula:**</u>')\n",
    "\n",
    "slope = (f(x + Δx) - f(x)) / Δx\n",
    "\n",
    "Lx(Δy/Δx, slope).show()\n",
    "vspace()\n",
    "\n",
    "# definition of derivative\n",
    "md('<u>**Definition of derivative--Limit of slope formula as Δx -> 0:**</u>')\n",
    "\n",
    "limit = sp.Limit(slope, Δx, 0)\n",
    "\n",
    "dydx = sp.simplify(limit.doit())\n",
    "\n",
    "Lx(sp.Limit(Δy/Δx, Δx, 0), limit, dydx).show()"
   ]
  },
  {
   "cell_type": "markdown",
   "metadata": {},
   "source": [
    "\n",
    "---\n",
    "\n",
    "### Note on Notation\n",
    "\n",
    "Examples of [notation of derivatives](https://en.wikipedia.org/wiki/Notation_for_differentiation) for function $f(t)$. Leibniz and Lagrange's notation are widely used.\n",
    "\n",
    "#### Leibniz's Notation:\n",
    "\n",
    "$$\n",
    "\\begin{align}\n",
    "    1^{st} \\text{derivative:}\\qquad & \\frac{d f(t)}{dt} = v(t) \\\\ \n",
    "    \\\\\n",
    "    2^{nd} \\text{derivative:} \\qquad & \\frac{d^{2} f(t)}{dt^{2}} = \\frac{d v(t)}{dt} = a(t)\n",
    "\\end{align}\n",
    "$$\n",
    "\n",
    "\n",
    "#### Lagrange's Notation:\n",
    "\n",
    "$$\n",
    "\\begin{align}\n",
    "    1^{st} \\text{derivative:} \\qquad & f'(t) = v(t) \\\\ \n",
    "    \\\\\n",
    "    2^{nd} \\text{derivative:} \\qquad & f''(t) = f^{(2)}(t) = v'(t) = a(t)\n",
    "\\end{align}\n",
    "$$\n",
    "\n",
    "\n",
    "<br><br>\n",
    "\n",
    "Newton and Euler's notation are pretty much never used, though interesting from a historic standpoint.\n",
    "\n",
    "#### Newton's Notation\n",
    "\n",
    "$$\n",
    "\\begin{align}\n",
    "    1^{st} \\text{derivative:} \\qquad & \\dot{f}(t) = v(t) \\\\ \n",
    "    \\\\\n",
    "    2^{nd} \\text{derivative:} \\qquad & \\ddot{f}(t) =  \\dot{v}(t) = a(t)\n",
    "\\end{align}\n",
    "$$\n",
    "\n",
    "#### Euler's Notation\n",
    "\n",
    "$$\n",
    "\\begin{align}\n",
    "    1^{st} \\text{derivative:} \\qquad & (Df)(t) = v(t) \\\\ \n",
    "    \\\\\n",
    "    2^{nd} \\text{derivative:} \\qquad & D^{2}f = (Dv)(t) = a(t)\n",
    "\\end{align}\n",
    "$$"
   ]
  },
  {
   "cell_type": "markdown",
   "metadata": {},
   "source": [
    "---\n",
    "\n",
    "## Instantaneous Velocity, Revisited\n",
    "\n",
    "Our original position function:\n",
    "$$\n",
    "\\begin{align*}\n",
    "    f(t) &= -4.9 t^2 + 500 \\\\\n",
    "\\end{align*}\n",
    "$$\n",
    "\n",
    "\n",
    "Taking the derivative to get the instantaneous velocity function:\n",
    "\n",
    "$$\n",
    "\\begin{align*}\n",
    "    f'(t) = v(t) &= \\lim_{\\Delta t \\to 0} \\frac{f(t + \\Delta t) - f(t)}{\\Delta t} \\\\\n",
    "    &= \\lim_{\\Delta t \\to 0} \\frac{(-4.9 (t + \\Delta t)^2 + 500) - (-4.9 t^2 + 500)}{\\Delta t} \\\\\n",
    "    &= \\lim_{\\Delta t \\to 0} \\frac{-4.9 (t + \\Delta t)^2 + 4.9 t^2}{\\Delta t} \\\\\n",
    "    &= \\lim_{\\Delta t \\to 0} \\frac{-4.9 (t^2 + 2t\\Delta t + \\Delta t^2) + 4.9 t^2}{\\Delta t} \\\\\n",
    "    &= \\lim_{\\Delta t \\to 0} \\frac{-4.9\\cdot 2t\\Delta t - 4.9 \\cdot \\Delta t^2}{\\Delta t} \\\\\n",
    "    &= \\lim_{\\Delta t \\to 0} -4.9\\cdot 2t - 4.9 \\cdot \\Delta t\\\\\n",
    "    &= -9.8t\n",
    "\\end{align*}\n",
    "$$\n",
    "\n",
    "We then have a function for velocity:\n",
    "$$\n",
    "v(t) = -9.8t\n",
    "$$\n",
    "\n",
    "\n",
    "Taking the derivative of velocity, also the 2nd derivative of position:\n",
    "\n",
    "$$\n",
    "\\begin{align*}\n",
    "    f''(t) = v'(t) = a(t) &= \\lim_{\\Delta t \\to 0} \\frac{v(t + \\Delta t) - v(t)}{\\Delta t} \\\\\n",
    "    &= \\lim_{\\Delta t \\to 0} \\frac{-9.8(t + \\Delta t) + 9.8 t}{\\Delta t} \\\\\n",
    "    &= \\lim_{\\Delta t \\to 0} -9.8 \\\\\n",
    "    &= -9.8\n",
    "\\end{align*}\n",
    "$$"
   ]
  },
  {
   "cell_type": "code",
   "execution_count": 3,
   "metadata": {
    "jupyter": {
     "source_hidden": true
    }
   },
   "outputs": [
    {
     "data": {
      "image/png": "[encoded data removed]",
      "text/plain": [
       "<Figure size 1440x576 with 2 Axes>"
      ]
     },
     "metadata": {
      "needs_background": "light"
     },
     "output_type": "display_data"
    }
   ],
   "source": [
    "# original function f(x): position, x = t = time\n",
    "f = lambda x: -4.9*x**2 + 500\n",
    "\n",
    "# analytical solution for derivative\n",
    "dfdx = lambda x: -9.8 * x\n",
    "\n",
    "# average change formula, approximating Δx -> 0\n",
    "avg_change = lambda f, x, Δx: (f(x + Δx) - f(x)) / Δx\n",
    "\n",
    "# independent variable space\n",
    "X = np.linspace(0, 10)\n",
    "\n",
    "# create linear time state-space\n",
    "T = np.linspace(0, 10)\n",
    "\n",
    "# limit point\n",
    "c = 4\n",
    "\n",
    "fig, axes = plt.subplots(1, 2, figsize=(20, 8))\n",
    "\n",
    "# plot formatting arguments\n",
    "format_kw = dict(alpha=0.75, lw=8)\n",
    "\n",
    "# plot position function on left\n",
    "axes[0].plot(T, f(T), **format_kw,\n",
    "             label=r'$f(t) = -4.9t^2 + 500$')\n",
    "\n",
    "# plot analytical derivative on right\n",
    "axes[1].plot(T, dfdx(T), **format_kw,\n",
    "             label=r'$v(t) = \\frac{df}{dt} = -9.8t$')\n",
    "\n",
    "\n",
    "# limit point formatting\n",
    "format_kw = dict(s=250, zorder=3,\n",
    "                 alpha=0.75, marker='x', lw=8,\n",
    "                 c=dcolors[1], label=f'$t={c}$')\n",
    "\n",
    "# mark limit point for derivative\n",
    "axes[0].scatter(c, f(c), **format_kw)\n",
    "axes[1].scatter(c, dfdx(c), **format_kw)\n",
    "\n",
    "\n",
    "# axis labels\n",
    "format_kw = dict(fontsize=24)\n",
    "axes[0].set_xlabel('Time $t$', **format_kw)\n",
    "axes[0].set_ylabel('Position $m$', **format_kw)\n",
    "\n",
    "axes[1].set_xlabel('Time $t$', **format_kw)\n",
    "axes[1].set_ylabel('Velocity $m/s$', **format_kw)\n",
    "\n",
    "# legend\n",
    "format_kw = dict(fontsize=18)\n",
    "axes[0].legend(**format_kw)\n",
    "axes[1].legend(**format_kw)\n",
    "\n",
    "# title\n",
    "format_kw = dict(fontsize=28)\n",
    "axes[0].set_title('Position-time Graph', **format_kw)\n",
    "axes[1].set_title('Velocity-time Graph', **format_kw)\n",
    "\n",
    "\n",
    "[x.grid() for x in axes]\n",
    "plt.show()"
   ]
  },
  {
   "cell_type": "code",
   "execution_count": 4,
   "metadata": {
    "jupyter": {
     "source_hidden": true
    }
   },
   "outputs": [
    {
     "data": {
      "image/png": "[encoded data removed]",
      "text/plain": [
       "<Figure size 720x576 with 1 Axes>"
      ]
     },
     "metadata": {
      "needs_background": "light"
     },
     "output_type": "display_data"
    }
   ],
   "source": [
    "# color map\n",
    "cmap = plt.get_cmap('autumn')\n",
    "\n",
    "fig, ax = plt.subplots(figsize=(10, 8))\n",
    "\n",
    "# plot derivative\n",
    "ax.plot(T, dfdx(T), lw=8, c=dcolors[3],\n",
    "        label=r'$\\frac{df}{dt} = -9.8t$')\n",
    "\n",
    "# plot derivative approximations\n",
    "ΔT = np.linspace(2, 0.5, 10)**2\n",
    "\n",
    "for i, Δt in enumerate(ΔT):\n",
    "\n",
    "    # numeric approximation of derivative with average change\n",
    "    ax.plot(T, avg_change(f, T, Δt),\n",
    "            color=cmap(1-(i/ΔT.size)),\n",
    "            alpha=0.65, lw=8, zorder=1,\n",
    "            label=r'$\\bar{v}(t, '+f'\\Delta t$ = {Δt:.2f})')\n",
    "    \n",
    "ax.legend(fontsize=18, loc=0, bbox_to_anchor=(1, 1))\n",
    "ax.set_title('Velocity: Analytical Solution \\n vs Numeric Approximation',\n",
    "             fontsize=24)\n",
    "\n",
    "plt.grid()\n",
    "plt.show()"
   ]
  },
  {
   "cell_type": "code",
   "execution_count": null,
   "metadata": {},
   "outputs": [],
   "source": []
  },
  {
   "cell_type": "markdown",
   "metadata": {},
   "source": [
    "<a id=diff-formulas></a>\n",
    "\n",
    "---\n",
    "\n",
    "[**Back to Contents**](#contents)\n",
    "\n",
    "\n",
    "# Chapter 2: Differentiation Formulas\n",
    "\n",
    "\n",
    "<center><img src=\"https://media.giphy.com/media/LS9liihy8sST3GUQVs/giphy.gif\" width=650></center>"
   ]
  },
  {
   "cell_type": "code",
   "execution_count": 5,
   "metadata": {
    "jupyter": {
     "source_hidden": true
    }
   },
   "outputs": [
    {
     "data": {
      "text/html": [
       "<h2>Derivative of Polynomials</h2>"
      ],
      "text/plain": [
       "<IPython.core.display.HTML object>"
      ]
     },
     "metadata": {},
     "output_type": "display_data"
    },
    {
     "data": {
      "text/markdown": [
       "**`Theorem`** For polynomials, of the form"
      ],
      "text/plain": [
       "<IPython.core.display.Markdown object>"
      ]
     },
     "metadata": {},
     "output_type": "display_data"
    },
    {
     "data": {
      "text/html": [
       "$$\\begin{align*} \\quad f{\\left(x \\right)} = \\sum_{i=1}^{\\infty} x^{{n}_{i}} {c}_{i} = c_1 x^{n_1} + c_2 x^{n_2} + ...\\\\\\\\ \\end{align*}$$"
      ],
      "text/plain": [
       "<IPython.core.display.HTML object>"
      ]
     },
     "metadata": {},
     "output_type": "display_data"
    },
    {
     "data": {
      "text/markdown": [
       "with constants $c_i, n_i \\in \\mathbb{R}$, the derivative is equal to"
      ],
      "text/plain": [
       "<IPython.core.display.Markdown object>"
      ]
     },
     "metadata": {},
     "output_type": "display_data"
    },
    {
     "data": {
      "text/html": [
       "$$\\begin{align*} \\quad \\frac{d}{d x} f{\\left(x \\right)} = \\sum_{i=1}^{\\infty} \\frac{x^{{n}_{i}} {c}_{i} {n}_{i}}{x} = c_1 n_1 x^{n_1-1} + c_2 n_2 x^{n_2-1} + ...\\,.\\\\\\\\ \\end{align*}$$"
      ],
      "text/plain": [
       "<IPython.core.display.HTML object>"
      ]
     },
     "metadata": {},
     "output_type": "display_data"
    },
    {
     "data": {
      "text/markdown": [
       "To show this is true, we have to break the process down into several steps."
      ],
      "text/plain": [
       "<IPython.core.display.Markdown object>"
      ]
     },
     "metadata": {},
     "output_type": "display_data"
    },
    {
     "data": {
      "text/html": [
       "<span style=\"display:block; height:8px;\"></span>"
      ],
      "text/plain": [
       "<IPython.core.display.HTML object>"
      ]
     },
     "metadata": {},
     "output_type": "display_data"
    },
    {
     "data": {
      "text/markdown": [
       "<u>***Formula 1:***</u> The `power rule`."
      ],
      "text/plain": [
       "<IPython.core.display.Markdown object>"
      ]
     },
     "metadata": {},
     "output_type": "display_data"
    },
    {
     "data": {
      "text/html": [
       "$$\\begin{align*} \\quad f{\\left(x \\right)} = x^{n} \\implies \\frac{d}{d x} f{\\left(x \\right)} = \\frac{x^{n} n}{x}\\\\\\\\ \\end{align*}$$"
      ],
      "text/plain": [
       "<IPython.core.display.HTML object>"
      ]
     },
     "metadata": {},
     "output_type": "display_data"
    },
    {
     "data": {
      "text/html": [
       "<span style=\"display:block; height:10px;\"></span>"
      ],
      "text/plain": [
       "<IPython.core.display.HTML object>"
      ]
     },
     "metadata": {},
     "output_type": "display_data"
    },
    {
     "data": {
      "text/markdown": [
       "<u>***Formula 2:***</u> The `coefficient rule`."
      ],
      "text/plain": [
       "<IPython.core.display.Markdown object>"
      ]
     },
     "metadata": {},
     "output_type": "display_data"
    },
    {
     "data": {
      "text/html": [
       "$$\\begin{align*} \\quad f{\\left(x \\right)} = \\operatorname{f_{1}}{\\left(x \\right)} c \\implies \\frac{d}{d x} f{\\left(x \\right)} = \\frac{d}{d x} \\operatorname{f_{1}}{\\left(x \\right)} c\\\\\\\\ \\end{align*}$$"
      ],
      "text/plain": [
       "<IPython.core.display.HTML object>"
      ]
     },
     "metadata": {},
     "output_type": "display_data"
    },
    {
     "data": {
      "text/html": [
       "<span style=\"display:block; height:10px;\"></span>"
      ],
      "text/plain": [
       "<IPython.core.display.HTML object>"
      ]
     },
     "metadata": {},
     "output_type": "display_data"
    },
    {
     "data": {
      "text/markdown": [
       "<u>***Formula 3:***</u> The `addition (or subtraction) rule`."
      ],
      "text/plain": [
       "<IPython.core.display.Markdown object>"
      ]
     },
     "metadata": {},
     "output_type": "display_data"
    },
    {
     "data": {
      "text/html": [
       "$$\\begin{align*} \\quad f{\\left(x \\right)} = \\operatorname{f_{1}}{\\left(x \\right)} + \\operatorname{f_{2}}{\\left(x \\right)} \\implies \\frac{d}{d x} f{\\left(x \\right)} = \\frac{d}{d x} \\operatorname{f_{1}}{\\left(x \\right)} + \\frac{d}{d x} \\operatorname{f_{2}}{\\left(x \\right)}\\\\\\\\ \\end{align*}$$"
      ],
      "text/plain": [
       "<IPython.core.display.HTML object>"
      ]
     },
     "metadata": {},
     "output_type": "display_data"
    },
    {
     "data": {
      "text/html": [
       "<span style=\"display:block; height:10px;\"></span>"
      ],
      "text/plain": [
       "<IPython.core.display.HTML object>"
      ]
     },
     "metadata": {},
     "output_type": "display_data"
    },
    {
     "data": {
      "text/markdown": [
       "<u>***Formula 4:***</u> The `constant rule`."
      ],
      "text/plain": [
       "<IPython.core.display.Markdown object>"
      ]
     },
     "metadata": {},
     "output_type": "display_data"
    },
    {
     "data": {
      "text/html": [
       "$$\\begin{align*} \\quad f{\\left(x \\right)} = c \\implies \\frac{d}{d x} f{\\left(x \\right)} = 0\\\\\\\\ \\end{align*}$$"
      ],
      "text/plain": [
       "<IPython.core.display.HTML object>"
      ]
     },
     "metadata": {},
     "output_type": "display_data"
    },
    {
     "data": {
      "text/html": [
       "<span style=\"display:block; height:10px;\"></span>"
      ],
      "text/plain": [
       "<IPython.core.display.HTML object>"
      ]
     },
     "metadata": {},
     "output_type": "display_data"
    }
   ],
   "source": [
    "# polynomials\n",
    "html('Derivative of Polynomials')\n",
    "\n",
    "x, i, = sp.symbols('x, i')\n",
    "\n",
    "c = sp.IndexedBase(\"c\", real=True)\n",
    "n = sp.IndexedBase(\"n\", real=True)\n",
    "\n",
    "f = sp.Function('f')\n",
    "\n",
    "md('**`Theorem`** For polynomials, of the form')\n",
    "\n",
    "# polynomial\n",
    "poly = sp.Sum(c[i] * x**n[i], (i, 1, sp.oo))\n",
    "\n",
    "Lx(f(x), poly,  'c_1 x^{n_1} + c_2 x^{n_2} + ...').show()\n",
    "\n",
    "md('with constants $c_i, n_i \\in \\mathbb{R}$, the derivative is equal to')\n",
    "\n",
    "Lx(f(x).diff(), poly.diff(x),'c_1 n_1 x^{n_1-1} + c_2 n_2 x^{n_2-1} + ...\\,.').show()\n",
    "\n",
    "md('To show this is true, we have to break the process down into several steps.')\n",
    "\n",
    "\n",
    "vspace()\n",
    "\n",
    "f_1 = sp.Function('f_1')\n",
    "f_2 = sp.Function('f_2')\n",
    "\n",
    "# rules\n",
    "rules = [(x**n, 'power'),\n",
    "         (c * f_1(x), 'coefficient'),\n",
    "         (f_1(x)+f_2(x), 'addition (or subtraction)'),\n",
    "         (c, 'constant'),\n",
    "        ]\n",
    "\n",
    "for i, (form, name) in enumerate(rules):\n",
    "\n",
    "    md(f'<u>***Formula {i+1}:***</u> The `{name} rule`.')\n",
    "\n",
    "    eq = Lx(f(x), form) # original equation\n",
    "\n",
    "    drv = Lx(f(x).diff(), form.diff(x)) # derivative\n",
    "\n",
    "    Lx(eq, drv, sep=r'\\implies', simplify=True).show()\n",
    "    \n",
    "    vspace(10)"
   ]
  },
  {
   "cell_type": "code",
   "execution_count": 6,
   "metadata": {},
   "outputs": [
    {
     "data": {
      "text/markdown": [
       "---\n",
       "#### Proof of constant rule (formula 4)"
      ],
      "text/plain": [
       "<IPython.core.display.Markdown object>"
      ]
     },
     "metadata": {},
     "output_type": "display_data"
    },
    {
     "data": {
      "text/html": [
       "<span style=\"display:block; height:8px;\"></span>"
      ],
      "text/plain": [
       "<IPython.core.display.HTML object>"
      ]
     },
     "metadata": {},
     "output_type": "display_data"
    },
    {
     "data": {
      "text/html": [
       "$$\\begin{align*} \\quad f(x) &= c \\\\  \\\\ f'(x) &= \\frac{f(x + dx) - f(x)}{dx} \\\\ &= \\frac{c - c}{dx} \\\\ &= \\frac{0}{dx} = 0 \\quad\\boxed\\\\ \\end{align*}$$"
      ],
      "text/plain": [
       "<IPython.core.display.HTML object>"
      ]
     },
     "metadata": {},
     "output_type": "display_data"
    }
   ],
   "source": [
    "\n",
    "# forumla 4 proof\n",
    "md('---', '#### Proof of constant rule (formula 4)')\n",
    "vspace()\n",
    "\n",
    "Lx(r\"f(x) &= c\",\n",
    "   '',\n",
    "   r\"f'(x) &= \\frac{f(x + dx) - f(x)}{dx}\",\n",
    "   r\"&= \\frac{c - c}{dx}\",\n",
    "   r\"&= \\frac{0}{dx} = 0 \\quad\\boxed\"\n",
    "   , sep=r'\\\\').show(end=r'\\\\')\n"
   ]
  },
  {
   "cell_type": "code",
   "execution_count": 7,
   "metadata": {},
   "outputs": [
    {
     "data": {
      "text/markdown": [
       "---\n",
       "#### Proof of addition/subtraction rule (formula 3)"
      ],
      "text/plain": [
       "<IPython.core.display.Markdown object>"
      ]
     },
     "metadata": {},
     "output_type": "display_data"
    },
    {
     "data": {
      "text/html": [
       "<span style=\"display:block; height:8px;\"></span>"
      ],
      "text/plain": [
       "<IPython.core.display.HTML object>"
      ]
     },
     "metadata": {},
     "output_type": "display_data"
    },
    {
     "data": {
      "text/html": [
       "$$\\begin{align*} \\quad f(x) &= f_1(x) + f_2(x) \\\\  \\\\ f'(x) &= \\frac{\\bigg[f_1(x + dx) + f_2(x + dx)\\bigg] - \\bigg[f_1(x) + f_2(x)\\bigg]}{dx} \\\\ &= \\frac{\\bigg[f_1(x + dx) - f_1(x)\\bigg] + \\bigg[f_2(x + dx) - f_2(x)\\bigg]}{dx} \\\\ &= \\frac{\\bigg[f_1(x + dx) - f_1(x)\\bigg]}{dx} + \\frac{\\bigg[f_2(x + dx) - f_2(x)\\bigg]}{dx} \\\\  \\\\ &= f_1'(x) + f_2'(x) \\quad \\boxed\\\\ \\end{align*}$$"
      ],
      "text/plain": [
       "<IPython.core.display.HTML object>"
      ]
     },
     "metadata": {},
     "output_type": "display_data"
    }
   ],
   "source": [
    "\n",
    "# proof formula 3\n",
    "md('---', '#### Proof of addition/subtraction rule (formula 3)')\n",
    "vspace()\n",
    "\n",
    "Lx(r\"f(x) &= f_1(x) + f_2(x)\",\n",
    "   '',\n",
    "   r\"f'(x) &= \\frac{\\bigg[f_1(x + dx) + f_2(x + dx)\\bigg] - \\bigg[f_1(x) + f_2(x)\\bigg]}{dx}\",\n",
    "   r\"&= \\frac{\\bigg[f_1(x + dx) - f_1(x)\\bigg] + \\bigg[f_2(x + dx) - f_2(x)\\bigg]}{dx}\",\n",
    "   r\"&= \\frac{\\bigg[f_1(x + dx) - f_1(x)\\bigg]}{dx} + \\frac{\\bigg[f_2(x + dx) - f_2(x)\\bigg]}{dx}\",\n",
    "   '',\n",
    "   r\"&= f_1'(x) + f_2'(x) \\quad \\boxed\",\n",
    "   sep=r'\\\\'\n",
    "  ).show(end=r'\\\\')"
   ]
  },
  {
   "cell_type": "code",
   "execution_count": 8,
   "metadata": {},
   "outputs": [
    {
     "data": {
      "text/markdown": [
       "---\n",
       "### Proof of coefficient rule (formula 2)"
      ],
      "text/plain": [
       "<IPython.core.display.Markdown object>"
      ]
     },
     "metadata": {},
     "output_type": "display_data"
    },
    {
     "data": {
      "text/html": [
       "<span style=\"display:block; height:8px;\"></span>"
      ],
      "text/plain": [
       "<IPython.core.display.HTML object>"
      ]
     },
     "metadata": {},
     "output_type": "display_data"
    },
    {
     "data": {
      "text/html": [
       "$$\\begin{align*} \\quad f(x) &= c \\cdot f_1(x) \\\\  \\\\ f'(x) &= \\frac{c \\cdot f_1(x + dx) - c \\cdot f_1(x)}{dx} \\\\ &= c \\cdot \\left( \\frac{f_1(x + dx) - f_1(x)}{dx} \\right) \\\\  \\\\ &= c \\cdot f_1'(x) \\quad\\boxed\\\\ \\end{align*}$$"
      ],
      "text/plain": [
       "<IPython.core.display.HTML object>"
      ]
     },
     "metadata": {},
     "output_type": "display_data"
    }
   ],
   "source": [
    "\n",
    "# proof formula 2\n",
    "md('---', '### Proof of coefficient rule (formula 2)')\n",
    "vspace()\n",
    "\n",
    "Lx(r\"f(x) &= c \\cdot f_1(x)\",\n",
    "   '',\n",
    "   r\"f'(x) &= \\frac{c \\cdot f_1(x + dx) - c \\cdot f_1(x)}{dx}\",\n",
    "   r\"&= c \\cdot \\left( \\frac{f_1(x + dx) - f_1(x)}{dx} \\right)\",\n",
    "   '',\n",
    "   r\"&= c \\cdot f_1'(x) \\quad\\boxed\",\n",
    "   sep=r\"\\\\\").show(end=r'\\\\')"
   ]
  },
  {
   "cell_type": "code",
   "execution_count": 9,
   "metadata": {
    "scrolled": false
   },
   "outputs": [
    {
     "data": {
      "text/markdown": [
       "---\n",
       "## The Binomial Theorem"
      ],
      "text/plain": [
       "<IPython.core.display.Markdown object>"
      ]
     },
     "metadata": {},
     "output_type": "display_data"
    },
    {
     "data": {
      "text/html": [
       "<span style=\"display:block; height:8px;\"></span>"
      ],
      "text/plain": [
       "<IPython.core.display.HTML object>"
      ]
     },
     "metadata": {},
     "output_type": "display_data"
    },
    {
     "data": {
      "text/markdown": [
       "The **`binomial identity`** shows that the exponent of the sum of two variables $x$ and $y$ is given by:"
      ],
      "text/plain": [
       "<IPython.core.display.Markdown object>"
      ]
     },
     "metadata": {},
     "output_type": "display_data"
    },
    {
     "data": {
      "text/html": [
       "$$\\begin{align*} \\quad \\left(x + y\\right)^{n} = \\sum_{k=0}^{n}{{n}\\choose{k}}x^{n-k}y^{k}\\\\\\\\ \\end{align*}$$"
      ],
      "text/plain": [
       "<IPython.core.display.HTML object>"
      ]
     },
     "metadata": {},
     "output_type": "display_data"
    },
    {
     "data": {
      "text/markdown": [
       "where the coefficient ${n}\\choose{k}$ or $_nC_k$ (read \"n choose k\") is"
      ],
      "text/plain": [
       "<IPython.core.display.Markdown object>"
      ]
     },
     "metadata": {},
     "output_type": "display_data"
    },
    {
     "data": {
      "text/html": [
       "$$\\begin{align*} \\quad {\\binom{n}{k}} = \\frac{n!}{(n-k)! k!}. \\end{align*}$$"
      ],
      "text/plain": [
       "<IPython.core.display.HTML object>"
      ]
     },
     "metadata": {},
     "output_type": "display_data"
    },
    {
     "data": {
      "text/html": [
       "<span style=\"display:block; height:8px;\"></span>"
      ],
      "text/plain": [
       "<IPython.core.display.HTML object>"
      ]
     },
     "metadata": {},
     "output_type": "display_data"
    },
    {
     "data": {
      "text/markdown": [
       "We can check that the identity produces the same pattern of Pascal's triangle in the coefficients:"
      ],
      "text/plain": [
       "<IPython.core.display.Markdown object>"
      ]
     },
     "metadata": {},
     "output_type": "display_data"
    },
    {
     "data": {
      "text/html": [
       "<span style=\"display:block; height:8px;\"></span>"
      ],
      "text/plain": [
       "<IPython.core.display.HTML object>"
      ]
     },
     "metadata": {},
     "output_type": "display_data"
    },
    {
     "data": {
      "text/html": [
       "$$\\begin{align*} \\quad (x + y)^0 = \\sum_{k=0}^{0} x^{- k} y^{k} {\\binom{0}{k}} = 1\\\\\\\\ \\end{align*}$$"
      ],
      "text/plain": [
       "<IPython.core.display.HTML object>"
      ]
     },
     "metadata": {},
     "output_type": "display_data"
    },
    {
     "data": {
      "text/html": [
       "$$\\begin{align*} \\quad (x + y)^1 = \\sum_{k=0}^{1} x^{1 - k} y^{k} {\\binom{1}{k}} = x + y\\\\\\\\ \\end{align*}$$"
      ],
      "text/plain": [
       "<IPython.core.display.HTML object>"
      ]
     },
     "metadata": {},
     "output_type": "display_data"
    },
    {
     "data": {
      "text/html": [
       "$$\\begin{align*} \\quad (x + y)^2 = \\sum_{k=0}^{2} x^{2 - k} y^{k} {\\binom{2}{k}} = x^{2} + 2 x y + y^{2}\\\\\\\\ \\end{align*}$$"
      ],
      "text/plain": [
       "<IPython.core.display.HTML object>"
      ]
     },
     "metadata": {},
     "output_type": "display_data"
    },
    {
     "data": {
      "text/html": [
       "$$\\begin{align*} \\quad (x + y)^3 = \\sum_{k=0}^{3} x^{3 - k} y^{k} {\\binom{3}{k}} = x^{3} + 3 x^{2} y + 3 x y^{2} + y^{3}\\\\\\\\ \\end{align*}$$"
      ],
      "text/plain": [
       "<IPython.core.display.HTML object>"
      ]
     },
     "metadata": {},
     "output_type": "display_data"
    },
    {
     "data": {
      "text/html": [
       "$$\\begin{align*} \\quad (x + y)^4 = \\sum_{k=0}^{4} x^{4 - k} y^{k} {\\binom{4}{k}} = x^{4} + 4 x^{3} y + 6 x^{2} y^{2} + 4 x y^{3} + y^{4}\\\\\\\\ \\end{align*}$$"
      ],
      "text/plain": [
       "<IPython.core.display.HTML object>"
      ]
     },
     "metadata": {},
     "output_type": "display_data"
    },
    {
     "data": {
      "text/html": [
       "$$\\begin{align*} \\quad (x + y)^5 = \\sum_{k=0}^{5} x^{5 - k} y^{k} {\\binom{5}{k}} = x^{5} + 5 x^{4} y + 10 x^{3} y^{2} + 10 x^{2} y^{3} + 5 x y^{4} + y^{5}\\\\\\\\ \\end{align*}$$"
      ],
      "text/plain": [
       "<IPython.core.display.HTML object>"
      ]
     },
     "metadata": {},
     "output_type": "display_data"
    },
    {
     "data": {
      "text/html": [
       "$$\\begin{align*} \\quad (x + y)^6 = \\sum_{k=0}^{6} x^{6 - k} y^{k} {\\binom{6}{k}} = x^{6} + 6 x^{5} y + 15 x^{4} y^{2} + 20 x^{3} y^{3} + 15 x^{2} y^{4} + 6 x y^{5} + y^{6}\\\\\\\\ \\end{align*}$$"
      ],
      "text/plain": [
       "<IPython.core.display.HTML object>"
      ]
     },
     "metadata": {},
     "output_type": "display_data"
    },
    {
     "data": {
      "text/html": [
       "$$\\begin{align*} \\quad (x + y)^7 = \\sum_{k=0}^{7} x^{7 - k} y^{k} {\\binom{7}{k}} = x^{7} + 7 x^{6} y + 21 x^{5} y^{2} + 35 x^{4} y^{3} + 35 x^{3} y^{4} + 21 x^{2} y^{5} + 7 x y^{6} + y^{7}\\\\\\\\ \\end{align*}$$"
      ],
      "text/plain": [
       "<IPython.core.display.HTML object>"
      ]
     },
     "metadata": {},
     "output_type": "display_data"
    },
    {
     "data": {
      "text/html": [
       "$$\\begin{align*} \\quad \\vdots\\\\\\\\ \\end{align*}$$"
      ],
      "text/plain": [
       "<IPython.core.display.HTML object>"
      ]
     },
     "metadata": {},
     "output_type": "display_data"
    }
   ],
   "source": [
    "md('---', '## The Binomial Theorem')\n",
    "vspace()\n",
    "\n",
    "# symbols\n",
    "x, y = sp.symbols('x, y')\n",
    "n, k = sp.symbols('n, k')\n",
    "\n",
    "# binomial coefficient\n",
    "nCk = sp.binomial(n, k)\n",
    "\n",
    "md('The **`binomial identity`** shows that the exponent \\\n",
    "of the sum of two variables $x$ and $y$ is given by:')\n",
    "\n",
    "summ_txt = r'\\sum_{k=0}^{n}'\n",
    "nCk_txt = r'{{n}\\choose{k}}'\n",
    "vars_txt = r'x^{n-k}y^{k}'\n",
    "\n",
    "Lx((x + y)**n, summ_txt+nCk_txt+vars_txt).show()\n",
    "\n",
    "md('where the coefficient ${n}\\choose{k}$ or $_nC_k$ (read \"n choose k\") is')\n",
    "\n",
    "Lx(nCk, r'\\frac{n!}{(n-k)! k!}').show(end=r'.')\n",
    "\n",
    "vspace()\n",
    "\n",
    "\n",
    "md('We can check that the identity produces the \\\n",
    "same pattern of Pascal\\'s triangle in the coefficients:')\n",
    "vspace()\n",
    "\n",
    "# binomial term\n",
    "binomial_term = nCk * x**(n-k) * y**k\n",
    "\n",
    "# binomial identity\n",
    "binomial_sum = sp.Sum(nCk * x**(n-k) * y**k, (k, 0, n))\n",
    "\n",
    "\n",
    "N, mk_triag = 8, True\n",
    "\n",
    "for i in range(N):\n",
    "    \n",
    "    tmp = binomial_sum.subs(n, i)\n",
    "    \n",
    "    Lx(f'(x + y)^{i}', tmp, tmp.doit()).show()\n",
    "    \n",
    "Lx(r'\\vdots').show()"
   ]
  },
  {
   "cell_type": "code",
   "execution_count": 10,
   "metadata": {
    "scrolled": false
   },
   "outputs": [
    {
     "data": {
      "text/html": [
       "$$\\begin{align*} \\quad (x + y)^0 = \\sum_{k-0}^0{2\\choose{k}}x^{0-1}y^k = 1\\\\\\\\ \\end{align*}$$"
      ],
      "text/plain": [
       "<IPython.core.display.HTML object>"
      ]
     },
     "metadata": {},
     "output_type": "display_data"
    },
    {
     "data": {
      "text/html": [
       "$$\\begin{align*} \\quad (x + y)^1 = \\sum_{k-0}^1{2\\choose{k}}x^{1-1}y^k = x + y\\\\\\\\ \\end{align*}$$"
      ],
      "text/plain": [
       "<IPython.core.display.HTML object>"
      ]
     },
     "metadata": {},
     "output_type": "display_data"
    },
    {
     "data": {
      "text/html": [
       "$$\\begin{align*} \\quad (x + y)^2 = \\sum_{k-0}^2{2\\choose{k}}x^{2-1}y^k = x^{2} + 2 x y + y^{2}\\\\\\\\ \\end{align*}$$"
      ],
      "text/plain": [
       "<IPython.core.display.HTML object>"
      ]
     },
     "metadata": {},
     "output_type": "display_data"
    },
    {
     "data": {
      "text/html": [
       "$$\\begin{align*} \\quad (x + y)^3 = \\sum_{k-0}^3{2\\choose{k}}x^{3-1}y^k = x^{3} + 3 x^{2} y + 3 x y^{2} + y^{3}\\\\\\\\ \\end{align*}$$"
      ],
      "text/plain": [
       "<IPython.core.display.HTML object>"
      ]
     },
     "metadata": {},
     "output_type": "display_data"
    },
    {
     "data": {
      "text/html": [
       "$$\\begin{align*} \\quad (x + y)^4 = \\sum_{k-0}^4{2\\choose{k}}x^{4-1}y^k = x^{4} + 4 x^{3} y + 6 x^{2} y^{2} + 4 x y^{3} + y^{4}\\\\\\\\ \\end{align*}$$"
      ],
      "text/plain": [
       "<IPython.core.display.HTML object>"
      ]
     },
     "metadata": {},
     "output_type": "display_data"
    },
    {
     "data": {
      "text/html": [
       "$$\\begin{align*} \\quad (x + y)^5 = \\sum_{k-0}^5{2\\choose{k}}x^{5-1}y^k = x^{5} + 5 x^{4} y + 10 x^{3} y^{2} + 10 x^{2} y^{3} + 5 x y^{4} + y^{5}\\\\\\\\ \\end{align*}$$"
      ],
      "text/plain": [
       "<IPython.core.display.HTML object>"
      ]
     },
     "metadata": {},
     "output_type": "display_data"
    },
    {
     "data": {
      "text/html": [
       "$$\\begin{align*} \\quad (x + y)^6 = \\sum_{k-0}^6{2\\choose{k}}x^{6-1}y^k = x^{6} + 6 x^{5} y + 15 x^{4} y^{2} + 20 x^{3} y^{3} + 15 x^{2} y^{4} + 6 x y^{5} + y^{6}\\\\\\\\ \\end{align*}$$"
      ],
      "text/plain": [
       "<IPython.core.display.HTML object>"
      ]
     },
     "metadata": {},
     "output_type": "display_data"
    },
    {
     "data": {
      "text/html": [
       "$$\\begin{align*} \\quad (x + y)^7 = \\sum_{k-0}^7{2\\choose{k}}x^{7-1}y^k = x^{7} + 7 x^{6} y + 21 x^{5} y^{2} + 35 x^{4} y^{3} + 35 x^{3} y^{4} + 21 x^{2} y^{5} + 7 x y^{6} + y^{7}\\\\\\\\ \\end{align*}$$"
      ],
      "text/plain": [
       "<IPython.core.display.HTML object>"
      ]
     },
     "metadata": {},
     "output_type": "display_data"
    },
    {
     "data": {
      "text/html": [
       "$$\\begin{align*} \\quad (x + y)^8 = \\sum_{k-0}^8{2\\choose{k}}x^{8-1}y^k = x^{8} + 8 x^{7} y + 28 x^{6} y^{2} + 56 x^{5} y^{3} + 70 x^{4} y^{4} + 56 x^{3} y^{5} + 28 x^{2} y^{6} + 8 x y^{7} + y^{8}\\\\\\\\ \\end{align*}$$"
      ],
      "text/plain": [
       "<IPython.core.display.HTML object>"
      ]
     },
     "metadata": {},
     "output_type": "display_data"
    }
   ],
   "source": [
    "# do it on our own\n",
    "\n",
    "def factorial(n:'whole #') -> 'natural #':\n",
    "    '''\n",
    "    Returns n factorial (n!).\n",
    "    '''\n",
    "    N = np.arange(1, n+1)\n",
    "    return np.prod(N)\n",
    "\n",
    "def binom_coeff(n:'whole #', k:'whole #') -> int:\n",
    "    '''\n",
    "    Returns the binomial coefficient (n choose k).\n",
    "    \n",
    "    Returns: n! / (n-k)!k!\n",
    "    '''\n",
    "    return int(factorial(n) / (factorial(n-k)*factorial(k)))\n",
    "\n",
    "def binom_term(n, k, x, y):\n",
    "    '''\n",
    "    Returns (n choose k) * x^(n-k) * y^k\n",
    "    '''\n",
    "    return binom_coeff(n, k) * (x**(n-k)) * (y**(k))\n",
    "\n",
    "\n",
    "for n in range(9):\n",
    "    \n",
    "    terms = [binom_term(n, k, x, y) for k in range(n+1)]\n",
    "        \n",
    "    expansion = Lx(*terms, sep='+')\n",
    "    \n",
    "    tx = '\\sum_{k-0}^'+str(n)+'{2\\choose{k}}x^{'+str(n)+'-1}y^k'\n",
    "    \n",
    "    Lx(f'(x + y)^{n}', tx, expansion).show()"
   ]
  },
  {
   "cell_type": "code",
   "execution_count": 79,
   "metadata": {},
   "outputs": [
    {
     "data": {
      "text/markdown": [
       "---\n",
       "### Proof of Product Rule"
      ],
      "text/plain": [
       "<IPython.core.display.Markdown object>"
      ]
     },
     "metadata": {},
     "output_type": "display_data"
    },
    {
     "data": {
      "text/html": [
       "<span style=\"display:block; height:8px;\"></span>"
      ],
      "text/plain": [
       "<IPython.core.display.HTML object>"
      ]
     },
     "metadata": {},
     "output_type": "display_data"
    },
    {
     "data": {
      "text/html": [
       "$$\\begin{align*} \\quad f(x) &= f_1(x) \\cdot f_2(x) \\\\ f'(x) &= \\frac{f_1(x+dx) f_2(x+dx) - f_1(x) f_2(x)}{dx} \\\\ &= \\frac{f_1(x+dx) f_2(x+dx) - f_1(x) f_2(x+dx) + f_1(x)f_2(x+dx) - f_1(x+dx) f_2(x)}{dx} \\\\ &= \\frac{f_1(x+dx) f_2(x+dx) - f_1(x) f_2(x+dx)}{dx} + \\frac{f_1(x)f_2(x+dx) - f_1(x) f_2(x)}{dx} \\\\ &= f_2(x+dx) \\frac{f_1(x+dx) - f_1(x+dx)}{dx} + f_1(x)\\frac{f_2(x+dx) - f_2(x)}{dx} \\\\ &= f_2(x+dx) f_1'(x) + f_1(x) f_2'(x) \\\\ &= f_2(x) f_1'(x) + f_1(x) f_2'(x) \\quad\\boxed\\\\\\\\ \\end{align*}$$"
      ],
      "text/plain": [
       "<IPython.core.display.HTML object>"
      ]
     },
     "metadata": {},
     "output_type": "display_data"
    }
   ],
   "source": [
    "\n",
    "# proof product rule\n",
    "md('---', '### Proof of Product Rule')\n",
    "vspace()\n",
    "\n",
    "Lx(r\"f(x) &= f_1(x) \\cdot f_2(x)\",\n",
    "   r\"f'(x) &= \\frac{f_1(x+dx) f_2(x+dx) - f_1(x) f_2(x)}{dx}\",\n",
    "   r'&= \\frac{f_1(x+dx) f_2(x+dx) - f_1(x) f_2(x+dx) + f_1(x)f_2(x+dx) - f_1(x+dx) f_2(x)}{dx}',\n",
    "   r'&= \\frac{f_1(x+dx) f_2(x+dx) - f_1(x) f_2(x+dx)}{dx} + \\frac{f_1(x)f_2(x+dx) - f_1(x) f_2(x)}{dx}',\n",
    "   r'&= f_2(x+dx) \\frac{f_1(x+dx) - f_1(x+dx)}{dx} + f_1(x)\\frac{f_2(x+dx) - f_2(x)}{dx}',\n",
    "   r\"&= f_2(x+dx) f_1'(x) + f_1(x) f_2'(x)\",\n",
    "   r\"&= f_2(x) f_1'(x) + f_1(x) f_2'(x) \\quad\\boxed\",\n",
    "   sep=r\"\\\\\").show()"
   ]
  },
  {
   "cell_type": "markdown",
   "metadata": {},
   "source": [
    "# Chapter 3: Exponential Functions\n",
    "\n",
    "<br>\n",
    "\n",
    "<center><img width=650 src=\"https://static.wixstatic.com/media/47024d_8190a74306aa404e9024dfab97b6cde4~mv2.gif\"></center>"
   ]
  },
  {
   "cell_type": "code",
   "execution_count": 90,
   "metadata": {},
   "outputs": [
    {
     "data": {
      "text/latex": [
       "$\\displaystyle a^{x} \\log{\\left(a \\right)}$"
      ],
      "text/plain": [
       "a**x*log(a)"
      ]
     },
     "execution_count": 90,
     "metadata": {},
     "output_type": "execute_result"
    }
   ],
   "source": [
    "a, x = sp.symbols('a, x')\n",
    "\n",
    "sp.diff(a**x, x)"
   ]
  },
  {
   "cell_type": "markdown",
   "metadata": {},
   "source": [
    "# Chapter 4: Trigonometric Functions\n",
    "\n",
    "<center><img width=650 src=\"https://upload.wikimedia.org/wikipedia/commons/thumb/5/54/Euler%27s_formula_proof.gif/525px-Euler%27s_formula_proof.gif\"></center>\n"
   ]
  },
  {
   "cell_type": "code",
   "execution_count": null,
   "metadata": {},
   "outputs": [],
   "source": []
  }
 ],
 "metadata": {
  "kernelspec": {
   "display_name": "Python 3",
   "language": "python",
   "name": "python3"
  },
  "language_info": {
   "codemirror_mode": {
    "name": "ipython",
    "version": 3
   },
   "file_extension": ".py",
   "mimetype": "text/x-python",
   "name": "python",
   "nbconvert_exporter": "python",
   "pygments_lexer": "ipython3",
   "version": "3.8.5"
  }
 },
 "nbformat": 4,
 "nbformat_minor": 4
}

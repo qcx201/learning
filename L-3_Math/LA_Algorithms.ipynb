{
 "cells": [
  {
   "cell_type": "markdown",
   "metadata": {},
   "source": [
    "# Linear Algebra 🔠🧮\n",
    "---\n"
   ]
  },
  {
   "cell_type": "markdown",
   "metadata": {},
   "source": [
    "<a id=contents></a>\n",
    "\n",
    "\n",
    "# Contents\n",
    "---\n",
    "\n",
    "\n",
    "### 1: Systems of Equations\n",
    "\n",
    "* Gaussian elimination\n",
    "\n",
    "\n",
    "\n",
    "### 2: Vectors\n",
    "\n",
    "* Scalars, addition, and broadcasting\n",
    "\n",
    "* Dot product\n",
    "\n",
    "\n",
    "### 3: Matrices\n",
    "\n",
    "* Matrix operations\n",
    "\n",
    "* Identity and inverse matrix\n",
    "\n",
    "* Eigen decomposition\n",
    "\n",
    "\n",
    "### 4: Vector Calculus\n",
    "\n",
    "\n",
    "\n",
    "---\n"
   ]
  },
  {
   "cell_type": "code",
   "execution_count": 2,
   "metadata": {},
   "outputs": [],
   "source": [
    "import numpy as np\n",
    "import sympy as sp\n",
    "\n",
    "import matplotlib.pyplot as plt\n",
    "%matplotlib inline\n",
    "\n",
    "from IPython.display import display, Markdown, Latex"
   ]
  },
  {
   "cell_type": "code",
   "execution_count": 1,
   "metadata": {},
   "outputs": [
    {
     "ename": "NameError",
     "evalue": "name 'plt' is not defined",
     "output_type": "error",
     "traceback": [
      "\u001b[1;31m---------------------------------------------------------------------------\u001b[0m",
      "\u001b[1;31mNameError\u001b[0m                                 Traceback (most recent call last)",
      "\u001b[1;32m<ipython-input-1-3c64399c8b66>\u001b[0m in \u001b[0;36m<module>\u001b[1;34m\u001b[0m\n\u001b[0;32m      1\u001b[0m \u001b[1;31m# helper functions\u001b[0m\u001b[1;33m\u001b[0m\u001b[1;33m\u001b[0m\u001b[1;33m\u001b[0m\u001b[0m\n\u001b[0;32m      2\u001b[0m \u001b[1;33m\u001b[0m\u001b[0m\n\u001b[1;32m----> 3\u001b[1;33m \u001b[0mdcolors\u001b[0m \u001b[1;33m=\u001b[0m \u001b[0mplt\u001b[0m\u001b[1;33m.\u001b[0m\u001b[0mrcParams\u001b[0m\u001b[1;33m[\u001b[0m\u001b[1;34m'axes.prop_cycle'\u001b[0m\u001b[1;33m]\u001b[0m\u001b[1;33m.\u001b[0m\u001b[0mby_key\u001b[0m\u001b[1;33m(\u001b[0m\u001b[1;33m)\u001b[0m\u001b[1;33m[\u001b[0m\u001b[1;34m'color'\u001b[0m\u001b[1;33m]\u001b[0m\u001b[1;33m\u001b[0m\u001b[1;33m\u001b[0m\u001b[0m\n\u001b[0m\u001b[0;32m      4\u001b[0m \u001b[1;33m\u001b[0m\u001b[0m\n\u001b[0;32m      5\u001b[0m \u001b[1;32mdef\u001b[0m \u001b[0mlatex\u001b[0m\u001b[1;33m(\u001b[0m\u001b[1;33m*\u001b[0m\u001b[0margs\u001b[0m\u001b[1;33m,\u001b[0m \u001b[0msep\u001b[0m\u001b[1;33m=\u001b[0m\u001b[1;34m''\u001b[0m\u001b[1;33m,\u001b[0m \u001b[0malign\u001b[0m\u001b[1;33m=\u001b[0m\u001b[1;32mTrue\u001b[0m\u001b[1;33m,\u001b[0m \u001b[0mas_str\u001b[0m\u001b[1;33m=\u001b[0m\u001b[1;32mFalse\u001b[0m\u001b[1;33m)\u001b[0m\u001b[1;33m:\u001b[0m\u001b[1;33m\u001b[0m\u001b[1;33m\u001b[0m\u001b[0m\n",
      "\u001b[1;31mNameError\u001b[0m: name 'plt' is not defined"
     ]
    }
   ],
   "source": [
    "# helper functions\n",
    "\n",
    "dcolors = plt.rcParams['axes.prop_cycle'].by_key()['color']\n",
    "\n",
    "def latex(*args, sep='', align=True, as_str=False):\n",
    "    '''\n",
    "    display math latex\n",
    "    '''\n",
    "    terms = []\n",
    "    for arg in args:\n",
    "        if isinstance(arg, (sp.Basic, sp.Matrix)):\n",
    "            terms.append(sp.latex(arg))\n",
    "        else:\n",
    "            terms.append(str(arg))\n",
    "    \n",
    "    res = sep.join(terms)\n",
    "    \n",
    "    if align:\n",
    "        res = r'\\begin{align}' + res + r'\\end{align}'\n",
    "    \n",
    "    if as_str:\n",
    "        return res\n",
    "    \n",
    "    display(Math(res))\n",
    "    \n",
    "    \n",
    "def disp(content, parser=Markdown):\n",
    "    \"\"\"\n",
    "    Display content with parser. Default markdown.\n",
    "    \"\"\"\n",
    "    \n",
    "    display(parser(str(content)))\n",
    "    \n",
    "\n",
    "def matrix(rows=3, cols=3, symbol='x'):\n",
    "    \"\"\"\n",
    "    Make quick sympy matrix with indexed symbol elements\n",
    "    \"\"\"\n",
    "    # symbol components\n",
    "    comps = sp.symbols(r'%s_{1:%s\\,1:%s}' % (symbol, rows+1, cols+1))\n",
    "    \n",
    "    # components array\n",
    "    comps_array = np.array(comps).reshape(rows, cols)\n",
    "    \n",
    "    # return sympy\n",
    "    return sp.Matrix(comps_array)\n",
    "\n",
    "\n",
    "def plot_vec(ax, v, start=[0, 0], **kwargs):\n",
    "    \n",
    "    default = dict(alpha=0.5, scale=1, width=0.0125, angles='xy', scale_units='xy')\n",
    "    default.update(kwargs)\n",
    "    \n",
    "    return ax.quiver(*start, *v, **default)"
   ]
  },
  {
   "cell_type": "code",
   "execution_count": 11,
   "metadata": {},
   "outputs": [
    {
     "data": {
      "text/latex": [
       "$\\left[\\begin{matrix}x_{1,1} & x_{1,2} & x_{1,3}\\\\x_{1,4} & x_{2,1} & x_{2,2}\\\\x_{2,3} & x_{2,4} & x_{3,1}\\\\x_{3,2} & x_{3,3} & x_{3,4}\\end{matrix}\\right]^T = \\left[\\begin{matrix}x_{1,1} & x_{1,4} & x_{2,3} & x_{3,2}\\\\x_{1,2} & x_{2,1} & x_{2,4} & x_{3,3}\\\\x_{1,3} & x_{2,2} & x_{3,1} & x_{3,4}\\end{matrix}\\right]$"
      ],
      "text/plain": [
       "<IPython.core.display.Latex object>"
      ]
     },
     "metadata": {},
     "output_type": "display_data"
    }
   ],
   "source": [
    "X = matrix(3, 4)\n",
    "\n",
    "latex(X, \"^T = \", X.T)"
   ]
  },
  {
   "cell_type": "markdown",
   "metadata": {},
   "source": [
    "# 1: Systems of Equations"
   ]
  },
  {
   "cell_type": "code",
   "execution_count": 12,
   "metadata": {},
   "outputs": [],
   "source": [
    "# systems of equations"
   ]
  },
  {
   "cell_type": "code",
   "execution_count": null,
   "metadata": {},
   "outputs": [],
   "source": []
  },
  {
   "cell_type": "markdown",
   "metadata": {},
   "source": [
    "# Chapter 2: Vectors"
   ]
  },
  {
   "cell_type": "code",
   "execution_count": 13,
   "metadata": {},
   "outputs": [
    {
     "data": {
      "text/latex": [
       "$\\left[\\begin{matrix}x_{1,1}\\\\x_{1,2}\\\\x_{1,3}\\end{matrix}\\right]$"
      ],
      "text/plain": [
       "<IPython.core.display.Latex object>"
      ]
     },
     "metadata": {},
     "output_type": "display_data"
    },
    {
     "data": {
      "text/markdown": [
       "Rows, columns: **(3, 1)**"
      ],
      "text/plain": [
       "<IPython.core.display.Markdown object>"
      ]
     },
     "metadata": {},
     "output_type": "display_data"
    }
   ],
   "source": [
    "x = symatrix(1)\n",
    "latex(x)\n",
    "disp(\"Rows, columns: **(%s, %s)**\" % x.shape)"
   ]
  },
  {
   "cell_type": "markdown",
   "metadata": {},
   "source": [
    "## Plot Vectors"
   ]
  },
  {
   "cell_type": "code",
   "execution_count": 258,
   "metadata": {},
   "outputs": [
    {
     "ename": "NameError",
     "evalue": "name 'dcolors' is not defined",
     "output_type": "error",
     "traceback": [
      "\u001b[1;31m---------------------------------------------------------------------------\u001b[0m",
      "\u001b[1;31mNameError\u001b[0m                                 Traceback (most recent call last)",
      "\u001b[1;32m<ipython-input-258-5b0eb98b0738>\u001b[0m in \u001b[0;36m<module>\u001b[1;34m\u001b[0m\n\u001b[0;32m      5\u001b[0m           \u001b[0mwidth\u001b[0m\u001b[1;33m=\u001b[0m\u001b[1;36m0.0125\u001b[0m\u001b[1;33m,\u001b[0m\u001b[1;33m\u001b[0m\u001b[1;33m\u001b[0m\u001b[0m\n\u001b[0;32m      6\u001b[0m           \u001b[0mangles\u001b[0m\u001b[1;33m=\u001b[0m\u001b[1;34m'xy'\u001b[0m\u001b[1;33m,\u001b[0m\u001b[1;33m\u001b[0m\u001b[1;33m\u001b[0m\u001b[0m\n\u001b[1;32m----> 7\u001b[1;33m           \u001b[0mcolor\u001b[0m\u001b[1;33m=\u001b[0m\u001b[0mdcolors\u001b[0m\u001b[1;33m[\u001b[0m\u001b[1;36m0\u001b[0m\u001b[1;33m]\u001b[0m\u001b[1;33m,\u001b[0m\u001b[1;33m\u001b[0m\u001b[1;33m\u001b[0m\u001b[0m\n\u001b[0m\u001b[0;32m      8\u001b[0m           scale_units='xy')\n\u001b[0;32m      9\u001b[0m \u001b[1;33m\u001b[0m\u001b[0m\n",
      "\u001b[1;31mNameError\u001b[0m: name 'dcolors' is not defined"
     ]
    },
    {
     "data": {
      "image/png": "[encoded data removed]",
      "text/plain": [
       "<Figure size 576x576 with 1 Axes>"
      ]
     },
     "metadata": {
      "needs_background": "light"
     },
     "output_type": "display_data"
    }
   ],
   "source": [
    "fig, ax = plt.subplots(figsize=(8, 8))\n",
    "\n",
    "ax.quiver(0, 0, 1, 1,\n",
    "          scale=1,\n",
    "          width=0.0125,\n",
    "          angles='xy',\n",
    "          color=dcolors[0],\n",
    "          scale_units='xy')\n",
    "\n",
    "ax.quiver(1, 1, -1, 1,\n",
    "          scale=1,\n",
    "          width=0.0125,\n",
    "          angles='xy',\n",
    "          color=dcolors[1],\n",
    "          scale_units='xy')\n",
    "\n",
    "ax.set_xlim(-0.1, 3)\n",
    "ax.set_ylim(-0.1, 3)\n",
    "\n",
    "ax.grid()\n",
    "\n",
    "plt.show()"
   ]
  },
  {
   "cell_type": "code",
   "execution_count": null,
   "metadata": {},
   "outputs": [],
   "source": [
    "%matplotlib notebook\n",
    "\n",
    "# 3-D plot\n",
    "fig = plt.figure(figsize=(8, 8))\n",
    "ax = plt.axes(projection='3d')\n",
    "\n",
    "fmt = dict(arrow_length_ratio=0.15, lw=3)\n",
    "\n",
    "ax.quiver(0, 0, 0,\n",
    "          1, 1, 1,\n",
    "          **fmt\n",
    "         )\n",
    "\n",
    "ax.quiver(1, 1, 1,\n",
    "          1, 1, -1,\n",
    "          **fmt\n",
    "         )\n",
    "\n",
    "ax.set_title('3-D Vector')\n",
    "\n",
    "ax.set_xlim(0, 3)\n",
    "ax.set_ylim(0, 3)\n",
    "ax.set_zlim(0, 3)\n",
    "\n",
    "ax.set_xlabel('x')\n",
    "ax.set_ylabel('y')\n",
    "ax.set_zlabel('z');"
   ]
  },
  {
   "cell_type": "code",
   "execution_count": null,
   "metadata": {},
   "outputs": [],
   "source": []
  }
 ],
 "metadata": {
  "kernelspec": {
   "display_name": "Python 3",
   "language": "python",
   "name": "python3"
  },
  "language_info": {
   "codemirror_mode": {
    "name": "ipython",
    "version": 3
   },
   "file_extension": ".py",
   "mimetype": "text/x-python",
   "name": "python",
   "nbconvert_exporter": "python",
   "pygments_lexer": "ipython3",
   "version": "3.8.5"
  }
 },
 "nbformat": 4,
 "nbformat_minor": 4
}

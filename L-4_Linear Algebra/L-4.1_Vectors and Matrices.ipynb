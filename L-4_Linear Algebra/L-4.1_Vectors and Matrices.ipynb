{
 "cells": [
  {
   "cell_type": "markdown",
   "metadata": {},
   "source": [
    "---\n",
    "<a name=\"contents-table\"></a>\n",
    "\n",
    "# Contents\n",
    "\n",
    "### <a href=\"#ch1.1\">Chapter 1.1:</a> Systems of Linear Equations\n",
    "\n",
    "### <a href=\"#ch1.2\">Chapter 1.2:</a> Vectors\n",
    "* <a href=\"#ch1.2.1\">1.2.1</a> Vector Addition\n",
    "* <a href=\"#ch1.2.2\">1.2.2</a> Scalar-Vector Multiplication\n",
    "* <a href=\"#ch1.2.3\">1.2.3</a> Dot Product\n",
    "\n",
    "### <a href=\"#ch1.3\">Chapter 1.3:</a> Matrices\n",
    "* <a href=\"#ch1.3.1\">1.3.1</a> Matrix Addition\n",
    "* <a href=\"#ch1.3.2\">1.3.2</a> Scalar-Matrix Multiplication\n",
    "* <a href=\"#ch1.3.3\">1.3.3</a> Indexing a Matrix\n",
    "* <a href=\"#ch1.3.4\">1.3.4</a> Setting Values in a Matrix\n",
    "* <a href=\"#ch1.3.5\">1.3.5</a> Matrix Transpose\n",
    "\n",
    "\n",
    "### <a href=\"#ch1.4\">Chapter 1.4:</a> Matrix Multiplication\n",
    "\n",
    "### <a href=\"#\"></a>\n"
   ]
  },
  {
   "cell_type": "code",
   "execution_count": 1,
   "metadata": {},
   "outputs": [],
   "source": [
    "import numpy as np"
   ]
  },
  {
   "cell_type": "markdown",
   "metadata": {},
   "source": [
    "---\n",
    "<a name=\"ch1.1\"></a>\n",
    "#### <a href=\"#contents-table\">Back to Contents</a>\n",
    "# Ch 1.1: Systems of Linear Equations"
   ]
  },
  {
   "cell_type": "markdown",
   "metadata": {},
   "source": [
    "# Challenges\n",
    "\n",
    "**`Solve`** the following systems of linear equations.\n",
    "\n",
    "***`Hint:`*** You can use python to solve these, but to start it may be easier to solve them by hand."
   ]
  },
  {
   "cell_type": "markdown",
   "metadata": {},
   "source": [
    "#### Equations 1)\n",
    "\n",
    "$$\n",
    "\\begin{align}\n",
    "& x + 2y = 3 \\\\\n",
    "& 4x + 5y = 6 \\\\\n",
    "\\end{align}\n",
    "$$"
   ]
  },
  {
   "cell_type": "markdown",
   "metadata": {},
   "source": [
    "---\n",
    "$$\n",
    "\\begin{align}\n",
    "\\text{Your solution:} & \\\\\n",
    "& ... \\\\\n",
    "& \\\\\n",
    "& \\\\\n",
    "\\end{align}\n",
    "$$"
   ]
  },
  {
   "cell_type": "code",
   "execution_count": 2,
   "metadata": {},
   "outputs": [],
   "source": [
    "# your code here"
   ]
  },
  {
   "cell_type": "code",
   "execution_count": null,
   "metadata": {},
   "outputs": [],
   "source": []
  },
  {
   "cell_type": "markdown",
   "metadata": {},
   "source": [
    "---\n",
    "#### Equations 2)\n",
    "\n",
    "$$\n",
    "\\begin{align}\n",
    "& x + 2y + 3z =  4 \\\\\n",
    "& 4x + 5y + 6z = 4 \\\\\n",
    "& 7x + 9z = 4 \\\\ \n",
    "\\end{align}\n",
    "$$"
   ]
  },
  {
   "cell_type": "markdown",
   "metadata": {},
   "source": [
    "---\n",
    "$$\n",
    "\\begin{align}\n",
    "\\text{Your solution:} & \\\\\n",
    "& ... \\\\\n",
    "& \\\\\n",
    "& \\\\\n",
    "\\end{align}\n",
    "$$"
   ]
  },
  {
   "cell_type": "code",
   "execution_count": 3,
   "metadata": {},
   "outputs": [],
   "source": [
    "# your code here"
   ]
  },
  {
   "cell_type": "code",
   "execution_count": null,
   "metadata": {},
   "outputs": [],
   "source": []
  },
  {
   "cell_type": "markdown",
   "metadata": {},
   "source": [
    "#### Equations 3)\n",
    "\n",
    "$$\n",
    "\\begin{align}\n",
    "& x_1 + 2x_3 = 7 \\\\\n",
    "& x_1 + 2x_2 + x_3 + x_4 = -4 \\\\\n",
    "& x_2 + 3x_3 = 7 \\\\\n",
    "& 2x_1 + 2x_3 + 3x_4 = -8 \\\\\n",
    "\\end{align}\n",
    "$$"
   ]
  },
  {
   "cell_type": "markdown",
   "metadata": {},
   "source": [
    "---\n",
    "$$\n",
    "\\begin{align}\n",
    "\\text{Your solution:} & \\\\\n",
    "& ... \\\\\n",
    "& \\\\\n",
    "& \\\\\n",
    "\\end{align}\n",
    "$$"
   ]
  },
  {
   "cell_type": "markdown",
   "metadata": {},
   "source": [
    "---\n",
    "# <span style=\"color:red;\">Solutions<span>"
   ]
  },
  {
   "cell_type": "markdown",
   "metadata": {},
   "source": [
    "#### Systems 1)\n",
    "\n",
    "$$\n",
    "\\begin{align}\n",
    "\\text{eq 1:}\\quad & x + 2y = 3 \\\\\n",
    "\\text{eq 2:}\\quad & 4x + 5y = 6 \\\\\n",
    "\\\\\\\\\n",
    "\\text{Steps:}\\\\\n",
    "\\text{eq 1:}\\quad & x = 3 - 2y \\quad\\text{<= rearrange}\\\\\n",
    "\\text{eq 2:}\\quad & 4(3 - 2y) + 5y = 6 \\quad\\text{<= substitution}\\\\\n",
    "\\\\\n",
    "& 12 - 8y + 5y = 6 \\\\\n",
    "& -3y = -6 \\\\\n",
    "& => y = 2 \\\\\n",
    "\\\\\n",
    "& => x = 3 - 2(2)= -1 \\\\\n",
    "\\\\\n",
    "\\text{Solution:}\\\\\n",
    "& x = -1, y = 2\n",
    "\\end{align}\n",
    "$$"
   ]
  },
  {
   "cell_type": "markdown",
   "metadata": {},
   "source": [
    "#### Systems 2)\n",
    "\n",
    "$$\n",
    "\\begin{align}\n",
    "\\text{eq 1:}\\quad &  x + 2y + 3z = 4 \\\\\n",
    "\\text{eq 2:}\\quad & 4x + 5y + 6z = 4 \\\\\n",
    "\\text{eq 3:}\\quad & 7x + 9z = 4 \\\\\n",
    "\\\\\\\\\n",
    "\\text{Steps:}\\\\\n",
    "\\text{eq 3:}\\quad & 7x + 9z = 4 \\\\\n",
    "=> \\, & z = \\frac{4-7x}{9} \\\\\n",
    "\\text{eq 1:}\\quad & x + 2y + 3z = 4 \\\\\n",
    "& x + 2y + 3\\frac{4-7x}{9} = 4 \\\\\n",
    "& 2y + \\frac{4 + 3x-7x}{3} = 4 \\\\\n",
    "& 2y = \\, 4 -\\frac{4-4x}{3}  \\\\\n",
    "& y = \\, 2 -\\frac{2-2x}{3}  \\\\\n",
    "=> \\, & y = \\frac{4-2x}{3}  \\\\\n",
    "\\end{align}\n",
    "$$"
   ]
  },
  {
   "cell_type": "code",
   "execution_count": 4,
   "metadata": {},
   "outputs": [],
   "source": [
    "\n",
    "def to_rre(eqs, show=True):\n",
    "    \n",
    "    # print steps if show\n",
    "    if show:\n",
    "        def print_if(*args, **kwargs):\n",
    "            print(*args, **kwargs)\n",
    "    else:\n",
    "        def print_if(*args, **kwargs):\n",
    "            pass\n",
    "\n",
    "    # show original\n",
    "    print_if('Original Matrix:')\n",
    "    print_if('='*15, '\\n')\n",
    "    print_if('\\n'.join([str(row) for row in eqs]), '\\n')\n",
    "\n",
    "    # row echelon form\n",
    "    print_if('Row-Echelon Form:')\n",
    "\n",
    "    # row-echelon form\n",
    "    for j in range(len(eqs)):\n",
    "\n",
    "        print_if('-'*15, '\\n')\n",
    "        \n",
    "        # \"pivot\" value\n",
    "        v = eqs[j][j]\n",
    "\n",
    "        # if not zero\n",
    "        if v != 0:\n",
    "            # divide trace row by itself\n",
    "            eqs[j] = [x/v for x in eqs[j]]\n",
    "\n",
    "        print_if('\\n'.join([str(row) for row in eqs]), '\\n')\n",
    "\n",
    "        for i in range(j+1, len(eqs)):\n",
    "\n",
    "            # value on the same column\n",
    "            m = eqs[i][j]\n",
    "\n",
    "            # replace row with cancellation\n",
    "            eqs[i] = [y-(m*x) for y,x in zip(eqs[i], eqs[j])]\n",
    "\n",
    "            print_if('\\n'.join([str(row) for row in eqs]) , '\\n')\n",
    "\n",
    "\n",
    "    # reduce row-echelon form\n",
    "    print_if('Reduced Row-Echelon Form:')\n",
    "    print_if('='*15, '\\n')\n",
    "    \n",
    "    for i in range(len(eqs)):\n",
    "        \n",
    "        # negative indexing\n",
    "        this = len(eqs)-1-i\n",
    "\n",
    "        # \"pivot\" value\n",
    "        v = eqs[this][this]\n",
    "        \n",
    "        # if not value\n",
    "        if v != 0:\n",
    "\n",
    "            for j in range(i, len(eqs)-1):\n",
    "\n",
    "                prev = len(eqs)-2-j\n",
    "\n",
    "                m = eqs[prev][this] / v\n",
    "\n",
    "                eqs[prev] = [y - m*x for y, x in zip(eqs[prev], eqs[this])]\n",
    "\n",
    "                print_if('\\n'.join([str(row) for row in eqs]) , '\\n')\n",
    "                \n",
    "    return eqs"
   ]
  },
  {
   "cell_type": "code",
   "execution_count": 5,
   "metadata": {},
   "outputs": [],
   "source": [
    "import numpy as np"
   ]
  },
  {
   "cell_type": "code",
   "execution_count": 6,
   "metadata": {},
   "outputs": [
    {
     "name": "stdout",
     "output_type": "stream",
     "text": [
      "Original Matrix:\n",
      "=============== \n",
      "\n",
      "[1, 2, 3]\n",
      "[4, 5, 6] \n",
      "\n",
      "Row-Echelon Form:\n",
      "--------------- \n",
      "\n",
      "[1.0, 2.0, 3.0]\n",
      "[4, 5, 6] \n",
      "\n",
      "[1.0, 2.0, 3.0]\n",
      "[0.0, -3.0, -6.0] \n",
      "\n",
      "--------------- \n",
      "\n",
      "[1.0, 2.0, 3.0]\n",
      "[-0.0, 1.0, 2.0] \n",
      "\n",
      "Reduced Row-Echelon Form:\n",
      "=============== \n",
      "\n",
      "[1.0, 0.0, -1.0]\n",
      "[-0.0, 1.0, 2.0] \n",
      "\n"
     ]
    },
    {
     "data": {
      "text/plain": [
       "array([[ 1.,  0., -1.],\n",
       "       [-0.,  1.,  2.]])"
      ]
     },
     "execution_count": 6,
     "metadata": {},
     "output_type": "execute_result"
    }
   ],
   "source": [
    "eqs1 = [\n",
    "    [1, 2,    3],\n",
    "    [4, 5,    6],\n",
    "]\n",
    "\n",
    "np.array(to_rre(eqs1, show=True))"
   ]
  },
  {
   "cell_type": "code",
   "execution_count": 7,
   "metadata": {},
   "outputs": [
    {
     "data": {
      "text/plain": [
       "array([[ 1.,  0.,  0., -2.],\n",
       "       [-0.,  1.,  0.,  0.],\n",
       "       [ 0.,  0.,  1.,  2.]])"
      ]
     },
     "execution_count": 7,
     "metadata": {},
     "output_type": "execute_result"
    }
   ],
   "source": [
    "eqs2 = [\n",
    "    [1,  2,  3,    4],\n",
    "    [4,  5,  6,    4],\n",
    "    [7,  0,  9,    4],\n",
    "]\n",
    "\n",
    "np.array(to_rre(eqs2, show=False))"
   ]
  },
  {
   "cell_type": "code",
   "execution_count": 8,
   "metadata": {},
   "outputs": [
    {
     "data": {
      "text/plain": [
       "array([[ 1.,  0.,  0.,  0.,  1.],\n",
       "       [ 0.,  1.,  0.,  0., -2.],\n",
       "       [ 0.,  0.,  1.,  0.,  3.],\n",
       "       [ 0.,  0.,  0.,  1., -4.]])"
      ]
     },
     "execution_count": 8,
     "metadata": {},
     "output_type": "execute_result"
    }
   ],
   "source": [
    "eqs3 = [\n",
    "    [1,  0,  2,  0,    7],\n",
    "    [1,  2,  1,  1,   -4],\n",
    "    [0,  1,  3,  0,    7],\n",
    "    [2,  0,  2,  4,   -8],\n",
    "]\n",
    "\n",
    "np.array(to_rre(eqs3, show=False))"
   ]
  },
  {
   "cell_type": "markdown",
   "metadata": {},
   "source": [
    "---\n",
    "<a name=\"ch1.2\"></a>\n",
    "#### <a href=\"#contents-table\">Back to Contents</a>\n",
    "# Ch 1.2: Vectors"
   ]
  },
  {
   "cell_type": "markdown",
   "metadata": {},
   "source": [
    "---\n",
    "<a name=\"ch1.2.1\"></a>\n",
    "#### <a href=\"#contents-table\">Back to Contents</a>\n",
    "## 1.2.1: Vector Addition\n",
    "\n",
    "Create a **`function`** called `add_vectors()` that takes two (or more) arguments.\n",
    "\n",
    "Each argument is a `list` (or \"vector\") of numbers. The vector arguments have the same length. \n",
    "\n",
    "The function returns a list containing the element-wise sums of the vectors.\n",
    "\n",
    "***`e.g.:`***\n",
    "```python\n",
    "# example arguments\n",
    "a = [1, 2, 3]\n",
    "b = [4, 5, 6]\n",
    "\n",
    "# result should be:\n",
    "add_vectors(A, B) == [5, 7, 9] == [1+4, 2+5, 3+6]\n",
    "```\n",
    "\n",
    "***`Bonus`*** Allow the function to return the sum of two ***or more*** vectors."
   ]
  },
  {
   "cell_type": "code",
   "execution_count": 9,
   "metadata": {},
   "outputs": [],
   "source": [
    "# example arguments\n",
    "a = [1, 2, 3]\n",
    "b = [4, 5, 6]"
   ]
  },
  {
   "cell_type": "code",
   "execution_count": 10,
   "metadata": {},
   "outputs": [],
   "source": [
    "# your code here"
   ]
  },
  {
   "cell_type": "code",
   "execution_count": null,
   "metadata": {},
   "outputs": [],
   "source": []
  },
  {
   "cell_type": "markdown",
   "metadata": {},
   "source": [
    "---\n",
    "# <span style=\"color:red;\">Solutions<span>"
   ]
  },
  {
   "cell_type": "code",
   "execution_count": 11,
   "metadata": {},
   "outputs": [
    {
     "name": "stdout",
     "output_type": "stream",
     "text": [
      "[5, 7, 9]\n"
     ]
    }
   ],
   "source": [
    "# Solution ch 1.2.1\n",
    "\n",
    "def add_vectors(*args):\n",
    "    \n",
    "    return [sum(x) for x in zip(*args)]\n",
    "\n",
    "print(add_vectors(a, b))"
   ]
  },
  {
   "cell_type": "markdown",
   "metadata": {},
   "source": [
    "---\n",
    "<a name=\"ch1.2.2\"></a>\n",
    "#### <a href=\"#contents-table\">Back to Contents</a>\n",
    "# 1.2.2: Scalar-Vector Multiplication\n",
    "\n",
    "Create a **`function`** called `scale_vector()` that takes two arguments:\n",
    "\n",
    "* **`vector`**: a `list` of numbers\n",
    "\n",
    "* **`scalar`**: an integer or floating point number\n",
    "\n",
    "The function returns a list where the elements of the vector multiplied (or \"scaled\") by the scalar.\n",
    "\n",
    "***`e.g.:`***\n",
    "```python\n",
    "# example arguments\n",
    "vector = [1, 2, 3]\n",
    "scalar = 2\n",
    "\n",
    "# result should be:\n",
    "scale_vector(vector, scalar) == [2, 4, 6]\n",
    "\n",
    "```"
   ]
  },
  {
   "cell_type": "code",
   "execution_count": 12,
   "metadata": {},
   "outputs": [],
   "source": [
    "# example arguments\n",
    "vector = [1, 2, 3]\n",
    "scalar = 2"
   ]
  },
  {
   "cell_type": "code",
   "execution_count": 13,
   "metadata": {},
   "outputs": [],
   "source": [
    "# your code here"
   ]
  },
  {
   "cell_type": "code",
   "execution_count": null,
   "metadata": {},
   "outputs": [],
   "source": []
  },
  {
   "cell_type": "markdown",
   "metadata": {},
   "source": [
    "---\n",
    "# <span style=\"color:red;\">Solutions<span>"
   ]
  },
  {
   "cell_type": "code",
   "execution_count": 14,
   "metadata": {},
   "outputs": [
    {
     "name": "stdout",
     "output_type": "stream",
     "text": [
      "[2, 4, 6]\n"
     ]
    }
   ],
   "source": [
    "# Solution ch 1.2.2\n",
    "\n",
    "def scale_vector(v, s):\n",
    "    \n",
    "    return [x*s for x in v]\n",
    "\n",
    "print(scale_vector(vector, scalar))"
   ]
  },
  {
   "cell_type": "markdown",
   "metadata": {},
   "source": [
    "---\n",
    "<a name=\"ch1.2.3\"></a>\n",
    "#### <a href=\"#contents-table\">Back to Contents</a>\n",
    "\n",
    "# Vector Dot Product\n",
    "\n",
    "Create a **`function`** called `dot_vector()` that takes two arguments.\n",
    "\n",
    "Each argument is a `list` (or \"vector\") of numbers. The vector arguments have the same length. \n",
    "\n",
    "The function returns the sum of the element-wise products of the vectors.\n",
    "\n",
    "***`e.g.:`***\n",
    "```python\n",
    "# example arguments\n",
    "a = [1, 2, 3]\n",
    "b = [4, 5, 6]\n",
    "\n",
    "# result should be:\n",
    "dot_vector(a, b) == 32 == (1*4 + 2*5 + 3*6)\n",
    "\n",
    "```"
   ]
  },
  {
   "cell_type": "code",
   "execution_count": 15,
   "metadata": {},
   "outputs": [],
   "source": [
    "# example arguments\n",
    "a = [1, 2, 3]\n",
    "b = [4, 5, 6]"
   ]
  },
  {
   "cell_type": "code",
   "execution_count": 16,
   "metadata": {},
   "outputs": [],
   "source": [
    "# your code here"
   ]
  },
  {
   "cell_type": "code",
   "execution_count": null,
   "metadata": {},
   "outputs": [],
   "source": []
  },
  {
   "cell_type": "markdown",
   "metadata": {},
   "source": [
    "---\n",
    "# <span style=\"color:red;\">Solutions<span>"
   ]
  },
  {
   "cell_type": "code",
   "execution_count": 17,
   "metadata": {},
   "outputs": [
    {
     "name": "stdout",
     "output_type": "stream",
     "text": [
      "32\n"
     ]
    }
   ],
   "source": [
    "# Solution ch 1.2.3\n",
    "\n",
    "def dot_vector(*args):\n",
    "    \n",
    "    res = 0\n",
    "    for group in zip(*args):\n",
    "        z = 1\n",
    "        for x in group:\n",
    "            z *= x\n",
    "        res += z\n",
    "    return res\n",
    "\n",
    "print(dot_vector(a, b))"
   ]
  },
  {
   "cell_type": "markdown",
   "metadata": {},
   "source": [
    "---\n",
    "<a name=\"ch1.3\"></a>\n",
    "#### <a href=\"#contents-table\">Back to Contents</a>\n",
    "# Ch 1.3: Matrices\n",
    "\n",
    "### Definitions\n",
    "\n",
    "Recall in the previous challenge we worked with ***`vectors`***. We now define a vector as a `list` of `numbers`.\n",
    "\n",
    "```Python\n",
    "# example vectors of length 3\n",
    "a = [1, 2, 3]\n",
    "b = [4, 5, 6]\n",
    "```\n",
    "\n",
    "A ***`matrix`*** is constructed from **`row vectors`** or **`column vectors`**. In python, a `matrix` is just a `list` of `row vectors`.\n",
    "\n",
    "```Python\n",
    "# example matrix\n",
    "A = [[1, 2, 3],\n",
    "     [4, 5, 6],\n",
    "     [7, 8, 9]]\n",
    "\n",
    "# first row\n",
    "rows[0] == [1, 2, 3]\n",
    "\n",
    "# first column\n",
    "columns[0] == [1, 4, 7]\n",
    "```"
   ]
  },
  {
   "cell_type": "markdown",
   "metadata": {},
   "source": [
    "---\n",
    "<a name=\"ch1.3.1\"></a>\n",
    "#### <a href=\"#contents-table\">Back to Contents</a>\n",
    "\n",
    "## 3.1: Matrix Addition\n",
    "\n",
    "Create a **`function`** called `add_matrices()` that returns a matrix containing the element-wise sums of the input matrices.\n",
    "\n",
    "***`e.g.:`***\n",
    "```python\n",
    "# example arguments\n",
    "A = [[0, 1],\n",
    "     [2, 3]]\n",
    "\n",
    "B = [[4, 5],\n",
    "     [6, 7]]\n",
    "\n",
    "add_matrices(A, B) == [[4, 6],  == [[0+4, 1+5],\n",
    "                       [8, 10]]     [2+6, 3+7]]\n",
    "```"
   ]
  },
  {
   "cell_type": "code",
   "execution_count": 18,
   "metadata": {},
   "outputs": [],
   "source": [
    "# example arguments\n",
    "A = [[0, 1],\n",
    "     [2, 3]]\n",
    "\n",
    "B = [[4, 5],\n",
    "     [6, 7]]"
   ]
  },
  {
   "cell_type": "code",
   "execution_count": 19,
   "metadata": {},
   "outputs": [],
   "source": [
    "# your code here"
   ]
  },
  {
   "cell_type": "code",
   "execution_count": null,
   "metadata": {},
   "outputs": [],
   "source": []
  },
  {
   "cell_type": "markdown",
   "metadata": {},
   "source": [
    "---\n",
    "# <span style=\"color:red;\">Solutions<span>"
   ]
  },
  {
   "cell_type": "code",
   "execution_count": 20,
   "metadata": {},
   "outputs": [
    {
     "name": "stdout",
     "output_type": "stream",
     "text": [
      "[[4, 6],\n",
      " [8, 10]]\n"
     ]
    }
   ],
   "source": [
    "# Solution ch 1.3.1\n",
    "\n",
    "def add_matrices(*args):\n",
    "    \n",
    "    return [add_vectors(*row) for row in zip(*args)]\n",
    "\n",
    "print(str(add_matrices(A, B)).replace('],', '],\\n'))"
   ]
  },
  {
   "cell_type": "markdown",
   "metadata": {},
   "source": [
    "---\n",
    "<a name=\"ch1.3.2\"></a>\n",
    "#### <a href=\"#contents-table\">Back to Contents</a>\n",
    "\n",
    "## 1.3.2 Scalar-Matrix Multiplication\n",
    "\n",
    "Create a **`function`** called `scale_matrix()` that takes two arguments:\n",
    "\n",
    "* **`matrix`**: a `list` of vectors\n",
    "\n",
    "* **`scalar`**: an integer or floating point number\n",
    "\n",
    "The function returns a matrix where the elements of the input matrix are scaled by the scalar.\n",
    "\n",
    "***`e.g.:`***\n",
    "```python\n",
    "# example arguments\n",
    "scalar = 2\n",
    "A = [[0, 1],\n",
    "     [2, 3]]\n",
    "\n",
    "# result should be:\n",
    "scale_matrix(A, scalar) == [[0, 2], == [[2*0, 2*1],\n",
    "                            [4, 6]]     [2*2, 2*3]]\n",
    "\n",
    "```"
   ]
  },
  {
   "cell_type": "code",
   "execution_count": 21,
   "metadata": {},
   "outputs": [],
   "source": [
    "# example arguments\n",
    "scalar = 2\n",
    "A = [[0, 1],\n",
    "     [2, 3]]"
   ]
  },
  {
   "cell_type": "code",
   "execution_count": 22,
   "metadata": {},
   "outputs": [],
   "source": [
    "# your code here"
   ]
  },
  {
   "cell_type": "code",
   "execution_count": null,
   "metadata": {},
   "outputs": [],
   "source": []
  },
  {
   "cell_type": "markdown",
   "metadata": {},
   "source": [
    "---\n",
    "# <span style=\"color:red;\">Solutions<span>"
   ]
  },
  {
   "cell_type": "code",
   "execution_count": 23,
   "metadata": {},
   "outputs": [
    {
     "name": "stdout",
     "output_type": "stream",
     "text": [
      "[[0, 2],\n",
      " [4, 6]]\n"
     ]
    }
   ],
   "source": [
    "# Solution ch 1.3.2\n",
    "\n",
    "def scale_matrix(matrix, scalar):\n",
    "    \n",
    "    return [scale_vector(row, scalar) for row in matrix]\n",
    "\n",
    "print(str(scale_matrix(A, scalar)).replace('],', '],\\n'))"
   ]
  },
  {
   "cell_type": "markdown",
   "metadata": {},
   "source": [
    "---\n",
    "<a name=\"ch1.3.3\"></a>\n",
    "#### <a href=\"#contents-table\">Back to Contents</a>\n",
    "\n",
    "# 1.3.3 Indexing a Matrix\n",
    "Create a **`function`** called `index()` which takes three arguments:\n",
    "\n",
    "* **`m`**: a matrix\n",
    "\n",
    "* **`i`**: an integer\n",
    "\n",
    "* **`j`**: an integer\n",
    "\n",
    "The function returns the value of the element within the matrix `m` at row `i` and column `j`.\n",
    "\n",
    "```Python\n",
    "# example matrix\n",
    "A = [[1, 2, 3],\n",
    "     [4, 5, 6],\n",
    "     [7, 8, 9]]\n",
    "\n",
    "# results:\n",
    "index(m=A, i=0, j=0) == 1\n",
    "\n",
    "index(m=A, i=2, j=2) == 9\n",
    "```"
   ]
  },
  {
   "cell_type": "code",
   "execution_count": 24,
   "metadata": {},
   "outputs": [],
   "source": [
    "# example matrix\n",
    "A = [[1, 2, 3],\n",
    "     [4, 5, 6],\n",
    "     [7, 8, 9]]"
   ]
  },
  {
   "cell_type": "code",
   "execution_count": 25,
   "metadata": {},
   "outputs": [],
   "source": [
    "# your code here"
   ]
  },
  {
   "cell_type": "code",
   "execution_count": null,
   "metadata": {},
   "outputs": [],
   "source": []
  },
  {
   "cell_type": "markdown",
   "metadata": {},
   "source": [
    "---\n",
    "# <span style=\"color:red;\">Solutions<span>"
   ]
  },
  {
   "cell_type": "code",
   "execution_count": 26,
   "metadata": {},
   "outputs": [
    {
     "name": "stdout",
     "output_type": "stream",
     "text": [
      "1\n",
      "9\n"
     ]
    }
   ],
   "source": [
    "# Solution ch 1.3.3\n",
    "\n",
    "def index(m, i, j):\n",
    "    \n",
    "    return m[i][j]\n",
    "\n",
    "print(index(A, 0, 0))\n",
    "print(index(A, 2, 2))"
   ]
  },
  {
   "cell_type": "markdown",
   "metadata": {},
   "source": [
    "---\n",
    "<a name=\"ch1.3.4\"></a>\n",
    "#### <a href=\"#contents-table\">Back to Contents</a>\n",
    "\n",
    "# 1.3.4 Setting Values in a Matrix\n",
    "Create a **`function`** called `set_value()` which takes four arguments:\n",
    "\n",
    "* **`m`**: a matrix\n",
    "\n",
    "* **`i`**: an integer\n",
    "\n",
    "* **`j`**: an integer\n",
    "\n",
    "* **`v`**: an integer or float (can be any value really)\n",
    "\n",
    "The function returns a `matrix` resulting from changing the value of the element at row `i` and column `j` to `v` within matrix `m`.\n",
    "\n",
    "```Python\n",
    "# example matrix\n",
    "A = [[1, 2, 3],\n",
    "     [4, 5, 6],\n",
    "     [7, 8, 9]]\n",
    "\n",
    "# results:\n",
    "set_value(m=A, i=0, j=0, v=0) == [[0, 2, 3],\n",
    "                                  [4, 5, 6],\n",
    "                                  [7, 8, 9]]\n",
    "\n",
    "set_value(m=A, i=2, j=2, v=0) == [[1, 2, 3],\n",
    "                                  [4, 5, 6],\n",
    "                                  [7, 8, 0]]\n",
    "```"
   ]
  },
  {
   "cell_type": "code",
   "execution_count": 27,
   "metadata": {},
   "outputs": [],
   "source": [
    "# example matrix\n",
    "A = [[1, 2, 3],\n",
    "     [4, 5, 6],\n",
    "     [7, 8, 9]]"
   ]
  },
  {
   "cell_type": "code",
   "execution_count": 28,
   "metadata": {},
   "outputs": [],
   "source": [
    "# your code here"
   ]
  },
  {
   "cell_type": "code",
   "execution_count": null,
   "metadata": {},
   "outputs": [],
   "source": []
  },
  {
   "cell_type": "markdown",
   "metadata": {},
   "source": [
    "---\n",
    "# <span style=\"color:red;\">Solutions<span>"
   ]
  },
  {
   "cell_type": "code",
   "execution_count": 29,
   "metadata": {},
   "outputs": [
    {
     "name": "stdout",
     "output_type": "stream",
     "text": [
      "[[0, 2, 3],\n",
      " [4, 5, 6],\n",
      " [7, 8, 9]] \n",
      "\n",
      "[[0, 2, 3],\n",
      " [4, 5, 6],\n",
      " [7, 8, 0]]\n"
     ]
    }
   ],
   "source": [
    "# Solution ch 1.3.4\n",
    "\n",
    "def set_value(m, i, j, v):\n",
    "    \n",
    "    m[i][j] = v\n",
    "    \n",
    "    return m\n",
    "\n",
    "print(str(\n",
    "    set_value(A, 0, 0, 0)\n",
    ").replace('],', '],\\n'), '\\n')\n",
    "\n",
    "print(str(\n",
    "    set_value(A, 2, 2, 0)\n",
    ").replace('],', '],\\n'))"
   ]
  },
  {
   "cell_type": "markdown",
   "metadata": {},
   "source": [
    "---\n",
    "<a name=\"ch1.3.5\"></a>\n",
    "#### <a href=\"#contents-table\">Back to Contents</a>\n",
    "\n",
    "# 1.3.5 Matrix Transpose\n",
    "\n",
    "Create a **`function`** `transpose()` that takes one `matrix` argument and returns a `list` of the matrix's `column vectors`.\n",
    "\n",
    "***`e.g.:`***\n",
    "```python\n",
    "# example arguments\n",
    "A = [[1, 2],\n",
    "     [3, 4]]\n",
    "\n",
    "B = [[0, 1],\n",
    "     [2, 3],\n",
    "     [4, 5]]\n",
    "\n",
    "# result should be:\n",
    "transpose(A) == [[1, 3], [2, 4]]\n",
    "\n",
    "transpose(B) == [[0, 2, 4], [1, 3, 5]]\n",
    "```"
   ]
  },
  {
   "cell_type": "code",
   "execution_count": 30,
   "metadata": {},
   "outputs": [],
   "source": [
    "# example arguments\n",
    "A = [[1, 2],\n",
    "     [3, 4]]\n",
    "\n",
    "B = [[0, 1],\n",
    "     [2, 3],\n",
    "     [4, 5]]"
   ]
  },
  {
   "cell_type": "code",
   "execution_count": 31,
   "metadata": {},
   "outputs": [],
   "source": [
    "# your code here"
   ]
  },
  {
   "cell_type": "code",
   "execution_count": null,
   "metadata": {},
   "outputs": [],
   "source": []
  },
  {
   "cell_type": "markdown",
   "metadata": {},
   "source": [
    "\n",
    "***`Note`*** this results is known as the `transpose` of the matrix:\n",
    "\n",
    "```python\n",
    "# original matrices\n",
    "A = [[1, 2],\n",
    "     [3, 4]]\n",
    "\n",
    "B = [[0, 1],\n",
    "     [2, 3],\n",
    "     [4, 5]]\n",
    "\n",
    "# transposed matrices\n",
    "A.T = [[1, 3],\n",
    "       [2, 4]]\n",
    "\n",
    "B.T = [[0, 2, 4],\n",
    "       [1, 3, 5]]\n",
    "```\n",
    "\n",
    "### Definition of Tranpose\n",
    "The ***`transpose`*** of a matrix  the resulting matrix where the rows are replaced with the columns (or vice versa, which is the same)."
   ]
  },
  {
   "cell_type": "markdown",
   "metadata": {},
   "source": [
    "---\n",
    "# <span style=\"color:red;\">Solutions<span>"
   ]
  },
  {
   "cell_type": "code",
   "execution_count": 32,
   "metadata": {},
   "outputs": [
    {
     "name": "stdout",
     "output_type": "stream",
     "text": [
      "[[1, 3],\n",
      " [2, 4]] \n",
      "\n",
      "[[0, 2, 4],\n",
      " [1, 3, 5]]\n"
     ]
    }
   ],
   "source": [
    "# Solution ch 1.3.5\n",
    "def transpose(m):\n",
    "\n",
    "    return [list(c) for c in zip(*m)]\n",
    "\n",
    "print(str(\n",
    "    transpose(A)\n",
    ").replace('],', '],\\n'),'\\n')\n",
    "\n",
    "print(str(\n",
    "    transpose(B)\n",
    ").replace('],', '],\\n'))"
   ]
  },
  {
   "cell_type": "markdown",
   "metadata": {},
   "source": [
    "---\n",
    "<a name=\"ch1.4\"></a>\n",
    "#### <a href=\"#contents-table\">Back to Contents</a>\n",
    "\n",
    "# Ch 1.4: Matrix Multiplication\n",
    "\n",
    "Create a **`function`** called `dot()` that takes two matrices as arguments:\n",
    "\n",
    "For example, matrices $A \\,(m \\times n)$ and $B \\,(n \\times r)$:\n",
    "$$\n",
    "\\begin{align}\n",
    "A = \\begin{bmatrix}\n",
    "a_{1, 1} & a_{1, 2} & ... & a_{1, n} \\\\\n",
    "a_{2, 1} & a_{2, 2} & ... & a_{2, n} \\\\\n",
    "\\vdots   & \\vdots   &\\vdots & \\vdots \\\\\n",
    "a_{m, 1} & a_{m, 2} & ... & a_{m, n} \\\\\n",
    "\\end{bmatrix} \\\\\n",
    "\\\\\n",
    "B = \\begin{bmatrix}\n",
    "b_{1, 1} & b_{1, 2} & ... & b_{1, r} \\\\\n",
    "b_{2, 1} & b_{2, 2} & ... & b_{2, r} \\\\\n",
    "\\vdots   & \\vdots   &\\vdots & \\vdots \\\\\n",
    "b_{n, 1} & b_{n, 2} & ... & b_{n, r} \\\\\n",
    "\\end{bmatrix}\n",
    "\\\\\n",
    "\\end{align}\n",
    "$$\n",
    "\n",
    "The function outputs a new matrix that is constructed as follows:\n",
    "\n",
    "$$\n",
    "\\begin{align}\n",
    "A \\cdot B = X = \\begin{bmatrix}\n",
    "x_{1, 1} & x_{1, 2} & ... & x_{1, r} \\\\\n",
    "x_{2, 1} & x_{2, 2} & ... & x_{2, r} \\\\\n",
    "\\vdots   & \\vdots   &\\vdots & \\vdots \\\\\n",
    "x_{m, 1} & x_{m, 2} & ... & x_{m, r} \\\\\n",
    "\\end{bmatrix} \\\\\n",
    "\\\\\n",
    "\\end{align}\n",
    "$$\n",
    "\n",
    "Where each element of $X$, denoted $x_{i,j}$, is the  `vector dot product` of the:\n",
    "* $i^{th}$ row vector in $A$, and the \n",
    "* $j^{th}$ column vector in $B$.\n",
    "\n",
    "***`e.g.:`***\n",
    "```python\n",
    "# example arguments\n",
    "A = [[0, 1],\n",
    "     [2, 3]]\n",
    "\n",
    "B = [[4],\n",
    "     [5]]\n",
    "\n",
    "C = [[4, 6],\n",
    "     [5, 7]]\n",
    "\n",
    "D = [[4, 6, 8],\n",
    "     [5, 7, 9]]\n",
    "\n",
    "dot(A, B) = [[0*4 + 1*5], = [[ 5]\n",
    "             [2*4 + 3*5]]    [23]]\n",
    "\n",
    "dot(A, C) = [[0*4 + 1*5, 0*6 + 1*7], = [[ 5,  7],\n",
    "             [2*4 + 3*5, 2*6 + 3*7]]    [23, 33]]\n",
    "\n",
    "dot(A, D) = [[0*4 + 1*5, 0*6 + 1*7, 0*8+ 1*9], = [[ 5,  7, 9],\n",
    "             [2*4 + 3*5, 2*6 + 3*7, 2*8+ 3*9]]    [23, 33, 43]]\n",
    "```"
   ]
  },
  {
   "cell_type": "code",
   "execution_count": 33,
   "metadata": {},
   "outputs": [],
   "source": [
    "# example arguments\n",
    "A = [[0, 1],\n",
    "     [2, 3]]\n",
    "\n",
    "B = [[4],\n",
    "     [5]]\n",
    "\n",
    "C = [[4, 6],\n",
    "     [5, 7]]\n",
    "\n",
    "D = [[4, 6, 8],\n",
    "     [5, 7, 9]]"
   ]
  },
  {
   "cell_type": "code",
   "execution_count": 34,
   "metadata": {},
   "outputs": [],
   "source": [
    "# your code here"
   ]
  },
  {
   "cell_type": "code",
   "execution_count": null,
   "metadata": {},
   "outputs": [],
   "source": []
  },
  {
   "cell_type": "markdown",
   "metadata": {},
   "source": [
    "---\n",
    "# <span style=\"color:red;\">Solutions<span>"
   ]
  },
  {
   "cell_type": "code",
   "execution_count": 35,
   "metadata": {},
   "outputs": [],
   "source": [
    "# Solution ch 1.4\n",
    "def dot(A, B):\n",
    "\n",
    "    res = []\n",
    "    for r in A:\n",
    "        res_row = []\n",
    "        for c in transpose(B):\n",
    "            res_row.append(dot_vector(c, r))\n",
    "        res.append(res_row)\n",
    "        \n",
    "    return res\n",
    "                \n",
    "            "
   ]
  },
  {
   "cell_type": "code",
   "execution_count": 36,
   "metadata": {},
   "outputs": [
    {
     "name": "stdout",
     "output_type": "stream",
     "text": [
      "[[5],\n",
      " [23]] \n",
      "\n",
      "[[5, 7],\n",
      " [23, 33]] \n",
      "\n",
      "[[5, 7, 9],\n",
      " [23, 33, 43]]\n"
     ]
    }
   ],
   "source": [
    "print(str(\n",
    "    dot(A, B)\n",
    ").replace('],','],\\n'), '\\n')\n",
    "\n",
    "print(str(\n",
    "    dot(A, C)\n",
    ").replace('],','],\\n'), '\\n')\n",
    "\n",
    "print(str(\n",
    "    dot(A, D)\n",
    ").replace('],','],\\n'))"
   ]
  },
  {
   "cell_type": "code",
   "execution_count": 37,
   "metadata": {},
   "outputs": [
    {
     "name": "stdout",
     "output_type": "stream",
     "text": [
      "[[ 5  7  9]\n",
      " [23 33 43]]\n"
     ]
    }
   ],
   "source": [
    "print(np.dot(A, D))"
   ]
  },
  {
   "cell_type": "code",
   "execution_count": null,
   "metadata": {},
   "outputs": [],
   "source": []
  }
 ],
 "metadata": {
  "kernelspec": {
   "display_name": "Python 3",
   "language": "python",
   "name": "python3"
  },
  "language_info": {
   "codemirror_mode": {
    "name": "ipython",
    "version": 3
   },
   "file_extension": ".py",
   "mimetype": "text/x-python",
   "name": "python",
   "nbconvert_exporter": "python",
   "pygments_lexer": "ipython3",
   "version": "3.8.5"
  }
 },
 "nbformat": 4,
 "nbformat_minor": 4
}

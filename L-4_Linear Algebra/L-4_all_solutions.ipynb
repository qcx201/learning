{
 "cells": [
  {
   "cell_type": "markdown",
   "metadata": {},
   "source": [
    "# Systems of Linear Equations"
   ]
  },
  {
   "cell_type": "markdown",
   "metadata": {},
   "source": [
    "## Warm-up Challenges\n",
    "\n",
    "**`Solve`** the following systems of linear equations.\n",
    "\n",
    "***`Hint:`*** You can use python to solve these, but to start it may be easier to solve them by hand."
   ]
  },
  {
   "cell_type": "markdown",
   "metadata": {},
   "source": [
    "#### Equations 1)\n",
    "\n",
    "$$\n",
    "\\begin{align}\n",
    "& x + 2y = 3 \\\\\n",
    "& 4x + 5y = 6 \\\\\n",
    "\\end{align}\n",
    "$$"
   ]
  },
  {
   "cell_type": "markdown",
   "metadata": {},
   "source": [
    "$$\n",
    "\\begin{align}\n",
    "\\text{Your solution:} & \\\\\n",
    "& ... \\\\\n",
    "& \\\\\n",
    "& \\\\\n",
    "\\end{align}\n",
    "$$"
   ]
  },
  {
   "cell_type": "code",
   "execution_count": 98,
   "metadata": {},
   "outputs": [],
   "source": [
    "# your code here"
   ]
  },
  {
   "cell_type": "code",
   "execution_count": null,
   "metadata": {},
   "outputs": [],
   "source": []
  },
  {
   "cell_type": "markdown",
   "metadata": {},
   "source": [
    "---\n",
    "#### Equations 2)\n",
    "\n",
    "$$\n",
    "\\begin{align}\n",
    "& x + 2y + 3z = -2 \\\\\n",
    "& 4x + 5y + 6z = 1 \\\\\n",
    "& 7x + 10y + 9z = 6 \\\\ \n",
    "\\end{align}\n",
    "$$"
   ]
  },
  {
   "cell_type": "markdown",
   "metadata": {},
   "source": [
    "$$\n",
    "\\begin{align}\n",
    "\\text{Your solution:} & \\\\\n",
    "& ... \\\\\n",
    "& \\\\\n",
    "& \\\\\n",
    "\\end{align}\n",
    "$$"
   ]
  },
  {
   "cell_type": "code",
   "execution_count": 98,
   "metadata": {},
   "outputs": [],
   "source": [
    "# your code here"
   ]
  },
  {
   "cell_type": "code",
   "execution_count": null,
   "metadata": {},
   "outputs": [],
   "source": []
  },
  {
   "cell_type": "markdown",
   "metadata": {},
   "source": [
    "### Solutions"
   ]
  },
  {
   "cell_type": "markdown",
   "metadata": {},
   "source": [
    "#### Systems 1)\n",
    "\n",
    "$$\n",
    "\\begin{align}\n",
    "\\text{eq 1:}\\quad & x + 2y = 3 \\\\\n",
    "\\text{eq 2:}\\quad & 4x + 5y = 6 \\\\\n",
    "\\\\\\\\\n",
    "\\text{Steps:}\\\\\n",
    "\\text{eq 1:}\\quad & x = 3 - 2y \\quad\\text{<= rearrange}\\\\\n",
    "\\text{eq 2:}\\quad & 4(3 - 2y) + 5y = 6 \\quad\\text{<= substitution}\\\\\n",
    "\\\\\n",
    "& 12 - 8y + 5y = 6 \\\\\n",
    "& -3y = -6 \\\\\n",
    "& => y = 2 \\\\\n",
    "\\\\\n",
    "& => x = 3 - 2(2)= -1 \\\\\n",
    "\\\\\n",
    "\\text{Solution:}\\\\\n",
    "& x = -1, y = 2\n",
    "\\end{align}\n",
    "$$"
   ]
  },
  {
   "cell_type": "code",
   "execution_count": 167,
   "metadata": {},
   "outputs": [],
   "source": [
    "\n",
    "def rre(eqs, show=True):\n",
    "    \n",
    "    # print steps if show\n",
    "    if show:\n",
    "        def print_if(*args, **kwargs):\n",
    "            print(*args, **kwargs)\n",
    "    else:\n",
    "        def print_if(*args, **kwargs):\n",
    "            pass\n",
    "\n",
    "    # show original\n",
    "    print_if('Original Matrix:')\n",
    "    print_if('='*15, '\\n')\n",
    "    print_if('\\n'.join([str(row) for row in eqs]), '\\n')\n",
    "\n",
    "    # row echelon form\n",
    "    print_if('Row-Echelon Form:')\n",
    "\n",
    "    # row-echelon form\n",
    "    for j in range(len(eqs)):\n",
    "\n",
    "        print_if('-'*15, '\\n')\n",
    "        \n",
    "        # \"pivot\" value\n",
    "        v = eqs[j][j]\n",
    "\n",
    "        # if not zero\n",
    "        if v != 0:\n",
    "            # divide trace row by itself\n",
    "            eqs[j] = [x/v for x in eqs[j]]\n",
    "\n",
    "        print_if('\\n'.join([str(row) for row in eqs]), '\\n')\n",
    "\n",
    "        for i in range(j+1, len(eqs)):\n",
    "\n",
    "            # value on the same column\n",
    "            m = eqs[i][j]\n",
    "\n",
    "            # replace row with cancellation\n",
    "            eqs[i] = [y-(m*x) for y,x in zip(eqs[i], eqs[j])]\n",
    "\n",
    "            print_if('\\n'.join([str(row) for row in eqs]) , '\\n')\n",
    "\n",
    "\n",
    "    # reduce row-echelon form\n",
    "    print_if('Reduced Row-Echelon Form:')\n",
    "    print_if('='*15, '\\n')\n",
    "    \n",
    "    for i in range(len(eqs)):\n",
    "        \n",
    "        # negative indexing\n",
    "        this = len(eqs)-1-i\n",
    "\n",
    "        # \"pivot\" value\n",
    "        v = eqs[this][this]\n",
    "        \n",
    "        # if not value\n",
    "        if v != 0:\n",
    "\n",
    "            for j in range(i, len(eqs)-1):\n",
    "\n",
    "                prev = len(eqs)-2-j\n",
    "\n",
    "                m = eqs[prev][this] / v\n",
    "\n",
    "                eqs[prev] = [y - m*x for y, x in zip(eqs[prev], eqs[this])]\n",
    "\n",
    "                print_if('\\n'.join([str(row) for row in eqs]) , '\\n')\n",
    "                \n",
    "    return eqs"
   ]
  },
  {
   "cell_type": "code",
   "execution_count": 264,
   "metadata": {},
   "outputs": [
    {
     "name": "stdout",
     "output_type": "stream",
     "text": [
      "-23\n",
      "-8\n",
      "-15\n",
      "-24\n"
     ]
    },
    {
     "data": {
      "text/plain": [
       "[[1.0, 0.0, 0.0, 0.0, 0.9999999999999982],\n",
       " [-0.0, 1.0, 0.0, 0.0, -2.0000000000000004],\n",
       " [0.0, 0.0, 1.0, 0.0, -3.0],\n",
       " [0.0, 0.0, 0.0, 1.0, 4.000000000000001]]"
      ]
     },
     "execution_count": 264,
     "metadata": {},
     "output_type": "execute_result"
    }
   ],
   "source": [
    "eqs1 = [\n",
    "    [1, 2,    3],\n",
    "    [4, 5,    6]\n",
    "]\n",
    "\n",
    "eqs2 = [\n",
    "    [1,  2,  3,    -2],\n",
    "    [4,  5,  6,     1],\n",
    "    [7, 10,  9,     6],]\n",
    "\n",
    "eqs3 = [\n",
    "    [1,  3,  2,  3,    1],\n",
    "    [3,  2,  1,  1,    0],\n",
    "    [4,  1,  3,  2,    1],\n",
    "    [2,  2,  2,  4,    8],\n",
    "]\n",
    "\n",
    "\n",
    "var = 1, -2, -3, -4\n",
    "for row in eqs3:\n",
    "    cfs = row[:-1]\n",
    "    s = sum(c*v for c, v in zip(cfs, var))\n",
    "    print(s)\n",
    "    \n",
    "rre(eqs3, show=False)"
   ]
  },
  {
   "cell_type": "markdown",
   "metadata": {},
   "source": [
    "---\n",
    "# Vector Addition\n",
    "\n",
    "Create a **`function`** called `add_vectors()` that takes two arguments.\n",
    "\n",
    "Each argument is a `list` (or \"vector\") of numbers. The vector arguments have the same length. \n",
    "\n",
    "The function returns a list containing the element-wise sums of the vectors.\n",
    "\n",
    "***`e.g.:`***\n",
    "```python\n",
    "# example arguments\n",
    "a = [1, 2, 3]\n",
    "b = [4, 5, 6]\n",
    "\n",
    "# result should be:\n",
    "add_vectors(A, B) == [5, 7, 9] == [1+4, 2+5, 3+6]\n",
    "```\n",
    "\n",
    "***`Bonus`*** Allow the function to return the sum of two ***or more*** vectors."
   ]
  },
  {
   "cell_type": "code",
   "execution_count": 97,
   "metadata": {},
   "outputs": [],
   "source": [
    "# example arguments\n",
    "a = [1, 2, 3]\n",
    "b = [4, 5, 6]"
   ]
  },
  {
   "cell_type": "code",
   "execution_count": 98,
   "metadata": {},
   "outputs": [],
   "source": [
    "# your code here"
   ]
  },
  {
   "cell_type": "code",
   "execution_count": null,
   "metadata": {},
   "outputs": [],
   "source": []
  },
  {
   "cell_type": "markdown",
   "metadata": {},
   "source": [
    "# Scalar-Vector Multiplication\n",
    "\n",
    "Create a **`function`** called `scale_vector()` that takes two arguments:\n",
    "\n",
    "* **`vector`**: a `list` of numbers\n",
    "\n",
    "* **`scalar`**: an integer or floating point number\n",
    "\n",
    "The function returns a list where the elements of the vector multiplied (or \"scaled\") by the scalar.\n",
    "\n",
    "***`e.g.:`***\n",
    "```python\n",
    "# example arguments\n",
    "vector = [1, 2, 3]\n",
    "scalar = 2\n",
    "\n",
    "# result should be:\n",
    "scale_vector(vector, scalar) == [2, 4, 6]\n",
    "\n",
    "```"
   ]
  },
  {
   "cell_type": "code",
   "execution_count": 99,
   "metadata": {},
   "outputs": [],
   "source": [
    "# example arguments\n",
    "vector = [1, 2, 3]\n",
    "scalar = 2"
   ]
  },
  {
   "cell_type": "code",
   "execution_count": 100,
   "metadata": {},
   "outputs": [],
   "source": [
    "# your code here"
   ]
  },
  {
   "cell_type": "code",
   "execution_count": null,
   "metadata": {},
   "outputs": [],
   "source": []
  },
  {
   "cell_type": "markdown",
   "metadata": {},
   "source": [
    "# Vector Dot Product\n",
    "\n",
    "Create a **`function`** called `dot_product()` that takes two arguments.\n",
    "\n",
    "Each argument is a `list` (or \"vector\") of numbers. The vector arguments have the same length. \n",
    "\n",
    "The function returns the sum of the element-wise products of the vectors.\n",
    "\n",
    "***`e.g.:`***\n",
    "```python\n",
    "# example arguments\n",
    "a = [1, 2, 3]\n",
    "b = [4, 5, 6]\n",
    "\n",
    "# result should be:\n",
    "dot_product(a, b) == 32 == (1*4 + 2*5 + 3*6)\n",
    "\n",
    "```"
   ]
  },
  {
   "cell_type": "code",
   "execution_count": 101,
   "metadata": {},
   "outputs": [],
   "source": [
    "# example arguments\n",
    "a = [1, 2, 3]\n",
    "b = [4, 5, 6]"
   ]
  },
  {
   "cell_type": "code",
   "execution_count": 102,
   "metadata": {},
   "outputs": [],
   "source": [
    "# your code here"
   ]
  },
  {
   "cell_type": "code",
   "execution_count": null,
   "metadata": {},
   "outputs": [],
   "source": []
  },
  {
   "cell_type": "markdown",
   "metadata": {},
   "source": [
    "---\n",
    "## Definitions\n",
    "\n",
    "Recall in the previous challenge we worked with ***`vectors`***. We now define a vector as a `list` of `numbers`.\n",
    "\n",
    "```Python\n",
    "# example vectors of length 3\n",
    "a = [1, 2, 3]\n",
    "b = [4, 5, 6]\n",
    "```\n",
    "\n",
    "We will define a ***`matrix`*** as a `list` of `vectors`.\n",
    "\n",
    "```Python\n",
    "# example matrix\n",
    "A = [[1, 2, 3],\n",
    "     [4, 5, 6],\n",
    "     [7, 8, 9]]\n",
    "```\n",
    "---"
   ]
  },
  {
   "cell_type": "markdown",
   "metadata": {},
   "source": [
    "# Matrix Addition\n",
    "\n",
    "Create a **`function`** called `add_matrices()` that returns a matrix containing the element-wise sums of the input matrices.\n",
    "\n",
    "***`e.g.:`***\n",
    "```python\n",
    "# example arguments\n",
    "A = [[0, 1],\n",
    "     [2, 3]]\n",
    "\n",
    "B = [[4, 5],\n",
    "     [6, 7]]\n",
    "\n",
    "add_matrices(A, B) == [[4, 6],  == [[0+4, 1+5],\n",
    "                       [8, 10]]     [2+6, 3+7]]\n",
    "```"
   ]
  },
  {
   "cell_type": "code",
   "execution_count": 103,
   "metadata": {},
   "outputs": [],
   "source": [
    "# example arguments\n",
    "A = [[0, 1],\n",
    "     [2, 3]]\n",
    "\n",
    "B = [[4, 5],\n",
    "     [6, 7]]"
   ]
  },
  {
   "cell_type": "code",
   "execution_count": 104,
   "metadata": {},
   "outputs": [],
   "source": [
    "# your code here"
   ]
  },
  {
   "cell_type": "code",
   "execution_count": null,
   "metadata": {},
   "outputs": [],
   "source": []
  },
  {
   "cell_type": "markdown",
   "metadata": {},
   "source": [
    "# Scalar-Matrix Multiplication\n",
    "\n",
    "Create a **`function`** called `scale_matrix()` that takes two arguments:\n",
    "\n",
    "* **`matrix`**: a `list` of vectors\n",
    "\n",
    "* **`scalar`**: an integer or floating point number\n",
    "\n",
    "The function returns a matrix where the elements of the input matrix are scaled by the scalar.\n",
    "\n",
    "***`e.g.:`***\n",
    "```python\n",
    "# example arguments\n",
    "scalar = 2\n",
    "A = [[0, 1],\n",
    "     [2, 3]]\n",
    "\n",
    "# result should be:\n",
    "scale_matrix(A, scalar) == [[0, 2], == [[2*0, 2*1],\n",
    "                            [4, 6]]     [2*2, 2*3]]\n",
    "\n",
    "```"
   ]
  },
  {
   "cell_type": "code",
   "execution_count": 105,
   "metadata": {},
   "outputs": [],
   "source": [
    "# example arguments\n",
    "scalar = 2\n",
    "A = [[0, 1],\n",
    "     [2, 3]]"
   ]
  },
  {
   "cell_type": "code",
   "execution_count": 106,
   "metadata": {},
   "outputs": [],
   "source": [
    "# your code here"
   ]
  },
  {
   "cell_type": "code",
   "execution_count": null,
   "metadata": {},
   "outputs": [],
   "source": []
  },
  {
   "cell_type": "markdown",
   "metadata": {},
   "source": [
    "---\n",
    "## Definitions\n",
    "\n",
    "Recall our definition of a **`matrix`** as a `list` of **`vectors`**.\n",
    "\n",
    "```Python\n",
    "# example matrix\n",
    "A = [[1, 2, 3],\n",
    "     [4, 5, 6],\n",
    "     [7, 8, 9]]\n",
    "```\n",
    "\n",
    "We now define the following:\n",
    "* A ***`row`*** of a matrix is one of the vectors within the matrix. Also called `row vector`.\n",
    "\n",
    "* A ***`column`*** of a matrix is a list of each specific indexed elements of the rows. Also called `column vector`.\n",
    "\n",
    "```Python\n",
    "# example matrix\n",
    "A = [[1, 2],\n",
    "     [3, 4]]\n",
    "\n",
    "# first row and first column (index 0)\n",
    "rows[0] == [1, 2]\n",
    "columns[0] == [1, 3]\n",
    "```\n",
    "\n",
    "---"
   ]
  },
  {
   "cell_type": "markdown",
   "metadata": {},
   "source": [
    "# Index Matrix\n",
    "Create a **`function`** called `index()` which takes three arguments:\n",
    "\n",
    "* **`m`**: a matrix\n",
    "\n",
    "* **`i`**: an integer\n",
    "\n",
    "* **`j`**: an integer\n",
    "\n",
    "The function returns the value of the element within the matrix `m` at row `i` and column `j`.\n",
    "\n",
    "```Python\n",
    "# example matrix\n",
    "A = [[1, 2, 3],\n",
    "     [4, 5, 6],\n",
    "     [7, 8, 9]]\n",
    "\n",
    "# results:\n",
    "index(m=A, i=0, j=0) == 1\n",
    "\n",
    "index(m=A, i=2, j=2) == 9\n",
    "```"
   ]
  },
  {
   "cell_type": "code",
   "execution_count": 107,
   "metadata": {},
   "outputs": [],
   "source": [
    "# example matrix\n",
    "A = [[1, 2, 3],\n",
    "     [4, 5, 6],\n",
    "     [7, 8, 9]]"
   ]
  },
  {
   "cell_type": "code",
   "execution_count": 108,
   "metadata": {},
   "outputs": [],
   "source": [
    "# your code here"
   ]
  },
  {
   "cell_type": "code",
   "execution_count": null,
   "metadata": {},
   "outputs": [],
   "source": []
  },
  {
   "cell_type": "markdown",
   "metadata": {},
   "source": [
    "# Set Value of a Matrix\n",
    "Create a **`function`** called `set_value()` which takes four arguments:\n",
    "\n",
    "* **`m`**: a matrix\n",
    "\n",
    "* **`i`**: an integer\n",
    "\n",
    "* **`j`**: an integer\n",
    "\n",
    "* **`v`**: an integer or float (can be any value really)\n",
    "\n",
    "The function returns a `matrix` resulting from changing the value of the element at row `i` and column `j` to `v` within matrix `m`.\n",
    "\n",
    "```Python\n",
    "# example matrix\n",
    "A = [[1, 2, 3],\n",
    "     [4, 5, 6],\n",
    "     [7, 8, 9]]\n",
    "\n",
    "# results:\n",
    "set_value(m=A, i=0, j=0, v=0) == [[0, 2, 3],\n",
    "                                  [4, 5, 6],\n",
    "                                  [7, 8, 9]]\n",
    "\n",
    "set_value(m=A, i=2, j=2, v=0) == [[1, 2, 3],\n",
    "                                  [4, 5, 6],\n",
    "                                  [7, 8, 0]]\n",
    "```"
   ]
  },
  {
   "cell_type": "code",
   "execution_count": 109,
   "metadata": {},
   "outputs": [],
   "source": [
    "# example matrix\n",
    "A = [[1, 2, 3],\n",
    "     [4, 5, 6],\n",
    "     [7, 8, 9]]"
   ]
  },
  {
   "cell_type": "code",
   "execution_count": 110,
   "metadata": {},
   "outputs": [],
   "source": [
    "# your code here"
   ]
  },
  {
   "cell_type": "code",
   "execution_count": null,
   "metadata": {},
   "outputs": [],
   "source": []
  },
  {
   "cell_type": "markdown",
   "metadata": {},
   "source": [
    "---\n",
    "# Transpose Matrix\n",
    "\n",
    "Create a **`function`** `transpose()` that takes one `matrix` argument and returns a `list` of the matrix's `column vectors`.\n",
    "\n",
    "***`e.g.:`***\n",
    "```python\n",
    "# example arguments\n",
    "A = [[1, 2],\n",
    "     [3, 4]]\n",
    "\n",
    "B = [[0, 1],\n",
    "     [2, 3],\n",
    "     [4, 5]]\n",
    "\n",
    "# result should be:\n",
    "transpose(A) == [[1, 3], [2, 4]]\n",
    "\n",
    "transpose(B) == [[0, 2, 4], [1, 3, 5]]\n",
    "```"
   ]
  },
  {
   "cell_type": "code",
   "execution_count": 111,
   "metadata": {},
   "outputs": [],
   "source": [
    "# example arguments\n",
    "A = [[1, 2],\n",
    "     [3, 4]]\n",
    "\n",
    "B = [[0, 1],\n",
    "     [2, 3],\n",
    "     [4, 5]]"
   ]
  },
  {
   "cell_type": "code",
   "execution_count": 112,
   "metadata": {},
   "outputs": [],
   "source": [
    "# your code here"
   ]
  },
  {
   "cell_type": "code",
   "execution_count": null,
   "metadata": {},
   "outputs": [],
   "source": []
  },
  {
   "cell_type": "markdown",
   "metadata": {},
   "source": [
    "\n",
    "***`Note`*** that this results in what is called the `transpose` of the matrix:\n",
    "\n",
    "```python\n",
    "# original matrices\n",
    "A = [[1, 2],\n",
    "     [3, 4]]\n",
    "\n",
    "B = [[0, 1],\n",
    "     [2, 3],\n",
    "     [4, 5]]\n",
    "\n",
    "# transposed matrices\n",
    "A.T = [[1, 3],\n",
    "       [2, 4]]\n",
    "\n",
    "B.T = [[0, 2, 4],\n",
    "       [1, 3, 5]]\n",
    "```\n",
    "\n",
    "### Definition of Tranpose\n",
    "The ***`transpose`*** of a matrix  the resulting matrix where the rows are replaced with the columns (or vice versa, which is the same)."
   ]
  },
  {
   "cell_type": "markdown",
   "metadata": {},
   "source": [
    "---\n",
    "# Matrix Multiplication\n",
    "\n",
    "\n",
    "Create a **`function`** called `dot()` that takes two matrices as arguments.\n",
    "\n",
    "\n",
    "\n",
    "***`e.g.:`***\n",
    "```python\n",
    "# example arguments\n",
    "A = [[0, 1],\n",
    "     [2, 3]]\n",
    "\n",
    "B = [[4, 5],\n",
    "     [6, 7]]\n",
    "\n",
    "```"
   ]
  },
  {
   "cell_type": "code",
   "execution_count": 113,
   "metadata": {},
   "outputs": [],
   "source": [
    "# your code here"
   ]
  },
  {
   "cell_type": "code",
   "execution_count": null,
   "metadata": {},
   "outputs": [],
   "source": []
  }
 ],
 "metadata": {
  "kernelspec": {
   "display_name": "Python 3",
   "language": "python",
   "name": "python3"
  },
  "language_info": {
   "codemirror_mode": {
    "name": "ipython",
    "version": 3
   },
   "file_extension": ".py",
   "mimetype": "text/x-python",
   "name": "python",
   "nbconvert_exporter": "python",
   "pygments_lexer": "ipython3",
   "version": "3.7.6"
  }
 },
 "nbformat": 4,
 "nbformat_minor": 4
}
